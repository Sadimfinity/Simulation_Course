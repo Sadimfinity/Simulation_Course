{
 "cells": [
  {
   "cell_type": "markdown",
   "metadata": {},
   "source": [
    "# Laboratorio 1 - Parte 1\n",
    "\n",
    "### Regresión polinomial múltiple\n",
    "\n",
    "### 2019 - II\n",
    "\n",
    "#### Profesor: Julián D. Arias Londoño\n",
    "#### julian.ariasl@udea.edu.co\n"
   ]
  },
  {
   "cell_type": "markdown",
   "metadata": {},
   "source": [
    "## Guía del laboratorio\n",
    "\n",
    "En este archivo va a encontrar tanto celdas de código como celdas de texto con las instrucciones para desarrollar el laboratorio.\n",
    "\n",
    "Lea atentamente las instrucciones entregadas en las celdas de texto correspondientes y proceda con la solución de las preguntas planteadas.\n",
    "\n",
    "Nota: no olvide ir ejecutando las celdas de código de arriba hacia abajo para que no tenga errores de importación de librerías o por falta de definición de variables."
   ]
  },
  {
   "cell_type": "markdown",
   "metadata": {},
   "source": [
    "### Primer integrante:\n",
    "Nombre: Jorge Hiler Ricardo\n",
    "\n",
    "\n",
    "#### Segundo integrante:\n",
    "\n",
    "Nombre: Santiago Gaviria Zapata\n"
   ]
  },
  {
   "cell_type": "code",
   "execution_count": 202,
   "metadata": {},
   "outputs": [
    {
     "name": "stdout",
     "output_type": "stream",
     "text": [
      "['LotFrontage', 'MasVnrType', 'MasVnrArea', 'BsmtQual', 'BsmtCond', 'BsmtExposure', 'BsmtFinType1', 'BsmtFinType2', 'Electrical', 'FireplaceQu', 'GarageType', 'GarageYrBlt', 'GarageFinish', 'GarageQual', 'GarageCond']\n",
      "['MSZoning', 'LotFrontage', 'MasVnrType', 'MasVnrArea', 'BsmtQual', 'BsmtCond', 'BsmtExposure', 'BsmtFinType1', 'BsmtFinSF1', 'BsmtFinType2', 'BsmtFinSF2', 'BsmtUnfSF', 'TotalBsmtSF', 'BsmtFullBath', 'BsmtHalfBath', 'FireplaceQu', 'GarageType', 'GarageYrBlt', 'GarageFinish', 'GarageCars', 'GarageArea', 'GarageQual', 'GarageCond']\n"
     ]
    }
   ],
   "source": [
    "import numpy as np\n",
    "import numpy.matlib as npMatlib\n",
    "import matplotlib.pyplot as plt\n",
    "import pandas as pd\n",
    "from scipy import stats\n",
    "\n",
    "#Algunas advertencias que queremos evitar\n",
    "import warnings\n",
    "warnings.filterwarnings(\"always\")\n",
    "\n",
    "train = pd.read_csv(r'DB/train.csv')\n",
    "\n",
    "test = pd.read_csv(r'DB/test.csv')\n",
    "\n",
    "naTrainResultantColumns = train.columns[train.isna().any()].tolist()\n",
    "naTestColumns = test.columns[test.isna().any()].tolist()\n",
    "print(naTrainResultantColumns)\n",
    "print(naTestColumns)"
   ]
  },
  {
   "cell_type": "markdown",
   "metadata": {},
   "source": [
    "## Ejercicio 1: Contextualización del problema\n",
    "\n",
    "El problema de *regresión* que abordaremos consiste en predecir el valor de la humedad absoluta en el aire, a partir de varias variables sensadas en el aire (Para más información sobre la base de datos y la contextualización del problema, consulte: http://archive.ics.uci.edu/ml/datasets/air+quality). Ejecute la siguiente celda para cargar los datos."
   ]
  },
  {
   "cell_type": "code",
   "execution_count": 111,
   "metadata": {},
   "outputs": [
    {
     "name": "stdout",
     "output_type": "stream",
     "text": [
      "Numero de columnas con valores NA:  0\n",
      "Numero de columnas con valores NA:  0\n",
      "Lllenado de campos vacíos completado\n"
     ]
    }
   ],
   "source": [
    "\n",
    "\n",
    "def fillNAs(train, test):\n",
    "    naTrainColumns = train.columns[train.isna().any()].tolist()\n",
    "    train[naTrainColumns[0]].fillna(train[naTrainColumns[0]].mean(), inplace = True)\n",
    "    train[naTrainColumns[1]].fillna('None', inplace = True)\n",
    "    train[naTrainColumns[2]].fillna(train[naTrainColumns[2]].mean(), inplace = True)\n",
    "    train[naTrainColumns[3]].fillna('NA', inplace = True)\n",
    "    train[naTrainColumns[4]].fillna('NA', inplace = True)\n",
    "    train[naTrainColumns[5]].fillna('NA', inplace = True)\n",
    "    train[naTrainColumns[6]].fillna('NA', inplace = True)\n",
    "    train[naTrainColumns[7]].fillna('NA', inplace = True)\n",
    "    train[naTrainColumns[8]].fillna('SBrkr', inplace = True)\n",
    "    train[naTrainColumns[9]].fillna('NA', inplace = True)\n",
    "    train[naTrainColumns[10]].fillna('NA', inplace = True)\n",
    "    train[naTrainColumns[11]].fillna(train[naTrainColumns[11]].mean(), inplace = True)\n",
    "    train[naTrainColumns[12]].fillna('NA', inplace = True)\n",
    "    train[naTrainColumns[13]].fillna('NA', inplace = True)\n",
    "    train[naTrainColumns[14]].fillna('NA', inplace = True)\n",
    "    \n",
    "    naTrainResultantColumns = train.columns[train.isna().any()].size\n",
    "    print('Numero de columnas con valores NA: ', naTrainResultantColumns)\n",
    "    \n",
    "    naTestColumns = test.columns[test.isna().any()].tolist()\n",
    "    \n",
    "    test[naTestColumns[0]].fillna('RL', inplace = True)\n",
    "    test[naTestColumns[1]].fillna(test[naTestColumns[1]].mean(), inplace = True)\n",
    "    test[naTestColumns[2]].fillna('None', inplace = True)\n",
    "    test[naTestColumns[3]].fillna(test[naTestColumns[3]].mean(), inplace = True)\n",
    "    test[naTestColumns[4]].fillna('NA', inplace = True)\n",
    "    test[naTestColumns[5]].fillna('NA', inplace = True)\n",
    "    test[naTestColumns[6]].fillna('NA', inplace = True)\n",
    "    test[naTestColumns[7]].fillna('NA', inplace = True)\n",
    "    test[naTestColumns[8]].fillna(test[naTestColumns[8]].mean(), inplace = True)\n",
    "    test[naTestColumns[9]].fillna('NA', inplace = True)\n",
    "    test[naTestColumns[10]].fillna(test[naTestColumns[10]].mean(), inplace = True)\n",
    "    test[naTestColumns[11]].fillna(test[naTestColumns[11]].mean(), inplace = True)\n",
    "    test[naTestColumns[12]].fillna(test[naTestColumns[12]].mean(), inplace = True)\n",
    "    test[naTestColumns[13]].fillna(test[naTestColumns[13]].mean(), inplace = True)\n",
    "    test[naTestColumns[14]].fillna(test[naTestColumns[14]].mean(), inplace = True)\n",
    "    test[naTestColumns[15]].fillna('NA', inplace = True)\n",
    "    test[naTestColumns[16]].fillna('NA', inplace = True)\n",
    "    test[naTestColumns[17]].fillna(test[naTestColumns[17]].mean(), inplace = True)\n",
    "    test[naTestColumns[18]].fillna('NA', inplace = True)\n",
    "    test[naTestColumns[19]].fillna(round(float(test[naTestColumns[19]].mean()), 1), inplace = True)\n",
    "    test[naTestColumns[20]].fillna(test[naTestColumns[20]].mean(), inplace = True)\n",
    "    test[naTestColumns[21]].fillna('NA', inplace = True)\n",
    "    test[naTestColumns[22]].fillna('NA', inplace = True)\n",
    "    \n",
    "    naTestResultantColumns = train.columns[train.isna().any()].size\n",
    "    print('Numero de columnas con valores NA: ', naTestResultantColumns)\n",
    "    \n",
    "    if (naTrainResultantColumns == 0 & naTestResultantColumns == 0):\n",
    "        return print(\"Lllenado de campos vacíos completado\")\n",
    "    else: \n",
    "        return print(\"Llenado de campos vacíos erróneo\")\n",
    "\n",
    "fillNAs(train, test)\n"
   ]
  },
  {
   "cell_type": "markdown",
   "metadata": {},
   "source": [
    "#### Responda:\n",
    "\n",
    "1.1 Cuántas muestras tiene la base de datos?: \n",
    "\n",
    "\n"
   ]
  },
  {
   "cell_type": "code",
   "execution_count": 112,
   "metadata": {},
   "outputs": [],
   "source": [
    "\n",
    "#Deleted columns 'cause had a lot of NA > 80%: 'Alley','Fence','MiscFeature','PoolQC'\n",
    "#Deleted columns 'cause the std = 0: 'Utilities' %rep = 1, 'Street' %rep =1,\n",
    "#'LandSlope' %rep = 0.95, Condition2 %rep = 1445/1460, RoofMatl %rep = 1434/1460, \n",
    "# Heating %rep = 1428/1460, LowQualFinSF %rep = 1436/1460, \n",
    "# PoolArea %rep = 1454/1460, 3SsnPorch %rep = 1438/1460\n",
    "\n",
    "def deleteColumns(train, test):\n",
    "    columnsToDelete = ['Id','Utilities','Street','LandSlope', 'Condition2', 'RoofMatl',  'Heating', 'LowQualFinSF', 'PoolArea', '3SsnPorch']\n",
    "    train.drop(labels = columnsToDelete, axis = 1, inplace = True)\n",
    "    test.drop(labels = columnsToDelete, axis = 1, inplace = True)\n",
    "    \n",
    "deleteColumns(train, test)"
   ]
  },
  {
   "cell_type": "markdown",
   "metadata": {},
   "source": [
    "1.2 Cuántas caracteristicas tiene el problema?: \n",
    "\n"
   ]
  },
  {
   "cell_type": "code",
   "execution_count": 215,
   "metadata": {},
   "outputs": [
    {
     "name": "stdout",
     "output_type": "stream",
     "text": [
      "<class 'pandas.core.frame.DataFrame'>\n",
      "Int64Index: 2912 entries, 0 to 1451\n",
      "Data columns (total 227 columns):\n",
      "Id                       int64\n",
      "LotFrontage              float64\n",
      "LotArea                  int64\n",
      "OverallQual              int64\n",
      "OverallCond              int64\n",
      "YearBuilt                int64\n",
      "YearRemodAdd             int64\n",
      "MasVnrArea               float64\n",
      "ExterQual                int64\n",
      "ExterCond                int64\n",
      "BsmtQual                 float64\n",
      "BsmtCond                 float64\n",
      "BsmtExposure             float64\n",
      "BsmtFinSF1               float64\n",
      "BsmtFinSF2               float64\n",
      "BsmtUnfSF                float64\n",
      "TotalBsmtSF              float64\n",
      "HeatingQC                int64\n",
      "1stFlrSF                 int64\n",
      "2ndFlrSF                 int64\n",
      "LowQualFinSF             int64\n",
      "GrLivArea                int64\n",
      "BsmtFullBath             float64\n",
      "BsmtHalfBath             float64\n",
      "FullBath                 int64\n",
      "HalfBath                 int64\n",
      "BedroomAbvGr             int64\n",
      "KitchenAbvGr             int64\n",
      "KitchenQual              int64\n",
      "TotRmsAbvGrd             int64\n",
      "Fireplaces               int64\n",
      "FireplaceQu              float64\n",
      "GarageYrBlt              float64\n",
      "GarageCars               float64\n",
      "GarageArea               float64\n",
      "GarageQual               float64\n",
      "GarageCond               float64\n",
      "WoodDeckSF               int64\n",
      "OpenPorchSF              int64\n",
      "EnclosedPorch            int64\n",
      "3SsnPorch                int64\n",
      "ScreenPorch              int64\n",
      "PoolArea                 int64\n",
      "MiscVal                  int64\n",
      "MoSold                   int64\n",
      "YrSold                   int64\n",
      "MSSubClass_30            uint8\n",
      "MSSubClass_40            uint8\n",
      "MSSubClass_45            uint8\n",
      "MSSubClass_50            uint8\n",
      "MSSubClass_60            uint8\n",
      "MSSubClass_70            uint8\n",
      "MSSubClass_75            uint8\n",
      "MSSubClass_80            uint8\n",
      "MSSubClass_85            uint8\n",
      "MSSubClass_90            uint8\n",
      "MSSubClass_120           uint8\n",
      "MSSubClass_150           uint8\n",
      "MSSubClass_160           uint8\n",
      "MSSubClass_180           uint8\n",
      "MSSubClass_190           uint8\n",
      "MSZoning_FV              uint8\n",
      "MSZoning_RH              uint8\n",
      "MSZoning_RL              uint8\n",
      "MSZoning_RM              uint8\n",
      "Street_Pave              uint8\n",
      "LotShape_IR2             uint8\n",
      "LotShape_IR3             uint8\n",
      "LotShape_Reg             uint8\n",
      "LandContour_HLS          uint8\n",
      "LandContour_Low          uint8\n",
      "LandContour_Lvl          uint8\n",
      "Utilities_NoSeWa         uint8\n",
      "LotConfig_CulDSac        uint8\n",
      "LotConfig_FR2            uint8\n",
      "LotConfig_FR3            uint8\n",
      "LotConfig_Inside         uint8\n",
      "LandSlope_Mod            uint8\n",
      "LandSlope_Sev            uint8\n",
      "Neighborhood_Blueste     uint8\n",
      "Neighborhood_BrDale      uint8\n",
      "Neighborhood_BrkSide     uint8\n",
      "Neighborhood_ClearCr     uint8\n",
      "Neighborhood_CollgCr     uint8\n",
      "Neighborhood_Crawfor     uint8\n",
      "Neighborhood_Edwards     uint8\n",
      "Neighborhood_Gilbert     uint8\n",
      "Neighborhood_IDOTRR      uint8\n",
      "Neighborhood_MeadowV     uint8\n",
      "Neighborhood_Mitchel     uint8\n",
      "Neighborhood_NAmes       uint8\n",
      "Neighborhood_NPkVill     uint8\n",
      "Neighborhood_NWAmes      uint8\n",
      "Neighborhood_NoRidge     uint8\n",
      "Neighborhood_NridgHt     uint8\n",
      "Neighborhood_OldTown     uint8\n",
      "Neighborhood_SWISU       uint8\n",
      "Neighborhood_Sawyer      uint8\n",
      "Neighborhood_SawyerW     uint8\n",
      "Neighborhood_Somerst     uint8\n",
      "Neighborhood_StoneBr     uint8\n",
      "Neighborhood_Timber      uint8\n",
      "Neighborhood_Veenker     uint8\n",
      "Condition1_Feedr         uint8\n",
      "Condition1_Norm          uint8\n",
      "Condition1_PosA          uint8\n",
      "Condition1_PosN          uint8\n",
      "Condition1_RRAe          uint8\n",
      "Condition1_RRAn          uint8\n",
      "Condition1_RRNe          uint8\n",
      "Condition1_RRNn          uint8\n",
      "Condition2_Feedr         uint8\n",
      "Condition2_Norm          uint8\n",
      "Condition2_PosA          uint8\n",
      "Condition2_PosN          uint8\n",
      "Condition2_RRAe          uint8\n",
      "Condition2_RRAn          uint8\n",
      "Condition2_RRNn          uint8\n",
      "BldgType_2fmCon          uint8\n",
      "BldgType_Duplex          uint8\n",
      "BldgType_Twnhs           uint8\n",
      "BldgType_TwnhsE          uint8\n",
      "HouseStyle_1.5Unf        uint8\n",
      "HouseStyle_1Story        uint8\n",
      "HouseStyle_2.5Fin        uint8\n",
      "HouseStyle_2.5Unf        uint8\n",
      "HouseStyle_2Story        uint8\n",
      "HouseStyle_SFoyer        uint8\n",
      "HouseStyle_SLvl          uint8\n",
      "RoofStyle_Gable          uint8\n",
      "RoofStyle_Gambrel        uint8\n",
      "RoofStyle_Hip            uint8\n",
      "RoofStyle_Mansard        uint8\n",
      "RoofStyle_Shed           uint8\n",
      "RoofMatl_CompShg         uint8\n",
      "RoofMatl_Membran         uint8\n",
      "RoofMatl_Metal           uint8\n",
      "RoofMatl_Roll            uint8\n",
      "RoofMatl_Tar&Grv         uint8\n",
      "RoofMatl_WdShake         uint8\n",
      "RoofMatl_WdShngl         uint8\n",
      "Exterior1st_AsphShn      uint8\n",
      "Exterior1st_BrkComm      uint8\n",
      "Exterior1st_BrkFace      uint8\n",
      "Exterior1st_CBlock       uint8\n",
      "Exterior1st_CemntBd      uint8\n",
      "Exterior1st_HdBoard      uint8\n",
      "Exterior1st_ImStucc      uint8\n",
      "Exterior1st_MetalSd      uint8\n",
      "Exterior1st_Plywood      uint8\n",
      "Exterior1st_Stone        uint8\n",
      "Exterior1st_Stucco       uint8\n",
      "Exterior1st_VinylSd      uint8\n",
      "Exterior1st_Wd Sdng      uint8\n",
      "Exterior1st_WdShing      uint8\n",
      "Exterior2nd_AsphShn      uint8\n",
      "Exterior2nd_Brk Cmn      uint8\n",
      "Exterior2nd_BrkFace      uint8\n",
      "Exterior2nd_CBlock       uint8\n",
      "Exterior2nd_CmentBd      uint8\n",
      "Exterior2nd_HdBoard      uint8\n",
      "Exterior2nd_ImStucc      uint8\n",
      "Exterior2nd_MetalSd      uint8\n",
      "Exterior2nd_Other        uint8\n",
      "Exterior2nd_Plywood      uint8\n",
      "Exterior2nd_Stone        uint8\n",
      "Exterior2nd_Stucco       uint8\n",
      "Exterior2nd_VinylSd      uint8\n",
      "Exterior2nd_Wd Sdng      uint8\n",
      "Exterior2nd_Wd Shng      uint8\n",
      "MasVnrType_BrkFace       uint8\n",
      "MasVnrType_None          uint8\n",
      "MasVnrType_Stone         uint8\n",
      "Foundation_CBlock        uint8\n",
      "Foundation_PConc         uint8\n",
      "Foundation_Slab          uint8\n",
      "Foundation_Stone         uint8\n",
      "Foundation_Wood          uint8\n",
      "BsmtFinType1_BLQ         uint8\n",
      "BsmtFinType1_GLQ         uint8\n",
      "BsmtFinType1_LwQ         uint8\n",
      "BsmtFinType1_Rec         uint8\n",
      "BsmtFinType1_Unf         uint8\n",
      "BsmtFinType2_BLQ         uint8\n",
      "BsmtFinType2_GLQ         uint8\n",
      "BsmtFinType2_LwQ         uint8\n",
      "BsmtFinType2_Rec         uint8\n",
      "BsmtFinType2_Unf         uint8\n",
      "Heating_GasA             uint8\n",
      "Heating_GasW             uint8\n",
      "Heating_Grav             uint8\n",
      "Heating_OthW             uint8\n",
      "Heating_Wall             uint8\n",
      "CentralAir_Y             uint8\n",
      "Electrical_FuseF         uint8\n",
      "Electrical_FuseP         uint8\n",
      "Electrical_Mix           uint8\n",
      "Electrical_SBrkr         uint8\n",
      "Functional_Maj2          uint8\n",
      "Functional_Min1          uint8\n",
      "Functional_Min2          uint8\n",
      "Functional_Mod           uint8\n",
      "Functional_Sev           uint8\n",
      "Functional_Typ           uint8\n",
      "GarageType_Attchd        uint8\n",
      "GarageType_Basment       uint8\n",
      "GarageType_BuiltIn       uint8\n",
      "GarageType_CarPort       uint8\n",
      "GarageType_Detchd        uint8\n",
      "GarageFinish_RFn         uint8\n",
      "GarageFinish_Unf         uint8\n",
      "PavedDrive_P             uint8\n",
      "PavedDrive_Y             uint8\n",
      "SaleType_CWD             uint8\n",
      "SaleType_Con             uint8\n",
      "SaleType_ConLD           uint8\n",
      "SaleType_ConLI           uint8\n",
      "SaleType_ConLw           uint8\n",
      "SaleType_New             uint8\n",
      "SaleType_Oth             uint8\n",
      "SaleType_WD              uint8\n",
      "SaleCondition_AdjLand    uint8\n",
      "SaleCondition_Alloca     uint8\n",
      "SaleCondition_Family     uint8\n",
      "SaleCondition_Normal     uint8\n",
      "SaleCondition_Partial    uint8\n",
      "Set                      category\n",
      "dtypes: category(1), float64(17), int64(29), uint8(180)\n",
      "memory usage: 1.5 MB\n"
     ]
    }
   ],
   "source": [
    "\n",
    "def mergeTrainAndTest(train, test):\n",
    "    trainToMerge = train.copy()\n",
    "    Ytrain = trainToMerge['SalePrice'] \n",
    "    trainToMerge.drop(labels = 'SalePrice', axis = 1, inplace = True)\n",
    "    trainToMerge['Set'] = 'train'\n",
    "    testToMerge = test.copy()\n",
    "    testToMerge['Set'] = 'test'\n",
    "    db = trainToMerge.copy()\n",
    "    db = db.append(testToMerge)\n",
    "    return db, Ytrain\n",
    "\n",
    "def convertToCategories(db):\n",
    "    db['MSSubClass'] = db['MSSubClass'].astype('category')\n",
    "    db[\"ExterQual\"] = db[\"ExterQual\"].map({'Ex': 5, 'Gd': 4, 'TA': 3, 'Fa': 2, 'Po': 1})\n",
    "    db[\"ExterCond\"] = db[\"ExterCond\"].map({'Ex': 5, 'Gd': 4, 'TA': 3, 'Fa': 2, 'Po': 1})\n",
    "    db[\"BsmtQual\"] = db[\"BsmtQual\"].map({'Ex': 5, 'Gd': 4, 'TA': 3, 'Fa': 2, 'Po': 1, 'NA': 0})\n",
    "    db[\"BsmtCond\"] = db[\"BsmtCond\"].map({'Ex': 5, 'Gd': 4, 'TA': 3, 'Fa': 2, 'Po': 1, 'NA': 0})\n",
    "    db[\"BsmtExposure\"] = db[\"BsmtExposure\"].map({'Gd': 4, 'Av': 3, 'Mn': 2, 'No': 1, 'NA': 0})\n",
    "    db[\"HeatingQC\"] = db[\"HeatingQC\"].map({'Ex': 5, 'Gd': 4, 'TA': 3, 'Fa': 2, 'Po': 1})\n",
    "    db[\"KitchenQual\"] = db[\"KitchenQual\"].map({'Ex': 5, 'Gd': 4, 'TA': 3, 'Fa': 2, 'Po': 1})\n",
    "    db[\"FireplaceQu\"] = db[\"FireplaceQu\"].map({'Ex': 5, 'Gd': 4, 'TA': 3, 'Fa': 2, 'Po': 1, 'NA': 0})\n",
    "    db[\"GarageQual\"] = db[\"GarageQual\"].map({'Ex': 5, 'Gd': 4, 'TA': 3, 'Fa': 2, 'Po': 1, 'NA': 0})\n",
    "    db[\"GarageCond\"] = db[\"GarageCond\"].map({'Ex': 5, 'Gd': 4, 'TA': 3, 'Fa': 2, 'Po': 1, 'NA': 0})\n",
    "    for i in db.select_dtypes(include='object').columns.to_list():\n",
    "        db[i] = db[i].astype('category')\n",
    "        \n",
    "def oneHotEncoding(db):\n",
    "    typeOfSet = db['Set']\n",
    "    db.drop(labels = 'Set', axis = 1, inplace = True)\n",
    "    featuresToEncode = db.select_dtypes(include='category').head().columns.values.tolist()\n",
    "    resultantDB = pd.get_dummies(db, columns = featuresToEncode, drop_first= True)\n",
    "    resultantDB = pd.concat([resultantDB, typeOfSet], axis=1)\n",
    "    return resultantDB\n",
    "\n",
    "db, Ytrain = mergeTrainAndTest(train, test)\n",
    "convertToCategories(db)\n",
    "\n",
    "db = oneHotEncoding(db)\n",
    "\n",
    "db.info(verbose=True)"
   ]
  },
  {
   "cell_type": "code",
   "execution_count": 203,
   "metadata": {},
   "outputs": [
    {
     "name": "stdout",
     "output_type": "stream",
     "text": [
      "0\n",
      "0\n"
     ]
    },
    {
     "name": "stderr",
     "output_type": "stream",
     "text": [
      "/home/sady/anaconda3/lib/python3.7/site-packages/pandas/core/frame.py:4102: SettingWithCopyWarning: \n",
      "A value is trying to be set on a copy of a slice from a DataFrame\n",
      "\n",
      "See the caveats in the documentation: http://pandas.pydata.org/pandas-docs/stable/user_guide/indexing.html#returning-a-view-versus-a-copy\n",
      "  errors=errors,\n",
      "/home/sady/anaconda3/lib/python3.7/site-packages/pandas/core/frame.py:4102: SettingWithCopyWarning: \n",
      "A value is trying to be set on a copy of a slice from a DataFrame\n",
      "\n",
      "See the caveats in the documentation: http://pandas.pydata.org/pandas-docs/stable/user_guide/indexing.html#returning-a-view-versus-a-copy\n",
      "  errors=errors,\n"
     ]
    }
   ],
   "source": [
    "def separateTestAndTrain(db):\n",
    "    \n",
    "    Xtrain = db.loc[db['Set'] == 'train']\n",
    "    Xtrain.drop(labels = 'Set', axis = 1, inplace = True)\n",
    "    Xtest = db.loc[db['Set'] == 'test']\n",
    "    Xtest.drop(labels = 'Set', axis = 1, inplace = True)\n",
    "    return Xtrain, Xtest\n",
    "\n",
    "Xtrain, Xtest = separateTestAndTrain(db)"
   ]
  },
  {
   "cell_type": "markdown",
   "metadata": {},
   "source": [
    "<b>Nota</b>: Agregue una celda en la cual incluya las líneas de código usadas para responder las preguntas."
   ]
  },
  {
   "cell_type": "markdown",
   "metadata": {},
   "source": [
    "## Ejercicio 2: Completar código \n",
    "\n",
    "Analice los siguientes métodos de la teoría vista para los modelos de *regresión polinomial múltiple*, tales como el error cuadrático medio (<font color='blue'>ECM</font>), modelo de regresión múltiple (<font color='blue'>regression</font>), potencia del polinomio (<font color='blue'>potenciaPolinomio</font>) y gradiente descendente. \n",
    "\n",
    "Una vez comprenda su funcionamiento proceda a realizar lo siguiente: \n",
    "1. Completar el código de la regla de actualización de los parámetros del algoritmo de <font color='blue'>gradiente_descedente</font>: \n",
    "\n",
    "$$w_j(iter) = w_j(iter-1) - \\eta \\frac{\\partial E(w)}{\\partial w_j}$$ \n",
    "\n",
    "2. Graficar el error cuadrático: Error cuadrático medio (ECM) vs. las iteraciones del algoritmo. La gráfica debe llevar título y los correspondientes nombres de los ejes, puedes consultar documentación [aquí](https://matplotlib.org/tutorials/introductory/pyplot.html)."
   ]
  },
  {
   "cell_type": "code",
   "execution_count": 195,
   "metadata": {},
   "outputs": [],
   "source": [
    "#Error cuadrático medio (criterio para el modelo de regresión polinomial)\n",
    "def ECM(Y_est,Y):\n",
    "    N = np.size(Y)\n",
    "    ecm = np.sum((Y_est.reshape(N,1) - Y.reshape(N,1))**2)/(2*N)\n",
    "    return ecm \n",
    "\n",
    "#Modelo Regresión Múltiple\n",
    "def regression(X, W):\n",
    "    Yest = np.dot(X,W)    #con np.dot se realiza el producto matricial. Aquí X es dim [Nxd] y W es dim [dx1]\n",
    "    return Yest           #Esta variable contiene la salida de f(X,W)\n",
    "\n",
    "#Potencia de polinomio\n",
    "\n",
    "def potenciaPolinomio(X,grado):\n",
    "    X2 = X\n",
    "    \n",
    "    if grado != 1:\n",
    "        for i in range(2,grado+1):\n",
    "            Xadd = X**i\n",
    "            X2 = np.concatenate((X2, Xadd), axis=1)\n",
    "    return X2"
   ]
  },
  {
   "cell_type": "code",
   "execution_count": 198,
   "metadata": {},
   "outputs": [],
   "source": [
    "\"\"\"Gradiente descendente para regresión lineal múltiple\n",
    "X: Matriz de datos extendida.\n",
    "W: Vector de parámetros del modelo\n",
    "eta: Taza de aprendizaje\n",
    "\"\"\"\n",
    "#X es db que son los datos de tamaño (9357, 13),\n",
    "#Y \n",
    "#eta es la tasa de aprendizaje\n",
    "def gradiente_descendente(X,Y,eta):\n",
    "     \n",
    "    #Extendemos la matriz de X para el parámetro independiente\n",
    "    unos = np.array([np.ones(np.size(X,0))])\n",
    "    #Concatenamos el vector de unos con la matriz X\n",
    "    X = np.concatenate((unos.T, X), axis=1)\n",
    "    X = X.reshape(np.size(X,0),np.size(X,1))                 #Una forma de concatenar\n",
    "    \n",
    "    Y = Y.reshape(np.size(Y), 1)\n",
    "    \n",
    "    #Tomamos el número de variables del problema\n",
    "    d = np.size(X,1)\n",
    "    \n",
    "    #Tomamos el número de muestras de la base de datos\n",
    "    N = np.size(X,0)\n",
    "    \n",
    "    \n",
    "    #Inicializamos el vector de parámetros \n",
    "    W = np.zeros((1,d))\n",
    "    W = W.reshape(np.size(W), 1)\n",
    "    \n",
    "    eta = eta\n",
    "    \n",
    "    iteraciones = 500\n",
    "    ecms = np.zeros(iteraciones)\n",
    "    \n",
    "    print('X', X)\n",
    "    \n",
    "    #Aquí se completa el código\n",
    "    for iter in range(iteraciones):\n",
    "        t1 = regression(X, W)\n",
    "        ecms[iter] = ECM(t1,Y)\n",
    "        t2 = t1 - Y\n",
    "        t3 = regression(X.T,t2)\n",
    "        W = W - eta*t3/N\n",
    "    print ('Vector de parámetros del modelo:\\n')\n",
    "    print (W)\n",
    "    print ('\\nError Final durante el entrenamiento = ' + str(ecms[-1]))\n",
    "    \n",
    "    #Aquí debe completar el código para realizar la gráfica de ecms vs. iteraciones\n",
    "    plt.plot(ecms) #.plot al mandarle el vector de errores realizara la gráfica considerando el índice como valor del eje X y en el eje Y considerara el valor en ese posición.\n",
    "    plt.xlabel('Iteraciones')\n",
    "    plt.ylabel('ECM')\n",
    "    plt.show()\n",
    "    \n",
    "    return W\n",
    "    "
   ]
  },
  {
   "cell_type": "code",
   "execution_count": null,
   "metadata": {},
   "outputs": [],
   "source": [
    "from sklearn.linear_model import LinearRegression\n",
    "\n",
    "regr_freq = LinearRegression()\n",
    "regr_freq.fit(Xtrain, Ytrain)\n"
   ]
  },
  {
   "cell_type": "markdown",
   "metadata": {},
   "source": [
    "## Ejercicio 3: Entrenamiento\n",
    "\n",
    "En este punto debe hacer uso de las funciones escritas en el punto anterior para realizar el proceso de *modelamiento y simulación* de los datos de cargados en el Ejercicio # 1 sobre la predicción del valor de la humedad absoluta en el aire \n",
    "\n",
    "A continuación complete el siguiente código llamando a la función <font color='blue'>gradiente_descedente</font> pasandole los parámetros correspondientes (X,y,eta). Debe obtener como salida el vector de parámetros $w$ estimado y la gráfica del error cuadrático medio vs iteraciones.\n",
    "\n",
    "*Nota*: No olvide definir el grado del polinomio y la taza de aprendizaje (eta)"
   ]
  },
  {
   "cell_type": "code",
   "execution_count": 249,
   "metadata": {
    "scrolled": true
   },
   "outputs": [
    {
     "name": "stdout",
     "output_type": "stream",
     "text": [
      "RMSE is: 32634.65\n",
      "R_squared is 84.14%\n",
      "dict_keys(['copy_X', 'fit_intercept', 'n_jobs', 'normalize'])\n",
      "Fitting 10 folds for each of 80 candidates, totalling 800 fits\n"
     ]
    },
    {
     "name": "stderr",
     "output_type": "stream",
     "text": [
      "/home/sady/anaconda3/lib/python3.7/site-packages/sklearn/model_selection/_split.py:657: Warning: The least populated class in y has only 1 members, which is too few. The minimum number of members in any class cannot be less than n_splits=10.\n",
      "  % (min_groups, self.n_splits)), Warning)\n",
      "[Parallel(n_jobs=-1)]: Using backend LokyBackend with 4 concurrent workers.\n",
      "[Parallel(n_jobs=-1)]: Done 348 tasks      | elapsed:    2.6s\n"
     ]
    },
    {
     "name": "stdout",
     "output_type": "stream",
     "text": [
      "Best score: 0.760371 using {'copy_X': True, 'fit_intercept': True, 'n_jobs': 1, 'normalize': False}\n",
      "Despues (array([], dtype=int64), array([], dtype=int64))\n"
     ]
    },
    {
     "name": "stderr",
     "output_type": "stream",
     "text": [
      "[Parallel(n_jobs=-1)]: Done 800 out of 800 | elapsed:    5.3s finished\n",
      "/home/sady/anaconda3/lib/python3.7/site-packages/sklearn/model_selection/_search.py:814: DeprecationWarning: The default of the `iid` parameter will change from True to False in version 0.22 and will be removed in 0.24. This will change numeric results when test-set sizes are unequal.\n",
      "  DeprecationWarning)\n"
     ]
    }
   ],
   "source": [
    "from sklearn.linear_model import LinearRegression\n",
    "from sklearn.model_selection import StratifiedKFold, GridSearchCV\n",
    "from numpy import random\n",
    "import math\n",
    "\n",
    "X = Xtrain.values\n",
    "Y = Ytrain.values\n",
    "\n",
    "# #Se modifica la matriz de datos original de acuerdo al grado del polinomio ingresado para el modelo\n",
    "grado = 1\n",
    "X2 = potenciaPolinomio(X,grado)\n",
    "\n",
    "random.seed(1)\n",
    "#print(np.any(np.isnan(X)))\n",
    "#print(np.all(np.isfinite(X)))\n",
    "\n",
    "\n",
    "Xtraining, Xtesting, Ytraining, Ytesting = train_test_split(X, Y, test_size=0.25)\n",
    "\n",
    "regr_freq = LinearRegression()\n",
    "regr_freq.fit(Xtraining, Ytraining)\n",
    "print(\"RMSE is: {:.2f}\\nR_squared is {:.2f}%\".format(math.sqrt(np.mean((regr_freq.predict(Xtesting) - Ytesting) ** 2)),\n",
    "                                                   regr_freq.score(Xtesting,Ytesting)*100))\n",
    "\n",
    "kfold = StratifiedKFold(n_splits = 10, shuffle = True, random_state = 10)\n",
    "print(regr_freq.get_params().keys())\n",
    "fit_intercept=[True, False]\n",
    "normalize=[True, False]\n",
    "copy_X=[True,False]\n",
    "n_jobs=[1,2,3,4,5,6,7,8,9,10]\n",
    "param_grid = dict(copy_X=copy_X, fit_intercept=fit_intercept, normalize=normalize, n_jobs=n_jobs)\n",
    "grid_search_xg_freq = GridSearchCV(regr_freq, param_grid, scoring = 'r2', n_jobs = -1, cv=kfold, verbose = 1)\n",
    "result_gcv_xgb_freq = grid_search_xg_freq.fit(Xtraining, Ytraining.astype(int))\n",
    "print(\"Best score: %f using %s\" % (result_gcv_xgb_freq.best_score_, result_gcv_xgb_freq.best_params_))\n",
    "means = result_gcv_xgb_freq.cv_results_['mean_test_score']\n",
    "stds = result_gcv_xgb_freq.cv_results_['std_test_score']\n",
    "params = result_gcv_xgb_freq.cv_results_['params']\n",
    "#print(np.any(np.isnan(Xtraining)))\n",
    "#print(np.all(np.isfinite(Xtraining)))\n",
    "\n",
    "eta = 1e-2\n",
    "\n",
    "print('Despues', np.where(np.isnan(Xtraining)))\n",
    "regr_freq = LinearRegression()\n",
    "regr_freq.fit(Xtraining, Ytraining)\n",
    "W = regr_freq.predict(Xtesting)\n",
    "\n",
    "\n"
   ]
  },
  {
   "cell_type": "markdown",
   "metadata": {},
   "source": [
    "#### Responda:\n",
    "\n",
    "3.1 ¿Cuál es el número de coeficientes $w$ que se obtienen al ingresar un polinomio de grado 4? ¿Por qué?:\n",
    "\n"
   ]
  },
  {
   "cell_type": "code",
   "execution_count": null,
   "metadata": {},
   "outputs": [],
   "source": [
    "grado = 4\n",
    "size = np.size(potenciaPolinomio(X, grado),1)\n",
    "terminoIndependiente = 1\n",
    "realSize = size + terminoIndependiente\n",
    "print(realSize)"
   ]
  },
  {
   "cell_type": "markdown",
   "metadata": {},
   "source": [
    "3.2 La funci&oacute;n polin&oacute;mica que se est&aacute; usando para grados mayores a 1\n",
    "est&aacute; incompleta, ¿Por qu&eacute;?:"
   ]
  },
  {
   "cell_type": "markdown",
   "metadata": {},
   "source": [
    "Debido a que falta el producto entre caracteristicas que resulta de extender la expresión polinomica a un grado mayor a uno."
   ]
  },
  {
   "cell_type": "markdown",
   "metadata": {},
   "source": [
    "## Ejercicio 4: Obtener resultados\n",
    "\n",
    "Identifique la variable \"eta\" (tasa de aprendizaje $\\eta$) en el código anterior, cambie su valor de acuerdo a la siguiente tabla. Haga lo mismo con el valor del grado del polinomio y complete las columnas ECM_Entrenamiento y ECM_Prueba.\n",
    "\n",
    "Tenga en cuenta que cuando el valor de $\\eta$ sea $0.00001$ y el grado del polinomio sea $1$, el valor del ECM de prueba debe ser $703.376$. Esto le servirá de criterio de verificación para la implementación de su algorítmo de gradiente descendente.\n"
   ]
  },
  {
   "cell_type": "code",
   "execution_count": 46,
   "metadata": {},
   "outputs": [
    {
     "data": {
      "application/vnd.jupyter.widget-view+json": {
       "model_id": "3d005685544a4eeb9b05a0f3d8e192d7",
       "version_major": 2,
       "version_minor": 0
      },
      "text/plain": [
       "QgridWidget(grid_options={'fullWidthRows': True, 'syncColumnCellResize': True, 'forceFitColumns': True, 'defau…"
      ]
     },
     "metadata": {},
     "output_type": "display_data"
    }
   ],
   "source": [
    "import numpy as np\n",
    "import pandas as pd\n",
    "import qgrid as qg\n",
    "randn = np.random.randn\n",
    "df_types = pd.DataFrame({\n",
    "    'Tasa de aprendizaje' : pd.Series(['1e-5', '1e-5', '1e-5', '1e-5', '1e-5', '1e-3', '1e-3', '1e-3', '1e-3', '1e-3', '1e-1', '1e-1', '1e-1', '1e-1', '1e-1']),\n",
    "    'Grado del polinomio' : pd.Series([1,2,3,4,5,1,2,3,4,5,1,2,3,4,5])})\n",
    "df_types[\"ECM_Entrenamiento\"] = \"\"\n",
    "df_types[\"ECM_Prueba\"] = \"\"\n",
    "df_types.set_index(['Tasa de aprendizaje','Grado del polinomio'], inplace=True)\n",
    "df_types[\"ECM_Entrenamiento\"][0] = \"774.055\"\n",
    "df_types[\"ECM_Prueba\"][0] = \"703.376\"\n",
    "df_types.sort_index(inplace=True)\n",
    "qgrid_widget = qg.show_grid(df_types, show_toolbar=False)\n",
    "qgrid_widget"
   ]
  },
  {
   "cell_type": "markdown",
   "metadata": {},
   "source": [
    "Ejecute la siguiente instrucción para dejar guardados en el notebook los resultados de las pruebas."
   ]
  },
  {
   "cell_type": "code",
   "execution_count": null,
   "metadata": {},
   "outputs": [],
   "source": [
    "qgrid_widget.get_changed_df()"
   ]
  },
  {
   "cell_type": "markdown",
   "metadata": {},
   "source": [
    "## Ejercicio 5: Pruebas\n",
    "\n",
    "En la celda de código del Ejercicio # 3, comente la línea donde se normalizan las matrices de datos Xtrain y Xtest. Realice pruebas para diferentes valores de $\\eta$ y de grado del polinomio de manera similar a los valores que usó en el punto 3. Observe que pasa con el ECM.\n",
    "\n",
    "#### Responda\n",
    "\n",
    "5.1 ¿Qué sucede con los valores del ECM?\n",
    "\n"
   ]
  },
  {
   "cell_type": "markdown",
   "metadata": {},
   "source": [
    "Los valores del ECM se desbordan"
   ]
  },
  {
   "cell_type": "markdown",
   "metadata": {},
   "source": [
    "5.2 ¿A qué se debe lo que observa?\n"
   ]
  },
  {
   "cell_type": "markdown",
   "metadata": {},
   "source": [
    "Debido a que la convergencia entre caracteristicas se reduce por falta de normalización"
   ]
  },
  {
   "cell_type": "markdown",
   "metadata": {},
   "source": [
    "5.3.1 ¿Qu&eacute; proceso hace la normalizaci&oacute;n sobre los datos? \n",
    "\n",
    "\n"
   ]
  },
  {
   "cell_type": "markdown",
   "metadata": {},
   "source": [
    "Cambia los valores del dataset a una escala común sin distorsionar las diferencias en los rangos de valores."
   ]
  },
  {
   "cell_type": "markdown",
   "metadata": {},
   "source": [
    "5.3.2 Consulte por qu&eacute; es necesaria la normalizaci&oacute;n en el modelo de regresi&oacute;n  y cu&aacute;les son los tipos de normalizaci&oacute;n m&aacute;s comunes. "
   ]
  },
  {
   "cell_type": "markdown",
   "metadata": {},
   "source": [
    "Es necesaria porque es posible que algunas características sean cuantitativamente mucho mayores que las demás lo que puede causar que contribuyan a la variación en el término independiente aunque no necesariamente sean más importantes. Algunos de los métodos de normalización son: decimal scaling, min-max normalization y z-score."
   ]
  },
  {
   "cell_type": "markdown",
   "metadata": {},
   "source": [
    "5.3.3 ¿Cu&aacute;l de ellos se aplic&oacute; en el laboratorio?"
   ]
  },
  {
   "cell_type": "markdown",
   "metadata": {},
   "source": [
    "El método utilizado en este laboratorio fue z-score. \n"
   ]
  }
 ],
 "metadata": {
  "kernelspec": {
   "display_name": "Python 3",
   "language": "python",
   "name": "python3"
  },
  "language_info": {
   "codemirror_mode": {
    "name": "ipython",
    "version": 3
   },
   "file_extension": ".py",
   "mimetype": "text/x-python",
   "name": "python",
   "nbconvert_exporter": "python",
   "pygments_lexer": "ipython3",
   "version": "3.7.4"
  }
 },
 "nbformat": 4,
 "nbformat_minor": 2
}
