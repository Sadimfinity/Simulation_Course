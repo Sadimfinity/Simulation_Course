{
 "cells": [
  {
   "cell_type": "markdown",
   "metadata": {},
   "source": [
    "# Proyecto Final\n",
    "\n",
    "### 2019 - II\n",
    "\n",
    "#### Profesor: Julián D. Arias Londoño\n",
    "#### julian.ariasl@udea.edu.co\n"
   ]
  },
  {
   "cell_type": "markdown",
   "metadata": {},
   "source": [
    "### Primer integrante:\n",
    "Nombre: Jorge Hiler Ricardo\n",
    "\n",
    "\n",
    "#### Segundo integrante:\n",
    "\n",
    "Nombre: Santiago Gaviria Zapata\n"
   ]
  },
  {
   "cell_type": "code",
   "execution_count": 3,
   "metadata": {},
   "outputs": [
    {
     "name": "stdout",
     "output_type": "stream",
     "text": [
      "1460 77\n"
     ]
    }
   ],
   "source": [
    "import numpy as np\n",
    "import numpy.matlib as npMatlib\n",
    "import matplotlib.pyplot as plt\n",
    "import pandas as pd\n",
    "from scipy import stats\n",
    "\n",
    "#Algunas advertencias que queremos evitar\n",
    "import warnings\n",
    "warnings.filterwarnings(\"always\")\n",
    "\n",
    "train = pd.read_csv(r'DB/train.csv')\n",
    "\n",
    "test = pd.read_csv(r'DB/test.csv')\n",
    "\n",
    "print(np.size(train, 0), np.size(train, 1))"
   ]
  },
  {
   "cell_type": "code",
   "execution_count": 4,
   "metadata": {},
   "outputs": [
    {
     "name": "stdout",
     "output_type": "stream",
     "text": [
      "Numero de columnas con valores NA:  0\n",
      "Numero de columnas con valores NA:  0\n",
      "Lllenado de campos vacíos completado\n"
     ]
    }
   ],
   "source": [
    "\n",
    "\n",
    "def fillNAs(train, test):\n",
    "    naTrainColumns = train.columns[train.isna().any()].tolist()\n",
    "    train[naTrainColumns[0]].fillna(train[naTrainColumns[0]].mean(), inplace = True)\n",
    "    train[naTrainColumns[1]].fillna('None', inplace = True)\n",
    "    train[naTrainColumns[2]].fillna(train[naTrainColumns[2]].mean(), inplace = True)\n",
    "    train[naTrainColumns[3]].fillna('NA', inplace = True)\n",
    "    train[naTrainColumns[4]].fillna('NA', inplace = True)\n",
    "    train[naTrainColumns[5]].fillna('NA', inplace = True)\n",
    "    train[naTrainColumns[6]].fillna('NA', inplace = True)\n",
    "    train[naTrainColumns[7]].fillna('NA', inplace = True)\n",
    "    train[naTrainColumns[8]].fillna('SBrkr', inplace = True)\n",
    "    train[naTrainColumns[9]].fillna('NA', inplace = True)\n",
    "    train[naTrainColumns[10]].fillna('NA', inplace = True)\n",
    "    train[naTrainColumns[11]].fillna(train[naTrainColumns[11]].mean(), inplace = True)\n",
    "    train[naTrainColumns[12]].fillna('NA', inplace = True)\n",
    "    train[naTrainColumns[13]].fillna('NA', inplace = True)\n",
    "    train[naTrainColumns[14]].fillna('NA', inplace = True)\n",
    "    \n",
    "    naTrainResultantColumns = train.columns[train.isna().any()].size\n",
    "    print('Numero de columnas con valores NA: ', naTrainResultantColumns)\n",
    "    \n",
    "    naTestColumns = test.columns[test.isna().any()].tolist()\n",
    "    \n",
    "    test[naTestColumns[0]].fillna('RL', inplace = True)\n",
    "    test[naTestColumns[1]].fillna(test[naTestColumns[1]].mean(), inplace = True)\n",
    "    test[naTestColumns[2]].fillna('None', inplace = True)\n",
    "    test[naTestColumns[3]].fillna(test[naTestColumns[3]].mean(), inplace = True)\n",
    "    test[naTestColumns[4]].fillna('NA', inplace = True)\n",
    "    test[naTestColumns[5]].fillna('NA', inplace = True)\n",
    "    test[naTestColumns[6]].fillna('NA', inplace = True)\n",
    "    test[naTestColumns[7]].fillna('NA', inplace = True)\n",
    "    test[naTestColumns[8]].fillna(test[naTestColumns[8]].mean(), inplace = True)\n",
    "    test[naTestColumns[9]].fillna('NA', inplace = True)\n",
    "    test[naTestColumns[10]].fillna(test[naTestColumns[10]].mean(), inplace = True)\n",
    "    test[naTestColumns[11]].fillna(test[naTestColumns[11]].mean(), inplace = True)\n",
    "    test[naTestColumns[12]].fillna(test[naTestColumns[12]].mean(), inplace = True)\n",
    "    test[naTestColumns[13]].fillna(test[naTestColumns[13]].mean(), inplace = True)\n",
    "    test[naTestColumns[14]].fillna(test[naTestColumns[14]].mean(), inplace = True)\n",
    "    test[naTestColumns[15]].fillna('NA', inplace = True)\n",
    "    test[naTestColumns[16]].fillna('NA', inplace = True)\n",
    "    test[naTestColumns[17]].fillna(test[naTestColumns[17]].mean(), inplace = True)\n",
    "    test[naTestColumns[18]].fillna('NA', inplace = True)\n",
    "    test[naTestColumns[19]].fillna(round(float(test[naTestColumns[19]].mean()), 1), inplace = True)\n",
    "    test[naTestColumns[20]].fillna(test[naTestColumns[20]].mean(), inplace = True)\n",
    "    test[naTestColumns[21]].fillna('NA', inplace = True)\n",
    "    test[naTestColumns[22]].fillna('NA', inplace = True)\n",
    "    \n",
    "    naTestResultantColumns = train.columns[train.isna().any()].size\n",
    "    print('Numero de columnas con valores NA: ', naTestResultantColumns)\n",
    "    \n",
    "    if (naTrainResultantColumns == 0 & naTestResultantColumns == 0):\n",
    "        return print(\"Lllenado de campos vacíos completado\")\n",
    "    else: \n",
    "        return print(\"Llenado de campos vacíos erróneo\")\n",
    "\n",
    "fillNAs(train, test)\n"
   ]
  },
  {
   "cell_type": "code",
   "execution_count": 6,
   "metadata": {},
   "outputs": [
    {
     "ename": "KeyError",
     "evalue": "\"['Id' 'Utilities' 'Street' 'LandSlope' 'Condition2' 'RoofMatl' 'Heating'\\n 'LowQualFinSF' 'PoolArea' '3SsnPorch'] not found in axis\"",
     "output_type": "error",
     "traceback": [
      "\u001b[0;31m---------------------------------------------------------------------------\u001b[0m",
      "\u001b[0;31mKeyError\u001b[0m                                  Traceback (most recent call last)",
      "\u001b[0;32m<ipython-input-6-f9816d8d6c66>\u001b[0m in \u001b[0;36m<module>\u001b[0;34m\u001b[0m\n\u001b[1;32m     10\u001b[0m     \u001b[0mtest\u001b[0m\u001b[0;34m.\u001b[0m\u001b[0mdrop\u001b[0m\u001b[0;34m(\u001b[0m\u001b[0mlabels\u001b[0m \u001b[0;34m=\u001b[0m \u001b[0mcolumnsToDelete\u001b[0m\u001b[0;34m,\u001b[0m \u001b[0maxis\u001b[0m \u001b[0;34m=\u001b[0m \u001b[0;36m1\u001b[0m\u001b[0;34m,\u001b[0m \u001b[0minplace\u001b[0m \u001b[0;34m=\u001b[0m \u001b[0;32mTrue\u001b[0m\u001b[0;34m)\u001b[0m\u001b[0;34m\u001b[0m\u001b[0;34m\u001b[0m\u001b[0m\n\u001b[1;32m     11\u001b[0m \u001b[0;34m\u001b[0m\u001b[0m\n\u001b[0;32m---> 12\u001b[0;31m \u001b[0mdeleteColumns\u001b[0m\u001b[0;34m(\u001b[0m\u001b[0mtrain\u001b[0m\u001b[0;34m,\u001b[0m \u001b[0mtest\u001b[0m\u001b[0;34m)\u001b[0m\u001b[0;34m\u001b[0m\u001b[0;34m\u001b[0m\u001b[0m\n\u001b[0m",
      "\u001b[0;32m<ipython-input-6-f9816d8d6c66>\u001b[0m in \u001b[0;36mdeleteColumns\u001b[0;34m(train, test)\u001b[0m\n\u001b[1;32m      7\u001b[0m \u001b[0;32mdef\u001b[0m \u001b[0mdeleteColumns\u001b[0m\u001b[0;34m(\u001b[0m\u001b[0mtrain\u001b[0m\u001b[0;34m,\u001b[0m \u001b[0mtest\u001b[0m\u001b[0;34m)\u001b[0m\u001b[0;34m:\u001b[0m\u001b[0;34m\u001b[0m\u001b[0;34m\u001b[0m\u001b[0m\n\u001b[1;32m      8\u001b[0m     \u001b[0mcolumnsToDelete\u001b[0m \u001b[0;34m=\u001b[0m \u001b[0;34m[\u001b[0m\u001b[0;34m'Id'\u001b[0m\u001b[0;34m,\u001b[0m\u001b[0;34m'Utilities'\u001b[0m\u001b[0;34m,\u001b[0m\u001b[0;34m'Street'\u001b[0m\u001b[0;34m,\u001b[0m\u001b[0;34m'LandSlope'\u001b[0m\u001b[0;34m,\u001b[0m \u001b[0;34m'Condition2'\u001b[0m\u001b[0;34m,\u001b[0m \u001b[0;34m'RoofMatl'\u001b[0m\u001b[0;34m,\u001b[0m  \u001b[0;34m'Heating'\u001b[0m\u001b[0;34m,\u001b[0m \u001b[0;34m'LowQualFinSF'\u001b[0m\u001b[0;34m,\u001b[0m \u001b[0;34m'PoolArea'\u001b[0m\u001b[0;34m,\u001b[0m \u001b[0;34m'3SsnPorch'\u001b[0m\u001b[0;34m]\u001b[0m\u001b[0;34m\u001b[0m\u001b[0;34m\u001b[0m\u001b[0m\n\u001b[0;32m----> 9\u001b[0;31m     \u001b[0mtrain\u001b[0m\u001b[0;34m.\u001b[0m\u001b[0mdrop\u001b[0m\u001b[0;34m(\u001b[0m\u001b[0mlabels\u001b[0m \u001b[0;34m=\u001b[0m \u001b[0mcolumnsToDelete\u001b[0m\u001b[0;34m,\u001b[0m \u001b[0maxis\u001b[0m \u001b[0;34m=\u001b[0m \u001b[0;36m1\u001b[0m\u001b[0;34m,\u001b[0m \u001b[0minplace\u001b[0m \u001b[0;34m=\u001b[0m \u001b[0;32mTrue\u001b[0m\u001b[0;34m)\u001b[0m\u001b[0;34m\u001b[0m\u001b[0;34m\u001b[0m\u001b[0m\n\u001b[0m\u001b[1;32m     10\u001b[0m     \u001b[0mtest\u001b[0m\u001b[0;34m.\u001b[0m\u001b[0mdrop\u001b[0m\u001b[0;34m(\u001b[0m\u001b[0mlabels\u001b[0m \u001b[0;34m=\u001b[0m \u001b[0mcolumnsToDelete\u001b[0m\u001b[0;34m,\u001b[0m \u001b[0maxis\u001b[0m \u001b[0;34m=\u001b[0m \u001b[0;36m1\u001b[0m\u001b[0;34m,\u001b[0m \u001b[0minplace\u001b[0m \u001b[0;34m=\u001b[0m \u001b[0;32mTrue\u001b[0m\u001b[0;34m)\u001b[0m\u001b[0;34m\u001b[0m\u001b[0;34m\u001b[0m\u001b[0m\n\u001b[1;32m     11\u001b[0m \u001b[0;34m\u001b[0m\u001b[0m\n",
      "\u001b[0;32m~/anaconda3/lib/python3.7/site-packages/pandas/core/frame.py\u001b[0m in \u001b[0;36mdrop\u001b[0;34m(self, labels, axis, index, columns, level, inplace, errors)\u001b[0m\n\u001b[1;32m   4100\u001b[0m             \u001b[0mlevel\u001b[0m\u001b[0;34m=\u001b[0m\u001b[0mlevel\u001b[0m\u001b[0;34m,\u001b[0m\u001b[0;34m\u001b[0m\u001b[0;34m\u001b[0m\u001b[0m\n\u001b[1;32m   4101\u001b[0m             \u001b[0minplace\u001b[0m\u001b[0;34m=\u001b[0m\u001b[0minplace\u001b[0m\u001b[0;34m,\u001b[0m\u001b[0;34m\u001b[0m\u001b[0;34m\u001b[0m\u001b[0m\n\u001b[0;32m-> 4102\u001b[0;31m             \u001b[0merrors\u001b[0m\u001b[0;34m=\u001b[0m\u001b[0merrors\u001b[0m\u001b[0;34m,\u001b[0m\u001b[0;34m\u001b[0m\u001b[0;34m\u001b[0m\u001b[0m\n\u001b[0m\u001b[1;32m   4103\u001b[0m         )\n\u001b[1;32m   4104\u001b[0m \u001b[0;34m\u001b[0m\u001b[0m\n",
      "\u001b[0;32m~/anaconda3/lib/python3.7/site-packages/pandas/core/generic.py\u001b[0m in \u001b[0;36mdrop\u001b[0;34m(self, labels, axis, index, columns, level, inplace, errors)\u001b[0m\n\u001b[1;32m   3912\u001b[0m         \u001b[0;32mfor\u001b[0m \u001b[0maxis\u001b[0m\u001b[0;34m,\u001b[0m \u001b[0mlabels\u001b[0m \u001b[0;32min\u001b[0m \u001b[0maxes\u001b[0m\u001b[0;34m.\u001b[0m\u001b[0mitems\u001b[0m\u001b[0;34m(\u001b[0m\u001b[0;34m)\u001b[0m\u001b[0;34m:\u001b[0m\u001b[0;34m\u001b[0m\u001b[0;34m\u001b[0m\u001b[0m\n\u001b[1;32m   3913\u001b[0m             \u001b[0;32mif\u001b[0m \u001b[0mlabels\u001b[0m \u001b[0;32mis\u001b[0m \u001b[0;32mnot\u001b[0m \u001b[0;32mNone\u001b[0m\u001b[0;34m:\u001b[0m\u001b[0;34m\u001b[0m\u001b[0;34m\u001b[0m\u001b[0m\n\u001b[0;32m-> 3914\u001b[0;31m                 \u001b[0mobj\u001b[0m \u001b[0;34m=\u001b[0m \u001b[0mobj\u001b[0m\u001b[0;34m.\u001b[0m\u001b[0m_drop_axis\u001b[0m\u001b[0;34m(\u001b[0m\u001b[0mlabels\u001b[0m\u001b[0;34m,\u001b[0m \u001b[0maxis\u001b[0m\u001b[0;34m,\u001b[0m \u001b[0mlevel\u001b[0m\u001b[0;34m=\u001b[0m\u001b[0mlevel\u001b[0m\u001b[0;34m,\u001b[0m \u001b[0merrors\u001b[0m\u001b[0;34m=\u001b[0m\u001b[0merrors\u001b[0m\u001b[0;34m)\u001b[0m\u001b[0;34m\u001b[0m\u001b[0;34m\u001b[0m\u001b[0m\n\u001b[0m\u001b[1;32m   3915\u001b[0m \u001b[0;34m\u001b[0m\u001b[0m\n\u001b[1;32m   3916\u001b[0m         \u001b[0;32mif\u001b[0m \u001b[0minplace\u001b[0m\u001b[0;34m:\u001b[0m\u001b[0;34m\u001b[0m\u001b[0;34m\u001b[0m\u001b[0m\n",
      "\u001b[0;32m~/anaconda3/lib/python3.7/site-packages/pandas/core/generic.py\u001b[0m in \u001b[0;36m_drop_axis\u001b[0;34m(self, labels, axis, level, errors)\u001b[0m\n\u001b[1;32m   3944\u001b[0m                 \u001b[0mnew_axis\u001b[0m \u001b[0;34m=\u001b[0m \u001b[0maxis\u001b[0m\u001b[0;34m.\u001b[0m\u001b[0mdrop\u001b[0m\u001b[0;34m(\u001b[0m\u001b[0mlabels\u001b[0m\u001b[0;34m,\u001b[0m \u001b[0mlevel\u001b[0m\u001b[0;34m=\u001b[0m\u001b[0mlevel\u001b[0m\u001b[0;34m,\u001b[0m \u001b[0merrors\u001b[0m\u001b[0;34m=\u001b[0m\u001b[0merrors\u001b[0m\u001b[0;34m)\u001b[0m\u001b[0;34m\u001b[0m\u001b[0;34m\u001b[0m\u001b[0m\n\u001b[1;32m   3945\u001b[0m             \u001b[0;32melse\u001b[0m\u001b[0;34m:\u001b[0m\u001b[0;34m\u001b[0m\u001b[0;34m\u001b[0m\u001b[0m\n\u001b[0;32m-> 3946\u001b[0;31m                 \u001b[0mnew_axis\u001b[0m \u001b[0;34m=\u001b[0m \u001b[0maxis\u001b[0m\u001b[0;34m.\u001b[0m\u001b[0mdrop\u001b[0m\u001b[0;34m(\u001b[0m\u001b[0mlabels\u001b[0m\u001b[0;34m,\u001b[0m \u001b[0merrors\u001b[0m\u001b[0;34m=\u001b[0m\u001b[0merrors\u001b[0m\u001b[0;34m)\u001b[0m\u001b[0;34m\u001b[0m\u001b[0;34m\u001b[0m\u001b[0m\n\u001b[0m\u001b[1;32m   3947\u001b[0m             \u001b[0mresult\u001b[0m \u001b[0;34m=\u001b[0m \u001b[0mself\u001b[0m\u001b[0;34m.\u001b[0m\u001b[0mreindex\u001b[0m\u001b[0;34m(\u001b[0m\u001b[0;34m**\u001b[0m\u001b[0;34m{\u001b[0m\u001b[0maxis_name\u001b[0m\u001b[0;34m:\u001b[0m \u001b[0mnew_axis\u001b[0m\u001b[0;34m}\u001b[0m\u001b[0;34m)\u001b[0m\u001b[0;34m\u001b[0m\u001b[0;34m\u001b[0m\u001b[0m\n\u001b[1;32m   3948\u001b[0m \u001b[0;34m\u001b[0m\u001b[0m\n",
      "\u001b[0;32m~/anaconda3/lib/python3.7/site-packages/pandas/core/indexes/base.py\u001b[0m in \u001b[0;36mdrop\u001b[0;34m(self, labels, errors)\u001b[0m\n\u001b[1;32m   5338\u001b[0m         \u001b[0;32mif\u001b[0m \u001b[0mmask\u001b[0m\u001b[0;34m.\u001b[0m\u001b[0many\u001b[0m\u001b[0;34m(\u001b[0m\u001b[0;34m)\u001b[0m\u001b[0;34m:\u001b[0m\u001b[0;34m\u001b[0m\u001b[0;34m\u001b[0m\u001b[0m\n\u001b[1;32m   5339\u001b[0m             \u001b[0;32mif\u001b[0m \u001b[0merrors\u001b[0m \u001b[0;34m!=\u001b[0m \u001b[0;34m\"ignore\"\u001b[0m\u001b[0;34m:\u001b[0m\u001b[0;34m\u001b[0m\u001b[0;34m\u001b[0m\u001b[0m\n\u001b[0;32m-> 5340\u001b[0;31m                 \u001b[0;32mraise\u001b[0m \u001b[0mKeyError\u001b[0m\u001b[0;34m(\u001b[0m\u001b[0;34m\"{} not found in axis\"\u001b[0m\u001b[0;34m.\u001b[0m\u001b[0mformat\u001b[0m\u001b[0;34m(\u001b[0m\u001b[0mlabels\u001b[0m\u001b[0;34m[\u001b[0m\u001b[0mmask\u001b[0m\u001b[0;34m]\u001b[0m\u001b[0;34m)\u001b[0m\u001b[0;34m)\u001b[0m\u001b[0;34m\u001b[0m\u001b[0;34m\u001b[0m\u001b[0m\n\u001b[0m\u001b[1;32m   5341\u001b[0m             \u001b[0mindexer\u001b[0m \u001b[0;34m=\u001b[0m \u001b[0mindexer\u001b[0m\u001b[0;34m[\u001b[0m\u001b[0;34m~\u001b[0m\u001b[0mmask\u001b[0m\u001b[0;34m]\u001b[0m\u001b[0;34m\u001b[0m\u001b[0;34m\u001b[0m\u001b[0m\n\u001b[1;32m   5342\u001b[0m         \u001b[0;32mreturn\u001b[0m \u001b[0mself\u001b[0m\u001b[0;34m.\u001b[0m\u001b[0mdelete\u001b[0m\u001b[0;34m(\u001b[0m\u001b[0mindexer\u001b[0m\u001b[0;34m)\u001b[0m\u001b[0;34m\u001b[0m\u001b[0;34m\u001b[0m\u001b[0m\n",
      "\u001b[0;31mKeyError\u001b[0m: \"['Id' 'Utilities' 'Street' 'LandSlope' 'Condition2' 'RoofMatl' 'Heating'\\n 'LowQualFinSF' 'PoolArea' '3SsnPorch'] not found in axis\""
     ]
    }
   ],
   "source": [
    "\n",
    "#Deleted columns 'cause had a lot of NA > 80%: 'Alley','Fence','MiscFeature','PoolQC'\n",
    "#Deleted columns 'cause the std = 0: 'Utilities' %rep = 1, 'Street' %rep =1,\n",
    "#'LandSlope' %rep = 0.95, Condition2 %rep = 1445/1460, RoofMatl %rep = 1434/1460, \n",
    "# Heating %rep = 1428/1460, LowQualFinSF %rep = 1436/1460, \n",
    "# PoolArea %rep = 1454/1460, 3SsnPorch %rep = 1438/1460\n",
    "\n",
    "def deleteColumns(train, test):\n",
    "    columnsToDelete = ['Id','Utilities','Street','LandSlope', 'Condition2', 'RoofMatl',  'Heating', 'LowQualFinSF', 'PoolArea', '3SsnPorch']\n",
    "    train.drop(labels = columnsToDelete, axis = 1, inplace = True)\n",
    "    test.drop(labels = columnsToDelete, axis = 1, inplace = True)\n",
    "    \n",
    "deleteColumns(train, test)"
   ]
  },
  {
   "cell_type": "code",
   "execution_count": 7,
   "metadata": {},
   "outputs": [
    {
     "name": "stdout",
     "output_type": "stream",
     "text": [
      "<class 'pandas.core.frame.DataFrame'>\n",
      "Int64Index: 2912 entries, 0 to 1451\n",
      "Data columns (total 204 columns):\n",
      "LotFrontage              float64\n",
      "LotArea                  int64\n",
      "OverallQual              int64\n",
      "OverallCond              int64\n",
      "YearBuilt                int64\n",
      "YearRemodAdd             int64\n",
      "MasVnrArea               float64\n",
      "ExterQual                int64\n",
      "ExterCond                int64\n",
      "BsmtQual                 int64\n",
      "BsmtCond                 int64\n",
      "BsmtExposure             int64\n",
      "BsmtFinSF1               float64\n",
      "BsmtFinSF2               float64\n",
      "BsmtUnfSF                float64\n",
      "TotalBsmtSF              float64\n",
      "HeatingQC                int64\n",
      "1stFlrSF                 int64\n",
      "2ndFlrSF                 int64\n",
      "GrLivArea                int64\n",
      "BsmtFullBath             float64\n",
      "BsmtHalfBath             float64\n",
      "FullBath                 int64\n",
      "HalfBath                 int64\n",
      "BedroomAbvGr             int64\n",
      "KitchenAbvGr             int64\n",
      "KitchenQual              int64\n",
      "TotRmsAbvGrd             int64\n",
      "Fireplaces               int64\n",
      "FireplaceQu              int64\n",
      "GarageYrBlt              float64\n",
      "GarageCars               float64\n",
      "GarageArea               float64\n",
      "GarageQual               int64\n",
      "GarageCond               int64\n",
      "WoodDeckSF               int64\n",
      "OpenPorchSF              int64\n",
      "EnclosedPorch            int64\n",
      "ScreenPorch              int64\n",
      "MiscVal                  int64\n",
      "MoSold                   int64\n",
      "YrSold                   int64\n",
      "MSSubClass_30            uint8\n",
      "MSSubClass_40            uint8\n",
      "MSSubClass_45            uint8\n",
      "MSSubClass_50            uint8\n",
      "MSSubClass_60            uint8\n",
      "MSSubClass_70            uint8\n",
      "MSSubClass_75            uint8\n",
      "MSSubClass_80            uint8\n",
      "MSSubClass_85            uint8\n",
      "MSSubClass_90            uint8\n",
      "MSSubClass_120           uint8\n",
      "MSSubClass_150           uint8\n",
      "MSSubClass_160           uint8\n",
      "MSSubClass_180           uint8\n",
      "MSSubClass_190           uint8\n",
      "MSZoning_FV              uint8\n",
      "MSZoning_RH              uint8\n",
      "MSZoning_RL              uint8\n",
      "MSZoning_RM              uint8\n",
      "LotShape_IR2             uint8\n",
      "LotShape_IR3             uint8\n",
      "LotShape_Reg             uint8\n",
      "LandContour_HLS          uint8\n",
      "LandContour_Low          uint8\n",
      "LandContour_Lvl          uint8\n",
      "LotConfig_CulDSac        uint8\n",
      "LotConfig_FR2            uint8\n",
      "LotConfig_FR3            uint8\n",
      "LotConfig_Inside         uint8\n",
      "Neighborhood_Blueste     uint8\n",
      "Neighborhood_BrDale      uint8\n",
      "Neighborhood_BrkSide     uint8\n",
      "Neighborhood_ClearCr     uint8\n",
      "Neighborhood_CollgCr     uint8\n",
      "Neighborhood_Crawfor     uint8\n",
      "Neighborhood_Edwards     uint8\n",
      "Neighborhood_Gilbert     uint8\n",
      "Neighborhood_IDOTRR      uint8\n",
      "Neighborhood_MeadowV     uint8\n",
      "Neighborhood_Mitchel     uint8\n",
      "Neighborhood_NAmes       uint8\n",
      "Neighborhood_NPkVill     uint8\n",
      "Neighborhood_NWAmes      uint8\n",
      "Neighborhood_NoRidge     uint8\n",
      "Neighborhood_NridgHt     uint8\n",
      "Neighborhood_OldTown     uint8\n",
      "Neighborhood_SWISU       uint8\n",
      "Neighborhood_Sawyer      uint8\n",
      "Neighborhood_SawyerW     uint8\n",
      "Neighborhood_Somerst     uint8\n",
      "Neighborhood_StoneBr     uint8\n",
      "Neighborhood_Timber      uint8\n",
      "Neighborhood_Veenker     uint8\n",
      "Condition1_Feedr         uint8\n",
      "Condition1_Norm          uint8\n",
      "Condition1_PosA          uint8\n",
      "Condition1_PosN          uint8\n",
      "Condition1_RRAe          uint8\n",
      "Condition1_RRAn          uint8\n",
      "Condition1_RRNe          uint8\n",
      "Condition1_RRNn          uint8\n",
      "BldgType_2fmCon          uint8\n",
      "BldgType_Duplex          uint8\n",
      "BldgType_Twnhs           uint8\n",
      "BldgType_TwnhsE          uint8\n",
      "HouseStyle_1.5Unf        uint8\n",
      "HouseStyle_1Story        uint8\n",
      "HouseStyle_2.5Fin        uint8\n",
      "HouseStyle_2.5Unf        uint8\n",
      "HouseStyle_2Story        uint8\n",
      "HouseStyle_SFoyer        uint8\n",
      "HouseStyle_SLvl          uint8\n",
      "RoofStyle_Gable          uint8\n",
      "RoofStyle_Gambrel        uint8\n",
      "RoofStyle_Hip            uint8\n",
      "RoofStyle_Mansard        uint8\n",
      "RoofStyle_Shed           uint8\n",
      "Exterior1st_AsphShn      uint8\n",
      "Exterior1st_BrkComm      uint8\n",
      "Exterior1st_BrkFace      uint8\n",
      "Exterior1st_CBlock       uint8\n",
      "Exterior1st_CemntBd      uint8\n",
      "Exterior1st_HdBoard      uint8\n",
      "Exterior1st_ImStucc      uint8\n",
      "Exterior1st_MetalSd      uint8\n",
      "Exterior1st_Plywood      uint8\n",
      "Exterior1st_Stone        uint8\n",
      "Exterior1st_Stucco       uint8\n",
      "Exterior1st_VinylSd      uint8\n",
      "Exterior1st_Wd Sdng      uint8\n",
      "Exterior1st_WdShing      uint8\n",
      "Exterior2nd_AsphShn      uint8\n",
      "Exterior2nd_Brk Cmn      uint8\n",
      "Exterior2nd_BrkFace      uint8\n",
      "Exterior2nd_CBlock       uint8\n",
      "Exterior2nd_CmentBd      uint8\n",
      "Exterior2nd_HdBoard      uint8\n",
      "Exterior2nd_ImStucc      uint8\n",
      "Exterior2nd_MetalSd      uint8\n",
      "Exterior2nd_Other        uint8\n",
      "Exterior2nd_Plywood      uint8\n",
      "Exterior2nd_Stone        uint8\n",
      "Exterior2nd_Stucco       uint8\n",
      "Exterior2nd_VinylSd      uint8\n",
      "Exterior2nd_Wd Sdng      uint8\n",
      "Exterior2nd_Wd Shng      uint8\n",
      "MasVnrType_BrkFace       uint8\n",
      "MasVnrType_None          uint8\n",
      "MasVnrType_Stone         uint8\n",
      "Foundation_CBlock        uint8\n",
      "Foundation_PConc         uint8\n",
      "Foundation_Slab          uint8\n",
      "Foundation_Stone         uint8\n",
      "Foundation_Wood          uint8\n",
      "BsmtFinType1_BLQ         uint8\n",
      "BsmtFinType1_GLQ         uint8\n",
      "BsmtFinType1_LwQ         uint8\n",
      "BsmtFinType1_NA          uint8\n",
      "BsmtFinType1_Rec         uint8\n",
      "BsmtFinType1_Unf         uint8\n",
      "BsmtFinType2_BLQ         uint8\n",
      "BsmtFinType2_GLQ         uint8\n",
      "BsmtFinType2_LwQ         uint8\n",
      "BsmtFinType2_NA          uint8\n",
      "BsmtFinType2_Rec         uint8\n",
      "BsmtFinType2_Unf         uint8\n",
      "CentralAir_Y             uint8\n",
      "Electrical_FuseF         uint8\n",
      "Electrical_FuseP         uint8\n",
      "Electrical_Mix           uint8\n",
      "Electrical_SBrkr         uint8\n",
      "Functional_Maj2          uint8\n",
      "Functional_Min1          uint8\n",
      "Functional_Min2          uint8\n",
      "Functional_Mod           uint8\n",
      "Functional_Sev           uint8\n",
      "Functional_Typ           uint8\n",
      "GarageType_Attchd        uint8\n",
      "GarageType_Basment       uint8\n",
      "GarageType_BuiltIn       uint8\n",
      "GarageType_CarPort       uint8\n",
      "GarageType_Detchd        uint8\n",
      "GarageType_NA            uint8\n",
      "GarageFinish_NA          uint8\n",
      "GarageFinish_RFn         uint8\n",
      "GarageFinish_Unf         uint8\n",
      "PavedDrive_P             uint8\n",
      "PavedDrive_Y             uint8\n",
      "SaleType_CWD             uint8\n",
      "SaleType_Con             uint8\n",
      "SaleType_ConLD           uint8\n",
      "SaleType_ConLI           uint8\n",
      "SaleType_ConLw           uint8\n",
      "SaleType_New             uint8\n",
      "SaleType_Oth             uint8\n",
      "SaleType_WD              uint8\n",
      "SaleCondition_AdjLand    uint8\n",
      "SaleCondition_Alloca     uint8\n",
      "SaleCondition_Family     uint8\n",
      "SaleCondition_Normal     uint8\n",
      "SaleCondition_Partial    uint8\n",
      "Set                      category\n",
      "dtypes: category(1), float64(11), int64(31), uint8(161)\n",
      "memory usage: 1.4 MB\n"
     ]
    }
   ],
   "source": [
    "\n",
    "def mergeTrainAndTest(train, test):\n",
    "    trainToMerge = train.copy()\n",
    "    Ytrain = trainToMerge['SalePrice'] \n",
    "    trainToMerge.drop(labels = 'SalePrice', axis = 1, inplace = True)\n",
    "    trainToMerge['Set'] = 'train'\n",
    "    testToMerge = test.copy()\n",
    "    testToMerge['Set'] = 'test'\n",
    "    db = trainToMerge.copy()\n",
    "    db = db.append(testToMerge)\n",
    "    return db, Ytrain\n",
    "\n",
    "def convertToCategories(db):\n",
    "    db[\"MSSubClass\"] = db['MSSubClass'].astype('category')\n",
    "    db[\"ExterQual\"] = db[\"ExterQual\"].map({'Ex': 5, 'Gd': 4, 'TA': 3, 'Fa': 2, 'Po': 1})\n",
    "    db[\"ExterCond\"] = db[\"ExterCond\"].map({'Ex': 5, 'Gd': 4, 'TA': 3, 'Fa': 2, 'Po': 1})\n",
    "    db[\"BsmtQual\"] = db[\"BsmtQual\"].map({'Ex': 5, 'Gd': 4, 'TA': 3, 'Fa': 2, 'Po': 1, 'NA': 0})\n",
    "    db[\"BsmtCond\"] = db[\"BsmtCond\"].map({'Ex': 5, 'Gd': 4, 'TA': 3, 'Fa': 2, 'Po': 1, 'NA': 0})\n",
    "    db[\"BsmtExposure\"] = db[\"BsmtExposure\"].map({'Gd': 4, 'Av': 3, 'Mn': 2, 'No': 1, 'NA': 0})\n",
    "    db[\"HeatingQC\"] = db[\"HeatingQC\"].map({'Ex': 5, 'Gd': 4, 'TA': 3, 'Fa': 2, 'Po': 1})\n",
    "    db[\"KitchenQual\"] = db[\"KitchenQual\"].map({'Ex': 5, 'Gd': 4, 'TA': 3, 'Fa': 2, 'Po': 1})\n",
    "    db[\"FireplaceQu\"] = db[\"FireplaceQu\"].map({'Ex': 5, 'Gd': 4, 'TA': 3, 'Fa': 2, 'Po': 1, 'NA': 0})\n",
    "    db[\"GarageQual\"] = db[\"GarageQual\"].map({'Ex': 5, 'Gd': 4, 'TA': 3, 'Fa': 2, 'Po': 1, 'NA': 0})\n",
    "    db[\"GarageCond\"] = db[\"GarageCond\"].map({'Ex': 5, 'Gd': 4, 'TA': 3, 'Fa': 2, 'Po': 1, 'NA': 0})\n",
    "    for i in db.select_dtypes(include='object').columns.to_list():\n",
    "        db[i] = db[i].astype('category')\n",
    "        \n",
    "def oneHotEncoding(db):\n",
    "    typeOfSet = db['Set']\n",
    "    db.drop(labels = 'Set', axis = 1, inplace = True)\n",
    "    featuresToEncode = db.select_dtypes(include='category').head().columns.values.tolist()\n",
    "    resultantDB = pd.get_dummies(db, columns = featuresToEncode, drop_first= True)\n",
    "    resultantDB = pd.concat([resultantDB, typeOfSet], axis=1)\n",
    "    return resultantDB\n",
    "\n",
    "db, Ytrain = mergeTrainAndTest(train, test)\n",
    "convertToCategories(db)\n",
    "\n",
    "db = oneHotEncoding(db)\n",
    "\n",
    "db.info(verbose=True)"
   ]
  },
  {
   "cell_type": "code",
   "execution_count": 9,
   "metadata": {},
   "outputs": [
    {
     "name": "stderr",
     "output_type": "stream",
     "text": [
      "/home/sady/anaconda3/lib/python3.7/site-packages/pandas/core/frame.py:4102: SettingWithCopyWarning: \n",
      "A value is trying to be set on a copy of a slice from a DataFrame\n",
      "\n",
      "See the caveats in the documentation: http://pandas.pydata.org/pandas-docs/stable/user_guide/indexing.html#returning-a-view-versus-a-copy\n",
      "  errors=errors,\n",
      "/home/sady/anaconda3/lib/python3.7/site-packages/pandas/core/frame.py:4102: SettingWithCopyWarning: \n",
      "A value is trying to be set on a copy of a slice from a DataFrame\n",
      "\n",
      "See the caveats in the documentation: http://pandas.pydata.org/pandas-docs/stable/user_guide/indexing.html#returning-a-view-versus-a-copy\n",
      "  errors=errors,\n"
     ]
    }
   ],
   "source": [
    "def separateTestAndTrain(db):\n",
    "    \n",
    "    Xtrain = db.loc[db['Set'] == 'train']\n",
    "    Xtrain.drop(labels = 'Set', axis = 1, inplace = True)\n",
    "    Xtest = db.loc[db['Set'] == 'test']\n",
    "    Xtest.drop(labels = 'Set', axis = 1, inplace = True)\n",
    "    return Xtrain, Xtest\n",
    "\n",
    "Xtrain, Xtest = separateTestAndTrain(db)"
   ]
  },
  {
   "cell_type": "markdown",
   "metadata": {},
   "source": [
    "# PCA\n"
   ]
  },
  {
   "cell_type": "code",
   "execution_count": 161,
   "metadata": {},
   "outputs": [],
   "source": [
    "def get_params(model, params, X_val, y_val):\n",
    "    estimator = GridSearchCV(estimator = regr_freq, param_grid = regression_grid, cv = 3)\n",
    "    estimator.fit(X_val, y_val)\n",
    "    return estimator.best_params_\n",
    "    "
   ]
  },
  {
   "cell_type": "markdown",
   "metadata": {},
   "source": [
    "# Regresión lineal\n"
   ]
  },
  {
   "cell_type": "code",
   "execution_count": 90,
   "metadata": {},
   "outputs": [],
   "source": [
    "from sklearn.model_selection import train_test_split\n",
    "\n",
    "#Separa conjunto de entrenamiento y validación del conjunto de test\n",
    "X_train_val, X_test, y_train_val, y_test = train_test_split(Xtrain, Ytrain, test_size=0.10, shuffle=True)\n",
    "\n",
    "#Separar entrenamiento del conjunto de validación\n",
    "X_train, X_val, y_train, y_val = train_test_split(X_train_val, y_train_val, test_size=0.20, shuffle=True)"
   ]
  },
  {
   "cell_type": "code",
   "execution_count": 49,
   "metadata": {},
   "outputs": [
    {
     "name": "stderr",
     "output_type": "stream",
     "text": [
      "/home/sady/anaconda3/lib/python3.7/site-packages/sklearn/model_selection/_search.py:814: DeprecationWarning: The default of the `iid` parameter will change from True to False in version 0.22 and will be removed in 0.24. This will change numeric results when test-set sizes are unequal.\n",
      "  DeprecationWarning)\n"
     ]
    },
    {
     "data": {
      "text/plain": [
       "{'copy_X': False, 'fit_intercept': True, 'n_jobs': None, 'normalize': False}"
      ]
     },
     "execution_count": 49,
     "metadata": {},
     "output_type": "execute_result"
    }
   ],
   "source": [
    "#Mejores hiperparametros obtenidos con conjunto de validación\n",
    "from sklearn.linear_model import LinearRegression\n",
    "from sklearn.model_selection import GridSearchCV\n",
    "from numpy import random\n",
    "import math\n",
    "\n",
    "\n",
    "fit_intercept=[False,True]\n",
    "normalize=[False,True]\n",
    "copy_X=[False,True]\n",
    "n_jobs=[None,1,2,3,4,5,6,7,8,9,10,11,12,13,14,15,16,17,18,19,20]\n",
    "#scoring = [\"neg_mean_absolute_error\", \"r2\"]\n",
    "\n",
    "regression_grid = {'fit_intercept':fit_intercept, 'normalize':normalize, 'copy_X':copy_X, 'n_jobs':n_jobs}\n",
    "\n",
    "regr_freq = LinearRegression()\n",
    "reg_estimator = GridSearchCV(estimator = regr_freq, param_grid = regression_grid, cv = 3)\n",
    "reg_estimator.fit(X_val, y_val)\n",
    "\n",
    "reg_estimator.best_params_"
   ]
  },
  {
   "cell_type": "code",
   "execution_count": 137,
   "metadata": {},
   "outputs": [],
   "source": [
    "\n",
    "from sklearn.ensemble import RandomForestRegressor\n",
    "from sklearn.model_selection import train_test_split\n",
    "from sklearn.metrics import mean_squared_error\n",
    "from sklearn.metrics import mean_absolute_error\n",
    "from sklearn.metrics import r2_score\n",
    "from math import sqrt\n",
    "#Medidas de error\n",
    "\n",
    "def mean_absolute_percentage_error(y_true, y_pred): \n",
    "    y_true, y_pred = np.array(y_true), np.array(y_pred)\n",
    "    return np.mean(np.abs((y_true - y_pred) / y_true)) * 100\n",
    "\n",
    "def errorMeasure(y_train, y_pred):\n",
    "    \n",
    "    rmse = sqrt(mean_squared_error(y_train, y_pred))\n",
    "    mae = mean_absolute_error(y_train, y_pred)\n",
    "    mape = mean_absolute_percentage_error(y_train, y_pred)\n",
    "    r2 = r2_score(y_train, y_pred)\n",
    "    \n",
    "    return {'rmse': rmse,'mae': mae, 'mape': mape, 'r2': r2}"
   ]
  },
  {
   "cell_type": "code",
   "execution_count": 76,
   "metadata": {
    "scrolled": true
   },
   "outputs": [
    {
     "name": "stdout",
     "output_type": "stream",
     "text": [
      "performanceTrain {'rmse': 27518.30242455366, 'mae': 17813.133535132187, 'mape': 10.34361972922708, 'r2': 0.8882679950262543}\n",
      "performanceTest {'rmse': 26171.140732184904, 'mae': 19506.744503532627, 'mape': 11.622605761568671, 'r2': 0.8368799404253728}\n"
     ]
    }
   ],
   "source": [
    "from sklearn.linear_model import LinearRegression\n",
    "from sklearn.model_selection import StratifiedKFold, GridSearchCV\n",
    "from numpy import random\n",
    "import math\n",
    "\n",
    "regr_freq = LinearRegression(fit_intercept=True)\n",
    "regr_freq.fit(X_train, y_train)\n",
    "\n",
    "\n",
    "#Desempeño del modelo con datos de entrenamiento\n",
    "y_pred_train_LR = regr_freq.predict(X_train)\n",
    "\n",
    "performanceTrain = errorMeasure(y_train, y_pred_train_LR)\n",
    "print('performanceTrain', performanceTrain)\n",
    "\n",
    "#Desempeño del modelo con datos de prueba\n",
    "y_pred_test_LR = regr_freq.predict(X_test)\n",
    "\n",
    "performanceTest = errorMeasure(y_test, y_pred_test_LR)\n",
    "print('performanceTest', performanceTest)\n",
    "\n"
   ]
  },
  {
   "cell_type": "markdown",
   "metadata": {},
   "source": [
    "# Ventana de Parzen\n"
   ]
  },
  {
   "cell_type": "code",
   "execution_count": 79,
   "metadata": {},
   "outputs": [],
   "source": [
    "#Normalizar los datos\n",
    "\n",
    "from sklearn import preprocessing\n",
    "normalize = preprocessing.StandardScaler().fit(X_train)\n",
    "X_train_N = normalize.transform(X_train)\n",
    "X_test_N = normalize.transform(X_test)  \n",
    "\n",
    "normalize = preprocessing.StandardScaler().fit(X_val)\n",
    "X_val_N = normalize.transform(X_val)"
   ]
  },
  {
   "cell_type": "code",
   "execution_count": 84,
   "metadata": {},
   "outputs": [
    {
     "name": "stderr",
     "output_type": "stream",
     "text": [
      "/home/sady/anaconda3/lib/python3.7/site-packages/sklearn/model_selection/_split.py:1978: FutureWarning: The default value of cv will change from 3 to 5 in version 0.22. Specify it explicitly to silence this warning.\n",
      "  warnings.warn(CV_WARNING, FutureWarning)\n",
      "/home/sady/anaconda3/lib/python3.7/site-packages/sklearn/model_selection/_search.py:814: DeprecationWarning: The default of the `iid` parameter will change from True to False in version 0.22 and will be removed in 0.24. This will change numeric results when test-set sizes are unequal.\n",
      "  DeprecationWarning)\n"
     ]
    },
    {
     "data": {
      "text/plain": [
       "{'bandwidth': 0.6951927961775606, 'kernel': 'gaussian'}"
      ]
     },
     "execution_count": 84,
     "metadata": {},
     "output_type": "execute_result"
    }
   ],
   "source": [
    "from sklearn.neighbors import KernelDensity\n",
    "from sklearn.model_selection import train_test_split\n",
    "from sklearn.model_selection import StratifiedKFold, GridSearchCV\n",
    "from numpy import random\n",
    "import math\n",
    "\n",
    "bandwidth = np.logspace(-1, 1, 20)\n",
    "kernel = ['gaussian']\n",
    "\n",
    "params = {'bandwidth': bandwidth, 'kernel': kernel}\n",
    "parzen_grid = GridSearchCV(KernelDensity(), params)\n",
    "parzen_grid.fit(X_val_N, y_val)\n",
    "\n",
    "parzen_grid.best_params_"
   ]
  },
  {
   "cell_type": "code",
   "execution_count": 87,
   "metadata": {},
   "outputs": [
    {
     "name": "stdout",
     "output_type": "stream",
     "text": [
      "performanceTrain {'rmse': 73186.4056415442, 'mae': 50996.816757912886, 'mape': 31.941266227130953, 'r2': 0.20969423405832088}\n",
      "performanceTest {'rmse': 56210.4440566955, 'mae': 45490.67436931434, 'mape': 27.851245162307652, 'r2': 0.24751803047668142}\n"
     ]
    }
   ],
   "source": [
    "from kernel_regression import KernelRegression\n",
    "\n",
    "regr_parzen = KernelRegression()\n",
    "regr_parzen.fit(X_train_N, y_train)\n",
    "\n",
    "#regr_parzen = KernelDensity(algorithm='ball_tree', bandwidth=0.6951927961775606, kernel='gaussian')\n",
    "#regr_parzen.fit(X_train_N, y_train)\n",
    "\n",
    "#Desempeño del modelo con datos de entrenamiento\n",
    "y_pred_train_parzen = regr_parzen.predict(X_train_N)\n",
    "\n",
    "performanceTrain = errorMeasure(y_train, y_pred_train_parzen)\n",
    "print('performanceTrain', performanceTrain)\n",
    "\n",
    "#Desempeño del modelo con datos de prueba\n",
    "y_pred_test_parzen = regr_parzen.predict(X_test_N)\n",
    "\n",
    "performanceTest = errorMeasure(y_test, y_pred_test_parzen)\n",
    "print('performanceTest', performanceTest)"
   ]
  },
  {
   "cell_type": "markdown",
   "metadata": {},
   "source": [
    "# Regresión Lineal con PCA\n"
   ]
  },
  {
   "cell_type": "code",
   "execution_count": 162,
   "metadata": {},
   "outputs": [
    {
     "name": "stdout",
     "output_type": "stream",
     "text": [
      "performanceTrain 25 {'rmse': 2327279.570626905, 'mae': 2325803.259238475, 'mape': 1487.3252746182047, 'r2': -784.7853226658605}\n",
      "performanceTest25 {'rmse': 25946.382427004097, 'mae': 18914.327220147083, 'mape': 11.154415081851903, 'r2': 0.8694576708122725}\n",
      "performanceTrain 26 {'rmse': 35882.03091236191, 'mae': 21399.074393061743, 'mape': 12.66494874245821, 'r2': 0.800086001145954}\n",
      "performanceTest26 {'rmse': 35348.53301606005, 'mae': 24447.75300687702, 'mape': 15.305562930940098, 'r2': 0.8014474610568375}\n",
      "performanceTrain 27 {'rmse': 36507.55896082327, 'mae': 21668.633204088233, 'mape': 12.769966770259108, 'r2': 0.8017544615395966}\n",
      "performanceTest27 {'rmse': 28043.184508127124, 'mae': 20581.501733821366, 'mape': 12.159646331029002, 'r2': 0.8656309595241007}\n"
     ]
    },
    {
     "name": "stderr",
     "output_type": "stream",
     "text": [
      "/home/sady/anaconda3/lib/python3.7/site-packages/sklearn/model_selection/_search.py:814: DeprecationWarning: The default of the `iid` parameter will change from True to False in version 0.22 and will be removed in 0.24. This will change numeric results when test-set sizes are unequal.\n",
      "  DeprecationWarning)\n"
     ]
    },
    {
     "name": "stdout",
     "output_type": "stream",
     "text": [
      "performanceTrain 28 {'rmse': 31183.08641908781, 'mae': 19493.2412046882, 'mape': 11.906862660404322, 'r2': 0.8446851945504239}\n",
      "performanceTest28 {'rmse': 27177.450459994063, 'mae': 17442.7545219108, 'mape': 11.34100761493539, 'r2': 0.8798914768680598}\n"
     ]
    },
    {
     "name": "stderr",
     "output_type": "stream",
     "text": [
      "/home/sady/anaconda3/lib/python3.7/site-packages/sklearn/model_selection/_search.py:814: DeprecationWarning: The default of the `iid` parameter will change from True to False in version 0.22 and will be removed in 0.24. This will change numeric results when test-set sizes are unequal.\n",
      "  DeprecationWarning)\n"
     ]
    },
    {
     "name": "stdout",
     "output_type": "stream",
     "text": [
      "performanceTrain 29 {'rmse': 770402.8496836859, 'mae': 766196.3141634096, 'mape': 477.00063901479217, 'r2': -90.47223769432215}\n",
      "performanceTest29 {'rmse': 22423.93117224636, 'mae': 18226.098969589006, 'mape': 11.96093728459314, 'r2': 0.8826863899666214}\n",
      "performanceTrain 30 {'rmse': 30200.704067015544, 'mae': 19422.015663568516, 'mape': 11.822160374589618, 'r2': 0.8511567273958673}\n",
      "performanceTest30 {'rmse': 68215.90634264778, 'mae': 27332.332887883593, 'mape': 15.723904903386288, 'r2': 0.5501787938399327}\n"
     ]
    },
    {
     "name": "stderr",
     "output_type": "stream",
     "text": [
      "/home/sady/anaconda3/lib/python3.7/site-packages/sklearn/model_selection/_search.py:814: DeprecationWarning: The default of the `iid` parameter will change from True to False in version 0.22 and will be removed in 0.24. This will change numeric results when test-set sizes are unequal.\n",
      "  DeprecationWarning)\n"
     ]
    },
    {
     "name": "stdout",
     "output_type": "stream",
     "text": [
      "performanceTrain 31 {'rmse': 36184.76760415947, 'mae': 21329.55246458575, 'mape': 12.881810453836112, 'r2': 0.796934056482626}\n",
      "performanceTest31 {'rmse': 30206.615848491994, 'mae': 19479.595018029075, 'mape': 11.400587085515316, 'r2': 0.8204838852670686}\n",
      "performanceTrain 32 {'rmse': 25705.592666666515, 'mae': 18394.17184863231, 'mape': 11.787157156779832, 'r2': 0.8924837131900711}\n",
      "performanceTest32 {'rmse': 34019.66020043098, 'mae': 21444.709601509847, 'mape': 11.907262089241916, 'r2': 0.834010827910486}\n",
      "performanceTrain 33 {'rmse': 34220.56102625905, 'mae': 20095.218658807455, 'mape': 12.03217614077703, 'r2': 0.8035460048216007}\n",
      "performanceTest33 {'rmse': 22322.115447660763, 'mae': 16977.216722349043, 'mape': 10.705938068893648, 'r2': 0.8980978634312721}\n",
      "performanceTrain 34 {'rmse': 33621.05932453972, 'mae': 21359.011143682383, 'mape': 12.570687049929374, 'r2': 0.820589226892952}\n",
      "performanceTest34 {'rmse': 39112.80148029435, 'mae': 22135.516886583242, 'mape': 11.626847496564872, 'r2': 0.8166445397922755}\n",
      "performanceTrain 35 {'rmse': 30188.943920000762, 'mae': 19109.366572576982, 'mape': 11.503009790529594, 'r2': 0.8526048413945302}\n",
      "performanceTest35 {'rmse': 61741.930236848115, 'mae': 21803.390019140654, 'mape': 14.339388511030492, 'r2': 0.2680201664073897}\n"
     ]
    },
    {
     "name": "stderr",
     "output_type": "stream",
     "text": [
      "/home/sady/anaconda3/lib/python3.7/site-packages/sklearn/model_selection/_search.py:814: DeprecationWarning: The default of the `iid` parameter will change from True to False in version 0.22 and will be removed in 0.24. This will change numeric results when test-set sizes are unequal.\n",
      "  DeprecationWarning)\n"
     ]
    },
    {
     "name": "stdout",
     "output_type": "stream",
     "text": [
      "performanceTrain 36 {'rmse': 1923731.8610961668, 'mae': 1922173.2501849108, 'mape': 1222.3261440510446, 'r2': -612.845212221512}\n",
      "performanceTest36 {'rmse': 45635.34120407121, 'mae': 23700.005364724886, 'mape': 13.488277198121295, 'r2': 0.7680080212208469}\n"
     ]
    },
    {
     "name": "stderr",
     "output_type": "stream",
     "text": [
      "/home/sady/anaconda3/lib/python3.7/site-packages/sklearn/model_selection/_search.py:814: DeprecationWarning: The default of the `iid` parameter will change from True to False in version 0.22 and will be removed in 0.24. This will change numeric results when test-set sizes are unequal.\n",
      "  DeprecationWarning)\n"
     ]
    },
    {
     "name": "stdout",
     "output_type": "stream",
     "text": [
      "performanceTrain 37 {'rmse': 26607.65753322739, 'mae': 18504.052138291725, 'mape': 11.372165549536131, 'r2': 0.8865300830134364}\n",
      "performanceTest37 {'rmse': 22897.85108773663, 'mae': 17388.28578769684, 'mape': 11.381557788786914, 'r2': 0.8313787079113715}\n"
     ]
    },
    {
     "name": "stderr",
     "output_type": "stream",
     "text": [
      "/home/sady/anaconda3/lib/python3.7/site-packages/sklearn/model_selection/_search.py:814: DeprecationWarning: The default of the `iid` parameter will change from True to False in version 0.22 and will be removed in 0.24. This will change numeric results when test-set sizes are unequal.\n",
      "  DeprecationWarning)\n"
     ]
    },
    {
     "name": "stdout",
     "output_type": "stream",
     "text": [
      "performanceTrain 38 {'rmse': 32965.41302245403, 'mae': 19677.76635702029, 'mape': 11.816969551383947, 'r2': 0.8347674406798493}\n",
      "performanceTest38 {'rmse': 23740.434586647654, 'mae': 19428.138452306728, 'mape': 12.8245337116339, 'r2': 0.8825956074281481}\n",
      "performanceTrain 39 {'rmse': 596369.5903857977, 'mae': 595336.7789025758, 'mape': 390.8346678812783, 'r2': -52.63192133385288}\n",
      "performanceTest39 {'rmse': 26752.472528393406, 'mae': 19661.806225997567, 'mape': 13.55071345253775, 'r2': 0.8579547833294249}\n",
      "performanceTrain 40 {'rmse': 32705.97324543472, 'mae': 19593.61167262863, 'mape': 11.88707594476169, 'r2': 0.8378165878449235}\n",
      "performanceTest40 {'rmse': 45300.0768760823, 'mae': 24868.731568257655, 'mape': 13.6049015651939, 'r2': 0.722499416720654}\n"
     ]
    },
    {
     "name": "stderr",
     "output_type": "stream",
     "text": [
      "/home/sady/anaconda3/lib/python3.7/site-packages/sklearn/model_selection/_search.py:814: DeprecationWarning: The default of the `iid` parameter will change from True to False in version 0.22 and will be removed in 0.24. This will change numeric results when test-set sizes are unequal.\n",
      "  DeprecationWarning)\n"
     ]
    },
    {
     "name": "stdout",
     "output_type": "stream",
     "text": [
      "performanceTrain 41 {'rmse': 1250824.7622318622, 'mae': 1250495.4383026492, 'mape': 813.8947524453399, 'r2': -252.57388098927862}\n",
      "performanceTest41 {'rmse': 28240.847223930163, 'mae': 18605.290892189718, 'mape': 10.688381546695776, 'r2': 0.8753109382945785}\n",
      "performanceTrain 42 {'rmse': 1598876.3612003888, 'mae': 1596905.7313457914, 'mape': 1019.0071363111356, 'r2': -402.43552088870547}\n",
      "performanceTest42 {'rmse': 33910.91001212043, 'mae': 23124.289249612575, 'mape': 13.043742074975064, 'r2': 0.8297039244132915}\n",
      "performanceTrain 43 {'rmse': 33062.50406493712, 'mae': 19729.37924831241, 'mape': 11.73252167675155, 'r2': 0.8280335626009429}\n",
      "performanceTest43 {'rmse': 35866.59102345907, 'mae': 22152.335518865988, 'mape': 13.046738315036901, 'r2': 0.8342925082610287}\n",
      "performanceTrain 44 {'rmse': 32435.389013683976, 'mae': 19798.952268679186, 'mape': 12.169370802323924, 'r2': 0.8308505288293355}\n",
      "performanceTest44 {'rmse': 39794.49879587556, 'mae': 21014.07388918057, 'mape': 13.02488472462247, 'r2': 0.6687576946456997}\n"
     ]
    },
    {
     "name": "stderr",
     "output_type": "stream",
     "text": [
      "/home/sady/anaconda3/lib/python3.7/site-packages/sklearn/model_selection/_search.py:814: DeprecationWarning: The default of the `iid` parameter will change from True to False in version 0.22 and will be removed in 0.24. This will change numeric results when test-set sizes are unequal.\n",
      "  DeprecationWarning)\n"
     ]
    },
    {
     "name": "stdout",
     "output_type": "stream",
     "text": [
      "performanceTrain 45 {'rmse': 30126.092955132823, 'mae': 18843.398314653947, 'mape': 11.396373574276565, 'r2': 0.8613104009944057}\n",
      "performanceTest45 {'rmse': 25548.442726127192, 'mae': 18315.39919984398, 'mape': 11.57285144980697, 'r2': 0.8835837689490417}\n"
     ]
    },
    {
     "name": "stderr",
     "output_type": "stream",
     "text": [
      "/home/sady/anaconda3/lib/python3.7/site-packages/sklearn/model_selection/_search.py:814: DeprecationWarning: The default of the `iid` parameter will change from True to False in version 0.22 and will be removed in 0.24. This will change numeric results when test-set sizes are unequal.\n",
      "  DeprecationWarning)\n"
     ]
    },
    {
     "name": "stdout",
     "output_type": "stream",
     "text": [
      "performanceTrain 46 {'rmse': 27516.328771956174, 'mae': 17761.02217093072, 'mape': 10.673529976035583, 'r2': 0.865236659062515}\n",
      "performanceTest46 {'rmse': 23733.255735395716, 'mae': 16909.785629478298, 'mape': 10.097581522034906, 'r2': 0.8976447456472971}\n",
      "performanceTrain 47 {'rmse': 694927.8012101185, 'mae': 690006.44411074, 'mape': 431.6390174057733, 'r2': -69.37979457467277}\n",
      "performanceTest47 {'rmse': 28642.6092623489, 'mae': 21233.597267538884, 'mape': 12.446612134384416, 'r2': 0.8352623060810955}\n",
      "performanceTrain 48 {'rmse': 462476.8370949132, 'mae': 455899.27485691383, 'mape': 315.6755973314551, 'r2': -32.0270270372536}\n",
      "performanceTest48 {'rmse': 25650.149736815376, 'mae': 18366.507645557627, 'mape': 11.043409447827008, 'r2': 0.8939866561051506}\n",
      "performanceTrain 49 {'rmse': 32293.079229597704, 'mae': 20239.393445361246, 'mape': 11.961495161663866, 'r2': 0.8206983629544057}\n",
      "performanceTest49 {'rmse': 37052.316108759915, 'mae': 22285.142049862876, 'mape': 12.465583402467564, 'r2': 0.8387452515107674}\n"
     ]
    }
   ],
   "source": [
    "i = 0\n",
    "components = list(range(25,50))\n",
    "X_pca = np.zeros(75)\n",
    "\n",
    "for i in components:\n",
    "    ext = ''\n",
    "    ext = PCA(n_components=i)\n",
    "    ext = ext.fit(Xtrain)\n",
    "    X_ext = ext.transform(Xtrain)\n",
    "    #Separa conjunto de entrenamiento y validación del conjunto de test\n",
    "    X_train_val_ex, Xtest_ex, y_train_val_ex, y_test_ex = train_test_split(X_ext, Ytrain, test_size=0.10, shuffle=True)\n",
    "    \n",
    "    #Separar entrenamiento del conjunto de validación\n",
    "    Xtrain_ex, X_val_ex, y_train_ex, y_val_ex = train_test_split(X_train_val_ex, y_train_val_ex, test_size=0.20, shuffle=True)\n",
    "    \n",
    "    fit_intercept=[False,True]\n",
    "    normalize=[False,True]\n",
    "    copy_X=[False,True]\n",
    "    n_jobs=[None,1,2,3,4,5,6,7,8,9,10,11,12,13,14,15,16,17,18,19,20]\n",
    "    \n",
    "    regression_grid = {'fit_intercept':fit_intercept, 'normalize':normalize, 'copy_X':copy_X, 'n_jobs':n_jobs}\n",
    "\n",
    "    \n",
    "    params = get_params(LinearRegression(), regression_grid, X_val_ex, y_val_ex)\n",
    "\n",
    "    regr_freq = LinearRegression(fit_intercept = params['fit_intercept'], normalize = params['normalize'],\n",
    "                                copy_X = params['copy_X'], n_jobs = params['n_jobs'])\n",
    "    regr_freq.fit(Xtrain_ex, y_train_ex)\n",
    "\n",
    "\n",
    "    #Desempeño del modelo con datos de entrenamiento\n",
    "    y_pred_train_LR = regr_freq.predict(Xtrain_ex)\n",
    "\n",
    "    performanceTrain = errorMeasure(y_train_ex, y_pred_train_LR)\n",
    "    print('performanceTrain ' + str(i), performanceTrain)\n",
    "\n",
    "    #Desempeño del modelo con datos de prueba\n",
    "    y_pred_test_LR = regr_freq.predict(Xtest_ex)\n",
    "\n",
    "    performanceTest = errorMeasure(y_test_ex, y_pred_test_LR)\n",
    "    print('performanceTest' + str(i), performanceTest)\n",
    "    i = i + 1\n"
   ]
  },
  {
   "cell_type": "code",
   "execution_count": 160,
   "metadata": {},
   "outputs": [
    {
     "name": "stdout",
     "output_type": "stream",
     "text": [
      "performanceTrain5 {'rmse': 63850.98515975949, 'mae': 45020.62884431369, 'mape': 26.594369328165392, 'r2': 0.36502256393478316}\n",
      "performanceTest5 {'rmse': 63720.550768573354, 'mae': 43138.61704439458, 'mape': 24.371687621032574, 'r2': 0.2762054852651171}\n",
      "performanceTrain6 {'rmse': 66463.02155833847, 'mae': 46611.686166966065, 'mape': 27.526131558438514, 'r2': 0.31393169076467353}\n",
      "performanceTest6 {'rmse': 57829.072254239356, 'mae': 43696.987285346426, 'mape': 29.443762176896353, 'r2': 0.2975298933521425}\n",
      "performanceTrain7 {'rmse': 63042.146917081576, 'mae': 44611.309383723, 'mape': 27.605548760917014, 'r2': 0.2778983272162727}\n",
      "performanceTest7 {'rmse': 67913.64504737889, 'mae': 50066.43476109931, 'mape': 30.087457414209755, 'r2': 0.20046837350005242}\n",
      "performanceTrain8 {'rmse': 65874.56738131367, 'mae': 46643.862218228285, 'mape': 28.17219474629809, 'r2': 0.2756032345591346}\n",
      "performanceTest8 {'rmse': 83443.30621114878, 'mae': 50311.494858839214, 'mape': 30.146901785382376, 'r2': 0.2363559413612002}\n",
      "performanceTrain9 {'rmse': 68517.99442333714, 'mae': 48537.939595210475, 'mape': 28.63963365508712, 'r2': 0.2880989317466752}\n",
      "performanceTest9 {'rmse': 51927.07692685082, 'mae': 39716.09096410699, 'mape': 28.1311527837912, 'r2': 0.23135642455352312}\n",
      "performanceTrain10 {'rmse': 69652.08369180726, 'mae': 48688.35309842909, 'mape': 28.57854335046786, 'r2': 0.26189032526313194}\n",
      "performanceTest10 {'rmse': 58521.46913605167, 'mae': 44834.166137649474, 'mape': 30.709456016734904, 'r2': 0.20761538970981874}\n",
      "performanceTrain11 {'rmse': 71490.9015910303, 'mae': 49061.80730232387, 'mape': 28.993338047091854, 'r2': 0.23792388406155374}\n",
      "performanceTest11 {'rmse': 65982.1051609048, 'mae': 49989.31318179986, 'mape': 29.841490539088188, 'r2': 0.1806134638688518}\n",
      "performanceTrain12 {'rmse': 68957.1453639541, 'mae': 49412.97436452013, 'mape': 29.613920721963215, 'r2': 0.21960086013637992}\n",
      "performanceTest12 {'rmse': 81537.91069684201, 'mae': 54336.70929856622, 'mape': 32.00850174343628, 'r2': 0.13015394173727113}\n",
      "performanceTrain13 {'rmse': 70688.53783740623, 'mae': 49106.36236980671, 'mape': 28.905029502691427, 'r2': 0.20839122802211119}\n",
      "performanceTest13 {'rmse': 72353.03196592763, 'mae': 53026.39432380574, 'mape': 29.956354421785946, 'r2': 0.13894848128710224}\n",
      "performanceTrain14 {'rmse': 70188.68472770903, 'mae': 48165.65038444969, 'mape': 29.2113082218567, 'r2': 0.21157851871693678}\n",
      "performanceTest14 {'rmse': 70575.23623159748, 'mae': 51723.32696612007, 'mape': 29.563842603297935, 'r2': 0.1496548660988144}\n",
      "performanceTrain15 {'rmse': 66150.98469264967, 'mae': 47267.745089001095, 'mape': 29.80180118558375, 'r2': 0.2061832795438906}\n",
      "performanceTest15 {'rmse': 87692.94066818306, 'mae': 53680.46915547811, 'mape': 28.33897598150305, 'r2': 0.13448501359737308}\n",
      "performanceTrain16 {'rmse': 70487.81723783797, 'mae': 48713.40705693353, 'mape': 29.696068634708077, 'r2': 0.19008103731524073}\n",
      "performanceTest16 {'rmse': 69327.99205856601, 'mae': 47886.82985031403, 'mape': 28.21612991524584, 'r2': 0.15800854145679954}\n",
      "performanceTrain17 {'rmse': 71460.53682855473, 'mae': 49666.04184146498, 'mape': 30.237182853337334, 'r2': 0.18780750188419704}\n",
      "performanceTest17 {'rmse': 83676.78061768916, 'mae': 56829.35839787977, 'mape': 32.263236092754596, 'r2': 0.11324098497409585}\n",
      "performanceTrain18 {'rmse': 69049.0241736222, 'mae': 48549.700125634496, 'mape': 30.762626590469672, 'r2': 0.17916491332997697}\n",
      "performanceTest18 {'rmse': 71379.29501493543, 'mae': 52601.50181056279, 'mape': 31.510251635505455, 'r2': 0.08132646033344038}\n",
      "performanceTrain19 {'rmse': 72900.6494205041, 'mae': 51843.086997538085, 'mape': 31.81258620631774, 'r2': 0.18596109174146713}\n",
      "performanceTest19 {'rmse': 69580.4136506541, 'mae': 46039.513813637495, 'mape': 31.0528303072375, 'r2': 0.13173536102929195}\n",
      "performanceTrain20 {'rmse': 70471.874027053, 'mae': 50623.35209180441, 'mape': 31.3474194844073, 'r2': 0.17888580535459386}\n",
      "performanceTest20 {'rmse': 70068.40705755875, 'mae': 52712.40425618109, 'mape': 32.93323393230466, 'r2': 0.15219298411087334}\n",
      "performanceTrain21 {'rmse': 73879.81017797634, 'mae': 52073.167371878015, 'mape': 31.984342667398614, 'r2': 0.16833269601612577}\n",
      "performanceTest21 {'rmse': 63339.963403903945, 'mae': 51927.87757764285, 'mape': 33.855287548587654, 'r2': 0.15964567620036074}\n",
      "performanceTrain22 {'rmse': 71326.74148115232, 'mae': 50711.226722450454, 'mape': 31.72659153853662, 'r2': 0.1678608953668519}\n",
      "performanceTest22 {'rmse': 78239.78040511945, 'mae': 49102.23479103036, 'mape': 27.54425147075273, 'r2': 0.12989813419481644}\n",
      "performanceTrain23 {'rmse': 73768.12544644834, 'mae': 51801.66930900303, 'mape': 32.29892995317722, 'r2': 0.1702394126454485}\n",
      "performanceTest23 {'rmse': 71416.23469546193, 'mae': 53299.32955661878, 'mape': 33.19317436135473, 'r2': 0.11448946642636038}\n",
      "performanceTrain24 {'rmse': 71339.00179324475, 'mae': 50820.52317937633, 'mape': 31.47851319212307, 'r2': 0.16197499238770297}\n",
      "performanceTest24 {'rmse': 63049.563370162396, 'mae': 47996.57298415359, 'mape': 33.35062825134135, 'r2': 0.10920822059726132}\n",
      "performanceTrain25 {'rmse': 70846.15448393136, 'mae': 50751.98764514109, 'mape': 31.674972087263864, 'r2': 0.16039210883810473}\n",
      "performanceTest25 {'rmse': 73773.3669757696, 'mae': 51919.86388673489, 'mape': 29.615058505731064, 'r2': 0.11380399280291786}\n",
      "performanceTrain26 {'rmse': 75992.1382398946, 'mae': 53450.65364188421, 'mape': 32.999436857694505, 'r2': 0.15818515993679017}\n",
      "performanceTest26 {'rmse': 64714.470304913164, 'mae': 50471.58648996952, 'mape': 32.58931697950814, 'r2': 0.14353222900528095}\n",
      "performanceTrain27 {'rmse': 75637.72652295418, 'mae': 53191.8983584722, 'mape': 33.03641309103186, 'r2': 0.14886348613834033}\n",
      "performanceTest27 {'rmse': 64400.006771904424, 'mae': 50494.05474275547, 'mape': 33.717180671023186, 'r2': 0.13370057830629112}\n",
      "performanceTrain28 {'rmse': 73474.3471115817, 'mae': 52397.748493973384, 'mape': 32.81581932575111, 'r2': 0.15221298119044535}\n",
      "performanceTest28 {'rmse': 62010.66022009269, 'mae': 49046.068727155434, 'mape': 34.80838886294813, 'r2': 0.10481347494730975}\n",
      "performanceTrain29 {'rmse': 70813.22394554333, 'mae': 51061.94755492265, 'mape': 32.59994176907219, 'r2': 0.14639419279902255}\n",
      "performanceTest29 {'rmse': 87483.93552948287, 'mae': 57762.98456795527, 'mape': 29.68161234043253, 'r2': 0.07005268500664485}\n",
      "performanceTrain30 {'rmse': 74868.82598614403, 'mae': 53142.308710893856, 'mape': 32.8914718335423, 'r2': 0.1436357842682211}\n",
      "performanceTest30 {'rmse': 72968.066493971, 'mae': 53457.12679284219, 'mape': 34.63775373929984, 'r2': 0.11073720874987958}\n",
      "performanceTrain31 {'rmse': 72040.96583092165, 'mae': 51599.292013640064, 'mape': 32.50956574469742, 'r2': 0.12828524829231858}\n",
      "performanceTest31 {'rmse': 83255.28830991307, 'mae': 54332.39829697225, 'mape': 32.73347647759877, 'r2': 0.09402336623652607}\n",
      "performanceTrain32 {'rmse': 75261.49548931356, 'mae': 53325.67015895174, 'mape': 32.839648484446634, 'r2': 0.1244453233192161}\n",
      "performanceTest32 {'rmse': 75868.37537668842, 'mae': 56907.62228149375, 'mape': 38.23913744792523, 'r2': 0.10728639909324289}\n",
      "performanceTrain33 {'rmse': 72855.6130979858, 'mae': 52364.006655065845, 'mape': 33.53321094072095, 'r2': 0.12393941793053043}\n",
      "performanceTest33 {'rmse': 78133.08369185252, 'mae': 55953.879594001904, 'mape': 32.87148070807675, 'r2': 0.09946027553658787}\n",
      "performanceTrain34 {'rmse': 75152.09439493656, 'mae': 52932.4577920531, 'mape': 32.983183154209335, 'r2': 0.12795302049025659}\n",
      "performanceTest34 {'rmse': 74525.15480914764, 'mae': 55801.29418791951, 'mape': 36.67948219032379, 'r2': 0.08231733989465517}\n",
      "performanceTrain35 {'rmse': 75062.52093674015, 'mae': 53633.188090731, 'mape': 33.6827249533186, 'r2': 0.12972864140552864}\n",
      "performanceTest35 {'rmse': 67229.56103983744, 'mae': 49393.29648042964, 'mape': 29.327488678748303, 'r2': 0.09909942953723172}\n",
      "performanceTrain36 {'rmse': 75600.9761110829, 'mae': 53425.56932936963, 'mape': 33.074118051737514, 'r2': 0.1183507845913111}\n",
      "performanceTest36 {'rmse': 76286.31058388502, 'mae': 52787.9172418008, 'mape': 34.79140656404036, 'r2': 0.08789731768607612}\n",
      "performanceTrain37 {'rmse': 72857.96140470593, 'mae': 51629.21071721479, 'mape': 31.771069421014914, 'r2': 0.12024587940852605}\n",
      "performanceTest37 {'rmse': 81371.63707501623, 'mae': 61360.01802758916, 'mape': 39.34802057110337, 'r2': 0.07818825115973438}\n",
      "performanceTrain38 {'rmse': 74746.23996811341, 'mae': 53437.79446706835, 'mape': 32.86431522315986, 'r2': 0.11903999813441213}\n",
      "performanceTest38 {'rmse': 66678.36518690667, 'mae': 51167.75302156446, 'mape': 33.771260748086824, 'r2': 0.08437490454177554}\n"
     ]
    },
    {
     "name": "stdout",
     "output_type": "stream",
     "text": [
      "performanceTrain39 {'rmse': 74711.96270595188, 'mae': 54053.54612024782, 'mape': 33.7790163891315, 'r2': 0.11661873353692687}\n",
      "performanceTest39 {'rmse': 90579.66717929086, 'mae': 56778.38479590494, 'mape': 35.87448052653667, 'r2': 0.07784417678458067}\n",
      "performanceTrain40 {'rmse': 78541.01098959039, 'mae': 55385.745343275084, 'mape': 34.315351298962796, 'r2': 0.11066807534293543}\n",
      "performanceTest40 {'rmse': 65192.82211768962, 'mae': 52223.15942374309, 'mape': 34.210248035539884, 'r2': 0.09662891265406015}\n",
      "performanceTrain41 {'rmse': 76360.37997498961, 'mae': 54764.26733142069, 'mape': 34.80171966157724, 'r2': 0.11145997187623469}\n",
      "performanceTest41 {'rmse': 70701.19651249755, 'mae': 50861.33518906018, 'mape': 33.465436823759795, 'r2': 0.09714377977912791}\n",
      "performanceTrain42 {'rmse': 76841.66314989307, 'mae': 54912.09274353424, 'mape': 34.42200767886503, 'r2': 0.11193274034381095}\n",
      "performanceTest42 {'rmse': 66035.57354085542, 'mae': 51753.86311711608, 'mape': 35.425625195043956, 'r2': 0.0822560199413166}\n",
      "performanceTrain43 {'rmse': 75049.74843173412, 'mae': 53363.0557872162, 'mape': 33.04078075598142, 'r2': 0.10612644199058774}\n",
      "performanceTest43 {'rmse': 75446.42425996988, 'mae': 55625.77803216248, 'mape': 34.69087615940341, 'r2': 0.07902978086320123}\n",
      "performanceTrain44 {'rmse': 74429.84354595385, 'mae': 52569.42002470791, 'mape': 33.495217227335914, 'r2': 0.09806723240544668}\n",
      "performanceTest44 {'rmse': 73484.93586399645, 'mae': 55057.33920962064, 'mape': 36.75260678866278, 'r2': 0.072611521115026}\n",
      "performanceTrain45 {'rmse': 73991.92192431667, 'mae': 53997.33247376221, 'mape': 34.62188774142255, 'r2': 0.10351608329268092}\n",
      "performanceTest45 {'rmse': 76923.32688478724, 'mae': 55396.324795308756, 'mape': 35.87218909629346, 'r2': 0.07456093249950912}\n",
      "performanceTrain46 {'rmse': 76404.0480672889, 'mae': 55237.84960841992, 'mape': 35.437545920936955, 'r2': 0.098960010209451}\n",
      "performanceTest46 {'rmse': 84029.83325320634, 'mae': 55555.51127381226, 'mape': 33.02454475043708, 'r2': 0.06126910686950948}\n",
      "performanceTrain47 {'rmse': 78949.21432309377, 'mae': 55905.149583647275, 'mape': 34.94351052712942, 'r2': 0.09713106892938883}\n",
      "performanceTest47 {'rmse': 64510.83105882223, 'mae': 52323.86280222677, 'mape': 34.77239785030308, 'r2': 0.07164422129066184}\n",
      "performanceTrain48 {'rmse': 77176.75392144255, 'mae': 55638.18602558752, 'mape': 34.785076941009976, 'r2': 0.10079502486928038}\n",
      "performanceTest48 {'rmse': 68808.0841428441, 'mae': 53199.36403779929, 'mape': 36.999171285822264, 'r2': 0.07309540069487508}\n",
      "performanceTrain49 {'rmse': 73790.61880388994, 'mae': 54364.23731743238, 'mape': 35.17449349616328, 'r2': 0.09724148185175918}\n",
      "performanceTest49 {'rmse': 67343.89922409409, 'mae': 49771.67542073073, 'mape': 32.20887917645003, 'r2': 0.059964533569624945}\n"
     ]
    }
   ],
   "source": [
    "from sklearn import preprocessing\n",
    "\n",
    "i = 0\n",
    "components = list(range(5,50))\n",
    "X_pca = np.zeros(75)\n",
    "\n",
    "for i in components:\n",
    "    ext = ''\n",
    "    ext = PCA(n_components=i)\n",
    "    ext = ext.fit(Xtrain)\n",
    "    X_ext = ''\n",
    "    X_ext = ext.transform(Xtrain)\n",
    "    \n",
    "    normalize = preprocessing.StandardScaler().fit(X_ext)\n",
    "    X_ext = normalize.transform(X_ext)\n",
    "    \n",
    "    #Separa conjunto de entrenamiento y validación del conjunto de test\n",
    "    X_train_val_ex, Xtest_ex, y_train_val_ex, y_test_ex = train_test_split(X_ext, Ytrain, test_size=0.10, shuffle=True)\n",
    "    \n",
    "    #Separar entrenamiento del conjunto de validación\n",
    "    Xtrain_ex, X_val_ex, y_train_ex, y_val_ex = train_test_split(X_train_val_ex, y_train_val_ex, test_size=0.20, shuffle=True)\n",
    "    \n",
    "    regr_parzen = ''\n",
    "    regr_parzen = KernelRegression()\n",
    "    regr_parzen.fit(Xtrain_ex, y_train_ex)\n",
    "\n",
    "    #Desempeño del modelo con datos de entrenamiento\n",
    "    y_pred_train_parzen_ex = regr_parzen.predict(Xtrain_ex)\n",
    "\n",
    "    performanceTrain = errorMeasure(y_train_ex, y_pred_train_parzen_ex)\n",
    "    print('performanceTrain' + str(i), performanceTrain)\n",
    "\n",
    "    #Desempeño del modelo con datos de prueba\n",
    "    y_pred_test_parzen_ex = regr_parzen.predict(Xtest_ex)\n",
    "\n",
    "    performanceTest = errorMeasure(y_test_ex, y_pred_test_parzen_ex)\n",
    "    print('performanceTest' + str(i), performanceTest)"
   ]
  },
  {
   "cell_type": "markdown",
   "metadata": {},
   "source": [
    "# Arboles de decisión con PCA\n"
   ]
  },
  {
   "cell_type": "code",
   "execution_count": 159,
   "metadata": {},
   "outputs": [
    {
     "name": "stderr",
     "output_type": "stream",
     "text": [
      "/home/sady/anaconda3/lib/python3.7/site-packages/sklearn/ensemble/forest.py:245: FutureWarning: The default value of n_estimators will change from 10 in version 0.20 to 100 in 0.22.\n",
      "  \"10 in version 0.20 to 100 in 0.22.\", FutureWarning)\n"
     ]
    },
    {
     "name": "stdout",
     "output_type": "stream",
     "text": [
      "performanceTrain25 {'rmse': 15723.867083299916, 'mae': 9015.34329210276, 'mape': 5.140025224243689, 'r2': 0.9572236501940621}\n",
      "performanceTest25 {'rmse': 29201.940922986425, 'mae': 19218.95205479452, 'mape': 11.734495624795562, 'r2': 0.8566372099683015}\n"
     ]
    },
    {
     "name": "stderr",
     "output_type": "stream",
     "text": [
      "/home/sady/anaconda3/lib/python3.7/site-packages/sklearn/ensemble/forest.py:245: FutureWarning: The default value of n_estimators will change from 10 in version 0.20 to 100 in 0.22.\n",
      "  \"10 in version 0.20 to 100 in 0.22.\", FutureWarning)\n"
     ]
    },
    {
     "name": "stdout",
     "output_type": "stream",
     "text": [
      "performanceTrain26 {'rmse': 15182.351152449965, 'mae': 9428.810180780209, 'mape': 5.344660301584396, 'r2': 0.9623972805373477}\n",
      "performanceTest26 {'rmse': 35893.55332735911, 'mae': 22632.44109589041, 'mape': 11.884211805244, 'r2': 0.8349137722842375}\n"
     ]
    },
    {
     "name": "stderr",
     "output_type": "stream",
     "text": [
      "/home/sady/anaconda3/lib/python3.7/site-packages/sklearn/ensemble/forest.py:245: FutureWarning: The default value of n_estimators will change from 10 in version 0.20 to 100 in 0.22.\n",
      "  \"10 in version 0.20 to 100 in 0.22.\", FutureWarning)\n"
     ]
    },
    {
     "name": "stdout",
     "output_type": "stream",
     "text": [
      "performanceTrain27 {'rmse': 16124.37065272976, 'mae': 9610.347573739295, 'mape': 5.482492398563086, 'r2': 0.9595682666279021}\n",
      "performanceTest27 {'rmse': 32975.12553322144, 'mae': 21627.744520547945, 'mape': 11.707788546741055, 'r2': 0.7643757641290341}\n"
     ]
    },
    {
     "name": "stderr",
     "output_type": "stream",
     "text": [
      "/home/sady/anaconda3/lib/python3.7/site-packages/sklearn/ensemble/forest.py:245: FutureWarning: The default value of n_estimators will change from 10 in version 0.20 to 100 in 0.22.\n",
      "  \"10 in version 0.20 to 100 in 0.22.\", FutureWarning)\n"
     ]
    },
    {
     "name": "stdout",
     "output_type": "stream",
     "text": [
      "performanceTrain28 {'rmse': 18918.531805853145, 'mae': 9472.685061845861, 'mape': 5.310841923498918, 'r2': 0.9406924204832575}\n",
      "performanceTest28 {'rmse': 44100.71320966627, 'mae': 26494.693150684932, 'mape': 16.410625472757193, 'r2': 0.7754595320006047}\n"
     ]
    },
    {
     "name": "stderr",
     "output_type": "stream",
     "text": [
      "/home/sady/anaconda3/lib/python3.7/site-packages/sklearn/ensemble/forest.py:245: FutureWarning: The default value of n_estimators will change from 10 in version 0.20 to 100 in 0.22.\n",
      "  \"10 in version 0.20 to 100 in 0.22.\", FutureWarning)\n"
     ]
    },
    {
     "name": "stdout",
     "output_type": "stream",
     "text": [
      "performanceTrain29 {'rmse': 17404.776604382176, 'mae': 9445.35204567079, 'mape': 5.15896424579308, 'r2': 0.9546559806318691}\n",
      "performanceTest29 {'rmse': 38887.47084823943, 'mae': 24565.999315068497, 'mape': 14.53007787901249, 'r2': 0.7191938798669196}\n"
     ]
    },
    {
     "name": "stderr",
     "output_type": "stream",
     "text": [
      "/home/sady/anaconda3/lib/python3.7/site-packages/sklearn/ensemble/forest.py:245: FutureWarning: The default value of n_estimators will change from 10 in version 0.20 to 100 in 0.22.\n",
      "  \"10 in version 0.20 to 100 in 0.22.\", FutureWarning)\n"
     ]
    },
    {
     "name": "stdout",
     "output_type": "stream",
     "text": [
      "performanceTrain30 {'rmse': 15335.10632525976, 'mae': 9233.717221693625, 'mape': 5.346962283179747, 'r2': 0.9596808886920745}\n",
      "performanceTest30 {'rmse': 38797.43827431277, 'mae': 26663.071917808218, 'mape': 17.658801132492, 'r2': 0.7575014198222811}\n"
     ]
    },
    {
     "name": "stderr",
     "output_type": "stream",
     "text": [
      "/home/sady/anaconda3/lib/python3.7/site-packages/sklearn/ensemble/forest.py:245: FutureWarning: The default value of n_estimators will change from 10 in version 0.20 to 100 in 0.22.\n",
      "  \"10 in version 0.20 to 100 in 0.22.\", FutureWarning)\n"
     ]
    },
    {
     "name": "stdout",
     "output_type": "stream",
     "text": [
      "performanceTrain31 {'rmse': 17261.863764672245, 'mae': 9247.617126546145, 'mape': 5.163137864004116, 'r2': 0.9515102074702162}\n",
      "performanceTest31 {'rmse': 48415.48062918796, 'mae': 27967.350000000002, 'mape': 15.315087028508339, 'r2': 0.7323286472488545}\n"
     ]
    },
    {
     "name": "stderr",
     "output_type": "stream",
     "text": [
      "/home/sady/anaconda3/lib/python3.7/site-packages/sklearn/ensemble/forest.py:245: FutureWarning: The default value of n_estimators will change from 10 in version 0.20 to 100 in 0.22.\n",
      "  \"10 in version 0.20 to 100 in 0.22.\", FutureWarning)\n"
     ]
    },
    {
     "name": "stdout",
     "output_type": "stream",
     "text": [
      "performanceTrain32 {'rmse': 15545.851501723671, 'mae': 9610.802093244529, 'mape': 5.704255805493739, 'r2': 0.9627226898534695}\n",
      "performanceTest32 {'rmse': 31552.290541214148, 'mae': 21393.37602739726, 'mape': 14.475289197602287, 'r2': 0.8067444406450137}\n"
     ]
    },
    {
     "name": "stderr",
     "output_type": "stream",
     "text": [
      "/home/sady/anaconda3/lib/python3.7/site-packages/sklearn/ensemble/forest.py:245: FutureWarning: The default value of n_estimators will change from 10 in version 0.20 to 100 in 0.22.\n",
      "  \"10 in version 0.20 to 100 in 0.22.\", FutureWarning)\n"
     ]
    },
    {
     "name": "stdout",
     "output_type": "stream",
     "text": [
      "performanceTrain33 {'rmse': 15850.211814857303, 'mae': 9495.13368220742, 'mape': 5.3907878126039845, 'r2': 0.9640124719731169}\n",
      "performanceTest33 {'rmse': 30569.662476145848, 'mae': 21894.22876712329, 'mape': 12.323110963435996, 'r2': 0.7906921818861116}\n"
     ]
    },
    {
     "name": "stderr",
     "output_type": "stream",
     "text": [
      "/home/sady/anaconda3/lib/python3.7/site-packages/sklearn/ensemble/forest.py:245: FutureWarning: The default value of n_estimators will change from 10 in version 0.20 to 100 in 0.22.\n",
      "  \"10 in version 0.20 to 100 in 0.22.\", FutureWarning)\n"
     ]
    },
    {
     "name": "stdout",
     "output_type": "stream",
     "text": [
      "performanceTrain34 {'rmse': 17035.20335539685, 'mae': 9317.10875356803, 'mape': 5.311654603440856, 'r2': 0.9557627598412094}\n",
      "performanceTest34 {'rmse': 40194.130835379125, 'mae': 23827.38698630137, 'mape': 13.49292532563822, 'r2': 0.7314447210646828}\n"
     ]
    },
    {
     "name": "stderr",
     "output_type": "stream",
     "text": [
      "/home/sady/anaconda3/lib/python3.7/site-packages/sklearn/ensemble/forest.py:245: FutureWarning: The default value of n_estimators will change from 10 in version 0.20 to 100 in 0.22.\n",
      "  \"10 in version 0.20 to 100 in 0.22.\", FutureWarning)\n"
     ]
    },
    {
     "name": "stdout",
     "output_type": "stream",
     "text": [
      "performanceTrain35 {'rmse': 16976.140483676005, 'mae': 9326.973358705995, 'mape': 5.196034303147459, 'r2': 0.954926180683239}\n",
      "performanceTest35 {'rmse': 31148.37310993221, 'mae': 22893.28835616438, 'mape': 15.041468290604184, 'r2': 0.8357276808842438}\n"
     ]
    },
    {
     "name": "stderr",
     "output_type": "stream",
     "text": [
      "/home/sady/anaconda3/lib/python3.7/site-packages/sklearn/ensemble/forest.py:245: FutureWarning: The default value of n_estimators will change from 10 in version 0.20 to 100 in 0.22.\n",
      "  \"10 in version 0.20 to 100 in 0.22.\", FutureWarning)\n"
     ]
    },
    {
     "name": "stdout",
     "output_type": "stream",
     "text": [
      "performanceTrain36 {'rmse': 16974.692694846966, 'mae': 9483.916079923883, 'mape': 5.422210394228514, 'r2': 0.9545792641142639}\n",
      "performanceTest36 {'rmse': 42729.938418238315, 'mae': 24208.305479452058, 'mape': 13.026144082858092, 'r2': 0.7215738173465935}\n"
     ]
    },
    {
     "name": "stderr",
     "output_type": "stream",
     "text": [
      "/home/sady/anaconda3/lib/python3.7/site-packages/sklearn/ensemble/forest.py:245: FutureWarning: The default value of n_estimators will change from 10 in version 0.20 to 100 in 0.22.\n",
      "  \"10 in version 0.20 to 100 in 0.22.\", FutureWarning)\n"
     ]
    },
    {
     "name": "stdout",
     "output_type": "stream",
     "text": [
      "performanceTrain37 {'rmse': 15799.406881544077, 'mae': 9521.734157944815, 'mape': 5.488354524722698, 'r2': 0.9645779976057175}\n",
      "performanceTest37 {'rmse': 31442.619976964736, 'mae': 22168.81712328767, 'mape': 13.041211745332612, 'r2': 0.8202419927635531}\n"
     ]
    },
    {
     "name": "stderr",
     "output_type": "stream",
     "text": [
      "/home/sady/anaconda3/lib/python3.7/site-packages/sklearn/ensemble/forest.py:245: FutureWarning: The default value of n_estimators will change from 10 in version 0.20 to 100 in 0.22.\n",
      "  \"10 in version 0.20 to 100 in 0.22.\", FutureWarning)\n"
     ]
    },
    {
     "name": "stdout",
     "output_type": "stream",
     "text": [
      "performanceTrain38 {'rmse': 15898.024913870753, 'mae': 9519.017126546147, 'mape': 5.458729289139679, 'r2': 0.958693180036109}\n",
      "performanceTest38 {'rmse': 53297.12447274256, 'mae': 27924.40273972603, 'mape': 13.524633350678261, 'r2': 0.7210988923219703}\n"
     ]
    },
    {
     "name": "stderr",
     "output_type": "stream",
     "text": [
      "/home/sady/anaconda3/lib/python3.7/site-packages/sklearn/ensemble/forest.py:245: FutureWarning: The default value of n_estimators will change from 10 in version 0.20 to 100 in 0.22.\n",
      "  \"10 in version 0.20 to 100 in 0.22.\", FutureWarning)\n"
     ]
    },
    {
     "name": "stdout",
     "output_type": "stream",
     "text": [
      "performanceTrain39 {'rmse': 15949.334318207111, 'mae': 9789.47031398668, 'mape': 5.761977181256988, 'r2': 0.9611434209764917}\n",
      "performanceTest39 {'rmse': 45254.14981933958, 'mae': 26300.898630136988, 'mape': 15.977017432854812, 'r2': 0.7430391438677559}\n"
     ]
    },
    {
     "name": "stderr",
     "output_type": "stream",
     "text": [
      "/home/sady/anaconda3/lib/python3.7/site-packages/sklearn/ensemble/forest.py:245: FutureWarning: The default value of n_estimators will change from 10 in version 0.20 to 100 in 0.22.\n",
      "  \"10 in version 0.20 to 100 in 0.22.\", FutureWarning)\n"
     ]
    },
    {
     "name": "stdout",
     "output_type": "stream",
     "text": [
      "performanceTrain40 {'rmse': 16377.845331839691, 'mae': 9828.372787821123, 'mape': 5.704723144567671, 'r2': 0.9609489105307423}\n",
      "performanceTest40 {'rmse': 39087.00749056301, 'mae': 24685.452739726028, 'mape': 14.248247414575399, 'r2': 0.6603021605803787}\n"
     ]
    },
    {
     "name": "stderr",
     "output_type": "stream",
     "text": [
      "/home/sady/anaconda3/lib/python3.7/site-packages/sklearn/ensemble/forest.py:245: FutureWarning: The default value of n_estimators will change from 10 in version 0.20 to 100 in 0.22.\n",
      "  \"10 in version 0.20 to 100 in 0.22.\", FutureWarning)\n"
     ]
    },
    {
     "name": "stdout",
     "output_type": "stream",
     "text": [
      "performanceTrain41 {'rmse': 18678.675629173402, 'mae': 10102.466317792578, 'mape': 5.676164793808964, 'r2': 0.9463132825693252}\n",
      "performanceTest41 {'rmse': 25162.031762363815, 'mae': 17648.715753424658, 'mape': 10.880429685206824, 'r2': 0.8633013198669475}\n"
     ]
    },
    {
     "name": "stderr",
     "output_type": "stream",
     "text": [
      "/home/sady/anaconda3/lib/python3.7/site-packages/sklearn/ensemble/forest.py:245: FutureWarning: The default value of n_estimators will change from 10 in version 0.20 to 100 in 0.22.\n",
      "  \"10 in version 0.20 to 100 in 0.22.\", FutureWarning)\n"
     ]
    },
    {
     "name": "stdout",
     "output_type": "stream",
     "text": [
      "performanceTrain42 {'rmse': 15463.85672459805, 'mae': 9459.409705042817, 'mape': 5.553143462820287, 'r2': 0.9621348281149769}\n",
      "performanceTest42 {'rmse': 37414.755072928914, 'mae': 22814.639726027395, 'mape': 13.251505864410587, 'r2': 0.7990715637469786}\n"
     ]
    },
    {
     "name": "stderr",
     "output_type": "stream",
     "text": [
      "/home/sady/anaconda3/lib/python3.7/site-packages/sklearn/ensemble/forest.py:245: FutureWarning: The default value of n_estimators will change from 10 in version 0.20 to 100 in 0.22.\n",
      "  \"10 in version 0.20 to 100 in 0.22.\", FutureWarning)\n"
     ]
    },
    {
     "name": "stdout",
     "output_type": "stream",
     "text": [
      "performanceTrain43 {'rmse': 14552.359727407136, 'mae': 8985.121883920077, 'mape': 5.2243317683979935, 'r2': 0.9653341914596743}\n",
      "performanceTest43 {'rmse': 37196.36121930643, 'mae': 23648.220547945206, 'mape': 12.990967713344933, 'r2': 0.7691185706218365}\n"
     ]
    },
    {
     "name": "stderr",
     "output_type": "stream",
     "text": [
      "/home/sady/anaconda3/lib/python3.7/site-packages/sklearn/ensemble/forest.py:245: FutureWarning: The default value of n_estimators will change from 10 in version 0.20 to 100 in 0.22.\n",
      "  \"10 in version 0.20 to 100 in 0.22.\", FutureWarning)\n"
     ]
    },
    {
     "name": "stdout",
     "output_type": "stream",
     "text": [
      "performanceTrain44 {'rmse': 18090.34015687164, 'mae': 9748.5297811608, 'mape': 5.637804713803366, 'r2': 0.9474606795803431}\n",
      "performanceTest44 {'rmse': 34892.30047135551, 'mae': 22259.484246575343, 'mape': 12.84608313199915, 'r2': 0.7844501648254676}\n"
     ]
    },
    {
     "name": "stderr",
     "output_type": "stream",
     "text": [
      "/home/sady/anaconda3/lib/python3.7/site-packages/sklearn/ensemble/forest.py:245: FutureWarning: The default value of n_estimators will change from 10 in version 0.20 to 100 in 0.22.\n",
      "  \"10 in version 0.20 to 100 in 0.22.\", FutureWarning)\n"
     ]
    },
    {
     "name": "stdout",
     "output_type": "stream",
     "text": [
      "performanceTrain45 {'rmse': 16153.095917566183, 'mae': 9565.446431969553, 'mape': 5.477682310804203, 'r2': 0.9599355142463402}\n",
      "performanceTest45 {'rmse': 49821.17595609472, 'mae': 23225.248630136986, 'mape': 14.066664184584734, 'r2': 0.3237529795779843}\n"
     ]
    },
    {
     "name": "stderr",
     "output_type": "stream",
     "text": [
      "/home/sady/anaconda3/lib/python3.7/site-packages/sklearn/ensemble/forest.py:245: FutureWarning: The default value of n_estimators will change from 10 in version 0.20 to 100 in 0.22.\n",
      "  \"10 in version 0.20 to 100 in 0.22.\", FutureWarning)\n"
     ]
    },
    {
     "name": "stdout",
     "output_type": "stream",
     "text": [
      "performanceTrain46 {'rmse': 16206.491860745997, 'mae': 9048.939866793531, 'mape': 5.105233548659349, 'r2': 0.9594746270628824}\n",
      "performanceTest46 {'rmse': 55827.11737891951, 'mae': 29411.26780821918, 'mape': 14.852424448253524, 'r2': 0.5351838617589697}\n"
     ]
    },
    {
     "name": "stderr",
     "output_type": "stream",
     "text": [
      "/home/sady/anaconda3/lib/python3.7/site-packages/sklearn/ensemble/forest.py:245: FutureWarning: The default value of n_estimators will change from 10 in version 0.20 to 100 in 0.22.\n",
      "  \"10 in version 0.20 to 100 in 0.22.\", FutureWarning)\n"
     ]
    },
    {
     "name": "stdout",
     "output_type": "stream",
     "text": [
      "performanceTrain47 {'rmse': 18818.5713208047, 'mae': 9487.314938154139, 'mape': 5.228548842078317, 'r2': 0.9441295724383866}\n",
      "performanceTest47 {'rmse': 37087.84265764575, 'mae': 25325.041780821917, 'mape': 16.419887073304082, 'r2': 0.7758477060910798}\n"
     ]
    },
    {
     "name": "stderr",
     "output_type": "stream",
     "text": [
      "/home/sady/anaconda3/lib/python3.7/site-packages/sklearn/ensemble/forest.py:245: FutureWarning: The default value of n_estimators will change from 10 in version 0.20 to 100 in 0.22.\n",
      "  \"10 in version 0.20 to 100 in 0.22.\", FutureWarning)\n"
     ]
    },
    {
     "name": "stdout",
     "output_type": "stream",
     "text": [
      "performanceTrain48 {'rmse': 17112.534957316402, 'mae': 9653.572121788773, 'mape': 5.512746511245556, 'r2': 0.9547454374022544}\n",
      "performanceTest48 {'rmse': 33963.9370935223, 'mae': 21723.12328767123, 'mape': 13.955045516688196, 'r2': 0.7269362125104528}\n"
     ]
    },
    {
     "name": "stderr",
     "output_type": "stream",
     "text": [
      "/home/sady/anaconda3/lib/python3.7/site-packages/sklearn/ensemble/forest.py:245: FutureWarning: The default value of n_estimators will change from 10 in version 0.20 to 100 in 0.22.\n",
      "  \"10 in version 0.20 to 100 in 0.22.\", FutureWarning)\n"
     ]
    },
    {
     "name": "stdout",
     "output_type": "stream",
     "text": [
      "performanceTrain49 {'rmse': 17057.8668233652, 'mae': 10022.030352045671, 'mape': 5.760131197184308, 'r2': 0.954965659793863}\n",
      "performanceTest49 {'rmse': 27765.955837539463, 'mae': 20299.563013698633, 'mape': 12.31548022428011, 'r2': 0.8769227919347033}\n"
     ]
    },
    {
     "name": "stderr",
     "output_type": "stream",
     "text": [
      "/home/sady/anaconda3/lib/python3.7/site-packages/sklearn/ensemble/forest.py:245: FutureWarning: The default value of n_estimators will change from 10 in version 0.20 to 100 in 0.22.\n",
      "  \"10 in version 0.20 to 100 in 0.22.\", FutureWarning)\n"
     ]
    },
    {
     "name": "stdout",
     "output_type": "stream",
     "text": [
      "performanceTrain50 {'rmse': 15595.961720312898, 'mae': 9096.81560418649, 'mape': 5.321364923178615, 'r2': 0.9586713402044611}\n",
      "performanceTest50 {'rmse': 43418.20999088913, 'mae': 28409.717123287668, 'mape': 15.250166665465642, 'r2': 0.7624306160010521}\n"
     ]
    },
    {
     "name": "stderr",
     "output_type": "stream",
     "text": [
      "/home/sady/anaconda3/lib/python3.7/site-packages/sklearn/ensemble/forest.py:245: FutureWarning: The default value of n_estimators will change from 10 in version 0.20 to 100 in 0.22.\n",
      "  \"10 in version 0.20 to 100 in 0.22.\", FutureWarning)\n"
     ]
    },
    {
     "name": "stdout",
     "output_type": "stream",
     "text": [
      "performanceTrain51 {'rmse': 16554.171259147453, 'mae': 9611.306945765937, 'mape': 5.58113863894611, 'r2': 0.953749313598846}\n",
      "performanceTest51 {'rmse': 40798.78001593803, 'mae': 26598.471232876713, 'mape': 14.60865809465289, 'r2': 0.7672648524907013}\n"
     ]
    },
    {
     "name": "stderr",
     "output_type": "stream",
     "text": [
      "/home/sady/anaconda3/lib/python3.7/site-packages/sklearn/ensemble/forest.py:245: FutureWarning: The default value of n_estimators will change from 10 in version 0.20 to 100 in 0.22.\n",
      "  \"10 in version 0.20 to 100 in 0.22.\", FutureWarning)\n"
     ]
    },
    {
     "name": "stdout",
     "output_type": "stream",
     "text": [
      "performanceTrain52 {'rmse': 17298.297024653606, 'mae': 9867.460418648905, 'mape': 5.553606477892835, 'r2': 0.9520415058974862}\n",
      "performanceTest52 {'rmse': 43700.68841321344, 'mae': 20586.601369863016, 'mape': 11.941140073971662, 'r2': 0.6756626526056493}\n"
     ]
    },
    {
     "name": "stderr",
     "output_type": "stream",
     "text": [
      "/home/sady/anaconda3/lib/python3.7/site-packages/sklearn/ensemble/forest.py:245: FutureWarning: The default value of n_estimators will change from 10 in version 0.20 to 100 in 0.22.\n",
      "  \"10 in version 0.20 to 100 in 0.22.\", FutureWarning)\n"
     ]
    },
    {
     "name": "stdout",
     "output_type": "stream",
     "text": [
      "performanceTrain53 {'rmse': 15877.913758023775, 'mae': 9212.122454804947, 'mape': 5.2686789224368376, 'r2': 0.9555521057136092}\n",
      "performanceTest53 {'rmse': 51088.291422979164, 'mae': 25718.413013698628, 'mape': 13.652754494706759, 'r2': 0.7419510094782553}\n"
     ]
    },
    {
     "name": "stderr",
     "output_type": "stream",
     "text": [
      "/home/sady/anaconda3/lib/python3.7/site-packages/sklearn/ensemble/forest.py:245: FutureWarning: The default value of n_estimators will change from 10 in version 0.20 to 100 in 0.22.\n",
      "  \"10 in version 0.20 to 100 in 0.22.\", FutureWarning)\n"
     ]
    },
    {
     "name": "stdout",
     "output_type": "stream",
     "text": [
      "performanceTrain54 {'rmse': 17481.910975913965, 'mae': 10084.34405328259, 'mape': 5.75087112677577, 'r2': 0.9492642307328956}\n",
      "performanceTest54 {'rmse': 42787.799048207584, 'mae': 24696.41575342466, 'mape': 13.415449714142833, 'r2': 0.737380107351044}\n"
     ]
    },
    {
     "name": "stderr",
     "output_type": "stream",
     "text": [
      "/home/sady/anaconda3/lib/python3.7/site-packages/sklearn/ensemble/forest.py:245: FutureWarning: The default value of n_estimators will change from 10 in version 0.20 to 100 in 0.22.\n",
      "  \"10 in version 0.20 to 100 in 0.22.\", FutureWarning)\n"
     ]
    },
    {
     "name": "stdout",
     "output_type": "stream",
     "text": [
      "performanceTrain55 {'rmse': 18167.79844167258, 'mae': 9715.440723120837, 'mape': 5.604440720506056, 'r2': 0.946763840423259}\n",
      "performanceTest55 {'rmse': 41040.195746683465, 'mae': 24535.036301369862, 'mape': 14.847023198193288, 'r2': 0.7323673234289669}\n"
     ]
    },
    {
     "name": "stderr",
     "output_type": "stream",
     "text": [
      "/home/sady/anaconda3/lib/python3.7/site-packages/sklearn/ensemble/forest.py:245: FutureWarning: The default value of n_estimators will change from 10 in version 0.20 to 100 in 0.22.\n",
      "  \"10 in version 0.20 to 100 in 0.22.\", FutureWarning)\n"
     ]
    },
    {
     "name": "stdout",
     "output_type": "stream",
     "text": [
      "performanceTrain56 {'rmse': 15574.644398644068, 'mae': 9631.532921027592, 'mape': 5.613684659598736, 'r2': 0.9644460251813598}\n",
      "performanceTest56 {'rmse': 41926.901870666115, 'mae': 22587.498630136986, 'mape': 14.457159313773134, 'r2': 0.5665937274616775}\n"
     ]
    },
    {
     "name": "stderr",
     "output_type": "stream",
     "text": [
      "/home/sady/anaconda3/lib/python3.7/site-packages/sklearn/ensemble/forest.py:245: FutureWarning: The default value of n_estimators will change from 10 in version 0.20 to 100 in 0.22.\n",
      "  \"10 in version 0.20 to 100 in 0.22.\", FutureWarning)\n"
     ]
    },
    {
     "name": "stdout",
     "output_type": "stream",
     "text": [
      "performanceTrain57 {'rmse': 18775.057799553248, 'mae': 10046.339771646051, 'mape': 5.61454522808823, 'r2': 0.9456270784471722}\n",
      "performanceTest57 {'rmse': 38704.6692489739, 'mae': 23615.30821917808, 'mape': 13.338582494313563, 'r2': 0.7478089161374126}\n"
     ]
    },
    {
     "name": "stderr",
     "output_type": "stream",
     "text": [
      "/home/sady/anaconda3/lib/python3.7/site-packages/sklearn/ensemble/forest.py:245: FutureWarning: The default value of n_estimators will change from 10 in version 0.20 to 100 in 0.22.\n",
      "  \"10 in version 0.20 to 100 in 0.22.\", FutureWarning)\n"
     ]
    },
    {
     "name": "stdout",
     "output_type": "stream",
     "text": [
      "performanceTrain58 {'rmse': 16842.488055891976, 'mae': 9779.971836346338, 'mape': 5.621377632526898, 'r2': 0.9549316687217266}\n",
      "performanceTest58 {'rmse': 37061.701886686235, 'mae': 23185.97602739726, 'mape': 13.627039649942684, 'r2': 0.719429079269724}\n"
     ]
    },
    {
     "name": "stderr",
     "output_type": "stream",
     "text": [
      "/home/sady/anaconda3/lib/python3.7/site-packages/sklearn/ensemble/forest.py:245: FutureWarning: The default value of n_estimators will change from 10 in version 0.20 to 100 in 0.22.\n",
      "  \"10 in version 0.20 to 100 in 0.22.\", FutureWarning)\n"
     ]
    },
    {
     "name": "stdout",
     "output_type": "stream",
     "text": [
      "performanceTrain59 {'rmse': 16732.5480174665, 'mae': 9420.922930542341, 'mape': 5.556380280805582, 'r2': 0.9512167113601081}\n",
      "performanceTest59 {'rmse': 45529.91286853328, 'mae': 28147.90205479452, 'mape': 14.19616043681815, 'r2': 0.7689478619276013}\n"
     ]
    },
    {
     "name": "stderr",
     "output_type": "stream",
     "text": [
      "/home/sady/anaconda3/lib/python3.7/site-packages/sklearn/ensemble/forest.py:245: FutureWarning: The default value of n_estimators will change from 10 in version 0.20 to 100 in 0.22.\n",
      "  \"10 in version 0.20 to 100 in 0.22.\", FutureWarning)\n"
     ]
    },
    {
     "name": "stdout",
     "output_type": "stream",
     "text": [
      "performanceTrain60 {'rmse': 17375.151700967035, 'mae': 9637.272407231208, 'mape': 5.68886739341178, 'r2': 0.9528022569490074}\n",
      "performanceTest60 {'rmse': 42988.560663439035, 'mae': 24034.06917808219, 'mape': 14.265421941941907, 'r2': 0.7180270120808617}\n"
     ]
    },
    {
     "name": "stderr",
     "output_type": "stream",
     "text": [
      "/home/sady/anaconda3/lib/python3.7/site-packages/sklearn/ensemble/forest.py:245: FutureWarning: The default value of n_estimators will change from 10 in version 0.20 to 100 in 0.22.\n",
      "  \"10 in version 0.20 to 100 in 0.22.\", FutureWarning)\n"
     ]
    },
    {
     "name": "stdout",
     "output_type": "stream",
     "text": [
      "performanceTrain61 {'rmse': 16424.109472216365, 'mae': 9866.648810656516, 'mape': 5.45446641408633, 'r2': 0.9610531085494147}\n",
      "performanceTest61 {'rmse': 29854.688976518537, 'mae': 20846.84383561644, 'mape': 11.382632784900373, 'r2': 0.8408075235609527}\n"
     ]
    },
    {
     "name": "stderr",
     "output_type": "stream",
     "text": [
      "/home/sady/anaconda3/lib/python3.7/site-packages/sklearn/ensemble/forest.py:245: FutureWarning: The default value of n_estimators will change from 10 in version 0.20 to 100 in 0.22.\n",
      "  \"10 in version 0.20 to 100 in 0.22.\", FutureWarning)\n"
     ]
    },
    {
     "name": "stdout",
     "output_type": "stream",
     "text": [
      "performanceTrain62 {'rmse': 15440.601769130728, 'mae': 9435.421313035205, 'mape': 5.389891547688575, 'r2': 0.9599316422387436}\n",
      "performanceTest62 {'rmse': 49730.588718694504, 'mae': 26825.171232876713, 'mape': 15.118511789160124, 'r2': 0.637159543691225}\n"
     ]
    },
    {
     "name": "stderr",
     "output_type": "stream",
     "text": [
      "/home/sady/anaconda3/lib/python3.7/site-packages/sklearn/ensemble/forest.py:245: FutureWarning: The default value of n_estimators will change from 10 in version 0.20 to 100 in 0.22.\n",
      "  \"10 in version 0.20 to 100 in 0.22.\", FutureWarning)\n"
     ]
    },
    {
     "name": "stdout",
     "output_type": "stream",
     "text": [
      "performanceTrain63 {'rmse': 17281.860681249793, 'mae': 9781.474024738345, 'mape': 5.576793855178098, 'r2': 0.9527384091472214}\n",
      "performanceTest63 {'rmse': 40901.91935122494, 'mae': 25428.038356164383, 'mape': 13.398786828492568, 'r2': 0.7630142385068976}\n"
     ]
    },
    {
     "name": "stderr",
     "output_type": "stream",
     "text": [
      "/home/sady/anaconda3/lib/python3.7/site-packages/sklearn/ensemble/forest.py:245: FutureWarning: The default value of n_estimators will change from 10 in version 0.20 to 100 in 0.22.\n",
      "  \"10 in version 0.20 to 100 in 0.22.\", FutureWarning)\n"
     ]
    },
    {
     "name": "stdout",
     "output_type": "stream",
     "text": [
      "performanceTrain64 {'rmse': 18328.733038020386, 'mae': 10213.31274976213, 'mape': 5.775838051351928, 'r2': 0.9486005549734495}\n",
      "performanceTest64 {'rmse': 37971.01213968794, 'mae': 21530.083561643838, 'mape': 13.896863200332515, 'r2': 0.6686504445099987}\n"
     ]
    },
    {
     "name": "stderr",
     "output_type": "stream",
     "text": [
      "/home/sady/anaconda3/lib/python3.7/site-packages/sklearn/ensemble/forest.py:245: FutureWarning: The default value of n_estimators will change from 10 in version 0.20 to 100 in 0.22.\n",
      "  \"10 in version 0.20 to 100 in 0.22.\", FutureWarning)\n"
     ]
    },
    {
     "name": "stdout",
     "output_type": "stream",
     "text": [
      "performanceTrain65 {'rmse': 16810.211611227656, 'mae': 10180.382302568984, 'mape': 5.92731791633609, 'r2': 0.9506937294998872}\n",
      "performanceTest65 {'rmse': 36220.3523474651, 'mae': 22641.023287671233, 'mape': 14.649162508653891, 'r2': 0.7303606195387682}\n"
     ]
    },
    {
     "name": "stderr",
     "output_type": "stream",
     "text": [
      "/home/sady/anaconda3/lib/python3.7/site-packages/sklearn/ensemble/forest.py:245: FutureWarning: The default value of n_estimators will change from 10 in version 0.20 to 100 in 0.22.\n",
      "  \"10 in version 0.20 to 100 in 0.22.\", FutureWarning)\n"
     ]
    },
    {
     "name": "stdout",
     "output_type": "stream",
     "text": [
      "performanceTrain66 {'rmse': 17861.420641456716, 'mae': 9584.68924833492, 'mape': 5.3674187886918565, 'r2': 0.9465456860474947}\n",
      "performanceTest66 {'rmse': 37262.85168201832, 'mae': 23832.292465753428, 'mape': 14.037211805469235, 'r2': 0.8322868546500667}\n"
     ]
    },
    {
     "name": "stderr",
     "output_type": "stream",
     "text": [
      "/home/sady/anaconda3/lib/python3.7/site-packages/sklearn/ensemble/forest.py:245: FutureWarning: The default value of n_estimators will change from 10 in version 0.20 to 100 in 0.22.\n",
      "  \"10 in version 0.20 to 100 in 0.22.\", FutureWarning)\n"
     ]
    },
    {
     "name": "stdout",
     "output_type": "stream",
     "text": [
      "performanceTrain67 {'rmse': 16871.65342663987, 'mae': 9884.484966698381, 'mape': 5.512575503061444, 'r2': 0.9533846428577862}\n",
      "performanceTest67 {'rmse': 34223.167553859195, 'mae': 23614.56917808219, 'mape': 12.870881302317006, 'r2': 0.8359448125420045}\n"
     ]
    },
    {
     "name": "stderr",
     "output_type": "stream",
     "text": [
      "/home/sady/anaconda3/lib/python3.7/site-packages/sklearn/ensemble/forest.py:245: FutureWarning: The default value of n_estimators will change from 10 in version 0.20 to 100 in 0.22.\n",
      "  \"10 in version 0.20 to 100 in 0.22.\", FutureWarning)\n"
     ]
    },
    {
     "name": "stdout",
     "output_type": "stream",
     "text": [
      "performanceTrain68 {'rmse': 16945.25262199407, 'mae': 9881.601522359657, 'mape': 5.7287723710543945, 'r2': 0.9500908185689642}\n",
      "performanceTest68 {'rmse': 35642.5073283167, 'mae': 23076.356849315067, 'mape': 13.59064935111787, 'r2': 0.8252061493225458}\n"
     ]
    },
    {
     "name": "stderr",
     "output_type": "stream",
     "text": [
      "/home/sady/anaconda3/lib/python3.7/site-packages/sklearn/ensemble/forest.py:245: FutureWarning: The default value of n_estimators will change from 10 in version 0.20 to 100 in 0.22.\n",
      "  \"10 in version 0.20 to 100 in 0.22.\", FutureWarning)\n"
     ]
    },
    {
     "name": "stdout",
     "output_type": "stream",
     "text": [
      "performanceTrain69 {'rmse': 18455.92283432852, 'mae': 9390.297145575643, 'mape': 5.504350892237144, 'r2': 0.9479286245728202}\n",
      "performanceTest69 {'rmse': 34409.640769733756, 'mae': 23477.71712328767, 'mape': 13.790518916850214, 'r2': 0.7888987864781539}\n"
     ]
    }
   ],
   "source": [
    "i = 0\n",
    "components = list(range(25,70))\n",
    "X_pca = np.zeros(75)\n",
    "\n",
    "for i in components:\n",
    "    ext = ''\n",
    "    ext = PCA(n_components=i)\n",
    "    ext = ext.fit(Xtrain)\n",
    "    X_ext = ''\n",
    "    X_ext = ext.transform(Xtrain)\n",
    "    \n",
    "    normalize = preprocessing.StandardScaler().fit(X_ext)\n",
    "    X_ext = normalize.transform(X_ext)\n",
    "    #Separa conjunto de entrenamiento y validación del conjunto de test\n",
    "    X_train_val_ex, Xtest_ex, y_train_val_ex, y_test_ex = train_test_split(X_ext, Ytrain, test_size=0.10, shuffle=True)\n",
    "    \n",
    "    #Separar entrenamiento del conjunto de validación\n",
    "    Xtrain_ex, X_val_ex, y_train_ex, y_val_ex = train_test_split(X_train_val_ex, y_train_val_ex, test_size=0.20, shuffle=True)\n",
    "    \n",
    "    n_estimators = [10, 20, 30, 40, 50, 100,150, 200,300,400,500]\n",
    "    max_features = ['auto', 'sqrt', 'log2']\n",
    "    max_depth = [3,4]\n",
    "    min_samples_split = [0.1]\n",
    "    criterion = [\"mse\", \"mae\"]\n",
    "    \n",
    "    random_grid = {'n_estimators': n_estimators,\n",
    "               'max_features': max_features,\n",
    "               'max_depth': max_depth,\n",
    "               'min_samples_split': min_samples_split,\n",
    "               'criterion': criterion}\n",
    "    \n",
    "    params = get_params(RandomForestRegressor(), random_grid, X_val_ex, y_val_ex)\n",
    "    \n",
    "    regr = ''\n",
    "    regr = RandomForestRegressor(n_estimators = params['n_estimators'], max_features = params['max_features'],\n",
    "                                max_depth = params['max_depth'], min_samples_split = params['min_samples_split'],\n",
    "                                criterion = params['criterion'])\n",
    "    regr.fit(Xtrain_ex, y_train_ex)\n",
    "\n",
    "    Yest = regr.predict(Xtrain_ex) \n",
    "    \n",
    "    performanceTrain = errorMeasure(y_train_ex, Yest)\n",
    "    print('performanceTrain' + str(i), performanceTrain)\n",
    "\n",
    "    #Desempeño del modelo con datos de prueba\n",
    "    Ytest = regr.predict(Xtest_ex)\n",
    "\n",
    "    performanceTest = errorMeasure(y_test_ex, Ytest)\n",
    "    print('performanceTest' + str(i), performanceTest)"
   ]
  },
  {
   "cell_type": "markdown",
   "metadata": {},
   "source": [
    "# Regresion por Vectores de Soporte con kernel lineal y con kernel RBF."
   ]
  },
  {
   "cell_type": "code",
   "execution_count": 158,
   "metadata": {},
   "outputs": [
    {
     "name": "stderr",
     "output_type": "stream",
     "text": [
      "/home/sady/anaconda3/lib/python3.7/site-packages/sklearn/svm/base.py:193: FutureWarning: The default value of gamma will change from 'auto' to 'scale' in version 0.22 to account better for unscaled features. Set gamma explicitly to 'auto' or 'scale' to avoid this warning.\n",
      "  \"avoid this warning.\", FutureWarning)\n"
     ]
    },
    {
     "name": "stdout",
     "output_type": "stream",
     "text": [
      "performanceTrain25 {'rmse': 84339.94782289107, 'mae': 56802.38324471701, 'mape': 32.298707865620194, 'r2': -0.04860577880022254}\n",
      "performanceTest25 {'rmse': 71689.48390729539, 'mae': 54240.680908734335, 'mape': 33.85264731346098, 'r2': -0.03900964463803569}\n"
     ]
    },
    {
     "name": "stderr",
     "output_type": "stream",
     "text": [
      "/home/sady/anaconda3/lib/python3.7/site-packages/sklearn/svm/base.py:193: FutureWarning: The default value of gamma will change from 'auto' to 'scale' in version 0.22 to account better for unscaled features. Set gamma explicitly to 'auto' or 'scale' to avoid this warning.\n",
      "  \"avoid this warning.\", FutureWarning)\n"
     ]
    },
    {
     "name": "stdout",
     "output_type": "stream",
     "text": [
      "performanceTrain26 {'rmse': 77026.36515580403, 'mae': 54621.405918755125, 'mape': 32.4977638334836, 'r2': -0.04036410201766838}\n",
      "performanceTest26 {'rmse': 79198.41574251371, 'mae': 53269.77470008302, 'mape': 31.851838070917765, 'r2': -0.0143295263153711}\n"
     ]
    },
    {
     "name": "stderr",
     "output_type": "stream",
     "text": [
      "/home/sady/anaconda3/lib/python3.7/site-packages/sklearn/svm/base.py:193: FutureWarning: The default value of gamma will change from 'auto' to 'scale' in version 0.22 to account better for unscaled features. Set gamma explicitly to 'auto' or 'scale' to avoid this warning.\n",
      "  \"avoid this warning.\", FutureWarning)\n"
     ]
    },
    {
     "name": "stdout",
     "output_type": "stream",
     "text": [
      "performanceTrain27 {'rmse': 81264.49074652609, 'mae': 53844.58839377934, 'mape': 30.33959249751959, 'r2': -0.05267439138809826}\n",
      "performanceTest27 {'rmse': 72289.12791100999, 'mae': 53514.16301760741, 'mape': 30.758632577589335, 'r2': -0.07732473255537808}\n"
     ]
    },
    {
     "name": "stderr",
     "output_type": "stream",
     "text": [
      "/home/sady/anaconda3/lib/python3.7/site-packages/sklearn/svm/base.py:193: FutureWarning: The default value of gamma will change from 'auto' to 'scale' in version 0.22 to account better for unscaled features. Set gamma explicitly to 'auto' or 'scale' to avoid this warning.\n",
      "  \"avoid this warning.\", FutureWarning)\n"
     ]
    },
    {
     "name": "stdout",
     "output_type": "stream",
     "text": [
      "performanceTrain28 {'rmse': 84316.05291420419, 'mae': 56654.707008910664, 'mape': 32.44115668782135, 'r2': -0.048539479234763094}\n",
      "performanceTest28 {'rmse': 77986.59561703166, 'mae': 52459.93231316972, 'mape': 26.909511734893965, 'r2': -0.07080685743108184}\n"
     ]
    },
    {
     "name": "stderr",
     "output_type": "stream",
     "text": [
      "/home/sady/anaconda3/lib/python3.7/site-packages/sklearn/svm/base.py:193: FutureWarning: The default value of gamma will change from 'auto' to 'scale' in version 0.22 to account better for unscaled features. Set gamma explicitly to 'auto' or 'scale' to avoid this warning.\n",
      "  \"avoid this warning.\", FutureWarning)\n"
     ]
    },
    {
     "name": "stdout",
     "output_type": "stream",
     "text": [
      "performanceTrain29 {'rmse': 78717.32487415794, 'mae': 54291.16175078315, 'mape': 31.138486320152616, 'r2': -0.05150511212533182}\n",
      "performanceTest29 {'rmse': 83562.92372774798, 'mae': 55038.88639300415, 'mape': 30.979456319557634, 'r2': -0.07065633487643708}\n"
     ]
    },
    {
     "name": "stderr",
     "output_type": "stream",
     "text": [
      "/home/sady/anaconda3/lib/python3.7/site-packages/sklearn/svm/base.py:193: FutureWarning: The default value of gamma will change from 'auto' to 'scale' in version 0.22 to account better for unscaled features. Set gamma explicitly to 'auto' or 'scale' to avoid this warning.\n",
      "  \"avoid this warning.\", FutureWarning)\n"
     ]
    },
    {
     "name": "stdout",
     "output_type": "stream",
     "text": [
      "performanceTrain30 {'rmse': 82701.85246177259, 'mae': 55623.31907248437, 'mape': 31.601309008112217, 'r2': -0.054753605390768234}\n",
      "performanceTest30 {'rmse': 78516.1992658606, 'mae': 57815.035697627995, 'mape': 35.1999054004825, 'r2': -0.052155865770348475}\n"
     ]
    },
    {
     "name": "stderr",
     "output_type": "stream",
     "text": [
      "/home/sady/anaconda3/lib/python3.7/site-packages/sklearn/svm/base.py:193: FutureWarning: The default value of gamma will change from 'auto' to 'scale' in version 0.22 to account better for unscaled features. Set gamma explicitly to 'auto' or 'scale' to avoid this warning.\n",
      "  \"avoid this warning.\", FutureWarning)\n"
     ]
    },
    {
     "name": "stdout",
     "output_type": "stream",
     "text": [
      "performanceTrain31 {'rmse': 83451.10484568533, 'mae': 57133.71229129671, 'mape': 32.82011214684603, 'r2': -0.05318326770443815}\n",
      "performanceTest31 {'rmse': 75405.19657103399, 'mae': 51964.541151194484, 'mape': 29.20358484796034, 'r2': -0.0404837372574518}\n"
     ]
    },
    {
     "name": "stderr",
     "output_type": "stream",
     "text": [
      "/home/sady/anaconda3/lib/python3.7/site-packages/sklearn/svm/base.py:193: FutureWarning: The default value of gamma will change from 'auto' to 'scale' in version 0.22 to account better for unscaled features. Set gamma explicitly to 'auto' or 'scale' to avoid this warning.\n",
      "  \"avoid this warning.\", FutureWarning)\n"
     ]
    },
    {
     "name": "stdout",
     "output_type": "stream",
     "text": [
      "performanceTrain32 {'rmse': 81451.7271748908, 'mae': 55665.14534168948, 'mape': 31.47178626353516, 'r2': -0.05208788710214396}\n",
      "performanceTest32 {'rmse': 82451.23906912115, 'mae': 58312.86540096419, 'mape': 33.606608727383126, 'r2': -0.04114880468084059}\n"
     ]
    },
    {
     "name": "stderr",
     "output_type": "stream",
     "text": [
      "/home/sady/anaconda3/lib/python3.7/site-packages/sklearn/svm/base.py:193: FutureWarning: The default value of gamma will change from 'auto' to 'scale' in version 0.22 to account better for unscaled features. Set gamma explicitly to 'auto' or 'scale' to avoid this warning.\n",
      "  \"avoid this warning.\", FutureWarning)\n"
     ]
    },
    {
     "name": "stdout",
     "output_type": "stream",
     "text": [
      "performanceTrain33 {'rmse': 84501.90558476975, 'mae': 56584.284941342434, 'mape': 31.95938993532871, 'r2': -0.0495347540928015}\n",
      "performanceTest33 {'rmse': 73326.33994041957, 'mae': 54088.29470597665, 'mape': 29.211044390568823, 'r2': -0.09628455450191775}\n"
     ]
    },
    {
     "name": "stderr",
     "output_type": "stream",
     "text": [
      "/home/sady/anaconda3/lib/python3.7/site-packages/sklearn/svm/base.py:193: FutureWarning: The default value of gamma will change from 'auto' to 'scale' in version 0.22 to account better for unscaled features. Set gamma explicitly to 'auto' or 'scale' to avoid this warning.\n",
      "  \"avoid this warning.\", FutureWarning)\n"
     ]
    },
    {
     "name": "stdout",
     "output_type": "stream",
     "text": [
      "performanceTrain34 {'rmse': 79037.68414199534, 'mae': 54159.67330512352, 'mape': 31.246776302079667, 'r2': -0.04433198443417474}\n",
      "performanceTest34 {'rmse': 92030.70335502808, 'mae': 61268.36691351995, 'mape': 31.264410948254845, 'r2': -0.0918442544666449}\n"
     ]
    },
    {
     "name": "stderr",
     "output_type": "stream",
     "text": [
      "/home/sady/anaconda3/lib/python3.7/site-packages/sklearn/svm/base.py:193: FutureWarning: The default value of gamma will change from 'auto' to 'scale' in version 0.22 to account better for unscaled features. Set gamma explicitly to 'auto' or 'scale' to avoid this warning.\n",
      "  \"avoid this warning.\", FutureWarning)\n"
     ]
    },
    {
     "name": "stdout",
     "output_type": "stream",
     "text": [
      "performanceTrain35 {'rmse': 80023.06536966357, 'mae': 54568.61840233492, 'mape': 31.406852094594857, 'r2': -0.052235577766430286}\n",
      "performanceTest35 {'rmse': 74432.1953443766, 'mae': 51202.38810148006, 'mape': 27.606580203404405, 'r2': -0.05965916417268757}\n"
     ]
    },
    {
     "name": "stderr",
     "output_type": "stream",
     "text": [
      "/home/sady/anaconda3/lib/python3.7/site-packages/sklearn/svm/base.py:193: FutureWarning: The default value of gamma will change from 'auto' to 'scale' in version 0.22 to account better for unscaled features. Set gamma explicitly to 'auto' or 'scale' to avoid this warning.\n",
      "  \"avoid this warning.\", FutureWarning)\n"
     ]
    },
    {
     "name": "stdout",
     "output_type": "stream",
     "text": [
      "performanceTrain36 {'rmse': 81462.72730243298, 'mae': 54959.55447242071, 'mape': 31.479390178157047, 'r2': -0.050494050282182235}\n",
      "performanceTest36 {'rmse': 85738.88761558475, 'mae': 63786.856852076795, 'mape': 34.33176086184946, 'r2': -0.14359096298157548}\n"
     ]
    },
    {
     "name": "stderr",
     "output_type": "stream",
     "text": [
      "/home/sady/anaconda3/lib/python3.7/site-packages/sklearn/svm/base.py:193: FutureWarning: The default value of gamma will change from 'auto' to 'scale' in version 0.22 to account better for unscaled features. Set gamma explicitly to 'auto' or 'scale' to avoid this warning.\n",
      "  \"avoid this warning.\", FutureWarning)\n"
     ]
    },
    {
     "name": "stdout",
     "output_type": "stream",
     "text": [
      "performanceTrain37 {'rmse': 82739.19664442833, 'mae': 55998.56204176766, 'mape': 32.28423221358987, 'r2': -0.05143133315430792}\n",
      "performanceTest37 {'rmse': 74837.14136898547, 'mae': 53219.14456342094, 'mape': 28.00723725947836, 'r2': -0.08640705638218038}\n"
     ]
    },
    {
     "name": "stderr",
     "output_type": "stream",
     "text": [
      "/home/sady/anaconda3/lib/python3.7/site-packages/sklearn/svm/base.py:193: FutureWarning: The default value of gamma will change from 'auto' to 'scale' in version 0.22 to account better for unscaled features. Set gamma explicitly to 'auto' or 'scale' to avoid this warning.\n",
      "  \"avoid this warning.\", FutureWarning)\n"
     ]
    },
    {
     "name": "stdout",
     "output_type": "stream",
     "text": [
      "performanceTrain38 {'rmse': 82782.22475970314, 'mae': 56386.086326432654, 'mape': 31.359532635585236, 'r2': -0.05827712551001962}\n",
      "performanceTest38 {'rmse': 64558.21348007447, 'mae': 48105.819546442784, 'mape': 31.489591873773588, 'r2': -0.016617908676919146}\n"
     ]
    },
    {
     "name": "stderr",
     "output_type": "stream",
     "text": [
      "/home/sady/anaconda3/lib/python3.7/site-packages/sklearn/svm/base.py:193: FutureWarning: The default value of gamma will change from 'auto' to 'scale' in version 0.22 to account better for unscaled features. Set gamma explicitly to 'auto' or 'scale' to avoid this warning.\n",
      "  \"avoid this warning.\", FutureWarning)\n"
     ]
    },
    {
     "name": "stdout",
     "output_type": "stream",
     "text": [
      "performanceTrain39 {'rmse': 77982.25741263962, 'mae': 53719.68264841535, 'mape': 31.2274182478286, 'r2': -0.04898499300964976}\n",
      "performanceTest39 {'rmse': 89363.5163642334, 'mae': 58505.694583930155, 'mape': 32.03973431808201, 'r2': -0.07479513538689608}\n"
     ]
    },
    {
     "name": "stderr",
     "output_type": "stream",
     "text": [
      "/home/sady/anaconda3/lib/python3.7/site-packages/sklearn/svm/base.py:193: FutureWarning: The default value of gamma will change from 'auto' to 'scale' in version 0.22 to account better for unscaled features. Set gamma explicitly to 'auto' or 'scale' to avoid this warning.\n",
      "  \"avoid this warning.\", FutureWarning)\n"
     ]
    },
    {
     "name": "stdout",
     "output_type": "stream",
     "text": [
      "performanceTrain40 {'rmse': 79942.83083526259, 'mae': 55126.15327027038, 'mape': 31.122741704873974, 'r2': -0.05050561893780681}\n",
      "performanceTest40 {'rmse': 71359.5521312676, 'mae': 52183.48996129218, 'mape': 29.56564795902355, 'r2': -0.05955058776461852}\n"
     ]
    },
    {
     "name": "stderr",
     "output_type": "stream",
     "text": [
      "/home/sady/anaconda3/lib/python3.7/site-packages/sklearn/svm/base.py:193: FutureWarning: The default value of gamma will change from 'auto' to 'scale' in version 0.22 to account better for unscaled features. Set gamma explicitly to 'auto' or 'scale' to avoid this warning.\n",
      "  \"avoid this warning.\", FutureWarning)\n"
     ]
    },
    {
     "name": "stdout",
     "output_type": "stream",
     "text": [
      "performanceTrain41 {'rmse': 83121.81669672433, 'mae': 55836.10155984939, 'mape': 31.511713883773535, 'r2': -0.05458787831330625}\n",
      "performanceTest41 {'rmse': 76262.3525383858, 'mae': 54151.485213926295, 'mape': 31.70953469624304, 'r2': -0.04269314136074098}\n"
     ]
    },
    {
     "name": "stderr",
     "output_type": "stream",
     "text": [
      "/home/sady/anaconda3/lib/python3.7/site-packages/sklearn/svm/base.py:193: FutureWarning: The default value of gamma will change from 'auto' to 'scale' in version 0.22 to account better for unscaled features. Set gamma explicitly to 'auto' or 'scale' to avoid this warning.\n",
      "  \"avoid this warning.\", FutureWarning)\n"
     ]
    },
    {
     "name": "stdout",
     "output_type": "stream",
     "text": [
      "performanceTrain42 {'rmse': 75066.29810439075, 'mae': 52730.958910051944, 'mape': 31.689381076475488, 'r2': -0.03473897789970648}\n",
      "performanceTest42 {'rmse': 96747.74242210656, 'mae': 65128.99245348832, 'mape': 31.984233643151818, 'r2': -0.11132737170135298}\n"
     ]
    },
    {
     "name": "stderr",
     "output_type": "stream",
     "text": [
      "/home/sady/anaconda3/lib/python3.7/site-packages/sklearn/svm/base.py:193: FutureWarning: The default value of gamma will change from 'auto' to 'scale' in version 0.22 to account better for unscaled features. Set gamma explicitly to 'auto' or 'scale' to avoid this warning.\n",
      "  \"avoid this warning.\", FutureWarning)\n"
     ]
    },
    {
     "name": "stdout",
     "output_type": "stream",
     "text": [
      "performanceTrain43 {'rmse': 81182.31019083493, 'mae': 55289.87790200605, 'mape': 31.36410460632587, 'r2': -0.058995754295104064}\n",
      "performanceTest43 {'rmse': 100760.55721260271, 'mae': 62361.0709853336, 'mape': 31.43683771156997, 'r2': -0.1049685258109554}\n"
     ]
    },
    {
     "name": "stderr",
     "output_type": "stream",
     "text": [
      "/home/sady/anaconda3/lib/python3.7/site-packages/sklearn/svm/base.py:193: FutureWarning: The default value of gamma will change from 'auto' to 'scale' in version 0.22 to account better for unscaled features. Set gamma explicitly to 'auto' or 'scale' to avoid this warning.\n",
      "  \"avoid this warning.\", FutureWarning)\n"
     ]
    },
    {
     "name": "stdout",
     "output_type": "stream",
     "text": [
      "performanceTrain44 {'rmse': 74562.09068910066, 'mae': 53033.860478473696, 'mape': 31.61971791181808, 'r2': -0.04299463891711053}\n",
      "performanceTest44 {'rmse': 111874.15263038862, 'mae': 69607.21093709479, 'mape': 29.69363249026946, 'r2': -0.15993595793858928}\n"
     ]
    },
    {
     "name": "stderr",
     "output_type": "stream",
     "text": [
      "/home/sady/anaconda3/lib/python3.7/site-packages/sklearn/svm/base.py:193: FutureWarning: The default value of gamma will change from 'auto' to 'scale' in version 0.22 to account better for unscaled features. Set gamma explicitly to 'auto' or 'scale' to avoid this warning.\n",
      "  \"avoid this warning.\", FutureWarning)\n"
     ]
    },
    {
     "name": "stdout",
     "output_type": "stream",
     "text": [
      "performanceTrain45 {'rmse': 79070.0273374807, 'mae': 54165.90404413696, 'mape': 30.494457277215602, 'r2': -0.05016875500939544}\n",
      "performanceTest45 {'rmse': 94765.58179703866, 'mae': 61551.28996794158, 'mape': 33.43171767962282, 'r2': -0.08712155980655956}\n"
     ]
    },
    {
     "name": "stderr",
     "output_type": "stream",
     "text": [
      "/home/sady/anaconda3/lib/python3.7/site-packages/sklearn/svm/base.py:193: FutureWarning: The default value of gamma will change from 'auto' to 'scale' in version 0.22 to account better for unscaled features. Set gamma explicitly to 'auto' or 'scale' to avoid this warning.\n",
      "  \"avoid this warning.\", FutureWarning)\n"
     ]
    },
    {
     "name": "stdout",
     "output_type": "stream",
     "text": [
      "performanceTrain46 {'rmse': 80340.52369977401, 'mae': 54994.85180228637, 'mape': 31.63685827541858, 'r2': -0.04987987751693668}\n",
      "performanceTest46 {'rmse': 83098.00941503647, 'mae': 57145.12034969674, 'mape': 32.16459029720911, 'r2': -0.04281214616914508}\n"
     ]
    },
    {
     "name": "stderr",
     "output_type": "stream",
     "text": [
      "/home/sady/anaconda3/lib/python3.7/site-packages/sklearn/svm/base.py:193: FutureWarning: The default value of gamma will change from 'auto' to 'scale' in version 0.22 to account better for unscaled features. Set gamma explicitly to 'auto' or 'scale' to avoid this warning.\n",
      "  \"avoid this warning.\", FutureWarning)\n"
     ]
    },
    {
     "name": "stdout",
     "output_type": "stream",
     "text": [
      "performanceTrain47 {'rmse': 81362.81469902182, 'mae': 56331.814364749785, 'mape': 32.72656942855562, 'r2': -0.037855649991850315}\n",
      "performanceTest47 {'rmse': 73522.10969076087, 'mae': 51052.1208701442, 'mape': 31.160173860645973, 'r2': -0.0029654785122539273}\n"
     ]
    },
    {
     "name": "stderr",
     "output_type": "stream",
     "text": [
      "/home/sady/anaconda3/lib/python3.7/site-packages/sklearn/svm/base.py:193: FutureWarning: The default value of gamma will change from 'auto' to 'scale' in version 0.22 to account better for unscaled features. Set gamma explicitly to 'auto' or 'scale' to avoid this warning.\n",
      "  \"avoid this warning.\", FutureWarning)\n"
     ]
    },
    {
     "name": "stdout",
     "output_type": "stream",
     "text": [
      "performanceTrain48 {'rmse': 80649.68762134793, 'mae': 54921.0535009596, 'mape': 31.00144484318172, 'r2': -0.05037390968319255}\n",
      "performanceTest48 {'rmse': 86789.38764275551, 'mae': 58904.60638756105, 'mape': 37.721603874509604, 'r2': -0.02067383555588065}\n"
     ]
    },
    {
     "name": "stderr",
     "output_type": "stream",
     "text": [
      "/home/sady/anaconda3/lib/python3.7/site-packages/sklearn/svm/base.py:193: FutureWarning: The default value of gamma will change from 'auto' to 'scale' in version 0.22 to account better for unscaled features. Set gamma explicitly to 'auto' or 'scale' to avoid this warning.\n",
      "  \"avoid this warning.\", FutureWarning)\n"
     ]
    },
    {
     "name": "stdout",
     "output_type": "stream",
     "text": [
      "performanceTrain49 {'rmse': 81971.34335602268, 'mae': 55341.34425672547, 'mape': 31.560823335220928, 'r2': -0.057853162139506864}\n",
      "performanceTest49 {'rmse': 83461.23055639128, 'mae': 51530.445889512725, 'mape': 25.77322404404225, 'r2': -0.0896751416535706}\n"
     ]
    },
    {
     "name": "stderr",
     "output_type": "stream",
     "text": [
      "/home/sady/anaconda3/lib/python3.7/site-packages/sklearn/svm/base.py:193: FutureWarning: The default value of gamma will change from 'auto' to 'scale' in version 0.22 to account better for unscaled features. Set gamma explicitly to 'auto' or 'scale' to avoid this warning.\n",
      "  \"avoid this warning.\", FutureWarning)\n"
     ]
    },
    {
     "name": "stdout",
     "output_type": "stream",
     "text": [
      "performanceTrain50 {'rmse': 81088.05314457709, 'mae': 55489.09488254349, 'mape': 31.23787912146183, 'r2': -0.061397746352744864}\n",
      "performanceTest50 {'rmse': 65961.27216351587, 'mae': 47543.389644638075, 'mape': 26.449840191099337, 'r2': -0.10615602494298715}\n"
     ]
    },
    {
     "name": "stderr",
     "output_type": "stream",
     "text": [
      "/home/sady/anaconda3/lib/python3.7/site-packages/sklearn/svm/base.py:193: FutureWarning: The default value of gamma will change from 'auto' to 'scale' in version 0.22 to account better for unscaled features. Set gamma explicitly to 'auto' or 'scale' to avoid this warning.\n",
      "  \"avoid this warning.\", FutureWarning)\n"
     ]
    },
    {
     "name": "stdout",
     "output_type": "stream",
     "text": [
      "performanceTrain51 {'rmse': 80647.36328158059, 'mae': 55407.705895829866, 'mape': 31.50057517613783, 'r2': -0.05113772195114663}\n",
      "performanceTest51 {'rmse': 101605.0409290193, 'mae': 64176.07529575434, 'mape': 30.442617170435586, 'r2': -0.11535812431953762}\n"
     ]
    },
    {
     "name": "stderr",
     "output_type": "stream",
     "text": [
      "/home/sady/anaconda3/lib/python3.7/site-packages/sklearn/svm/base.py:193: FutureWarning: The default value of gamma will change from 'auto' to 'scale' in version 0.22 to account better for unscaled features. Set gamma explicitly to 'auto' or 'scale' to avoid this warning.\n",
      "  \"avoid this warning.\", FutureWarning)\n"
     ]
    },
    {
     "name": "stdout",
     "output_type": "stream",
     "text": [
      "performanceTrain52 {'rmse': 81871.82881040055, 'mae': 55950.243295316875, 'mape': 31.856672168122756, 'r2': -0.045856359354149445}\n",
      "performanceTest52 {'rmse': 99235.59978676472, 'mae': 63731.41517415382, 'mape': 32.48783407872412, 'r2': -0.059012980590889885}\n"
     ]
    },
    {
     "name": "stderr",
     "output_type": "stream",
     "text": [
      "/home/sady/anaconda3/lib/python3.7/site-packages/sklearn/svm/base.py:193: FutureWarning: The default value of gamma will change from 'auto' to 'scale' in version 0.22 to account better for unscaled features. Set gamma explicitly to 'auto' or 'scale' to avoid this warning.\n",
      "  \"avoid this warning.\", FutureWarning)\n"
     ]
    },
    {
     "name": "stdout",
     "output_type": "stream",
     "text": [
      "performanceTrain53 {'rmse': 82913.73423636334, 'mae': 55702.77206347557, 'mape': 31.000013908252832, 'r2': -0.06541901012229934}\n",
      "performanceTest53 {'rmse': 90806.32041243956, 'mae': 60577.8887323174, 'mape': 32.57433880382895, 'r2': -0.0703618015501486}\n"
     ]
    },
    {
     "name": "stderr",
     "output_type": "stream",
     "text": [
      "/home/sady/anaconda3/lib/python3.7/site-packages/sklearn/svm/base.py:193: FutureWarning: The default value of gamma will change from 'auto' to 'scale' in version 0.22 to account better for unscaled features. Set gamma explicitly to 'auto' or 'scale' to avoid this warning.\n",
      "  \"avoid this warning.\", FutureWarning)\n"
     ]
    },
    {
     "name": "stdout",
     "output_type": "stream",
     "text": [
      "performanceTrain54 {'rmse': 80140.98344817357, 'mae': 54443.986601188735, 'mape': 30.37564391662237, 'r2': -0.06430099455099803}\n",
      "performanceTest54 {'rmse': 72083.16378111049, 'mae': 53609.74016844696, 'mape': 34.10422459222555, 'r2': -0.0636034557916243}\n"
     ]
    },
    {
     "name": "stderr",
     "output_type": "stream",
     "text": [
      "/home/sady/anaconda3/lib/python3.7/site-packages/sklearn/svm/base.py:193: FutureWarning: The default value of gamma will change from 'auto' to 'scale' in version 0.22 to account better for unscaled features. Set gamma explicitly to 'auto' or 'scale' to avoid this warning.\n",
      "  \"avoid this warning.\", FutureWarning)\n"
     ]
    },
    {
     "name": "stdout",
     "output_type": "stream",
     "text": [
      "performanceTrain55 {'rmse': 84372.81674470587, 'mae': 56449.72544366408, 'mape': 31.808715054261278, 'r2': -0.05445771316590031}\n",
      "performanceTest55 {'rmse': 74051.50625401663, 'mae': 54120.66775844341, 'mape': 33.07070829672132, 'r2': -0.025288707721646375}\n"
     ]
    },
    {
     "name": "stderr",
     "output_type": "stream",
     "text": [
      "/home/sady/anaconda3/lib/python3.7/site-packages/sklearn/svm/base.py:193: FutureWarning: The default value of gamma will change from 'auto' to 'scale' in version 0.22 to account better for unscaled features. Set gamma explicitly to 'auto' or 'scale' to avoid this warning.\n",
      "  \"avoid this warning.\", FutureWarning)\n"
     ]
    },
    {
     "name": "stdout",
     "output_type": "stream",
     "text": [
      "performanceTrain56 {'rmse': 81619.02676767542, 'mae': 54858.97750603263, 'mape': 31.133039735012574, 'r2': -0.04729427493296412}\n",
      "performanceTest56 {'rmse': 85568.14543073552, 'mae': 60115.19206512249, 'mape': 35.19018687845792, 'r2': -0.052078693152177946}\n"
     ]
    },
    {
     "name": "stderr",
     "output_type": "stream",
     "text": [
      "/home/sady/anaconda3/lib/python3.7/site-packages/sklearn/svm/base.py:193: FutureWarning: The default value of gamma will change from 'auto' to 'scale' in version 0.22 to account better for unscaled features. Set gamma explicitly to 'auto' or 'scale' to avoid this warning.\n",
      "  \"avoid this warning.\", FutureWarning)\n"
     ]
    },
    {
     "name": "stdout",
     "output_type": "stream",
     "text": [
      "performanceTrain57 {'rmse': 77883.34620171733, 'mae': 54173.20443336019, 'mape': 32.05839651691037, 'r2': -0.03946043918749975}\n",
      "performanceTest57 {'rmse': 81306.55769335291, 'mae': 57234.45924332531, 'mape': 33.115104733144086, 'r2': -0.04521651996516973}\n"
     ]
    },
    {
     "name": "stderr",
     "output_type": "stream",
     "text": [
      "/home/sady/anaconda3/lib/python3.7/site-packages/sklearn/svm/base.py:193: FutureWarning: The default value of gamma will change from 'auto' to 'scale' in version 0.22 to account better for unscaled features. Set gamma explicitly to 'auto' or 'scale' to avoid this warning.\n",
      "  \"avoid this warning.\", FutureWarning)\n"
     ]
    },
    {
     "name": "stdout",
     "output_type": "stream",
     "text": [
      "performanceTrain58 {'rmse': 80640.23890007182, 'mae': 57055.48473202619, 'mape': 32.39992806444869, 'r2': -0.04861116917634911}\n",
      "performanceTest58 {'rmse': 65140.74986805674, 'mae': 44969.00731856355, 'mape': 27.983133503744128, 'r2': 0.00012722214141513977}\n"
     ]
    },
    {
     "name": "stderr",
     "output_type": "stream",
     "text": [
      "/home/sady/anaconda3/lib/python3.7/site-packages/sklearn/svm/base.py:193: FutureWarning: The default value of gamma will change from 'auto' to 'scale' in version 0.22 to account better for unscaled features. Set gamma explicitly to 'auto' or 'scale' to avoid this warning.\n",
      "  \"avoid this warning.\", FutureWarning)\n"
     ]
    },
    {
     "name": "stdout",
     "output_type": "stream",
     "text": [
      "performanceTrain59 {'rmse': 78122.2087749256, 'mae': 53389.84166498259, 'mape': 31.03227749975874, 'r2': -0.03828839108188076}\n",
      "performanceTest59 {'rmse': 98124.5552585434, 'mae': 65943.30917545063, 'mape': 36.25774037634532, 'r2': -0.08703057926694036}\n"
     ]
    },
    {
     "name": "stderr",
     "output_type": "stream",
     "text": [
      "/home/sady/anaconda3/lib/python3.7/site-packages/sklearn/svm/base.py:193: FutureWarning: The default value of gamma will change from 'auto' to 'scale' in version 0.22 to account better for unscaled features. Set gamma explicitly to 'auto' or 'scale' to avoid this warning.\n",
      "  \"avoid this warning.\", FutureWarning)\n"
     ]
    },
    {
     "name": "stdout",
     "output_type": "stream",
     "text": [
      "performanceTrain60 {'rmse': 82833.26292741092, 'mae': 55583.22143441504, 'mape': 31.14472354373161, 'r2': -0.05412831572525967}\n",
      "performanceTest60 {'rmse': 77797.96888051009, 'mae': 57525.33717921745, 'mape': 34.104405749361824, 'r2': -0.04984657099981615}\n"
     ]
    },
    {
     "name": "stderr",
     "output_type": "stream",
     "text": [
      "/home/sady/anaconda3/lib/python3.7/site-packages/sklearn/svm/base.py:193: FutureWarning: The default value of gamma will change from 'auto' to 'scale' in version 0.22 to account better for unscaled features. Set gamma explicitly to 'auto' or 'scale' to avoid this warning.\n",
      "  \"avoid this warning.\", FutureWarning)\n"
     ]
    },
    {
     "name": "stdout",
     "output_type": "stream",
     "text": [
      "performanceTrain61 {'rmse': 79929.51930605365, 'mae': 55242.41433964369, 'mape': 31.52524474588903, 'r2': -0.04716381244673862}\n",
      "performanceTest61 {'rmse': 88662.38266095487, 'mae': 62480.02237756068, 'mape': 36.11811964982806, 'r2': -0.059161549867966734}\n"
     ]
    },
    {
     "name": "stderr",
     "output_type": "stream",
     "text": [
      "/home/sady/anaconda3/lib/python3.7/site-packages/sklearn/svm/base.py:193: FutureWarning: The default value of gamma will change from 'auto' to 'scale' in version 0.22 to account better for unscaled features. Set gamma explicitly to 'auto' or 'scale' to avoid this warning.\n",
      "  \"avoid this warning.\", FutureWarning)\n"
     ]
    },
    {
     "name": "stdout",
     "output_type": "stream",
     "text": [
      "performanceTrain62 {'rmse': 82257.03527228409, 'mae': 55904.281838087656, 'mape': 32.17786535437531, 'r2': -0.047135471891672776}\n",
      "performanceTest62 {'rmse': 74589.43338077466, 'mae': 55344.57281488888, 'mape': 32.102836397241944, 'r2': -0.05443451515332631}\n"
     ]
    },
    {
     "name": "stderr",
     "output_type": "stream",
     "text": [
      "/home/sady/anaconda3/lib/python3.7/site-packages/sklearn/svm/base.py:193: FutureWarning: The default value of gamma will change from 'auto' to 'scale' in version 0.22 to account better for unscaled features. Set gamma explicitly to 'auto' or 'scale' to avoid this warning.\n",
      "  \"avoid this warning.\", FutureWarning)\n"
     ]
    },
    {
     "name": "stdout",
     "output_type": "stream",
     "text": [
      "performanceTrain63 {'rmse': 83284.23577855574, 'mae': 56197.48965271221, 'mape': 32.5078661037645, 'r2': -0.04823365455776507}\n",
      "performanceTest63 {'rmse': 76710.66152408485, 'mae': 56097.425153237324, 'mape': 30.207836131032934, 'r2': -0.09001468550719549}\n"
     ]
    },
    {
     "name": "stderr",
     "output_type": "stream",
     "text": [
      "/home/sady/anaconda3/lib/python3.7/site-packages/sklearn/svm/base.py:193: FutureWarning: The default value of gamma will change from 'auto' to 'scale' in version 0.22 to account better for unscaled features. Set gamma explicitly to 'auto' or 'scale' to avoid this warning.\n",
      "  \"avoid this warning.\", FutureWarning)\n"
     ]
    },
    {
     "name": "stdout",
     "output_type": "stream",
     "text": [
      "performanceTrain64 {'rmse': 80176.62074634118, 'mae': 55259.05382337962, 'mape': 31.027126579276736, 'r2': -0.049588612076582717}\n",
      "performanceTest64 {'rmse': 72418.27371825029, 'mae': 50894.00901475938, 'mape': 30.26623405707066, 'r2': -0.024036599448968854}\n"
     ]
    },
    {
     "name": "stderr",
     "output_type": "stream",
     "text": [
      "/home/sady/anaconda3/lib/python3.7/site-packages/sklearn/svm/base.py:193: FutureWarning: The default value of gamma will change from 'auto' to 'scale' in version 0.22 to account better for unscaled features. Set gamma explicitly to 'auto' or 'scale' to avoid this warning.\n",
      "  \"avoid this warning.\", FutureWarning)\n"
     ]
    },
    {
     "name": "stdout",
     "output_type": "stream",
     "text": [
      "performanceTrain65 {'rmse': 83230.24452978991, 'mae': 56057.18997436335, 'mape': 31.642748191840163, 'r2': -0.05234449995280621}\n",
      "performanceTest65 {'rmse': 69439.98732438407, 'mae': 53589.3809754127, 'mape': 35.58919380467743, 'r2': -0.0058704347879647845}\n"
     ]
    },
    {
     "name": "stderr",
     "output_type": "stream",
     "text": [
      "/home/sady/anaconda3/lib/python3.7/site-packages/sklearn/svm/base.py:193: FutureWarning: The default value of gamma will change from 'auto' to 'scale' in version 0.22 to account better for unscaled features. Set gamma explicitly to 'auto' or 'scale' to avoid this warning.\n",
      "  \"avoid this warning.\", FutureWarning)\n"
     ]
    },
    {
     "name": "stdout",
     "output_type": "stream",
     "text": [
      "performanceTrain66 {'rmse': 82330.26557000949, 'mae': 56043.72962020124, 'mape': 32.55109440545469, 'r2': -0.0483609502992246}\n",
      "performanceTest66 {'rmse': 75092.59247018876, 'mae': 53270.13010966033, 'mape': 27.04913091324883, 'r2': -0.13350276642015668}\n"
     ]
    },
    {
     "name": "stderr",
     "output_type": "stream",
     "text": [
      "/home/sady/anaconda3/lib/python3.7/site-packages/sklearn/svm/base.py:193: FutureWarning: The default value of gamma will change from 'auto' to 'scale' in version 0.22 to account better for unscaled features. Set gamma explicitly to 'auto' or 'scale' to avoid this warning.\n",
      "  \"avoid this warning.\", FutureWarning)\n"
     ]
    },
    {
     "name": "stdout",
     "output_type": "stream",
     "text": [
      "performanceTrain67 {'rmse': 83794.8507665812, 'mae': 56312.080324518975, 'mape': 30.970787665862726, 'r2': -0.061153953318093146}\n",
      "performanceTest67 {'rmse': 66308.71976522314, 'mae': 48482.3041996222, 'mape': 29.526149678982833, 'r2': -0.07400905115477197}\n"
     ]
    },
    {
     "name": "stderr",
     "output_type": "stream",
     "text": [
      "/home/sady/anaconda3/lib/python3.7/site-packages/sklearn/svm/base.py:193: FutureWarning: The default value of gamma will change from 'auto' to 'scale' in version 0.22 to account better for unscaled features. Set gamma explicitly to 'auto' or 'scale' to avoid this warning.\n",
      "  \"avoid this warning.\", FutureWarning)\n"
     ]
    },
    {
     "name": "stdout",
     "output_type": "stream",
     "text": [
      "performanceTrain68 {'rmse': 78726.3669368458, 'mae': 55154.963904678116, 'mape': 32.56108046008174, 'r2': -0.04085427652575757}\n",
      "performanceTest68 {'rmse': 67778.4552448964, 'mae': 50905.52218703198, 'mape': 29.202609950320845, 'r2': -0.0431321397887805}\n"
     ]
    },
    {
     "name": "stderr",
     "output_type": "stream",
     "text": [
      "/home/sady/anaconda3/lib/python3.7/site-packages/sklearn/svm/base.py:193: FutureWarning: The default value of gamma will change from 'auto' to 'scale' in version 0.22 to account better for unscaled features. Set gamma explicitly to 'auto' or 'scale' to avoid this warning.\n",
      "  \"avoid this warning.\", FutureWarning)\n"
     ]
    },
    {
     "name": "stdout",
     "output_type": "stream",
     "text": [
      "performanceTrain69 {'rmse': 83103.61662147322, 'mae': 55483.85945433483, 'mape': 31.594419940139325, 'r2': -0.04469933323660502}\n",
      "performanceTest69 {'rmse': 70797.7811526137, 'mae': 53022.61845019122, 'mape': 27.820727907984093, 'r2': -0.08963560962070893}\n"
     ]
    }
   ],
   "source": [
    "from sklearn.svm import SVR\n",
    "\n",
    "i = 0\n",
    "components = list(range(25,70))\n",
    "X_pca = np.zeros(75)\n",
    "\n",
    "for i in components:\n",
    "    ext = ''\n",
    "    ext = PCA(n_components=i)\n",
    "    ext = ext.fit(Xtrain)\n",
    "    X_ext = ''\n",
    "    X_ext = ext.transform(Xtrain)\n",
    "    \n",
    "    normalize = preprocessing.StandardScaler().fit(X_ext)\n",
    "    X_ext = normalize.transform(X_ext)\n",
    "    \n",
    "    \n",
    "    #Separa conjunto de entrenamiento y validación del conjunto de test\n",
    "    X_train_val_ex, Xtest_ex, y_train_val_ex, y_test_ex = train_test_split(X_ext, Ytrain, test_size=0.10, shuffle=True)\n",
    "    \n",
    "    #Separar entrenamiento del conjunto de validación\n",
    "    Xtrain_ex, X_val_ex, y_train_ex, y_val_ex = train_test_split(X_train_val_ex, y_train_val_ex, test_size=0.20, shuffle=True)\n",
    "    \n",
    "    #normalize = preprocessing.StandardScaler().fit(Xtrain_ex)\n",
    "    #X_train_ex_N = normalize.transform(Xtrain_ex)\n",
    "    #X_test_ex_N = normalize.transform(Xtest_ex)  \n",
    "    regr = ''\n",
    "    regr = SVR()\n",
    "    regr.fit(Xtrain_ex, y_train_ex)\n",
    "\n",
    "    Yest = regr.predict(Xtrain_ex)\n",
    "    \n",
    "    performanceTrain = errorMeasure(y_train_ex, Yest)\n",
    "    print('performanceTrain' + str(i), performanceTrain)\n",
    "\n",
    "    #Desempeño del modelo con datos de prueba\n",
    "    Ytest = regr.predict(Xtest_ex)\n",
    "\n",
    "    performanceTest = errorMeasure(y_test_ex, Ytest)\n",
    "    print('performanceTest' + str(i), performanceTest)"
   ]
  },
  {
   "cell_type": "markdown",
   "metadata": {},
   "source": [
    "Ejecute la siguiente instrucción para dejar guardados en el notebook los resultados de las pruebas."
   ]
  },
  {
   "cell_type": "code",
   "execution_count": null,
   "metadata": {},
   "outputs": [],
   "source": [
    "qgrid_widget.get_changed_df()"
   ]
  },
  {
   "cell_type": "markdown",
   "metadata": {},
   "source": [
    "## Ejercicio 5: Pruebas\n",
    "\n",
    "En la celda de código del Ejercicio # 3, comente la línea donde se normalizan las matrices de datos Xtrain y Xtest. Realice pruebas para diferentes valores de $\\eta$ y de grado del polinomio de manera similar a los valores que usó en el punto 3. Observe que pasa con el ECM.\n",
    "\n",
    "#### Responda\n",
    "\n",
    "5.1 ¿Qué sucede con los valores del ECM?\n",
    "\n"
   ]
  },
  {
   "cell_type": "markdown",
   "metadata": {},
   "source": [
    "Los valores del ECM se desbordan"
   ]
  },
  {
   "cell_type": "markdown",
   "metadata": {},
   "source": [
    "5.2 ¿A qué se debe lo que observa?\n"
   ]
  },
  {
   "cell_type": "markdown",
   "metadata": {},
   "source": [
    "Debido a que la convergencia entre caracteristicas se reduce por falta de normalización"
   ]
  },
  {
   "cell_type": "markdown",
   "metadata": {},
   "source": [
    "5.3.1 ¿Qu&eacute; proceso hace la normalizaci&oacute;n sobre los datos? \n",
    "\n",
    "\n"
   ]
  },
  {
   "cell_type": "markdown",
   "metadata": {},
   "source": [
    "Cambia los valores del dataset a una escala común sin distorsionar las diferencias en los rangos de valores."
   ]
  },
  {
   "cell_type": "markdown",
   "metadata": {},
   "source": [
    "5.3.2 Consulte por qu&eacute; es necesaria la normalizaci&oacute;n en el modelo de regresi&oacute;n  y cu&aacute;les son los tipos de normalizaci&oacute;n m&aacute;s comunes. "
   ]
  },
  {
   "cell_type": "markdown",
   "metadata": {},
   "source": [
    "Es necesaria porque es posible que algunas características sean cuantitativamente mucho mayores que las demás lo que puede causar que contribuyan a la variación en el término independiente aunque no necesariamente sean más importantes. Algunos de los métodos de normalización son: decimal scaling, min-max normalization y z-score."
   ]
  },
  {
   "cell_type": "markdown",
   "metadata": {},
   "source": [
    "5.3.3 ¿Cu&aacute;l de ellos se aplic&oacute; en el laboratorio?"
   ]
  },
  {
   "cell_type": "markdown",
   "metadata": {},
   "source": [
    "El método utilizado en este laboratorio fue z-score. \n"
   ]
  }
 ],
 "metadata": {
  "kernelspec": {
   "display_name": "Python 3",
   "language": "python",
   "name": "python3"
  },
  "language_info": {
   "codemirror_mode": {
    "name": "ipython",
    "version": 3
   },
   "file_extension": ".py",
   "mimetype": "text/x-python",
   "name": "python",
   "nbconvert_exporter": "python",
   "pygments_lexer": "ipython3",
   "version": "3.7.4"
  }
 },
 "nbformat": 4,
 "nbformat_minor": 2
}
