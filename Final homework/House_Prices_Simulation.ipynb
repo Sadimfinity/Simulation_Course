{
 "cells": [
  {
   "cell_type": "markdown",
   "metadata": {},
   "source": [
    "# Proyecto Final\n",
    "\n",
    "### 2019 - II\n",
    "\n",
    "#### Profesor: Julián D. Arias Londoño\n",
    "#### julian.ariasl@udea.edu.co\n"
   ]
  },
  {
   "cell_type": "markdown",
   "metadata": {},
   "source": [
    "### Primer integrante:\n",
    "Nombre: Jorge Hiler Ricardo\n",
    "\n",
    "\n",
    "#### Segundo integrante:\n",
    "\n",
    "Nombre: Santiago Gaviria Zapata\n"
   ]
  },
  {
   "cell_type": "code",
   "execution_count": 256,
   "metadata": {},
   "outputs": [
    {
     "name": "stdout",
     "output_type": "stream",
     "text": [
      "1460 77\n"
     ]
    }
   ],
   "source": [
    "import numpy as np\n",
    "import numpy.matlib as npMatlib\n",
    "import matplotlib.pyplot as plt\n",
    "import pandas as pd\n",
    "from scipy import stats\n",
    "\n",
    "#Algunas advertencias que queremos evitar\n",
    "import warnings\n",
    "warnings.filterwarnings(\"always\")\n",
    "\n",
    "train = pd.read_csv(r'DB/train.csv')\n",
    "\n",
    "test = pd.read_csv(r'DB/test.csv')\n",
    "\n",
    "print(np.size(train, 0), np.size(train, 1))"
   ]
  },
  {
   "cell_type": "code",
   "execution_count": 257,
   "metadata": {},
   "outputs": [
    {
     "name": "stdout",
     "output_type": "stream",
     "text": [
      "Numero de columnas con valores NA:  0\n",
      "Numero de columnas con valores NA:  0\n",
      "Lllenado de campos vacíos completado\n"
     ]
    }
   ],
   "source": [
    "\n",
    "\n",
    "def fillNAs(train, test):\n",
    "    naTrainColumns = train.columns[train.isna().any()].tolist()\n",
    "    train[naTrainColumns[0]].fillna(train[naTrainColumns[0]].mean(), inplace = True)\n",
    "    train[naTrainColumns[1]].fillna('None', inplace = True)\n",
    "    train[naTrainColumns[2]].fillna(train[naTrainColumns[2]].mean(), inplace = True)\n",
    "    train[naTrainColumns[3]].fillna('NA', inplace = True)\n",
    "    train[naTrainColumns[4]].fillna('NA', inplace = True)\n",
    "    train[naTrainColumns[5]].fillna('NA', inplace = True)\n",
    "    train[naTrainColumns[6]].fillna('NA', inplace = True)\n",
    "    train[naTrainColumns[7]].fillna('NA', inplace = True)\n",
    "    train[naTrainColumns[8]].fillna('SBrkr', inplace = True)\n",
    "    train[naTrainColumns[9]].fillna('NA', inplace = True)\n",
    "    train[naTrainColumns[10]].fillna('NA', inplace = True)\n",
    "    train[naTrainColumns[11]].fillna(train[naTrainColumns[11]].mean(), inplace = True)\n",
    "    train[naTrainColumns[12]].fillna('NA', inplace = True)\n",
    "    train[naTrainColumns[13]].fillna('NA', inplace = True)\n",
    "    train[naTrainColumns[14]].fillna('NA', inplace = True)\n",
    "    \n",
    "    naTrainResultantColumns = train.columns[train.isna().any()].size\n",
    "    print('Numero de columnas con valores NA: ', naTrainResultantColumns)\n",
    "    \n",
    "    naTestColumns = test.columns[test.isna().any()].tolist()\n",
    "    \n",
    "    test[naTestColumns[0]].fillna('RL', inplace = True)\n",
    "    test[naTestColumns[1]].fillna(test[naTestColumns[1]].mean(), inplace = True)\n",
    "    test[naTestColumns[2]].fillna('None', inplace = True)\n",
    "    test[naTestColumns[3]].fillna(test[naTestColumns[3]].mean(), inplace = True)\n",
    "    test[naTestColumns[4]].fillna('NA', inplace = True)\n",
    "    test[naTestColumns[5]].fillna('NA', inplace = True)\n",
    "    test[naTestColumns[6]].fillna('NA', inplace = True)\n",
    "    test[naTestColumns[7]].fillna('NA', inplace = True)\n",
    "    test[naTestColumns[8]].fillna(test[naTestColumns[8]].mean(), inplace = True)\n",
    "    test[naTestColumns[9]].fillna('NA', inplace = True)\n",
    "    test[naTestColumns[10]].fillna(test[naTestColumns[10]].mean(), inplace = True)\n",
    "    test[naTestColumns[11]].fillna(test[naTestColumns[11]].mean(), inplace = True)\n",
    "    test[naTestColumns[12]].fillna(test[naTestColumns[12]].mean(), inplace = True)\n",
    "    test[naTestColumns[13]].fillna(test[naTestColumns[13]].mean(), inplace = True)\n",
    "    test[naTestColumns[14]].fillna(test[naTestColumns[14]].mean(), inplace = True)\n",
    "    test[naTestColumns[15]].fillna('NA', inplace = True)\n",
    "    test[naTestColumns[16]].fillna('NA', inplace = True)\n",
    "    test[naTestColumns[17]].fillna(test[naTestColumns[17]].mean(), inplace = True)\n",
    "    test[naTestColumns[18]].fillna('NA', inplace = True)\n",
    "    test[naTestColumns[19]].fillna(round(float(test[naTestColumns[19]].mean()), 1), inplace = True)\n",
    "    test[naTestColumns[20]].fillna(test[naTestColumns[20]].mean(), inplace = True)\n",
    "    test[naTestColumns[21]].fillna('NA', inplace = True)\n",
    "    test[naTestColumns[22]].fillna('NA', inplace = True)\n",
    "    \n",
    "    naTestResultantColumns = train.columns[train.isna().any()].size\n",
    "    print('Numero de columnas con valores NA: ', naTestResultantColumns)\n",
    "    \n",
    "    if (naTrainResultantColumns == 0 & naTestResultantColumns == 0):\n",
    "        return print(\"Lllenado de campos vacíos completado\")\n",
    "    else: \n",
    "        return print(\"Llenado de campos vacíos erróneo\")\n",
    "\n",
    "fillNAs(train, test)\n"
   ]
  },
  {
   "cell_type": "code",
   "execution_count": 258,
   "metadata": {},
   "outputs": [],
   "source": [
    "\n",
    "#Deleted columns 'cause had a lot of NA > 80%: 'Alley','Fence','MiscFeature','PoolQC'\n",
    "#Deleted columns 'cause the std = 0: 'Utilities' %rep = 1, 'Street' %rep =1,\n",
    "#'LandSlope' %rep = 0.95, Condition2 %rep = 1445/1460, RoofMatl %rep = 1434/1460, \n",
    "# Heating %rep = 1428/1460, LowQualFinSF %rep = 1436/1460, \n",
    "# PoolArea %rep = 1454/1460, 3SsnPorch %rep = 1438/1460\n",
    "\n",
    "def deleteColumns(train, test):\n",
    "    columnsToDelete = ['Id','Utilities','Street','LandSlope', 'Condition2', 'RoofMatl',  'Heating', 'LowQualFinSF', 'PoolArea', '3SsnPorch']\n",
    "    train.drop(labels = columnsToDelete, axis = 1, inplace = True)\n",
    "    test.drop(labels = columnsToDelete, axis = 1, inplace = True)\n",
    "    \n",
    "deleteColumns(train, test)"
   ]
  },
  {
   "cell_type": "code",
   "execution_count": 259,
   "metadata": {},
   "outputs": [
    {
     "name": "stdout",
     "output_type": "stream",
     "text": [
      "<class 'pandas.core.frame.DataFrame'>\n",
      "Int64Index: 2912 entries, 0 to 1451\n",
      "Data columns (total 204 columns):\n",
      "LotFrontage              float64\n",
      "LotArea                  int64\n",
      "OverallQual              int64\n",
      "OverallCond              int64\n",
      "YearBuilt                int64\n",
      "YearRemodAdd             int64\n",
      "MasVnrArea               float64\n",
      "ExterQual                int64\n",
      "ExterCond                int64\n",
      "BsmtQual                 int64\n",
      "BsmtCond                 int64\n",
      "BsmtExposure             int64\n",
      "BsmtFinSF1               float64\n",
      "BsmtFinSF2               float64\n",
      "BsmtUnfSF                float64\n",
      "TotalBsmtSF              float64\n",
      "HeatingQC                int64\n",
      "1stFlrSF                 int64\n",
      "2ndFlrSF                 int64\n",
      "GrLivArea                int64\n",
      "BsmtFullBath             float64\n",
      "BsmtHalfBath             float64\n",
      "FullBath                 int64\n",
      "HalfBath                 int64\n",
      "BedroomAbvGr             int64\n",
      "KitchenAbvGr             int64\n",
      "KitchenQual              int64\n",
      "TotRmsAbvGrd             int64\n",
      "Fireplaces               int64\n",
      "FireplaceQu              int64\n",
      "GarageYrBlt              float64\n",
      "GarageCars               float64\n",
      "GarageArea               float64\n",
      "GarageQual               int64\n",
      "GarageCond               int64\n",
      "WoodDeckSF               int64\n",
      "OpenPorchSF              int64\n",
      "EnclosedPorch            int64\n",
      "ScreenPorch              int64\n",
      "MiscVal                  int64\n",
      "MoSold                   int64\n",
      "YrSold                   int64\n",
      "MSSubClass_30            uint8\n",
      "MSSubClass_40            uint8\n",
      "MSSubClass_45            uint8\n",
      "MSSubClass_50            uint8\n",
      "MSSubClass_60            uint8\n",
      "MSSubClass_70            uint8\n",
      "MSSubClass_75            uint8\n",
      "MSSubClass_80            uint8\n",
      "MSSubClass_85            uint8\n",
      "MSSubClass_90            uint8\n",
      "MSSubClass_120           uint8\n",
      "MSSubClass_150           uint8\n",
      "MSSubClass_160           uint8\n",
      "MSSubClass_180           uint8\n",
      "MSSubClass_190           uint8\n",
      "MSZoning_FV              uint8\n",
      "MSZoning_RH              uint8\n",
      "MSZoning_RL              uint8\n",
      "MSZoning_RM              uint8\n",
      "LotShape_IR2             uint8\n",
      "LotShape_IR3             uint8\n",
      "LotShape_Reg             uint8\n",
      "LandContour_HLS          uint8\n",
      "LandContour_Low          uint8\n",
      "LandContour_Lvl          uint8\n",
      "LotConfig_CulDSac        uint8\n",
      "LotConfig_FR2            uint8\n",
      "LotConfig_FR3            uint8\n",
      "LotConfig_Inside         uint8\n",
      "Neighborhood_Blueste     uint8\n",
      "Neighborhood_BrDale      uint8\n",
      "Neighborhood_BrkSide     uint8\n",
      "Neighborhood_ClearCr     uint8\n",
      "Neighborhood_CollgCr     uint8\n",
      "Neighborhood_Crawfor     uint8\n",
      "Neighborhood_Edwards     uint8\n",
      "Neighborhood_Gilbert     uint8\n",
      "Neighborhood_IDOTRR      uint8\n",
      "Neighborhood_MeadowV     uint8\n",
      "Neighborhood_Mitchel     uint8\n",
      "Neighborhood_NAmes       uint8\n",
      "Neighborhood_NPkVill     uint8\n",
      "Neighborhood_NWAmes      uint8\n",
      "Neighborhood_NoRidge     uint8\n",
      "Neighborhood_NridgHt     uint8\n",
      "Neighborhood_OldTown     uint8\n",
      "Neighborhood_SWISU       uint8\n",
      "Neighborhood_Sawyer      uint8\n",
      "Neighborhood_SawyerW     uint8\n",
      "Neighborhood_Somerst     uint8\n",
      "Neighborhood_StoneBr     uint8\n",
      "Neighborhood_Timber      uint8\n",
      "Neighborhood_Veenker     uint8\n",
      "Condition1_Feedr         uint8\n",
      "Condition1_Norm          uint8\n",
      "Condition1_PosA          uint8\n",
      "Condition1_PosN          uint8\n",
      "Condition1_RRAe          uint8\n",
      "Condition1_RRAn          uint8\n",
      "Condition1_RRNe          uint8\n",
      "Condition1_RRNn          uint8\n",
      "BldgType_2fmCon          uint8\n",
      "BldgType_Duplex          uint8\n",
      "BldgType_Twnhs           uint8\n",
      "BldgType_TwnhsE          uint8\n",
      "HouseStyle_1.5Unf        uint8\n",
      "HouseStyle_1Story        uint8\n",
      "HouseStyle_2.5Fin        uint8\n",
      "HouseStyle_2.5Unf        uint8\n",
      "HouseStyle_2Story        uint8\n",
      "HouseStyle_SFoyer        uint8\n",
      "HouseStyle_SLvl          uint8\n",
      "RoofStyle_Gable          uint8\n",
      "RoofStyle_Gambrel        uint8\n",
      "RoofStyle_Hip            uint8\n",
      "RoofStyle_Mansard        uint8\n",
      "RoofStyle_Shed           uint8\n",
      "Exterior1st_AsphShn      uint8\n",
      "Exterior1st_BrkComm      uint8\n",
      "Exterior1st_BrkFace      uint8\n",
      "Exterior1st_CBlock       uint8\n",
      "Exterior1st_CemntBd      uint8\n",
      "Exterior1st_HdBoard      uint8\n",
      "Exterior1st_ImStucc      uint8\n",
      "Exterior1st_MetalSd      uint8\n",
      "Exterior1st_Plywood      uint8\n",
      "Exterior1st_Stone        uint8\n",
      "Exterior1st_Stucco       uint8\n",
      "Exterior1st_VinylSd      uint8\n",
      "Exterior1st_Wd Sdng      uint8\n",
      "Exterior1st_WdShing      uint8\n",
      "Exterior2nd_AsphShn      uint8\n",
      "Exterior2nd_Brk Cmn      uint8\n",
      "Exterior2nd_BrkFace      uint8\n",
      "Exterior2nd_CBlock       uint8\n",
      "Exterior2nd_CmentBd      uint8\n",
      "Exterior2nd_HdBoard      uint8\n",
      "Exterior2nd_ImStucc      uint8\n",
      "Exterior2nd_MetalSd      uint8\n",
      "Exterior2nd_Other        uint8\n",
      "Exterior2nd_Plywood      uint8\n",
      "Exterior2nd_Stone        uint8\n",
      "Exterior2nd_Stucco       uint8\n",
      "Exterior2nd_VinylSd      uint8\n",
      "Exterior2nd_Wd Sdng      uint8\n",
      "Exterior2nd_Wd Shng      uint8\n",
      "MasVnrType_BrkFace       uint8\n",
      "MasVnrType_None          uint8\n",
      "MasVnrType_Stone         uint8\n",
      "Foundation_CBlock        uint8\n",
      "Foundation_PConc         uint8\n",
      "Foundation_Slab          uint8\n",
      "Foundation_Stone         uint8\n",
      "Foundation_Wood          uint8\n",
      "BsmtFinType1_BLQ         uint8\n",
      "BsmtFinType1_GLQ         uint8\n",
      "BsmtFinType1_LwQ         uint8\n",
      "BsmtFinType1_NA          uint8\n",
      "BsmtFinType1_Rec         uint8\n",
      "BsmtFinType1_Unf         uint8\n",
      "BsmtFinType2_BLQ         uint8\n",
      "BsmtFinType2_GLQ         uint8\n",
      "BsmtFinType2_LwQ         uint8\n",
      "BsmtFinType2_NA          uint8\n",
      "BsmtFinType2_Rec         uint8\n",
      "BsmtFinType2_Unf         uint8\n",
      "CentralAir_Y             uint8\n",
      "Electrical_FuseF         uint8\n",
      "Electrical_FuseP         uint8\n",
      "Electrical_Mix           uint8\n",
      "Electrical_SBrkr         uint8\n",
      "Functional_Maj2          uint8\n",
      "Functional_Min1          uint8\n",
      "Functional_Min2          uint8\n",
      "Functional_Mod           uint8\n",
      "Functional_Sev           uint8\n",
      "Functional_Typ           uint8\n",
      "GarageType_Attchd        uint8\n",
      "GarageType_Basment       uint8\n",
      "GarageType_BuiltIn       uint8\n",
      "GarageType_CarPort       uint8\n",
      "GarageType_Detchd        uint8\n",
      "GarageType_NA            uint8\n",
      "GarageFinish_NA          uint8\n",
      "GarageFinish_RFn         uint8\n",
      "GarageFinish_Unf         uint8\n",
      "PavedDrive_P             uint8\n",
      "PavedDrive_Y             uint8\n",
      "SaleType_CWD             uint8\n",
      "SaleType_Con             uint8\n",
      "SaleType_ConLD           uint8\n",
      "SaleType_ConLI           uint8\n",
      "SaleType_ConLw           uint8\n",
      "SaleType_New             uint8\n",
      "SaleType_Oth             uint8\n",
      "SaleType_WD              uint8\n",
      "SaleCondition_AdjLand    uint8\n",
      "SaleCondition_Alloca     uint8\n",
      "SaleCondition_Family     uint8\n",
      "SaleCondition_Normal     uint8\n",
      "SaleCondition_Partial    uint8\n",
      "Set                      category\n",
      "dtypes: category(1), float64(11), int64(31), uint8(161)\n",
      "memory usage: 1.4 MB\n"
     ]
    }
   ],
   "source": [
    "\n",
    "def mergeTrainAndTest(train, test):\n",
    "    trainToMerge = train.copy()\n",
    "    Ytrain = trainToMerge['SalePrice'] \n",
    "    trainToMerge.drop(labels = 'SalePrice', axis = 1, inplace = True)\n",
    "    trainToMerge['Set'] = 'train'\n",
    "    testToMerge = test.copy()\n",
    "    testToMerge['Set'] = 'test'\n",
    "    db = trainToMerge.copy()\n",
    "    db = db.append(testToMerge)\n",
    "    return db, Ytrain\n",
    "\n",
    "def convertToCategories(db):\n",
    "    db[\"MSSubClass\"] = db['MSSubClass'].astype('category')\n",
    "    db[\"ExterQual\"] = db[\"ExterQual\"].map({'Ex': 5, 'Gd': 4, 'TA': 3, 'Fa': 2, 'Po': 1})\n",
    "    db[\"ExterCond\"] = db[\"ExterCond\"].map({'Ex': 5, 'Gd': 4, 'TA': 3, 'Fa': 2, 'Po': 1})\n",
    "    db[\"BsmtQual\"] = db[\"BsmtQual\"].map({'Ex': 5, 'Gd': 4, 'TA': 3, 'Fa': 2, 'Po': 1, 'NA': 0})\n",
    "    db[\"BsmtCond\"] = db[\"BsmtCond\"].map({'Ex': 5, 'Gd': 4, 'TA': 3, 'Fa': 2, 'Po': 1, 'NA': 0})\n",
    "    db[\"BsmtExposure\"] = db[\"BsmtExposure\"].map({'Gd': 4, 'Av': 3, 'Mn': 2, 'No': 1, 'NA': 0})\n",
    "    db[\"HeatingQC\"] = db[\"HeatingQC\"].map({'Ex': 5, 'Gd': 4, 'TA': 3, 'Fa': 2, 'Po': 1})\n",
    "    db[\"KitchenQual\"] = db[\"KitchenQual\"].map({'Ex': 5, 'Gd': 4, 'TA': 3, 'Fa': 2, 'Po': 1})\n",
    "    db[\"FireplaceQu\"] = db[\"FireplaceQu\"].map({'Ex': 5, 'Gd': 4, 'TA': 3, 'Fa': 2, 'Po': 1, 'NA': 0})\n",
    "    db[\"GarageQual\"] = db[\"GarageQual\"].map({'Ex': 5, 'Gd': 4, 'TA': 3, 'Fa': 2, 'Po': 1, 'NA': 0})\n",
    "    db[\"GarageCond\"] = db[\"GarageCond\"].map({'Ex': 5, 'Gd': 4, 'TA': 3, 'Fa': 2, 'Po': 1, 'NA': 0})\n",
    "    for i in db.select_dtypes(include='object').columns.to_list():\n",
    "        db[i] = db[i].astype('category')\n",
    "        \n",
    "def oneHotEncoding(db):\n",
    "    typeOfSet = db['Set']\n",
    "    db.drop(labels = 'Set', axis = 1, inplace = True)\n",
    "    featuresToEncode = db.select_dtypes(include='category').head().columns.values.tolist()\n",
    "    resultantDB = pd.get_dummies(db, columns = featuresToEncode, drop_first= True)\n",
    "    resultantDB = pd.concat([resultantDB, typeOfSet], axis=1)\n",
    "    return resultantDB\n",
    "\n",
    "db, Ytrain = mergeTrainAndTest(train, test)\n",
    "convertToCategories(db)\n",
    "\n",
    "db = oneHotEncoding(db)\n",
    "\n",
    "db.info(verbose=True)"
   ]
  },
  {
   "cell_type": "code",
   "execution_count": 260,
   "metadata": {},
   "outputs": [
    {
     "name": "stderr",
     "output_type": "stream",
     "text": [
      "/home/sady/anaconda3/lib/python3.7/site-packages/pandas/core/frame.py:4102: SettingWithCopyWarning: \n",
      "A value is trying to be set on a copy of a slice from a DataFrame\n",
      "\n",
      "See the caveats in the documentation: http://pandas.pydata.org/pandas-docs/stable/user_guide/indexing.html#returning-a-view-versus-a-copy\n",
      "  errors=errors,\n",
      "/home/sady/anaconda3/lib/python3.7/site-packages/pandas/core/frame.py:4102: SettingWithCopyWarning: \n",
      "A value is trying to be set on a copy of a slice from a DataFrame\n",
      "\n",
      "See the caveats in the documentation: http://pandas.pydata.org/pandas-docs/stable/user_guide/indexing.html#returning-a-view-versus-a-copy\n",
      "  errors=errors,\n"
     ]
    }
   ],
   "source": [
    "def separateTestAndTrain(db):\n",
    "    \n",
    "    Xtrain = db.loc[db['Set'] == 'train']\n",
    "    Xtrain.drop(labels = 'Set', axis = 1, inplace = True)\n",
    "    Xtest = db.loc[db['Set'] == 'test']\n",
    "    Xtest.drop(labels = 'Set', axis = 1, inplace = True)\n",
    "    return Xtrain, Xtest\n",
    "\n",
    "Xtrain, Xtest = separateTestAndTrain(db)"
   ]
  },
  {
   "cell_type": "markdown",
   "metadata": {},
   "source": [
    "# GridSearch\n"
   ]
  },
  {
   "cell_type": "code",
   "execution_count": 169,
   "metadata": {},
   "outputs": [],
   "source": [
    "def get_params(model, params, X_val, y_val):\n",
    "    estimator = ''\n",
    "    estimator = GridSearchCV(estimator = model, param_grid = params, cv = 3)\n",
    "    estimator.fit(X_val, y_val)\n",
    "    return estimator.best_params_\n",
    "    "
   ]
  },
  {
   "cell_type": "markdown",
   "metadata": {},
   "source": [
    "# Regresión lineal\n"
   ]
  },
  {
   "cell_type": "code",
   "execution_count": 249,
   "metadata": {},
   "outputs": [],
   "source": [
    "from sklearn.model_selection import train_test_split\n",
    "X_const_train, Y_const_train = Xtrain, Ytrain\n",
    "#Separa conjunto de entrenamiento y validación del conjunto de test\n",
    "X_train_val, X_test, y_train_val, y_test = train_test_split(Xtrain, Ytrain, test_size=0.10, shuffle=True)\n",
    "\n",
    "#Separar entrenamiento del conjunto de validación\n",
    "X_train, X_val, y_train, y_val = train_test_split(X_train_val, y_train_val, test_size=0.20, shuffle=True)"
   ]
  },
  {
   "cell_type": "code",
   "execution_count": 204,
   "metadata": {},
   "outputs": [
    {
     "name": "stderr",
     "output_type": "stream",
     "text": [
      "/home/sady/anaconda3/lib/python3.7/site-packages/sklearn/model_selection/_search.py:814: DeprecationWarning: The default of the `iid` parameter will change from True to False in version 0.22 and will be removed in 0.24. This will change numeric results when test-set sizes are unequal.\n",
      "  DeprecationWarning)\n"
     ]
    },
    {
     "data": {
      "text/plain": [
       "{'copy_X': False, 'fit_intercept': True, 'n_jobs': None, 'normalize': False}"
      ]
     },
     "execution_count": 204,
     "metadata": {},
     "output_type": "execute_result"
    }
   ],
   "source": [
    "#Mejores hiperparametros obtenidos con conjunto de validación\n",
    "from sklearn.linear_model import LinearRegression\n",
    "from sklearn.model_selection import GridSearchCV\n",
    "from numpy import random\n",
    "import math\n",
    "\n",
    "\n",
    "fit_intercept=[False,True]\n",
    "normalize=[False,True]\n",
    "copy_X=[False,True]\n",
    "n_jobs=[None,1,2,3,4,5,6,7,8,9,10,11,12,13,14,15,16,17,18,19,20]\n",
    "#scoring = [\"neg_mean_absolute_error\", \"r2\"]\n",
    "\n",
    "regression_grid = {'fit_intercept':fit_intercept, 'normalize':normalize, 'copy_X':copy_X, 'n_jobs':n_jobs}\n",
    "\n",
    "regr_freq = LinearRegression()\n",
    "reg_estimator = GridSearchCV(estimator = regr_freq, param_grid = regression_grid, cv = 3)\n",
    "reg_estimator.fit(X_val, y_val)\n",
    "\n",
    "reg_estimator.best_params_"
   ]
  },
  {
   "cell_type": "code",
   "execution_count": 235,
   "metadata": {},
   "outputs": [],
   "source": [
    "\n",
    "from sklearn.ensemble import RandomForestRegressor\n",
    "from sklearn.model_selection import train_test_split\n",
    "from sklearn.metrics import mean_squared_error\n",
    "from sklearn.metrics import mean_absolute_error\n",
    "from sklearn.metrics import r2_score\n",
    "from math import sqrt\n",
    "#Medidas de error\n",
    "\n",
    "def mean_absolute_percentage_error(y_true, y_pred): \n",
    "    y_true, y_pred = np.array(y_true), np.array(y_pred)\n",
    "    return np.mean(np.abs((y_true - y_pred) / y_true)) * 100\n",
    "\n",
    "def errorMeasure(y_train, y_pred):\n",
    "    \n",
    "    rmse = sqrt(mean_squared_error(y_train, y_pred))\n",
    "    mae = mean_absolute_error(y_train, y_pred)\n",
    "    mape = mean_absolute_percentage_error(y_train, y_pred)\n",
    "    r2 = r2_score(y_train, y_pred)\n",
    "    \n",
    "    return {'rmse': rmse,'mae': mae, 'mape': mape, 'r2': r2}"
   ]
  },
  {
   "cell_type": "code",
   "execution_count": 271,
   "metadata": {
    "scrolled": true
   },
   "outputs": [
    {
     "name": "stderr",
     "output_type": "stream",
     "text": [
      "/home/sady/anaconda3/lib/python3.7/site-packages/sklearn/linear_model/coordinate_descent.py:475: ConvergenceWarning: Objective did not converge. You might want to increase the number of iterations. Duality gap: 5562706544.092499, tolerance: 362044673.5007\n",
      "  positive)\n",
      "/home/sady/anaconda3/lib/python3.7/site-packages/sklearn/linear_model/coordinate_descent.py:475: ConvergenceWarning: Objective did not converge. You might want to increase the number of iterations. Duality gap: 9360810226.978764, tolerance: 382873895.0\n",
      "  positive)\n",
      "/home/sady/anaconda3/lib/python3.7/site-packages/sklearn/linear_model/coordinate_descent.py:475: ConvergenceWarning: Objective did not converge. You might want to increase the number of iterations. Duality gap: 7912908516.192999, tolerance: 373223084.0007\n",
      "  positive)\n",
      "/home/sady/anaconda3/lib/python3.7/site-packages/sklearn/linear_model/coordinate_descent.py:475: ConvergenceWarning: Objective did not converge. You might want to increase the number of iterations. Duality gap: 5562706544.092499, tolerance: 362044673.5007\n",
      "  positive)\n",
      "/home/sady/anaconda3/lib/python3.7/site-packages/sklearn/linear_model/coordinate_descent.py:475: ConvergenceWarning: Objective did not converge. You might want to increase the number of iterations. Duality gap: 9360810226.978764, tolerance: 382873895.0\n",
      "  positive)\n",
      "/home/sady/anaconda3/lib/python3.7/site-packages/sklearn/linear_model/coordinate_descent.py:475: ConvergenceWarning: Objective did not converge. You might want to increase the number of iterations. Duality gap: 7912908516.192999, tolerance: 373223084.0007\n",
      "  positive)\n",
      "/home/sady/anaconda3/lib/python3.7/site-packages/sklearn/linear_model/coordinate_descent.py:475: ConvergenceWarning: Objective did not converge. You might want to increase the number of iterations. Duality gap: 1108446482.4620872, tolerance: 382873895.0\n",
      "  positive)\n",
      "/home/sady/anaconda3/lib/python3.7/site-packages/sklearn/linear_model/coordinate_descent.py:475: ConvergenceWarning: Objective did not converge. You might want to increase the number of iterations. Duality gap: 1108446482.4620872, tolerance: 382873895.0\n",
      "  positive)\n",
      "/home/sady/anaconda3/lib/python3.7/site-packages/sklearn/linear_model/coordinate_descent.py:475: ConvergenceWarning: Objective did not converge. You might want to increase the number of iterations. Duality gap: 1130012330.8966103, tolerance: 60770253.66885567\n",
      "  positive)\n",
      "/home/sady/anaconda3/lib/python3.7/site-packages/sklearn/linear_model/coordinate_descent.py:475: ConvergenceWarning: Objective did not converge. You might want to increase the number of iterations. Duality gap: 1324503361.1713238, tolerance: 57701111.49484536\n",
      "  positive)\n",
      "/home/sady/anaconda3/lib/python3.7/site-packages/sklearn/linear_model/coordinate_descent.py:475: ConvergenceWarning: Objective did not converge. You might want to increase the number of iterations. Duality gap: 1309918691.5099504, tolerance: 77234140.09469083\n",
      "  positive)\n",
      "/home/sady/anaconda3/lib/python3.7/site-packages/sklearn/linear_model/coordinate_descent.py:475: ConvergenceWarning: Objective did not converge. You might want to increase the number of iterations. Duality gap: 1162682741.369665, tolerance: 60770253.66885567\n",
      "  positive)\n",
      "/home/sady/anaconda3/lib/python3.7/site-packages/sklearn/linear_model/coordinate_descent.py:475: ConvergenceWarning: Objective did not converge. You might want to increase the number of iterations. Duality gap: 1354853775.047527, tolerance: 57701111.49484536\n",
      "  positive)\n",
      "/home/sady/anaconda3/lib/python3.7/site-packages/sklearn/linear_model/coordinate_descent.py:475: ConvergenceWarning: Objective did not converge. You might want to increase the number of iterations. Duality gap: 1347781292.4582922, tolerance: 77234140.09469083\n",
      "  positive)\n",
      "/home/sady/anaconda3/lib/python3.7/site-packages/sklearn/linear_model/coordinate_descent.py:475: ConvergenceWarning: Objective did not converge. You might want to increase the number of iterations. Duality gap: 87228825.57831377, tolerance: 60770253.66885567\n",
      "  positive)\n",
      "/home/sady/anaconda3/lib/python3.7/site-packages/sklearn/linear_model/coordinate_descent.py:475: ConvergenceWarning: Objective did not converge. You might want to increase the number of iterations. Duality gap: 84986700.70623633, tolerance: 57701111.49484536\n",
      "  positive)\n",
      "/home/sady/anaconda3/lib/python3.7/site-packages/sklearn/linear_model/coordinate_descent.py:475: ConvergenceWarning: Objective did not converge. You might want to increase the number of iterations. Duality gap: 88229649.84086071, tolerance: 77234140.09469083\n",
      "  positive)\n",
      "/home/sady/anaconda3/lib/python3.7/site-packages/sklearn/linear_model/coordinate_descent.py:475: ConvergenceWarning: Objective did not converge. You might want to increase the number of iterations. Duality gap: 5876476790.169754, tolerance: 362044673.5007\n",
      "  positive)\n",
      "/home/sady/anaconda3/lib/python3.7/site-packages/sklearn/linear_model/coordinate_descent.py:475: ConvergenceWarning: Objective did not converge. You might want to increase the number of iterations. Duality gap: 9650110000.304808, tolerance: 382873895.0\n",
      "  positive)\n",
      "/home/sady/anaconda3/lib/python3.7/site-packages/sklearn/linear_model/coordinate_descent.py:475: ConvergenceWarning: Objective did not converge. You might want to increase the number of iterations. Duality gap: 8198982628.517918, tolerance: 373223084.0007\n",
      "  positive)\n",
      "/home/sady/anaconda3/lib/python3.7/site-packages/sklearn/linear_model/coordinate_descent.py:475: ConvergenceWarning: Objective did not converge. You might want to increase the number of iterations. Duality gap: 5876476790.169754, tolerance: 362044673.5007\n",
      "  positive)\n",
      "/home/sady/anaconda3/lib/python3.7/site-packages/sklearn/linear_model/coordinate_descent.py:475: ConvergenceWarning: Objective did not converge. You might want to increase the number of iterations. Duality gap: 9650110000.304808, tolerance: 382873895.0\n",
      "  positive)\n",
      "/home/sady/anaconda3/lib/python3.7/site-packages/sklearn/linear_model/coordinate_descent.py:475: ConvergenceWarning: Objective did not converge. You might want to increase the number of iterations. Duality gap: 8198982628.517918, tolerance: 373223084.0007\n",
      "  positive)\n",
      "/home/sady/anaconda3/lib/python3.7/site-packages/sklearn/linear_model/coordinate_descent.py:475: ConvergenceWarning: Objective did not converge. You might want to increase the number of iterations. Duality gap: 675801702.0443792, tolerance: 362044673.5007\n",
      "  positive)\n",
      "/home/sady/anaconda3/lib/python3.7/site-packages/sklearn/linear_model/coordinate_descent.py:475: ConvergenceWarning: Objective did not converge. You might want to increase the number of iterations. Duality gap: 1469704157.888462, tolerance: 382873895.0\n",
      "  positive)\n",
      "/home/sady/anaconda3/lib/python3.7/site-packages/sklearn/linear_model/coordinate_descent.py:475: ConvergenceWarning: Objective did not converge. You might want to increase the number of iterations. Duality gap: 629480573.1977239, tolerance: 373223084.0007\n",
      "  positive)\n",
      "/home/sady/anaconda3/lib/python3.7/site-packages/sklearn/linear_model/coordinate_descent.py:475: ConvergenceWarning: Objective did not converge. You might want to increase the number of iterations. Duality gap: 675801702.0443792, tolerance: 362044673.5007\n",
      "  positive)\n",
      "/home/sady/anaconda3/lib/python3.7/site-packages/sklearn/linear_model/coordinate_descent.py:475: ConvergenceWarning: Objective did not converge. You might want to increase the number of iterations. Duality gap: 1469704157.888462, tolerance: 382873895.0\n",
      "  positive)\n",
      "/home/sady/anaconda3/lib/python3.7/site-packages/sklearn/linear_model/coordinate_descent.py:475: ConvergenceWarning: Objective did not converge. You might want to increase the number of iterations. Duality gap: 629480573.1977239, tolerance: 373223084.0007\n",
      "  positive)\n",
      "/home/sady/anaconda3/lib/python3.7/site-packages/sklearn/linear_model/coordinate_descent.py:475: ConvergenceWarning: Objective did not converge. You might want to increase the number of iterations. Duality gap: 1338245329.0298781, tolerance: 60770253.66885567\n",
      "  positive)\n",
      "/home/sady/anaconda3/lib/python3.7/site-packages/sklearn/linear_model/coordinate_descent.py:475: ConvergenceWarning: Objective did not converge. You might want to increase the number of iterations. Duality gap: 1472266029.4977152, tolerance: 57701111.49484536\n",
      "  positive)\n",
      "/home/sady/anaconda3/lib/python3.7/site-packages/sklearn/linear_model/coordinate_descent.py:475: ConvergenceWarning: Objective did not converge. You might want to increase the number of iterations. Duality gap: 1497463792.3528783, tolerance: 77234140.09469083\n",
      "  positive)\n",
      "/home/sady/anaconda3/lib/python3.7/site-packages/sklearn/linear_model/coordinate_descent.py:475: ConvergenceWarning: Objective did not converge. You might want to increase the number of iterations. Duality gap: 1658578443.5857491, tolerance: 60770253.66885567\n",
      "  positive)\n",
      "/home/sady/anaconda3/lib/python3.7/site-packages/sklearn/linear_model/coordinate_descent.py:475: ConvergenceWarning: Objective did not converge. You might want to increase the number of iterations. Duality gap: 1766368163.8843637, tolerance: 57701111.49484536\n",
      "  positive)\n",
      "/home/sady/anaconda3/lib/python3.7/site-packages/sklearn/linear_model/coordinate_descent.py:475: ConvergenceWarning: Objective did not converge. You might want to increase the number of iterations. Duality gap: 1867908897.5652494, tolerance: 77234140.09469083\n",
      "  positive)\n",
      "/home/sady/anaconda3/lib/python3.7/site-packages/sklearn/linear_model/coordinate_descent.py:475: ConvergenceWarning: Objective did not converge. You might want to increase the number of iterations. Duality gap: 257757821.22422913, tolerance: 60770253.66885567\n",
      "  positive)\n",
      "/home/sady/anaconda3/lib/python3.7/site-packages/sklearn/linear_model/coordinate_descent.py:475: ConvergenceWarning: Objective did not converge. You might want to increase the number of iterations. Duality gap: 224415148.1582121, tolerance: 57701111.49484536\n",
      "  positive)\n",
      "/home/sady/anaconda3/lib/python3.7/site-packages/sklearn/linear_model/coordinate_descent.py:475: ConvergenceWarning: Objective did not converge. You might want to increase the number of iterations. Duality gap: 257618744.16916853, tolerance: 77234140.09469083\n",
      "  positive)\n",
      "/home/sady/anaconda3/lib/python3.7/site-packages/sklearn/linear_model/coordinate_descent.py:475: ConvergenceWarning: Objective did not converge. You might want to increase the number of iterations. Duality gap: 594927193.0157703, tolerance: 60770253.66885567\n",
      "  positive)\n",
      "/home/sady/anaconda3/lib/python3.7/site-packages/sklearn/linear_model/coordinate_descent.py:475: ConvergenceWarning: Objective did not converge. You might want to increase the number of iterations. Duality gap: 511784724.2403726, tolerance: 57701111.49484536\n",
      "  positive)\n",
      "/home/sady/anaconda3/lib/python3.7/site-packages/sklearn/linear_model/coordinate_descent.py:475: ConvergenceWarning: Objective did not converge. You might want to increase the number of iterations. Duality gap: 595426484.4223337, tolerance: 77234140.09469083\n",
      "  positive)\n",
      "/home/sady/anaconda3/lib/python3.7/site-packages/sklearn/linear_model/coordinate_descent.py:475: ConvergenceWarning: Objective did not converge. You might want to increase the number of iterations. Duality gap: 177167641.08409163, tolerance: 60770253.66885567\n",
      "  positive)\n",
      "/home/sady/anaconda3/lib/python3.7/site-packages/sklearn/linear_model/coordinate_descent.py:475: ConvergenceWarning: Objective did not converge. You might want to increase the number of iterations. Duality gap: 166801190.511502, tolerance: 57701111.49484536\n",
      "  positive)\n",
      "/home/sady/anaconda3/lib/python3.7/site-packages/sklearn/linear_model/coordinate_descent.py:475: ConvergenceWarning: Objective did not converge. You might want to increase the number of iterations. Duality gap: 168220517.51590133, tolerance: 77234140.09469083\n",
      "  positive)\n"
     ]
    },
    {
     "name": "stderr",
     "output_type": "stream",
     "text": [
      "/home/sady/anaconda3/lib/python3.7/site-packages/sklearn/linear_model/coordinate_descent.py:475: ConvergenceWarning: Objective did not converge. You might want to increase the number of iterations. Duality gap: 294269078.18485886, tolerance: 60770253.66885567\n",
      "  positive)\n",
      "/home/sady/anaconda3/lib/python3.7/site-packages/sklearn/linear_model/coordinate_descent.py:475: ConvergenceWarning: Objective did not converge. You might want to increase the number of iterations. Duality gap: 175598007.7946983, tolerance: 57701111.49484536\n",
      "  positive)\n",
      "/home/sady/anaconda3/lib/python3.7/site-packages/sklearn/linear_model/coordinate_descent.py:475: ConvergenceWarning: Objective did not converge. You might want to increase the number of iterations. Duality gap: 327741839.8530914, tolerance: 77234140.09469083\n",
      "  positive)\n",
      "/home/sady/anaconda3/lib/python3.7/site-packages/sklearn/linear_model/coordinate_descent.py:475: ConvergenceWarning: Objective did not converge. You might want to increase the number of iterations. Duality gap: 130113025.74117377, tolerance: 60770253.66885567\n",
      "  positive)\n",
      "/home/sady/anaconda3/lib/python3.7/site-packages/sklearn/linear_model/coordinate_descent.py:475: ConvergenceWarning: Objective did not converge. You might want to increase the number of iterations. Duality gap: 128048190.57785806, tolerance: 57701111.49484536\n",
      "  positive)\n",
      "/home/sady/anaconda3/lib/python3.7/site-packages/sklearn/linear_model/coordinate_descent.py:475: ConvergenceWarning: Objective did not converge. You might want to increase the number of iterations. Duality gap: 124990010.77627598, tolerance: 77234140.09469083\n",
      "  positive)\n",
      "/home/sady/anaconda3/lib/python3.7/site-packages/sklearn/linear_model/coordinate_descent.py:475: ConvergenceWarning: Objective did not converge. You might want to increase the number of iterations. Duality gap: 8858564973.99265, tolerance: 362044673.5007\n",
      "  positive)\n",
      "/home/sady/anaconda3/lib/python3.7/site-packages/sklearn/linear_model/coordinate_descent.py:475: ConvergenceWarning: Objective did not converge. You might want to increase the number of iterations. Duality gap: 12420746511.089735, tolerance: 382873895.0\n",
      "  positive)\n",
      "/home/sady/anaconda3/lib/python3.7/site-packages/sklearn/linear_model/coordinate_descent.py:475: ConvergenceWarning: Objective did not converge. You might want to increase the number of iterations. Duality gap: 10911786096.717995, tolerance: 373223084.0007\n",
      "  positive)\n",
      "/home/sady/anaconda3/lib/python3.7/site-packages/sklearn/linear_model/coordinate_descent.py:475: ConvergenceWarning: Objective did not converge. You might want to increase the number of iterations. Duality gap: 8858564973.99265, tolerance: 362044673.5007\n",
      "  positive)\n",
      "/home/sady/anaconda3/lib/python3.7/site-packages/sklearn/linear_model/coordinate_descent.py:475: ConvergenceWarning: Objective did not converge. You might want to increase the number of iterations. Duality gap: 12420746511.089735, tolerance: 382873895.0\n",
      "  positive)\n",
      "/home/sady/anaconda3/lib/python3.7/site-packages/sklearn/linear_model/coordinate_descent.py:475: ConvergenceWarning: Objective did not converge. You might want to increase the number of iterations. Duality gap: 10911786096.717995, tolerance: 373223084.0007\n",
      "  positive)\n",
      "/home/sady/anaconda3/lib/python3.7/site-packages/sklearn/linear_model/coordinate_descent.py:475: ConvergenceWarning: Objective did not converge. You might want to increase the number of iterations. Duality gap: 3276389563.82202, tolerance: 362044673.5007\n",
      "  positive)\n",
      "/home/sady/anaconda3/lib/python3.7/site-packages/sklearn/linear_model/coordinate_descent.py:475: ConvergenceWarning: Objective did not converge. You might want to increase the number of iterations. Duality gap: 4417218998.321482, tolerance: 382873895.0\n",
      "  positive)\n",
      "/home/sady/anaconda3/lib/python3.7/site-packages/sklearn/linear_model/coordinate_descent.py:475: ConvergenceWarning: Objective did not converge. You might want to increase the number of iterations. Duality gap: 3495153642.8260884, tolerance: 373223084.0007\n",
      "  positive)\n",
      "/home/sady/anaconda3/lib/python3.7/site-packages/sklearn/linear_model/coordinate_descent.py:475: ConvergenceWarning: Objective did not converge. You might want to increase the number of iterations. Duality gap: 3276389563.82202, tolerance: 362044673.5007\n",
      "  positive)\n",
      "/home/sady/anaconda3/lib/python3.7/site-packages/sklearn/linear_model/coordinate_descent.py:475: ConvergenceWarning: Objective did not converge. You might want to increase the number of iterations. Duality gap: 4417218998.321482, tolerance: 382873895.0\n",
      "  positive)\n",
      "/home/sady/anaconda3/lib/python3.7/site-packages/sklearn/linear_model/coordinate_descent.py:475: ConvergenceWarning: Objective did not converge. You might want to increase the number of iterations. Duality gap: 3495153642.8260884, tolerance: 373223084.0007\n",
      "  positive)\n",
      "/home/sady/anaconda3/lib/python3.7/site-packages/sklearn/linear_model/coordinate_descent.py:475: ConvergenceWarning: Objective did not converge. You might want to increase the number of iterations. Duality gap: 1838960333.2825403, tolerance: 362044673.5007\n",
      "  positive)\n",
      "/home/sady/anaconda3/lib/python3.7/site-packages/sklearn/linear_model/coordinate_descent.py:475: ConvergenceWarning: Objective did not converge. You might want to increase the number of iterations. Duality gap: 1647861926.775931, tolerance: 382873895.0\n",
      "  positive)\n",
      "/home/sady/anaconda3/lib/python3.7/site-packages/sklearn/linear_model/coordinate_descent.py:475: ConvergenceWarning: Objective did not converge. You might want to increase the number of iterations. Duality gap: 1691499547.694462, tolerance: 373223084.0007\n",
      "  positive)\n",
      "/home/sady/anaconda3/lib/python3.7/site-packages/sklearn/linear_model/coordinate_descent.py:475: ConvergenceWarning: Objective did not converge. You might want to increase the number of iterations. Duality gap: 1838960333.2825403, tolerance: 362044673.5007\n",
      "  positive)\n",
      "/home/sady/anaconda3/lib/python3.7/site-packages/sklearn/linear_model/coordinate_descent.py:475: ConvergenceWarning: Objective did not converge. You might want to increase the number of iterations. Duality gap: 1647861926.775931, tolerance: 382873895.0\n",
      "  positive)\n",
      "/home/sady/anaconda3/lib/python3.7/site-packages/sklearn/linear_model/coordinate_descent.py:475: ConvergenceWarning: Objective did not converge. You might want to increase the number of iterations. Duality gap: 1691499547.694462, tolerance: 373223084.0007\n",
      "  positive)\n",
      "/home/sady/anaconda3/lib/python3.7/site-packages/sklearn/linear_model/coordinate_descent.py:475: ConvergenceWarning: Objective did not converge. You might want to increase the number of iterations. Duality gap: 1335662758.346851, tolerance: 362044673.5007\n",
      "  positive)\n",
      "/home/sady/anaconda3/lib/python3.7/site-packages/sklearn/linear_model/coordinate_descent.py:475: ConvergenceWarning: Objective did not converge. You might want to increase the number of iterations. Duality gap: 1200586882.518564, tolerance: 382873895.0\n",
      "  positive)\n",
      "/home/sady/anaconda3/lib/python3.7/site-packages/sklearn/linear_model/coordinate_descent.py:475: ConvergenceWarning: Objective did not converge. You might want to increase the number of iterations. Duality gap: 1244654355.3354487, tolerance: 373223084.0007\n",
      "  positive)\n",
      "/home/sady/anaconda3/lib/python3.7/site-packages/sklearn/linear_model/coordinate_descent.py:475: ConvergenceWarning: Objective did not converge. You might want to increase the number of iterations. Duality gap: 1335662758.346851, tolerance: 362044673.5007\n",
      "  positive)\n",
      "/home/sady/anaconda3/lib/python3.7/site-packages/sklearn/linear_model/coordinate_descent.py:475: ConvergenceWarning: Objective did not converge. You might want to increase the number of iterations. Duality gap: 1200586882.518564, tolerance: 382873895.0\n",
      "  positive)\n",
      "/home/sady/anaconda3/lib/python3.7/site-packages/sklearn/linear_model/coordinate_descent.py:475: ConvergenceWarning: Objective did not converge. You might want to increase the number of iterations. Duality gap: 1244654355.3354487, tolerance: 373223084.0007\n",
      "  positive)\n",
      "/home/sady/anaconda3/lib/python3.7/site-packages/sklearn/linear_model/coordinate_descent.py:475: ConvergenceWarning: Objective did not converge. You might want to increase the number of iterations. Duality gap: 3237116126.288148, tolerance: 60770253.66885567\n",
      "  positive)\n",
      "/home/sady/anaconda3/lib/python3.7/site-packages/sklearn/linear_model/coordinate_descent.py:475: ConvergenceWarning: Objective did not converge. You might want to increase the number of iterations. Duality gap: 2812801546.8945036, tolerance: 57701111.49484536\n",
      "  positive)\n",
      "/home/sady/anaconda3/lib/python3.7/site-packages/sklearn/linear_model/coordinate_descent.py:475: ConvergenceWarning: Objective did not converge. You might want to increase the number of iterations. Duality gap: 3185153011.4537454, tolerance: 77234140.09469083\n",
      "  positive)\n",
      "/home/sady/anaconda3/lib/python3.7/site-packages/sklearn/linear_model/coordinate_descent.py:475: ConvergenceWarning: Objective did not converge. You might want to increase the number of iterations. Duality gap: 5952826713.822247, tolerance: 60770253.66885567\n",
      "  positive)\n",
      "/home/sady/anaconda3/lib/python3.7/site-packages/sklearn/linear_model/coordinate_descent.py:475: ConvergenceWarning: Objective did not converge. You might want to increase the number of iterations. Duality gap: 5012827991.433221, tolerance: 57701111.49484536\n",
      "  positive)\n",
      "/home/sady/anaconda3/lib/python3.7/site-packages/sklearn/linear_model/coordinate_descent.py:475: ConvergenceWarning: Objective did not converge. You might want to increase the number of iterations. Duality gap: 6190738153.348059, tolerance: 77234140.09469083\n",
      "  positive)\n",
      "/home/sady/anaconda3/lib/python3.7/site-packages/sklearn/linear_model/coordinate_descent.py:475: ConvergenceWarning: Objective did not converge. You might want to increase the number of iterations. Duality gap: 1738822900.739963, tolerance: 60770253.66885567\n",
      "  positive)\n",
      "/home/sady/anaconda3/lib/python3.7/site-packages/sklearn/linear_model/coordinate_descent.py:475: ConvergenceWarning: Objective did not converge. You might want to increase the number of iterations. Duality gap: 1533396692.5186958, tolerance: 57701111.49484536\n",
      "  positive)\n",
      "/home/sady/anaconda3/lib/python3.7/site-packages/sklearn/linear_model/coordinate_descent.py:475: ConvergenceWarning: Objective did not converge. You might want to increase the number of iterations. Duality gap: 1617522026.6278906, tolerance: 77234140.09469083\n",
      "  positive)\n",
      "/home/sady/anaconda3/lib/python3.7/site-packages/sklearn/linear_model/coordinate_descent.py:475: ConvergenceWarning: Objective did not converge. You might want to increase the number of iterations. Duality gap: 2430329341.931037, tolerance: 60770253.66885567\n",
      "  positive)\n",
      "/home/sady/anaconda3/lib/python3.7/site-packages/sklearn/linear_model/coordinate_descent.py:475: ConvergenceWarning: Objective did not converge. You might want to increase the number of iterations. Duality gap: 2221522097.895133, tolerance: 57701111.49484536\n",
      "  positive)\n",
      "/home/sady/anaconda3/lib/python3.7/site-packages/sklearn/linear_model/coordinate_descent.py:475: ConvergenceWarning: Objective did not converge. You might want to increase the number of iterations. Duality gap: 2447680913.0169187, tolerance: 77234140.09469083\n",
      "  positive)\n",
      "/home/sady/anaconda3/lib/python3.7/site-packages/sklearn/linear_model/coordinate_descent.py:475: ConvergenceWarning: Objective did not converge. You might want to increase the number of iterations. Duality gap: 1228260400.845989, tolerance: 60770253.66885567\n",
      "  positive)\n",
      "/home/sady/anaconda3/lib/python3.7/site-packages/sklearn/linear_model/coordinate_descent.py:475: ConvergenceWarning: Objective did not converge. You might want to increase the number of iterations. Duality gap: 1092333164.8470771, tolerance: 57701111.49484536\n",
      "  positive)\n",
      "/home/sady/anaconda3/lib/python3.7/site-packages/sklearn/linear_model/coordinate_descent.py:475: ConvergenceWarning: Objective did not converge. You might want to increase the number of iterations. Duality gap: 1185711360.2865984, tolerance: 77234140.09469083\n",
      "  positive)\n"
     ]
    },
    {
     "name": "stderr",
     "output_type": "stream",
     "text": [
      "/home/sady/anaconda3/lib/python3.7/site-packages/sklearn/linear_model/coordinate_descent.py:475: ConvergenceWarning: Objective did not converge. You might want to increase the number of iterations. Duality gap: 1161175521.0125356, tolerance: 60770253.66885567\n",
      "  positive)\n",
      "/home/sady/anaconda3/lib/python3.7/site-packages/sklearn/linear_model/coordinate_descent.py:475: ConvergenceWarning: Objective did not converge. You might want to increase the number of iterations. Duality gap: 1029699968.4030179, tolerance: 57701111.49484536\n",
      "  positive)\n",
      "/home/sady/anaconda3/lib/python3.7/site-packages/sklearn/linear_model/coordinate_descent.py:475: ConvergenceWarning: Objective did not converge. You might want to increase the number of iterations. Duality gap: 1098633308.4933898, tolerance: 77234140.09469083\n",
      "  positive)\n",
      "/home/sady/anaconda3/lib/python3.7/site-packages/sklearn/linear_model/coordinate_descent.py:475: ConvergenceWarning: Objective did not converge. You might want to increase the number of iterations. Duality gap: 29086947883.9088, tolerance: 362044673.5007\n",
      "  positive)\n",
      "/home/sady/anaconda3/lib/python3.7/site-packages/sklearn/linear_model/coordinate_descent.py:475: ConvergenceWarning: Objective did not converge. You might want to increase the number of iterations. Duality gap: 32121845439.809006, tolerance: 382873895.0\n",
      "  positive)\n",
      "/home/sady/anaconda3/lib/python3.7/site-packages/sklearn/linear_model/coordinate_descent.py:475: ConvergenceWarning: Objective did not converge. You might want to increase the number of iterations. Duality gap: 28850605087.96432, tolerance: 373223084.0007\n",
      "  positive)\n",
      "/home/sady/anaconda3/lib/python3.7/site-packages/sklearn/linear_model/coordinate_descent.py:475: ConvergenceWarning: Objective did not converge. You might want to increase the number of iterations. Duality gap: 29086947883.9088, tolerance: 362044673.5007\n",
      "  positive)\n",
      "/home/sady/anaconda3/lib/python3.7/site-packages/sklearn/linear_model/coordinate_descent.py:475: ConvergenceWarning: Objective did not converge. You might want to increase the number of iterations. Duality gap: 32121845439.809006, tolerance: 382873895.0\n",
      "  positive)\n",
      "/home/sady/anaconda3/lib/python3.7/site-packages/sklearn/linear_model/coordinate_descent.py:475: ConvergenceWarning: Objective did not converge. You might want to increase the number of iterations. Duality gap: 28850605087.96432, tolerance: 373223084.0007\n",
      "  positive)\n",
      "/home/sady/anaconda3/lib/python3.7/site-packages/sklearn/linear_model/coordinate_descent.py:475: ConvergenceWarning: Objective did not converge. You might want to increase the number of iterations. Duality gap: 13865305174.716934, tolerance: 362044673.5007\n",
      "  positive)\n",
      "/home/sady/anaconda3/lib/python3.7/site-packages/sklearn/linear_model/coordinate_descent.py:475: ConvergenceWarning: Objective did not converge. You might want to increase the number of iterations. Duality gap: 13118946735.669075, tolerance: 382873895.0\n",
      "  positive)\n",
      "/home/sady/anaconda3/lib/python3.7/site-packages/sklearn/linear_model/coordinate_descent.py:475: ConvergenceWarning: Objective did not converge. You might want to increase the number of iterations. Duality gap: 12430328508.774632, tolerance: 373223084.0007\n",
      "  positive)\n",
      "/home/sady/anaconda3/lib/python3.7/site-packages/sklearn/linear_model/coordinate_descent.py:475: ConvergenceWarning: Objective did not converge. You might want to increase the number of iterations. Duality gap: 13865305174.716934, tolerance: 362044673.5007\n",
      "  positive)\n",
      "/home/sady/anaconda3/lib/python3.7/site-packages/sklearn/linear_model/coordinate_descent.py:475: ConvergenceWarning: Objective did not converge. You might want to increase the number of iterations. Duality gap: 13118946735.669075, tolerance: 382873895.0\n",
      "  positive)\n",
      "/home/sady/anaconda3/lib/python3.7/site-packages/sklearn/linear_model/coordinate_descent.py:475: ConvergenceWarning: Objective did not converge. You might want to increase the number of iterations. Duality gap: 12430328508.774632, tolerance: 373223084.0007\n",
      "  positive)\n",
      "/home/sady/anaconda3/lib/python3.7/site-packages/sklearn/linear_model/coordinate_descent.py:475: ConvergenceWarning: Objective did not converge. You might want to increase the number of iterations. Duality gap: 9624402279.405243, tolerance: 362044673.5007\n",
      "  positive)\n",
      "/home/sady/anaconda3/lib/python3.7/site-packages/sklearn/linear_model/coordinate_descent.py:475: ConvergenceWarning: Objective did not converge. You might want to increase the number of iterations. Duality gap: 8031460656.288361, tolerance: 382873895.0\n",
      "  positive)\n",
      "/home/sady/anaconda3/lib/python3.7/site-packages/sklearn/linear_model/coordinate_descent.py:475: ConvergenceWarning: Objective did not converge. You might want to increase the number of iterations. Duality gap: 9431803018.850756, tolerance: 373223084.0007\n",
      "  positive)\n",
      "/home/sady/anaconda3/lib/python3.7/site-packages/sklearn/linear_model/coordinate_descent.py:475: ConvergenceWarning: Objective did not converge. You might want to increase the number of iterations. Duality gap: 9624402279.405243, tolerance: 362044673.5007\n",
      "  positive)\n",
      "/home/sady/anaconda3/lib/python3.7/site-packages/sklearn/linear_model/coordinate_descent.py:475: ConvergenceWarning: Objective did not converge. You might want to increase the number of iterations. Duality gap: 8031460656.288361, tolerance: 382873895.0\n",
      "  positive)\n",
      "/home/sady/anaconda3/lib/python3.7/site-packages/sklearn/linear_model/coordinate_descent.py:475: ConvergenceWarning: Objective did not converge. You might want to increase the number of iterations. Duality gap: 9431803018.850756, tolerance: 373223084.0007\n",
      "  positive)\n",
      "/home/sady/anaconda3/lib/python3.7/site-packages/sklearn/linear_model/coordinate_descent.py:475: ConvergenceWarning: Objective did not converge. You might want to increase the number of iterations. Duality gap: 8638462210.301308, tolerance: 362044673.5007\n",
      "  positive)\n",
      "/home/sady/anaconda3/lib/python3.7/site-packages/sklearn/linear_model/coordinate_descent.py:475: ConvergenceWarning: Objective did not converge. You might want to increase the number of iterations. Duality gap: 6953482874.1697, tolerance: 382873895.0\n",
      "  positive)\n",
      "/home/sady/anaconda3/lib/python3.7/site-packages/sklearn/linear_model/coordinate_descent.py:475: ConvergenceWarning: Objective did not converge. You might want to increase the number of iterations. Duality gap: 8015402268.428393, tolerance: 373223084.0007\n",
      "  positive)\n",
      "/home/sady/anaconda3/lib/python3.7/site-packages/sklearn/linear_model/coordinate_descent.py:475: ConvergenceWarning: Objective did not converge. You might want to increase the number of iterations. Duality gap: 8638462210.301308, tolerance: 362044673.5007\n",
      "  positive)\n",
      "/home/sady/anaconda3/lib/python3.7/site-packages/sklearn/linear_model/coordinate_descent.py:475: ConvergenceWarning: Objective did not converge. You might want to increase the number of iterations. Duality gap: 6953482874.1697, tolerance: 382873895.0\n",
      "  positive)\n",
      "/home/sady/anaconda3/lib/python3.7/site-packages/sklearn/linear_model/coordinate_descent.py:475: ConvergenceWarning: Objective did not converge. You might want to increase the number of iterations. Duality gap: 8015402268.428393, tolerance: 373223084.0007\n",
      "  positive)\n",
      "/home/sady/anaconda3/lib/python3.7/site-packages/sklearn/linear_model/coordinate_descent.py:475: ConvergenceWarning: Objective did not converge. You might want to increase the number of iterations. Duality gap: 14469364567.764364, tolerance: 60770253.66885567\n",
      "  positive)\n",
      "/home/sady/anaconda3/lib/python3.7/site-packages/sklearn/linear_model/coordinate_descent.py:475: ConvergenceWarning: Objective did not converge. You might want to increase the number of iterations. Duality gap: 10672844891.540127, tolerance: 57701111.49484536\n",
      "  positive)\n",
      "/home/sady/anaconda3/lib/python3.7/site-packages/sklearn/linear_model/coordinate_descent.py:475: ConvergenceWarning: Objective did not converge. You might want to increase the number of iterations. Duality gap: 13170084480.443737, tolerance: 77234140.09469083\n",
      "  positive)\n",
      "/home/sady/anaconda3/lib/python3.7/site-packages/sklearn/linear_model/coordinate_descent.py:475: ConvergenceWarning: Objective did not converge. You might want to increase the number of iterations. Duality gap: 18578065014.707138, tolerance: 60770253.66885567\n",
      "  positive)\n",
      "/home/sady/anaconda3/lib/python3.7/site-packages/sklearn/linear_model/coordinate_descent.py:475: ConvergenceWarning: Objective did not converge. You might want to increase the number of iterations. Duality gap: 15537828034.253448, tolerance: 57701111.49484536\n",
      "  positive)\n",
      "/home/sady/anaconda3/lib/python3.7/site-packages/sklearn/linear_model/coordinate_descent.py:475: ConvergenceWarning: Objective did not converge. You might want to increase the number of iterations. Duality gap: 23154895208.51904, tolerance: 77234140.09469083\n",
      "  positive)\n",
      "/home/sady/anaconda3/lib/python3.7/site-packages/sklearn/linear_model/coordinate_descent.py:475: ConvergenceWarning: Objective did not converge. You might want to increase the number of iterations. Duality gap: 9190837987.878712, tolerance: 60770253.66885567\n",
      "  positive)\n",
      "/home/sady/anaconda3/lib/python3.7/site-packages/sklearn/linear_model/coordinate_descent.py:475: ConvergenceWarning: Objective did not converge. You might want to increase the number of iterations. Duality gap: 7068131874.136522, tolerance: 57701111.49484536\n",
      "  positive)\n",
      "/home/sady/anaconda3/lib/python3.7/site-packages/sklearn/linear_model/coordinate_descent.py:475: ConvergenceWarning: Objective did not converge. You might want to increase the number of iterations. Duality gap: 9100361304.105925, tolerance: 77234140.09469083\n",
      "  positive)\n",
      "/home/sady/anaconda3/lib/python3.7/site-packages/sklearn/linear_model/coordinate_descent.py:475: ConvergenceWarning: Objective did not converge. You might want to increase the number of iterations. Duality gap: 63868980.151405334, tolerance: 60770253.66885567\n",
      "  positive)\n",
      "/home/sady/anaconda3/lib/python3.7/site-packages/sklearn/linear_model/coordinate_descent.py:475: ConvergenceWarning: Objective did not converge. You might want to increase the number of iterations. Duality gap: 791537561.0827494, tolerance: 77234140.09469083\n",
      "  positive)\n",
      "/home/sady/anaconda3/lib/python3.7/site-packages/sklearn/linear_model/coordinate_descent.py:475: ConvergenceWarning: Objective did not converge. You might want to increase the number of iterations. Duality gap: 3427609458.350763, tolerance: 60770253.66885567\n",
      "  positive)\n",
      "/home/sady/anaconda3/lib/python3.7/site-packages/sklearn/linear_model/coordinate_descent.py:475: ConvergenceWarning: Objective did not converge. You might want to increase the number of iterations. Duality gap: 6259083733.355282, tolerance: 57701111.49484536\n",
      "  positive)\n"
     ]
    },
    {
     "name": "stderr",
     "output_type": "stream",
     "text": [
      "/home/sady/anaconda3/lib/python3.7/site-packages/sklearn/linear_model/coordinate_descent.py:475: ConvergenceWarning: Objective did not converge. You might want to increase the number of iterations. Duality gap: 7992292589.2494545, tolerance: 77234140.09469083\n",
      "  positive)\n",
      "/home/sady/anaconda3/lib/python3.7/site-packages/sklearn/linear_model/coordinate_descent.py:475: ConvergenceWarning: Objective did not converge. You might want to increase the number of iterations. Duality gap: 85885868519.03104, tolerance: 362044673.5007\n",
      "  positive)\n",
      "/home/sady/anaconda3/lib/python3.7/site-packages/sklearn/linear_model/coordinate_descent.py:475: ConvergenceWarning: Objective did not converge. You might want to increase the number of iterations. Duality gap: 74236050860.25967, tolerance: 382873895.0\n",
      "  positive)\n",
      "/home/sady/anaconda3/lib/python3.7/site-packages/sklearn/linear_model/coordinate_descent.py:475: ConvergenceWarning: Objective did not converge. You might want to increase the number of iterations. Duality gap: 77578725741.45398, tolerance: 373223084.0007\n",
      "  positive)\n",
      "/home/sady/anaconda3/lib/python3.7/site-packages/sklearn/linear_model/coordinate_descent.py:475: ConvergenceWarning: Objective did not converge. You might want to increase the number of iterations. Duality gap: 85885868519.03104, tolerance: 362044673.5007\n",
      "  positive)\n",
      "/home/sady/anaconda3/lib/python3.7/site-packages/sklearn/linear_model/coordinate_descent.py:475: ConvergenceWarning: Objective did not converge. You might want to increase the number of iterations. Duality gap: 74236050860.25967, tolerance: 382873895.0\n",
      "  positive)\n",
      "/home/sady/anaconda3/lib/python3.7/site-packages/sklearn/linear_model/coordinate_descent.py:475: ConvergenceWarning: Objective did not converge. You might want to increase the number of iterations. Duality gap: 77578725741.45398, tolerance: 373223084.0007\n",
      "  positive)\n",
      "/home/sady/anaconda3/lib/python3.7/site-packages/sklearn/linear_model/coordinate_descent.py:475: ConvergenceWarning: Objective did not converge. You might want to increase the number of iterations. Duality gap: 44639127668.72255, tolerance: 362044673.5007\n",
      "  positive)\n",
      "/home/sady/anaconda3/lib/python3.7/site-packages/sklearn/linear_model/coordinate_descent.py:475: ConvergenceWarning: Objective did not converge. You might want to increase the number of iterations. Duality gap: 27081346157.864265, tolerance: 382873895.0\n",
      "  positive)\n",
      "/home/sady/anaconda3/lib/python3.7/site-packages/sklearn/linear_model/coordinate_descent.py:475: ConvergenceWarning: Objective did not converge. You might want to increase the number of iterations. Duality gap: 43186337271.03119, tolerance: 373223084.0007\n",
      "  positive)\n",
      "/home/sady/anaconda3/lib/python3.7/site-packages/sklearn/linear_model/coordinate_descent.py:475: ConvergenceWarning: Objective did not converge. You might want to increase the number of iterations. Duality gap: 44639127668.72255, tolerance: 362044673.5007\n",
      "  positive)\n",
      "/home/sady/anaconda3/lib/python3.7/site-packages/sklearn/linear_model/coordinate_descent.py:475: ConvergenceWarning: Objective did not converge. You might want to increase the number of iterations. Duality gap: 27081346157.864265, tolerance: 382873895.0\n",
      "  positive)\n",
      "/home/sady/anaconda3/lib/python3.7/site-packages/sklearn/linear_model/coordinate_descent.py:475: ConvergenceWarning: Objective did not converge. You might want to increase the number of iterations. Duality gap: 43186337271.03119, tolerance: 373223084.0007\n",
      "  positive)\n",
      "/home/sady/anaconda3/lib/python3.7/site-packages/sklearn/linear_model/coordinate_descent.py:475: ConvergenceWarning: Objective did not converge. You might want to increase the number of iterations. Duality gap: 35980684649.05583, tolerance: 362044673.5007\n",
      "  positive)\n",
      "/home/sady/anaconda3/lib/python3.7/site-packages/sklearn/linear_model/coordinate_descent.py:475: ConvergenceWarning: Objective did not converge. You might want to increase the number of iterations. Duality gap: 21768461596.108604, tolerance: 382873895.0\n",
      "  positive)\n",
      "/home/sady/anaconda3/lib/python3.7/site-packages/sklearn/linear_model/coordinate_descent.py:475: ConvergenceWarning: Objective did not converge. You might want to increase the number of iterations. Duality gap: 33749417615.584877, tolerance: 373223084.0007\n",
      "  positive)\n",
      "/home/sady/anaconda3/lib/python3.7/site-packages/sklearn/linear_model/coordinate_descent.py:475: ConvergenceWarning: Objective did not converge. You might want to increase the number of iterations. Duality gap: 35980684649.05583, tolerance: 362044673.5007\n",
      "  positive)\n",
      "/home/sady/anaconda3/lib/python3.7/site-packages/sklearn/linear_model/coordinate_descent.py:475: ConvergenceWarning: Objective did not converge. You might want to increase the number of iterations. Duality gap: 21768461596.108604, tolerance: 382873895.0\n",
      "  positive)\n",
      "/home/sady/anaconda3/lib/python3.7/site-packages/sklearn/linear_model/coordinate_descent.py:475: ConvergenceWarning: Objective did not converge. You might want to increase the number of iterations. Duality gap: 33749417615.584877, tolerance: 373223084.0007\n",
      "  positive)\n",
      "/home/sady/anaconda3/lib/python3.7/site-packages/sklearn/linear_model/coordinate_descent.py:475: ConvergenceWarning: Objective did not converge. You might want to increase the number of iterations. Duality gap: 34566534615.03784, tolerance: 362044673.5007\n",
      "  positive)\n",
      "/home/sady/anaconda3/lib/python3.7/site-packages/sklearn/linear_model/coordinate_descent.py:475: ConvergenceWarning: Objective did not converge. You might want to increase the number of iterations. Duality gap: 19915866356.336422, tolerance: 382873895.0\n",
      "  positive)\n",
      "/home/sady/anaconda3/lib/python3.7/site-packages/sklearn/linear_model/coordinate_descent.py:475: ConvergenceWarning: Objective did not converge. You might want to increase the number of iterations. Duality gap: 30655855364.285545, tolerance: 373223084.0007\n",
      "  positive)\n",
      "/home/sady/anaconda3/lib/python3.7/site-packages/sklearn/linear_model/coordinate_descent.py:475: ConvergenceWarning: Objective did not converge. You might want to increase the number of iterations. Duality gap: 34566534615.03784, tolerance: 362044673.5007\n",
      "  positive)\n",
      "/home/sady/anaconda3/lib/python3.7/site-packages/sklearn/linear_model/coordinate_descent.py:475: ConvergenceWarning: Objective did not converge. You might want to increase the number of iterations. Duality gap: 19915866356.336422, tolerance: 382873895.0\n",
      "  positive)\n",
      "/home/sady/anaconda3/lib/python3.7/site-packages/sklearn/linear_model/coordinate_descent.py:475: ConvergenceWarning: Objective did not converge. You might want to increase the number of iterations. Duality gap: 30655855364.285545, tolerance: 373223084.0007\n",
      "  positive)\n",
      "/home/sady/anaconda3/lib/python3.7/site-packages/sklearn/linear_model/coordinate_descent.py:475: ConvergenceWarning: Objective did not converge. You might want to increase the number of iterations. Duality gap: 38806183044.12862, tolerance: 60770253.66885567\n",
      "  positive)\n",
      "/home/sady/anaconda3/lib/python3.7/site-packages/sklearn/linear_model/coordinate_descent.py:475: ConvergenceWarning: Objective did not converge. You might want to increase the number of iterations. Duality gap: 23420360266.192947, tolerance: 57701111.49484536\n",
      "  positive)\n",
      "/home/sady/anaconda3/lib/python3.7/site-packages/sklearn/linear_model/coordinate_descent.py:475: ConvergenceWarning: Objective did not converge. You might want to increase the number of iterations. Duality gap: 38888562346.32184, tolerance: 77234140.09469083\n",
      "  positive)\n",
      "/home/sady/anaconda3/lib/python3.7/site-packages/sklearn/linear_model/coordinate_descent.py:475: ConvergenceWarning: Objective did not converge. You might want to increase the number of iterations. Duality gap: 4201109840.8741913, tolerance: 60770253.66885567\n",
      "  positive)\n",
      "/home/sady/anaconda3/lib/python3.7/site-packages/sklearn/linear_model/coordinate_descent.py:475: ConvergenceWarning: Objective did not converge. You might want to increase the number of iterations. Duality gap: 2664280252.256653, tolerance: 57701111.49484536\n",
      "  positive)\n",
      "/home/sady/anaconda3/lib/python3.7/site-packages/sklearn/linear_model/coordinate_descent.py:475: ConvergenceWarning: Objective did not converge. You might want to increase the number of iterations. Duality gap: 8132337255.14418, tolerance: 77234140.09469083\n",
      "  positive)\n",
      "/home/sady/anaconda3/lib/python3.7/site-packages/sklearn/linear_model/coordinate_descent.py:475: ConvergenceWarning: Objective did not converge. You might want to increase the number of iterations. Duality gap: 29004127936.84742, tolerance: 60770253.66885567\n",
      "  positive)\n",
      "/home/sady/anaconda3/lib/python3.7/site-packages/sklearn/linear_model/coordinate_descent.py:475: ConvergenceWarning: Objective did not converge. You might want to increase the number of iterations. Duality gap: 17639457712.017212, tolerance: 57701111.49484536\n",
      "  positive)\n",
      "/home/sady/anaconda3/lib/python3.7/site-packages/sklearn/linear_model/coordinate_descent.py:475: ConvergenceWarning: Objective did not converge. You might want to increase the number of iterations. Duality gap: 30624455118.455555, tolerance: 77234140.09469083\n",
      "  positive)\n"
     ]
    },
    {
     "name": "stderr",
     "output_type": "stream",
     "text": [
      "/home/sady/anaconda3/lib/python3.7/site-packages/sklearn/linear_model/coordinate_descent.py:475: ConvergenceWarning: Objective did not converge. You might want to increase the number of iterations. Duality gap: 262842913.1448822, tolerance: 60770253.66885567\n",
      "  positive)\n",
      "/home/sady/anaconda3/lib/python3.7/site-packages/sklearn/linear_model/coordinate_descent.py:475: ConvergenceWarning: Objective did not converge. You might want to increase the number of iterations. Duality gap: 61908362.27903366, tolerance: 57701111.49484536\n",
      "  positive)\n",
      "/home/sady/anaconda3/lib/python3.7/site-packages/sklearn/linear_model/coordinate_descent.py:475: ConvergenceWarning: Objective did not converge. You might want to increase the number of iterations. Duality gap: 16833596747.013498, tolerance: 77234140.09469083\n",
      "  positive)\n"
     ]
    },
    {
     "name": "stdout",
     "output_type": "stream",
     "text": [
      "Eficiencia durante el entrenamiento = 0.8582095237914581+-0.018924592091538642\n",
      "Eficiencia durante la validación = 0.7983247513897885+-0.034258991937244083\n",
      "Errores train = rmse: 31502.744475101994, mae: 19382.94030043667, mape: 11.367103315735239, r2: 0.8582095237914582\n",
      "Errores test = rmse: 33934.98533831686, mae: 20149.638714007022, mape: 12.090130164050475, r2: 0.7983247513897885\n"
     ]
    },
    {
     "name": "stderr",
     "output_type": "stream",
     "text": [
      "/home/sady/anaconda3/lib/python3.7/site-packages/sklearn/model_selection/_search.py:814: DeprecationWarning: The default of the `iid` parameter will change from True to False in version 0.22 and will be removed in 0.24. This will change numeric results when test-set sizes are unequal.\n",
      "  DeprecationWarning)\n"
     ]
    }
   ],
   "source": [
    "from sklearn.linear_model import LinearRegression\n",
    "from sklearn.model_selection import StratifiedKFold, GridSearchCV\n",
    "from numpy import random\n",
    "import math\n",
    "from sklearn import linear_model\n",
    "\n",
    "\n",
    "random.seed(234567)\n",
    "Folds = 4\n",
    "X_train_test, X_val, y_train_test, y_val = train_test_split(Xtrain, Ytrain, test_size=0.10, shuffle=True)\n",
    "\n",
    "alpha = [0.1, 1, 10, 100, 1000]\n",
    "fit_intercept=[False,True]\n",
    "normalize=[False,True]\n",
    "max_iter=[10, 100, 1000, 10000]\n",
    "\n",
    "regression_grid = {'alpha':alpha, 'fit_intercept':fit_intercept, 'normalize':normalize, 'max_iter':max_iter}\n",
    "params = get_params(linear_model.Lasso(), regression_grid, X_val, y_val)\n",
    "\n",
    "EficienciaTrain = np.zeros(Folds)\n",
    "EficienciaVal = np.zeros(Folds)\n",
    "errorsTrain = np.empty(Folds, dtype=object)\n",
    "errorsVal = np.empty(Folds, dtype=object)\n",
    "\n",
    "for i in range(0,4):\n",
    "    X_train, X_test, y_train, y_test = train_test_split(X_train_test, y_train_test, test_size=0.60, shuffle=True)\n",
    "    regr_freq = ''\n",
    "    regr_freq = linear_model.Lasso(alpha =params['alpha'], fit_intercept = params['fit_intercept'], normalize =\n",
    "                                  params['normalize'], max_iter= params['max_iter'])\n",
    "    regr_freq.fit(X_train, y_train)\n",
    "    \n",
    "    #Validación con las muestras de entrenamiento\n",
    "    Ytrain_pred = regr_freq.predict(X_train)\n",
    "\n",
    "    #Validación con las muestras de test\n",
    "    Yest = regr_freq.predict(X_test)\n",
    "\n",
    "    #Evaluamos las predicciones del modelo con los datos de test\n",
    "    EficienciaTrain[i] = regr_freq.score(X_train, y_train)\n",
    "    EficienciaVal[i] = regr_freq.score(X_test, y_test)\n",
    "    errorsTrain[i] = errorMeasure(y_train, Ytrain_pred)\n",
    "    errorsVal[i] = errorMeasure(y_test, Yest)\n",
    "    i += 1\n",
    "    \n",
    "print('Eficiencia durante el entrenamiento = ' + str(np.mean(EficienciaTrain)) + '+-' + str(np.std(EficienciaTrain)))\n",
    "print('Eficiencia durante la validación = ' + str(np.mean(EficienciaVal)) + '+-' + str(np.std(EficienciaVal)))\n",
    "\n",
    "print('Errores train = rmse: '+ str(np.mean([error['rmse'] for error in errorsTrain])) + ', mae: ' + str(np.mean([error['mae'] for error in errorsTrain]))\n",
    "     + ', mape: '+ str(np.mean([error['mape'] for error in errorsTrain])) + ', r2: '+ str(np.mean([error['r2'] for error in errorsTrain])))\n",
    "print('Errores test = rmse: '+ str(np.mean([error['rmse'] for error in errorsVal])) + ', mae: ' + str(np.mean([error['mae'] for error in errorsVal]))\n",
    "     + ', mape: '+ str(np.mean([error['mape'] for error in errorsVal])) + ', r2: '+ str(np.mean([error['r2'] for error in errorsVal])))\n"
   ]
  },
  {
   "cell_type": "code",
   "execution_count": 251,
   "metadata": {},
   "outputs": [
    {
     "name": "stdout",
     "output_type": "stream",
     "text": [
      "Accuracy train: 0.81 (+/- 0.12)\n"
     ]
    }
   ],
   "source": [
    "from sklearn.model_selection import cross_val_score\n",
    "\n",
    "regr_freq = ''\n",
    "regr_freq = LinearRegression(fit_intercept=True)\n",
    "scores_train = cross_val_score(regr_freq, X_train, y_train, cv=5)\n",
    "#scores_test = cross_val_score(regr_freq, X_test, y_test, cv=5)\n",
    "\n",
    "print(\"Accuracy train: %0.2f (+/- %0.2f)\" % (scores_train.mean(), scores_train.std() * 2))\n",
    "#print(\"Accuracy test: %0.2f (+/- %0.2f)\" % (scores_test.mean(), scores_test.std() * 2))"
   ]
  },
  {
   "cell_type": "markdown",
   "metadata": {},
   "source": [
    "# Ventana de Parzen\n"
   ]
  },
  {
   "cell_type": "code",
   "execution_count": 193,
   "metadata": {},
   "outputs": [],
   "source": [
    "#Normalizar los datos\n",
    "\n",
    "from sklearn import preprocessing\n",
    "normalize = preprocessing.StandardScaler().fit(X_train)\n",
    "X_train_N = normalize.transform(X_train)\n",
    "X_test_N = normalize.transform(X_test)  \n",
    "\n",
    "normalize = preprocessing.StandardScaler().fit(X_val)\n",
    "X_val_N = normalize.transform(X_val)"
   ]
  },
  {
   "cell_type": "code",
   "execution_count": 84,
   "metadata": {},
   "outputs": [
    {
     "name": "stderr",
     "output_type": "stream",
     "text": [
      "/home/sady/anaconda3/lib/python3.7/site-packages/sklearn/model_selection/_split.py:1978: FutureWarning: The default value of cv will change from 3 to 5 in version 0.22. Specify it explicitly to silence this warning.\n",
      "  warnings.warn(CV_WARNING, FutureWarning)\n",
      "/home/sady/anaconda3/lib/python3.7/site-packages/sklearn/model_selection/_search.py:814: DeprecationWarning: The default of the `iid` parameter will change from True to False in version 0.22 and will be removed in 0.24. This will change numeric results when test-set sizes are unequal.\n",
      "  DeprecationWarning)\n"
     ]
    },
    {
     "data": {
      "text/plain": [
       "{'bandwidth': 0.6951927961775606, 'kernel': 'gaussian'}"
      ]
     },
     "execution_count": 84,
     "metadata": {},
     "output_type": "execute_result"
    }
   ],
   "source": [
    "from sklearn.neighbors import KernelDensity\n",
    "from sklearn.model_selection import train_test_split\n",
    "from sklearn.model_selection import StratifiedKFold, GridSearchCV\n",
    "from numpy import random\n",
    "import math\n",
    "\n",
    "bandwidth = np.logspace(-1, 1, 20)\n",
    "kernel = ['gaussian']\n",
    "\n",
    "params = {'bandwidth': bandwidth, 'kernel': kernel}\n",
    "parzen_grid = GridSearchCV(KernelDensity(), params)\n",
    "parzen_grid.fit(X_val_N, y_val)\n",
    "\n",
    "parzen_grid.best_params_"
   ]
  },
  {
   "cell_type": "code",
   "execution_count": 182,
   "metadata": {},
   "outputs": [
    {
     "name": "stdout",
     "output_type": "stream",
     "text": [
      "performanceTrain {'rmse': 67559.74213955055, 'mae': 49593.90038580376, 'mape': 31.642908298892987, 'r2': 0.2128943539898629}\n",
      "performanceTest {'rmse': 64078.68716554145, 'mae': 48043.76818529525, 'mape': 31.64966568901263, 'r2': 0.19415939161067697}\n"
     ]
    }
   ],
   "source": [
    "from kernel_regression import KernelRegression\n",
    "\n",
    "regr_parzen = ''\n",
    "regr_parzen = KernelRegression()\n",
    "regr_parzen.fit(X_train_N, y_train)\n",
    "\n",
    "#regr_parzen = KernelDensity(algorithm='ball_tree', bandwidth=0.6951927961775606, kernel='gaussian')\n",
    "#regr_parzen.fit(X_train_N, y_train)\n",
    "\n",
    "#Desempeño del modelo con datos de entrenamiento\n",
    "y_pred_train_parzen = regr_parzen.predict(X_train_N)\n",
    "\n",
    "performanceTrain = errorMeasure(y_train, y_pred_train_parzen)\n",
    "print('performanceTrain', performanceTrain)\n",
    "\n",
    "#Desempeño del modelo con datos de prueba\n",
    "y_pred_test_parzen = regr_parzen.predict(X_test_N)\n",
    "\n",
    "performanceTest = errorMeasure(y_test, y_pred_test_parzen)\n",
    "print('performanceTest', performanceTest)"
   ]
  },
  {
   "cell_type": "code",
   "execution_count": 194,
   "metadata": {},
   "outputs": [
    {
     "name": "stdout",
     "output_type": "stream",
     "text": [
      "Accuracy train: 0.19 (+/- 0.02)\n",
      "Accuracy test: 0.17 (+/- 0.04)\n"
     ]
    }
   ],
   "source": [
    "from sklearn.model_selection import cross_val_score\n",
    "\n",
    "regr_parzen = ''\n",
    "regr_parzen = KernelRegression()\n",
    "scores_train = cross_val_score(regr_parzen, X_train_N, y_train, cv=5)\n",
    "scores_test = cross_val_score(regr_parzen, X_test_N, y_test, cv=5)\n",
    "\n",
    "print(\"Accuracy train: %0.2f (+/- %0.2f)\" % (scores_train.mean(), scores_train.std() * 2))\n",
    "print(\"Accuracy test: %0.2f (+/- %0.2f)\" % (scores_test.mean(), scores_test.std() * 2))"
   ]
  },
  {
   "cell_type": "markdown",
   "metadata": {},
   "source": [
    "# Regresión Lineal con PCA\n"
   ]
  },
  {
   "cell_type": "code",
   "execution_count": 197,
   "metadata": {},
   "outputs": [
    {
     "name": "stdout",
     "output_type": "stream",
     "text": [
      "performanceTrain 25 {'rmse': 29820.711555479946, 'mae': 20559.778118434093, 'mape': 12.776753090169022, 'r2': 0.8649178360620999}\n",
      "performanceTest25 {'rmse': 49925.049236903156, 'mae': 23343.53094316772, 'mape': 14.67568465836931, 'r2': 0.2957724971638054}\n",
      "performanceTrain 26 {'rmse': 284684.295355182, 'mae': 275606.7009135435, 'mape': 198.50912265846802, 'r2': -12.320061455080568}\n",
      "performanceTest26 {'rmse': 28338.180091640046, 'mae': 20152.346618286687, 'mape': 11.709126469051116, 'r2': 0.8580141471920154}\n",
      "performanceTrain 27 {'rmse': 38172.00163907987, 'mae': 22513.609151475313, 'mape': 13.138400755361932, 'r2': 0.7784668125679417}\n",
      "performanceTest27 {'rmse': 22782.870099747197, 'mae': 17909.750771732168, 'mape': 11.857318281638232, 'r2': 0.877315335577764}\n",
      "performanceTrain 28 {'rmse': 34653.66111575846, 'mae': 20588.46623876029, 'mape': 12.544646187783037, 'r2': 0.8018737022182144}\n",
      "performanceTest28 {'rmse': 46737.972092086, 'mae': 23220.133963908367, 'mape': 12.696203590337745, 'r2': 0.6415999641468355}\n",
      "performanceTrain 29 {'rmse': 33262.21089460458, 'mae': 20699.44357512006, 'mape': 12.44895314552021, 'r2': 0.8306151727498865}\n",
      "performanceTest29 {'rmse': 71111.49093484273, 'mae': 24068.954425102907, 'mape': 14.96636589910432, 'r2': 0.21846434798552994}\n",
      "performanceTrain 30 {'rmse': 1251891.2798595908, 'mae': 1249385.0045266785, 'mape': 832.5287040485458, 'r2': -247.63200090945872}\n",
      "performanceTest30 {'rmse': 70093.13036719486, 'mae': 25651.37235398089, 'mape': 15.952359663298926, 'r2': 0.11935473502025584}\n",
      "performanceTrain 31 {'rmse': 1606331.710140953, 'mae': 1604348.6412628242, 'mape': 1077.4875789085045, 'r2': -401.8559187420679}\n",
      "performanceTest31 {'rmse': 44702.75126571007, 'mae': 24208.4660275648, 'mape': 13.853370541439652, 'r2': 0.6378652894059743}\n",
      "performanceTrain 32 {'rmse': 2126814.1283235364, 'mae': 2126519.0784792, 'mape': 1403.7931923863562, 'r2': -734.4198087420579}\n",
      "performanceTest32 {'rmse': 27287.51695540295, 'mae': 19301.284758095222, 'mape': 10.923011082156743, 'r2': 0.8509007280054074}\n",
      "performanceTrain 33 {'rmse': 30443.576785496483, 'mae': 18919.799310934544, 'mape': 11.486783220870866, 'r2': 0.8426084170370877}\n",
      "performanceTest33 {'rmse': 65212.174917801174, 'mae': 22374.32447571005, 'mape': 13.382067718030344, 'r2': 0.175209926032304}\n",
      "performanceTrain 34 {'rmse': 356570.97332498414, 'mae': 347266.95628823846, 'mape': 207.59647789201736, 'r2': -18.28695758470663}\n",
      "performanceTest34 {'rmse': 28952.005203933335, 'mae': 20991.400650441337, 'mape': 13.016457376930301, 'r2': 0.7909047759284422}\n",
      "performanceTrain 35 {'rmse': 34630.869242862645, 'mae': 20840.251383938223, 'mape': 12.451305732648994, 'r2': 0.7947012459899224}\n",
      "performanceTest35 {'rmse': 33796.59776003427, 'mae': 21338.841868529675, 'mape': 12.360064017541514, 'r2': 0.8245366940445951}\n",
      "performanceTrain 36 {'rmse': 878406.3137283428, 'mae': 874629.3434777535, 'mape': 554.4350587341806, 'r2': -114.69349000212206}\n",
      "performanceTest36 {'rmse': 42042.12701792365, 'mae': 21161.540426949774, 'mape': 14.030472266610762, 'r2': 0.6049780802496818}\n",
      "performanceTrain 37 {'rmse': 30211.92438325801, 'mae': 18345.02189724447, 'mape': 11.351127187690114, 'r2': 0.8595697871803901}\n",
      "performanceTest37 {'rmse': 72747.81018877048, 'mae': 26225.14544747789, 'mape': 15.040241580060314, 'r2': 0.145340496337084}\n",
      "performanceTrain 38 {'rmse': 27151.42903959684, 'mae': 18634.978873333577, 'mape': 11.715297865372595, 'r2': 0.8919976484284265}\n",
      "performanceTest38 {'rmse': 80659.65877489667, 'mae': 25558.297033869098, 'mape': 15.93861700041567, 'r2': -0.6246291830080963}\n",
      "performanceTrain 39 {'rmse': 629488.771489541, 'mae': 624564.2907995062, 'mape': 422.54452195037294, 'r2': -62.76332459711667}\n",
      "performanceTest39 {'rmse': 22184.644114273102, 'mae': 16981.350490071396, 'mape': 11.353769650312481, 'r2': 0.9068093796016805}\n",
      "performanceTrain 40 {'rmse': 1985308.7512955165, 'mae': 1983719.2740878519, 'mape': 1251.6035270337102, 'r2': -619.406849887157}\n",
      "performanceTest40 {'rmse': 33949.77026974338, 'mae': 19928.389834414444, 'mape': 12.880986849856068, 'r2': 0.8543944969887002}\n",
      "performanceTrain 41 {'rmse': 36167.285088342825, 'mae': 20878.654282684893, 'mape': 12.37957966605073, 'r2': 0.7982766117457202}\n",
      "performanceTest41 {'rmse': 27933.15600153543, 'mae': 20896.907868789945, 'mape': 12.362577954417226, 'r2': 0.8466149545341035}\n",
      "performanceTrain 42 {'rmse': 31802.45742831372, 'mae': 20557.55538881944, 'mape': 12.537460495072466, 'r2': 0.8210354919327849}\n",
      "performanceTest42 {'rmse': 45514.61716378768, 'mae': 22451.715680902482, 'mape': 11.658823404834132, 'r2': 0.730467235765109}\n",
      "performanceTrain 43 {'rmse': 36784.89192761777, 'mae': 21435.67864705903, 'mape': 12.641267118745944, 'r2': 0.8023079301934487}\n",
      "performanceTest43 {'rmse': 23120.700146356416, 'mae': 18594.79683905257, 'mape': 12.682643674659708, 'r2': 0.8730043697123564}\n",
      "performanceTrain 44 {'rmse': 27920.309944191107, 'mae': 17122.1770087353, 'mape': 10.341831800182776, 'r2': 0.863182523788083}\n",
      "performanceTest44 {'rmse': 37511.769587813185, 'mae': 23352.966608969764, 'mape': 14.773489419859203, 'r2': 0.8264200820465137}\n",
      "performanceTrain 45 {'rmse': 34791.93141305889, 'mae': 20485.83193451447, 'mape': 12.42955247849809, 'r2': 0.823567526793745}\n",
      "performanceTest45 {'rmse': 41651.89236597552, 'mae': 21314.683788460196, 'mape': 13.752688472173539, 'r2': 0.5426511778975474}\n",
      "performanceTrain 46 {'rmse': 35520.76734382976, 'mae': 20817.775623840735, 'mape': 12.54565928274785, 'r2': 0.8038448045204882}\n",
      "performanceTest46 {'rmse': 25857.071710680142, 'mae': 18857.239782938326, 'mape': 11.210413845442337, 'r2': 0.8504696900901305}\n",
      "performanceTrain 47 {'rmse': 1209134.7067826123, 'mae': 1208615.5160166728, 'mape': 794.8282815429953, 'r2': -225.69740940391924}\n",
      "performanceTest47 {'rmse': 27444.930253595347, 'mae': 20437.44826325833, 'mape': 12.552705052108657, 'r2': 0.8716137038978221}\n",
      "performanceTrain 48 {'rmse': 30902.074393182218, 'mae': 20253.95558494769, 'mape': 12.273440138085547, 'r2': 0.827486790537616}\n",
      "performanceTest48 {'rmse': 40265.142773754014, 'mae': 20905.383008383196, 'mape': 12.041139657513563, 'r2': 0.804449191683011}\n",
      "performanceTrain 49 {'rmse': 33044.989787501305, 'mae': 20000.162755110858, 'mape': 12.256305607072289, 'r2': 0.8232262040427238}\n",
      "performanceTest49 {'rmse': 43563.02720593862, 'mae': 23912.715837872827, 'mape': 14.480828344219782, 'r2': 0.6450909422413917}\n"
     ]
    }
   ],
   "source": [
    "i = 0\n",
    "components = list(range(25,50))\n",
    "X_pca = np.zeros(75)\n",
    "\n",
    "for i in components:\n",
    "    ext = ''\n",
    "    ext = PCA(n_components=i)\n",
    "    ext = ext.fit(X_train)\n",
    "    X_ext = ext.transform(X_train)\n",
    "    #Separa conjunto de entrenamiento y validación del conjunto de test\n",
    "    X_train_val_ex, Xtest_ex, y_train_val_ex, y_test_ex = train_test_split(X_ext, y_train, test_size=0.10, shuffle=True)\n",
    "    \n",
    "    #Separar entrenamiento del conjunto de validación\n",
    "    Xtrain_ex, X_val_ex, y_train_ex, y_val_ex = train_test_split(X_train_val_ex, y_train_val_ex, test_size=0.20, shuffle=True)\n",
    "    \n",
    "    fit_intercept=[False,True]\n",
    "    normalize=[False,True]\n",
    "    copy_X=[False,True]\n",
    "    n_jobs=[None,1,2,3,4,5,6,7,8,9,10,11,12,13,14,15,16,17,18,19,20]\n",
    "    \n",
    "    regression_grid = {'fit_intercept':fit_intercept, 'normalize':normalize, 'copy_X':copy_X, 'n_jobs':n_jobs}\n",
    "\n",
    "    \n",
    "    params = get_params(LinearRegression(), regression_grid, X_val_ex, y_val_ex)\n",
    "\n",
    "    regr_freq = LinearRegression(fit_intercept = params['fit_intercept'], normalize = params['normalize'],\n",
    "                                copy_X = params['copy_X'], n_jobs = params['n_jobs'])\n",
    "    regr_freq.fit(Xtrain_ex, y_train_ex)\n",
    "\n",
    "\n",
    "    #Desempeño del modelo con datos de entrenamiento\n",
    "    y_pred_train_LR = regr_freq.predict(Xtrain_ex)\n",
    "\n",
    "    performanceTrain = errorMeasure(y_train_ex, y_pred_train_LR)\n",
    "    print('performanceTrain ' + str(i), performanceTrain)\n",
    "\n",
    "    #Desempeño del modelo con datos de prueba\n",
    "    y_pred_test_LR = regr_freq.predict(Xtest_ex)\n",
    "\n",
    "    performanceTest = errorMeasure(y_test_ex, y_pred_test_LR)\n",
    "    print('performanceTest' + str(i), performanceTest)\n",
    "    i = i + 1\n"
   ]
  },
  {
   "cell_type": "markdown",
   "metadata": {},
   "source": [
    "Una vez encontrados los mejores valores al aplicar PCA, mostraremos la comparación entre estos:"
   ]
  },
  {
   "cell_type": "code",
   "execution_count": 195,
   "metadata": {},
   "outputs": [
    {
     "name": "stderr",
     "output_type": "stream",
     "text": [
      "/home/sady/anaconda3/lib/python3.7/site-packages/sklearn/model_selection/_search.py:814: DeprecationWarning: The default of the `iid` parameter will change from True to False in version 0.22 and will be removed in 0.24. This will change numeric results when test-set sizes are unequal.\n",
      "  DeprecationWarning)\n"
     ]
    },
    {
     "name": "stdout",
     "output_type": "stream",
     "text": [
      "performanceTrain 30 {'rmse': 31105.830852056846, 'mae': 19805.96183736541, 'mape': 12.32124175098846, 'r2': 0.8391951419237014}\n",
      "performanceTest30 {'rmse': 48579.277120798906, 'mae': 27946.172412539076, 'mape': 14.521257576014701, 'r2': 0.76181379699308}\n",
      "Accuracy train: 0.74 (+/- 0.19)\n",
      "Accuracy test: 0.60 (+/- 0.21)\n"
     ]
    },
    {
     "name": "stderr",
     "output_type": "stream",
     "text": [
      "/home/sady/anaconda3/lib/python3.7/site-packages/sklearn/model_selection/_search.py:814: DeprecationWarning: The default of the `iid` parameter will change from True to False in version 0.22 and will be removed in 0.24. This will change numeric results when test-set sizes are unequal.\n",
      "  DeprecationWarning)\n"
     ]
    },
    {
     "name": "stdout",
     "output_type": "stream",
     "text": [
      "performanceTrain 34 {'rmse': 1468027.7189332584, 'mae': 1467641.191301324, 'mape': 955.9744020738973, 'r2': -322.73535800573023}\n",
      "performanceTest34 {'rmse': 26997.96753615909, 'mae': 17921.570379886027, 'mape': 10.687543458493419, 'r2': 0.8810621872124138}\n",
      "Accuracy train: 0.74 (+/- 0.19)\n",
      "Accuracy test: 0.58 (+/- 0.24)\n"
     ]
    },
    {
     "name": "stderr",
     "output_type": "stream",
     "text": [
      "/home/sady/anaconda3/lib/python3.7/site-packages/sklearn/model_selection/_search.py:814: DeprecationWarning: The default of the `iid` parameter will change from True to False in version 0.22 and will be removed in 0.24. This will change numeric results when test-set sizes are unequal.\n",
      "  DeprecationWarning)\n"
     ]
    },
    {
     "name": "stdout",
     "output_type": "stream",
     "text": [
      "performanceTrain 35 {'rmse': 26529.48769233549, 'mae': 18927.17171754839, 'mape': 12.011037291839278, 'r2': 0.8935396683732488}\n",
      "performanceTest35 {'rmse': 25713.538847918007, 'mae': 18472.641958289507, 'mape': 11.170434902370777, 'r2': 0.8319979203596988}\n",
      "Accuracy train: 0.74 (+/- 0.19)\n",
      "Accuracy test: 0.60 (+/- 0.21)\n",
      "performanceTrain 45 {'rmse': 34054.62462490256, 'mae': 19759.405775456667, 'mape': 11.66489415484864, 'r2': 0.8166408739130108}\n",
      "performanceTest45 {'rmse': 23277.38729786109, 'mae': 17923.52770089802, 'mape': 11.250497142507875, 'r2': 0.8844047357022344}\n",
      "Accuracy train: 0.74 (+/- 0.19)\n",
      "Accuracy test: 0.60 (+/- 0.21)\n"
     ]
    }
   ],
   "source": [
    "components = [30, 34, 35, 45]\n",
    "\n",
    "for i in components:\n",
    "    ext = ''\n",
    "    ext = PCA(n_components=i)\n",
    "    ext = ext.fit(Xtrain)\n",
    "    X_ext = ext.transform(Xtrain)\n",
    "    #Separa conjunto de entrenamiento y validación del conjunto de test\n",
    "    X_train_val_ex, Xtest_ex, y_train_val_ex, y_test_ex = train_test_split(X_ext, Ytrain, test_size=0.10, shuffle=True)\n",
    "    \n",
    "    #Separar entrenamiento del conjunto de validación\n",
    "    Xtrain_ex, X_val_ex, y_train_ex, y_val_ex = train_test_split(X_train_val_ex, y_train_val_ex, test_size=0.20, shuffle=True)\n",
    "    \n",
    "    fit_intercept=[False,True]\n",
    "    normalize=[False,True]\n",
    "    copy_X=[False,True]\n",
    "    n_jobs=[None,1,2,3,4,5,6,7,8,9,10,11,12,13,14,15,16,17,18,19,20]\n",
    "    \n",
    "    regression_grid = {'fit_intercept':fit_intercept, 'normalize':normalize, 'copy_X':copy_X, 'n_jobs':n_jobs}\n",
    "\n",
    "    \n",
    "    params = get_params(LinearRegression(), regression_grid, X_val_ex, y_val_ex)\n",
    "\n",
    "    regr_freq = LinearRegression(fit_intercept = params['fit_intercept'], normalize = params['normalize'],\n",
    "                                copy_X = params['copy_X'], n_jobs = params['n_jobs'])\n",
    "    regr_freq.fit(Xtrain_ex, y_train_ex)\n",
    "\n",
    "\n",
    "    #Desempeño del modelo con datos de entrenamiento\n",
    "    y_pred_train_LR = regr_freq.predict(Xtrain_ex)\n",
    "\n",
    "    performanceTrain = errorMeasure(y_train_ex, y_pred_train_LR)\n",
    "    print('performanceTrain ' + str(i), performanceTrain)\n",
    "    \n",
    "    \n",
    "    #Desempeño del modelo con datos de prueba\n",
    "    y_pred_test_LR = regr_freq.predict(Xtest_ex)\n",
    "\n",
    "    performanceTest = errorMeasure(y_test_ex, y_pred_test_LR)\n",
    "    print('performanceTest' + str(i), performanceTest)\n",
    "    i = i + 1\n",
    "    \n",
    "    regr_freq = ''\n",
    "    regr_freq = LinearRegression(fit_intercept = params['fit_intercept'], normalize = params['normalize'],\n",
    "                                copy_X = params['copy_X'], n_jobs = params['n_jobs'])\n",
    "    scores_train = cross_val_score(regr_freq, X_train, y_train, cv=5)\n",
    "    scores_test = cross_val_score(regr_freq, X_test, y_test, cv=5)\n",
    "\n",
    "    print(\"Accuracy train: %0.2f (+/- %0.2f)\" % (scores_train.mean(), scores_train.std() * 2))\n",
    "    print(\"Accuracy test: %0.2f (+/- %0.2f)\" % (scores_test.mean(), scores_test.std() * 2))"
   ]
  },
  {
   "cell_type": "markdown",
   "metadata": {},
   "source": [
    "# Ventana de Parzen con PCA\n"
   ]
  },
  {
   "cell_type": "code",
   "execution_count": 160,
   "metadata": {},
   "outputs": [
    {
     "name": "stdout",
     "output_type": "stream",
     "text": [
      "performanceTrain5 {'rmse': 63850.98515975949, 'mae': 45020.62884431369, 'mape': 26.594369328165392, 'r2': 0.36502256393478316}\n",
      "performanceTest5 {'rmse': 63720.550768573354, 'mae': 43138.61704439458, 'mape': 24.371687621032574, 'r2': 0.2762054852651171}\n",
      "performanceTrain6 {'rmse': 66463.02155833847, 'mae': 46611.686166966065, 'mape': 27.526131558438514, 'r2': 0.31393169076467353}\n",
      "performanceTest6 {'rmse': 57829.072254239356, 'mae': 43696.987285346426, 'mape': 29.443762176896353, 'r2': 0.2975298933521425}\n",
      "performanceTrain7 {'rmse': 63042.146917081576, 'mae': 44611.309383723, 'mape': 27.605548760917014, 'r2': 0.2778983272162727}\n",
      "performanceTest7 {'rmse': 67913.64504737889, 'mae': 50066.43476109931, 'mape': 30.087457414209755, 'r2': 0.20046837350005242}\n",
      "performanceTrain8 {'rmse': 65874.56738131367, 'mae': 46643.862218228285, 'mape': 28.17219474629809, 'r2': 0.2756032345591346}\n",
      "performanceTest8 {'rmse': 83443.30621114878, 'mae': 50311.494858839214, 'mape': 30.146901785382376, 'r2': 0.2363559413612002}\n",
      "performanceTrain9 {'rmse': 68517.99442333714, 'mae': 48537.939595210475, 'mape': 28.63963365508712, 'r2': 0.2880989317466752}\n",
      "performanceTest9 {'rmse': 51927.07692685082, 'mae': 39716.09096410699, 'mape': 28.1311527837912, 'r2': 0.23135642455352312}\n",
      "performanceTrain10 {'rmse': 69652.08369180726, 'mae': 48688.35309842909, 'mape': 28.57854335046786, 'r2': 0.26189032526313194}\n",
      "performanceTest10 {'rmse': 58521.46913605167, 'mae': 44834.166137649474, 'mape': 30.709456016734904, 'r2': 0.20761538970981874}\n",
      "performanceTrain11 {'rmse': 71490.9015910303, 'mae': 49061.80730232387, 'mape': 28.993338047091854, 'r2': 0.23792388406155374}\n",
      "performanceTest11 {'rmse': 65982.1051609048, 'mae': 49989.31318179986, 'mape': 29.841490539088188, 'r2': 0.1806134638688518}\n",
      "performanceTrain12 {'rmse': 68957.1453639541, 'mae': 49412.97436452013, 'mape': 29.613920721963215, 'r2': 0.21960086013637992}\n",
      "performanceTest12 {'rmse': 81537.91069684201, 'mae': 54336.70929856622, 'mape': 32.00850174343628, 'r2': 0.13015394173727113}\n",
      "performanceTrain13 {'rmse': 70688.53783740623, 'mae': 49106.36236980671, 'mape': 28.905029502691427, 'r2': 0.20839122802211119}\n",
      "performanceTest13 {'rmse': 72353.03196592763, 'mae': 53026.39432380574, 'mape': 29.956354421785946, 'r2': 0.13894848128710224}\n",
      "performanceTrain14 {'rmse': 70188.68472770903, 'mae': 48165.65038444969, 'mape': 29.2113082218567, 'r2': 0.21157851871693678}\n",
      "performanceTest14 {'rmse': 70575.23623159748, 'mae': 51723.32696612007, 'mape': 29.563842603297935, 'r2': 0.1496548660988144}\n",
      "performanceTrain15 {'rmse': 66150.98469264967, 'mae': 47267.745089001095, 'mape': 29.80180118558375, 'r2': 0.2061832795438906}\n",
      "performanceTest15 {'rmse': 87692.94066818306, 'mae': 53680.46915547811, 'mape': 28.33897598150305, 'r2': 0.13448501359737308}\n",
      "performanceTrain16 {'rmse': 70487.81723783797, 'mae': 48713.40705693353, 'mape': 29.696068634708077, 'r2': 0.19008103731524073}\n",
      "performanceTest16 {'rmse': 69327.99205856601, 'mae': 47886.82985031403, 'mape': 28.21612991524584, 'r2': 0.15800854145679954}\n",
      "performanceTrain17 {'rmse': 71460.53682855473, 'mae': 49666.04184146498, 'mape': 30.237182853337334, 'r2': 0.18780750188419704}\n",
      "performanceTest17 {'rmse': 83676.78061768916, 'mae': 56829.35839787977, 'mape': 32.263236092754596, 'r2': 0.11324098497409585}\n",
      "performanceTrain18 {'rmse': 69049.0241736222, 'mae': 48549.700125634496, 'mape': 30.762626590469672, 'r2': 0.17916491332997697}\n",
      "performanceTest18 {'rmse': 71379.29501493543, 'mae': 52601.50181056279, 'mape': 31.510251635505455, 'r2': 0.08132646033344038}\n",
      "performanceTrain19 {'rmse': 72900.6494205041, 'mae': 51843.086997538085, 'mape': 31.81258620631774, 'r2': 0.18596109174146713}\n",
      "performanceTest19 {'rmse': 69580.4136506541, 'mae': 46039.513813637495, 'mape': 31.0528303072375, 'r2': 0.13173536102929195}\n",
      "performanceTrain20 {'rmse': 70471.874027053, 'mae': 50623.35209180441, 'mape': 31.3474194844073, 'r2': 0.17888580535459386}\n",
      "performanceTest20 {'rmse': 70068.40705755875, 'mae': 52712.40425618109, 'mape': 32.93323393230466, 'r2': 0.15219298411087334}\n",
      "performanceTrain21 {'rmse': 73879.81017797634, 'mae': 52073.167371878015, 'mape': 31.984342667398614, 'r2': 0.16833269601612577}\n",
      "performanceTest21 {'rmse': 63339.963403903945, 'mae': 51927.87757764285, 'mape': 33.855287548587654, 'r2': 0.15964567620036074}\n",
      "performanceTrain22 {'rmse': 71326.74148115232, 'mae': 50711.226722450454, 'mape': 31.72659153853662, 'r2': 0.1678608953668519}\n",
      "performanceTest22 {'rmse': 78239.78040511945, 'mae': 49102.23479103036, 'mape': 27.54425147075273, 'r2': 0.12989813419481644}\n",
      "performanceTrain23 {'rmse': 73768.12544644834, 'mae': 51801.66930900303, 'mape': 32.29892995317722, 'r2': 0.1702394126454485}\n",
      "performanceTest23 {'rmse': 71416.23469546193, 'mae': 53299.32955661878, 'mape': 33.19317436135473, 'r2': 0.11448946642636038}\n",
      "performanceTrain24 {'rmse': 71339.00179324475, 'mae': 50820.52317937633, 'mape': 31.47851319212307, 'r2': 0.16197499238770297}\n",
      "performanceTest24 {'rmse': 63049.563370162396, 'mae': 47996.57298415359, 'mape': 33.35062825134135, 'r2': 0.10920822059726132}\n",
      "performanceTrain25 {'rmse': 70846.15448393136, 'mae': 50751.98764514109, 'mape': 31.674972087263864, 'r2': 0.16039210883810473}\n",
      "performanceTest25 {'rmse': 73773.3669757696, 'mae': 51919.86388673489, 'mape': 29.615058505731064, 'r2': 0.11380399280291786}\n",
      "performanceTrain26 {'rmse': 75992.1382398946, 'mae': 53450.65364188421, 'mape': 32.999436857694505, 'r2': 0.15818515993679017}\n",
      "performanceTest26 {'rmse': 64714.470304913164, 'mae': 50471.58648996952, 'mape': 32.58931697950814, 'r2': 0.14353222900528095}\n",
      "performanceTrain27 {'rmse': 75637.72652295418, 'mae': 53191.8983584722, 'mape': 33.03641309103186, 'r2': 0.14886348613834033}\n",
      "performanceTest27 {'rmse': 64400.006771904424, 'mae': 50494.05474275547, 'mape': 33.717180671023186, 'r2': 0.13370057830629112}\n",
      "performanceTrain28 {'rmse': 73474.3471115817, 'mae': 52397.748493973384, 'mape': 32.81581932575111, 'r2': 0.15221298119044535}\n",
      "performanceTest28 {'rmse': 62010.66022009269, 'mae': 49046.068727155434, 'mape': 34.80838886294813, 'r2': 0.10481347494730975}\n",
      "performanceTrain29 {'rmse': 70813.22394554333, 'mae': 51061.94755492265, 'mape': 32.59994176907219, 'r2': 0.14639419279902255}\n",
      "performanceTest29 {'rmse': 87483.93552948287, 'mae': 57762.98456795527, 'mape': 29.68161234043253, 'r2': 0.07005268500664485}\n",
      "performanceTrain30 {'rmse': 74868.82598614403, 'mae': 53142.308710893856, 'mape': 32.8914718335423, 'r2': 0.1436357842682211}\n",
      "performanceTest30 {'rmse': 72968.066493971, 'mae': 53457.12679284219, 'mape': 34.63775373929984, 'r2': 0.11073720874987958}\n",
      "performanceTrain31 {'rmse': 72040.96583092165, 'mae': 51599.292013640064, 'mape': 32.50956574469742, 'r2': 0.12828524829231858}\n",
      "performanceTest31 {'rmse': 83255.28830991307, 'mae': 54332.39829697225, 'mape': 32.73347647759877, 'r2': 0.09402336623652607}\n",
      "performanceTrain32 {'rmse': 75261.49548931356, 'mae': 53325.67015895174, 'mape': 32.839648484446634, 'r2': 0.1244453233192161}\n",
      "performanceTest32 {'rmse': 75868.37537668842, 'mae': 56907.62228149375, 'mape': 38.23913744792523, 'r2': 0.10728639909324289}\n",
      "performanceTrain33 {'rmse': 72855.6130979858, 'mae': 52364.006655065845, 'mape': 33.53321094072095, 'r2': 0.12393941793053043}\n",
      "performanceTest33 {'rmse': 78133.08369185252, 'mae': 55953.879594001904, 'mape': 32.87148070807675, 'r2': 0.09946027553658787}\n",
      "performanceTrain34 {'rmse': 75152.09439493656, 'mae': 52932.4577920531, 'mape': 32.983183154209335, 'r2': 0.12795302049025659}\n",
      "performanceTest34 {'rmse': 74525.15480914764, 'mae': 55801.29418791951, 'mape': 36.67948219032379, 'r2': 0.08231733989465517}\n",
      "performanceTrain35 {'rmse': 75062.52093674015, 'mae': 53633.188090731, 'mape': 33.6827249533186, 'r2': 0.12972864140552864}\n",
      "performanceTest35 {'rmse': 67229.56103983744, 'mae': 49393.29648042964, 'mape': 29.327488678748303, 'r2': 0.09909942953723172}\n",
      "performanceTrain36 {'rmse': 75600.9761110829, 'mae': 53425.56932936963, 'mape': 33.074118051737514, 'r2': 0.1183507845913111}\n",
      "performanceTest36 {'rmse': 76286.31058388502, 'mae': 52787.9172418008, 'mape': 34.79140656404036, 'r2': 0.08789731768607612}\n",
      "performanceTrain37 {'rmse': 72857.96140470593, 'mae': 51629.21071721479, 'mape': 31.771069421014914, 'r2': 0.12024587940852605}\n",
      "performanceTest37 {'rmse': 81371.63707501623, 'mae': 61360.01802758916, 'mape': 39.34802057110337, 'r2': 0.07818825115973438}\n",
      "performanceTrain38 {'rmse': 74746.23996811341, 'mae': 53437.79446706835, 'mape': 32.86431522315986, 'r2': 0.11903999813441213}\n",
      "performanceTest38 {'rmse': 66678.36518690667, 'mae': 51167.75302156446, 'mape': 33.771260748086824, 'r2': 0.08437490454177554}\n"
     ]
    },
    {
     "name": "stdout",
     "output_type": "stream",
     "text": [
      "performanceTrain39 {'rmse': 74711.96270595188, 'mae': 54053.54612024782, 'mape': 33.7790163891315, 'r2': 0.11661873353692687}\n",
      "performanceTest39 {'rmse': 90579.66717929086, 'mae': 56778.38479590494, 'mape': 35.87448052653667, 'r2': 0.07784417678458067}\n",
      "performanceTrain40 {'rmse': 78541.01098959039, 'mae': 55385.745343275084, 'mape': 34.315351298962796, 'r2': 0.11066807534293543}\n",
      "performanceTest40 {'rmse': 65192.82211768962, 'mae': 52223.15942374309, 'mape': 34.210248035539884, 'r2': 0.09662891265406015}\n",
      "performanceTrain41 {'rmse': 76360.37997498961, 'mae': 54764.26733142069, 'mape': 34.80171966157724, 'r2': 0.11145997187623469}\n",
      "performanceTest41 {'rmse': 70701.19651249755, 'mae': 50861.33518906018, 'mape': 33.465436823759795, 'r2': 0.09714377977912791}\n",
      "performanceTrain42 {'rmse': 76841.66314989307, 'mae': 54912.09274353424, 'mape': 34.42200767886503, 'r2': 0.11193274034381095}\n",
      "performanceTest42 {'rmse': 66035.57354085542, 'mae': 51753.86311711608, 'mape': 35.425625195043956, 'r2': 0.0822560199413166}\n",
      "performanceTrain43 {'rmse': 75049.74843173412, 'mae': 53363.0557872162, 'mape': 33.04078075598142, 'r2': 0.10612644199058774}\n",
      "performanceTest43 {'rmse': 75446.42425996988, 'mae': 55625.77803216248, 'mape': 34.69087615940341, 'r2': 0.07902978086320123}\n",
      "performanceTrain44 {'rmse': 74429.84354595385, 'mae': 52569.42002470791, 'mape': 33.495217227335914, 'r2': 0.09806723240544668}\n",
      "performanceTest44 {'rmse': 73484.93586399645, 'mae': 55057.33920962064, 'mape': 36.75260678866278, 'r2': 0.072611521115026}\n",
      "performanceTrain45 {'rmse': 73991.92192431667, 'mae': 53997.33247376221, 'mape': 34.62188774142255, 'r2': 0.10351608329268092}\n",
      "performanceTest45 {'rmse': 76923.32688478724, 'mae': 55396.324795308756, 'mape': 35.87218909629346, 'r2': 0.07456093249950912}\n",
      "performanceTrain46 {'rmse': 76404.0480672889, 'mae': 55237.84960841992, 'mape': 35.437545920936955, 'r2': 0.098960010209451}\n",
      "performanceTest46 {'rmse': 84029.83325320634, 'mae': 55555.51127381226, 'mape': 33.02454475043708, 'r2': 0.06126910686950948}\n",
      "performanceTrain47 {'rmse': 78949.21432309377, 'mae': 55905.149583647275, 'mape': 34.94351052712942, 'r2': 0.09713106892938883}\n",
      "performanceTest47 {'rmse': 64510.83105882223, 'mae': 52323.86280222677, 'mape': 34.77239785030308, 'r2': 0.07164422129066184}\n",
      "performanceTrain48 {'rmse': 77176.75392144255, 'mae': 55638.18602558752, 'mape': 34.785076941009976, 'r2': 0.10079502486928038}\n",
      "performanceTest48 {'rmse': 68808.0841428441, 'mae': 53199.36403779929, 'mape': 36.999171285822264, 'r2': 0.07309540069487508}\n",
      "performanceTrain49 {'rmse': 73790.61880388994, 'mae': 54364.23731743238, 'mape': 35.17449349616328, 'r2': 0.09724148185175918}\n",
      "performanceTest49 {'rmse': 67343.89922409409, 'mae': 49771.67542073073, 'mape': 32.20887917645003, 'r2': 0.059964533569624945}\n"
     ]
    }
   ],
   "source": [
    "from sklearn import preprocessing\n",
    "\n",
    "i = 0\n",
    "components = list(range(5,50))\n",
    "X_pca = np.zeros(75)\n",
    "\n",
    "for i in components:\n",
    "    ext = ''\n",
    "    ext = PCA(n_components=i)\n",
    "    ext = ext.fit(Xtrain)\n",
    "    X_ext = ''\n",
    "    X_ext = ext.transform(Xtrain)\n",
    "    \n",
    "    normalize = preprocessing.StandardScaler().fit(X_ext)\n",
    "    X_ext = normalize.transform(X_ext)\n",
    "    \n",
    "    #Separa conjunto de entrenamiento y validación del conjunto de test\n",
    "    X_train_val_ex, Xtest_ex, y_train_val_ex, y_test_ex = train_test_split(X_ext, Ytrain, test_size=0.10, shuffle=True)\n",
    "    \n",
    "    #Separar entrenamiento del conjunto de validación\n",
    "    Xtrain_ex, X_val_ex, y_train_ex, y_val_ex = train_test_split(X_train_val_ex, y_train_val_ex, test_size=0.20, shuffle=True)\n",
    "    \n",
    "    regr_parzen = ''\n",
    "    regr_parzen = KernelRegression()\n",
    "    regr_parzen.fit(Xtrain_ex, y_train_ex)\n",
    "\n",
    "    #Desempeño del modelo con datos de entrenamiento\n",
    "    y_pred_train_parzen_ex = regr_parzen.predict(Xtrain_ex)\n",
    "\n",
    "    performanceTrain = errorMeasure(y_train_ex, y_pred_train_parzen_ex)\n",
    "    print('performanceTrain' + str(i), performanceTrain)\n",
    "\n",
    "    #Desempeño del modelo con datos de prueba\n",
    "    y_pred_test_parzen_ex = regr_parzen.predict(Xtest_ex)\n",
    "\n",
    "    performanceTest = errorMeasure(y_test_ex, y_pred_test_parzen_ex)\n",
    "    print('performanceTest' + str(i), performanceTest)"
   ]
  },
  {
   "cell_type": "markdown",
   "metadata": {},
   "source": [
    "# Arboles de decisión con PCA\n"
   ]
  },
  {
   "cell_type": "code",
   "execution_count": 171,
   "metadata": {},
   "outputs": [
    {
     "name": "stderr",
     "output_type": "stream",
     "text": [
      "/home/sady/anaconda3/lib/python3.7/site-packages/sklearn/model_selection/_search.py:814: DeprecationWarning: The default of the `iid` parameter will change from True to False in version 0.22 and will be removed in 0.24. This will change numeric results when test-set sizes are unequal.\n",
      "  DeprecationWarning)\n"
     ]
    },
    {
     "name": "stdout",
     "output_type": "stream",
     "text": [
      "performanceTrain25 {'rmse': 41580.989899071385, 'mae': 27257.351589412803, 'mape': 16.183636401544486, 'r2': 0.728965039215227}\n",
      "performanceTest25 {'rmse': 47113.39839479771, 'mae': 28749.252173729714, 'mape': 16.32822362433617, 'r2': 0.729254145816309}\n"
     ]
    },
    {
     "name": "stderr",
     "output_type": "stream",
     "text": [
      "/home/sady/anaconda3/lib/python3.7/site-packages/sklearn/model_selection/_search.py:814: DeprecationWarning: The default of the `iid` parameter will change from True to False in version 0.22 and will be removed in 0.24. This will change numeric results when test-set sizes are unequal.\n",
      "  DeprecationWarning)\n"
     ]
    },
    {
     "name": "stdout",
     "output_type": "stream",
     "text": [
      "performanceTrain26 {'rmse': 40623.35975986098, 'mae': 26632.786876361282, 'mape': 16.0131800467095, 'r2': 0.7320210266915103}\n",
      "performanceTest26 {'rmse': 42753.64981866156, 'mae': 29938.201073808013, 'mape': 16.740795944129093, 'r2': 0.6755799494157261}\n"
     ]
    },
    {
     "name": "stderr",
     "output_type": "stream",
     "text": [
      "/home/sady/anaconda3/lib/python3.7/site-packages/sklearn/model_selection/_search.py:814: DeprecationWarning: The default of the `iid` parameter will change from True to False in version 0.22 and will be removed in 0.24. This will change numeric results when test-set sizes are unequal.\n",
      "  DeprecationWarning)\n"
     ]
    },
    {
     "name": "stdout",
     "output_type": "stream",
     "text": [
      "performanceTrain27 {'rmse': 41070.37833030524, 'mae': 26166.873387250238, 'mape': 15.515128094745526, 'r2': 0.7010975976190019}\n",
      "performanceTest27 {'rmse': 69157.22061485841, 'mae': 38453.50664383562, 'mape': 18.493176954224673, 'r2': 0.5416961148663084}\n"
     ]
    },
    {
     "name": "stderr",
     "output_type": "stream",
     "text": [
      "/home/sady/anaconda3/lib/python3.7/site-packages/sklearn/model_selection/_search.py:814: DeprecationWarning: The default of the `iid` parameter will change from True to False in version 0.22 and will be removed in 0.24. This will change numeric results when test-set sizes are unequal.\n",
      "  DeprecationWarning)\n"
     ]
    },
    {
     "name": "stdout",
     "output_type": "stream",
     "text": [
      "performanceTrain28 {'rmse': 39059.57177360064, 'mae': 26572.112646349808, 'mape': 16.015751909220576, 'r2': 0.7480082441270471}\n",
      "performanceTest28 {'rmse': 35833.768857879586, 'mae': 24081.267923428415, 'mape': 15.277945082812177, 'r2': 0.7225264306614593}\n"
     ]
    },
    {
     "name": "stderr",
     "output_type": "stream",
     "text": [
      "/home/sady/anaconda3/lib/python3.7/site-packages/sklearn/model_selection/_search.py:814: DeprecationWarning: The default of the `iid` parameter will change from True to False in version 0.22 and will be removed in 0.24. This will change numeric results when test-set sizes are unequal.\n",
      "  DeprecationWarning)\n"
     ]
    },
    {
     "name": "stdout",
     "output_type": "stream",
     "text": [
      "performanceTrain29 {'rmse': 40944.52214480598, 'mae': 27567.98019166991, 'mape': 16.51873770632238, 'r2': 0.7337684791710515}\n",
      "performanceTest29 {'rmse': 46008.27653341687, 'mae': 28134.441356232976, 'mape': 15.846169457600087, 'r2': 0.7254620630752092}\n"
     ]
    },
    {
     "name": "stderr",
     "output_type": "stream",
     "text": [
      "/home/sady/anaconda3/lib/python3.7/site-packages/sklearn/model_selection/_search.py:814: DeprecationWarning: The default of the `iid` parameter will change from True to False in version 0.22 and will be removed in 0.24. This will change numeric results when test-set sizes are unequal.\n",
      "  DeprecationWarning)\n"
     ]
    },
    {
     "name": "stdout",
     "output_type": "stream",
     "text": [
      "performanceTrain30 {'rmse': 40788.453887918644, 'mae': 27145.33602109518, 'mape': 16.347438454103926, 'r2': 0.7258152798626347}\n",
      "performanceTest30 {'rmse': 42138.31351693216, 'mae': 30878.410465455436, 'mape': 17.628578767374993, 'r2': 0.7014591789648938}\n"
     ]
    },
    {
     "name": "stderr",
     "output_type": "stream",
     "text": [
      "/home/sady/anaconda3/lib/python3.7/site-packages/sklearn/model_selection/_search.py:814: DeprecationWarning: The default of the `iid` parameter will change from True to False in version 0.22 and will be removed in 0.24. This will change numeric results when test-set sizes are unequal.\n",
      "  DeprecationWarning)\n"
     ]
    },
    {
     "name": "stdout",
     "output_type": "stream",
     "text": [
      "performanceTrain31 {'rmse': 42386.49953903067, 'mae': 25981.49930637488, 'mape': 15.124178852352554, 'r2': 0.7177388246125767}\n",
      "performanceTest31 {'rmse': 57709.81435273812, 'mae': 36220.54371232876, 'mape': 20.046572348635426, 'r2': 0.621853988905664}\n"
     ]
    },
    {
     "name": "stderr",
     "output_type": "stream",
     "text": [
      "/home/sady/anaconda3/lib/python3.7/site-packages/sklearn/model_selection/_search.py:814: DeprecationWarning: The default of the `iid` parameter will change from True to False in version 0.22 and will be removed in 0.24. This will change numeric results when test-set sizes are unequal.\n",
      "  DeprecationWarning)\n"
     ]
    },
    {
     "name": "stdout",
     "output_type": "stream",
     "text": [
      "performanceTrain32 {'rmse': 43030.41336411633, 'mae': 28090.88141180304, 'mape': 16.671978051306645, 'r2': 0.7226088479235293}\n",
      "performanceTest32 {'rmse': 37330.53105988168, 'mae': 26348.78258507376, 'mape': 16.15304638903117, 'r2': 0.7480865873391137}\n"
     ]
    },
    {
     "name": "stderr",
     "output_type": "stream",
     "text": [
      "/home/sady/anaconda3/lib/python3.7/site-packages/sklearn/model_selection/_search.py:814: DeprecationWarning: The default of the `iid` parameter will change from True to False in version 0.22 and will be removed in 0.24. This will change numeric results when test-set sizes are unequal.\n",
      "  DeprecationWarning)\n"
     ]
    },
    {
     "name": "stdout",
     "output_type": "stream",
     "text": [
      "performanceTrain33 {'rmse': 40690.21620726977, 'mae': 27042.26955238563, 'mape': 16.48993541987123, 'r2': 0.7420643139139836}\n",
      "performanceTest33 {'rmse': 39593.24525622897, 'mae': 25674.17643321656, 'mape': 14.923639207137393, 'r2': 0.6859803434519015}\n"
     ]
    },
    {
     "name": "stderr",
     "output_type": "stream",
     "text": [
      "/home/sady/anaconda3/lib/python3.7/site-packages/sklearn/model_selection/_search.py:814: DeprecationWarning: The default of the `iid` parameter will change from True to False in version 0.22 and will be removed in 0.24. This will change numeric results when test-set sizes are unequal.\n",
      "  DeprecationWarning)\n"
     ]
    },
    {
     "name": "stdout",
     "output_type": "stream",
     "text": [
      "performanceTrain34 {'rmse': 43496.428949759036, 'mae': 26938.869039010464, 'mape': 15.564107250397512, 'r2': 0.6942246231933662}\n",
      "performanceTest34 {'rmse': 59529.874528674896, 'mae': 32912.54335616439, 'mape': 17.344006259184823, 'r2': 0.5893428837587484}\n"
     ]
    },
    {
     "name": "stderr",
     "output_type": "stream",
     "text": [
      "/home/sady/anaconda3/lib/python3.7/site-packages/sklearn/model_selection/_search.py:814: DeprecationWarning: The default of the `iid` parameter will change from True to False in version 0.22 and will be removed in 0.24. This will change numeric results when test-set sizes are unequal.\n",
      "  DeprecationWarning)\n"
     ]
    },
    {
     "name": "stdout",
     "output_type": "stream",
     "text": [
      "performanceTrain35 {'rmse': 45208.18030365723, 'mae': 27024.466924357755, 'mape': 15.359229889357723, 'r2': 0.6931789592293203}\n",
      "performanceTest35 {'rmse': 40206.624501610226, 'mae': 28356.712928082194, 'mape': 16.98357413848031, 'r2': 0.7038255148306212}\n"
     ]
    },
    {
     "name": "stderr",
     "output_type": "stream",
     "text": [
      "/home/sady/anaconda3/lib/python3.7/site-packages/sklearn/model_selection/_search.py:814: DeprecationWarning: The default of the `iid` parameter will change from True to False in version 0.22 and will be removed in 0.24. This will change numeric results when test-set sizes are unequal.\n",
      "  DeprecationWarning)\n"
     ]
    },
    {
     "name": "stdout",
     "output_type": "stream",
     "text": [
      "performanceTrain36 {'rmse': 42478.65003870845, 'mae': 27854.881706022054, 'mape': 16.53138920878292, 'r2': 0.7226310320003321}\n",
      "performanceTest36 {'rmse': 45821.41202108289, 'mae': 29782.05519697832, 'mape': 17.716783899537266, 'r2': 0.6813846134904915}\n"
     ]
    },
    {
     "name": "stderr",
     "output_type": "stream",
     "text": [
      "/home/sady/anaconda3/lib/python3.7/site-packages/sklearn/model_selection/_search.py:814: DeprecationWarning: The default of the `iid` parameter will change from True to False in version 0.22 and will be removed in 0.24. This will change numeric results when test-set sizes are unequal.\n",
      "  DeprecationWarning)\n"
     ]
    },
    {
     "name": "stdout",
     "output_type": "stream",
     "text": [
      "performanceTrain37 {'rmse': 45038.95999005182, 'mae': 27715.560247383444, 'mape': 15.909051087061284, 'r2': 0.6900520595011954}\n",
      "performanceTest37 {'rmse': 36124.905574067845, 'mae': 25053.329178082196, 'mape': 15.703414207518138, 'r2': 0.7648607753619872}\n"
     ]
    },
    {
     "name": "stderr",
     "output_type": "stream",
     "text": [
      "/home/sady/anaconda3/lib/python3.7/site-packages/sklearn/model_selection/_search.py:814: DeprecationWarning: The default of the `iid` parameter will change from True to False in version 0.22 and will be removed in 0.24. This will change numeric results when test-set sizes are unequal.\n",
      "  DeprecationWarning)\n"
     ]
    },
    {
     "name": "stdout",
     "output_type": "stream",
     "text": [
      "performanceTrain38 {'rmse': 45938.474191431145, 'mae': 27789.480554234062, 'mape': 15.784938495652018, 'r2': 0.6758893765070499}\n",
      "performanceTest38 {'rmse': 41467.04045371961, 'mae': 28421.521832191782, 'mape': 17.29764215776715, 'r2': 0.6473566872504044}\n"
     ]
    },
    {
     "name": "stderr",
     "output_type": "stream",
     "text": [
      "/home/sady/anaconda3/lib/python3.7/site-packages/sklearn/model_selection/_search.py:814: DeprecationWarning: The default of the `iid` parameter will change from True to False in version 0.22 and will be removed in 0.24. This will change numeric results when test-set sizes are unequal.\n",
      "  DeprecationWarning)\n"
     ]
    },
    {
     "name": "stdout",
     "output_type": "stream",
     "text": [
      "performanceTrain39 {'rmse': 40245.708025197026, 'mae': 27501.177064125804, 'mape': 16.22231632433054, 'r2': 0.7500700617203551}\n",
      "performanceTest39 {'rmse': 56856.16274190264, 'mae': 30373.321187688638, 'mape': 16.489944588160515, 'r2': 0.635720086391107}\n"
     ]
    },
    {
     "name": "stderr",
     "output_type": "stream",
     "text": [
      "/home/sady/anaconda3/lib/python3.7/site-packages/sklearn/model_selection/_search.py:814: DeprecationWarning: The default of the `iid` parameter will change from True to False in version 0.22 and will be removed in 0.24. This will change numeric results when test-set sizes are unequal.\n",
      "  DeprecationWarning)\n"
     ]
    },
    {
     "name": "stdout",
     "output_type": "stream",
     "text": [
      "performanceTrain40 {'rmse': 43117.33213880835, 'mae': 27748.442885970682, 'mape': 16.669715755614277, 'r2': 0.7236151967631625}\n",
      "performanceTest40 {'rmse': 41221.93534197651, 'mae': 29876.217078975467, 'mape': 17.582551189195115, 'r2': 0.6654566082845994}\n"
     ]
    },
    {
     "name": "stderr",
     "output_type": "stream",
     "text": [
      "/home/sady/anaconda3/lib/python3.7/site-packages/sklearn/model_selection/_search.py:814: DeprecationWarning: The default of the `iid` parameter will change from True to False in version 0.22 and will be removed in 0.24. This will change numeric results when test-set sizes are unequal.\n",
      "  DeprecationWarning)\n"
     ]
    },
    {
     "name": "stdout",
     "output_type": "stream",
     "text": [
      "performanceTrain41 {'rmse': 41634.00754645657, 'mae': 27117.96930675892, 'mape': 16.204064850579073, 'r2': 0.7364577024838617}\n",
      "performanceTest41 {'rmse': 36603.972327087264, 'mae': 25558.53799529532, 'mape': 17.311389668200107, 'r2': 0.6478037148860945}\n"
     ]
    },
    {
     "name": "stderr",
     "output_type": "stream",
     "text": [
      "/home/sady/anaconda3/lib/python3.7/site-packages/sklearn/model_selection/_search.py:814: DeprecationWarning: The default of the `iid` parameter will change from True to False in version 0.22 and will be removed in 0.24. This will change numeric results when test-set sizes are unequal.\n",
      "  DeprecationWarning)\n"
     ]
    },
    {
     "name": "stdout",
     "output_type": "stream",
     "text": [
      "performanceTrain42 {'rmse': 43951.7285373673, 'mae': 26945.16848239772, 'mape': 15.654624719751903, 'r2': 0.6782306936027813}\n",
      "performanceTest42 {'rmse': 39262.31140231189, 'mae': 28342.404623287664, 'mape': 18.043775139263055, 'r2': 0.7036738796107365}\n"
     ]
    },
    {
     "name": "stderr",
     "output_type": "stream",
     "text": [
      "/home/sady/anaconda3/lib/python3.7/site-packages/sklearn/model_selection/_search.py:814: DeprecationWarning: The default of the `iid` parameter will change from True to False in version 0.22 and will be removed in 0.24. This will change numeric results when test-set sizes are unequal.\n",
      "  DeprecationWarning)\n"
     ]
    },
    {
     "name": "stdout",
     "output_type": "stream",
     "text": [
      "performanceTrain43 {'rmse': 43846.95337255389, 'mae': 26808.218261179827, 'mape': 15.427391453238274, 'r2': 0.6984600867773247}\n",
      "performanceTest43 {'rmse': 56039.025205530175, 'mae': 34394.34347602739, 'mape': 19.503080775383193, 'r2': 0.6347611020008892}\n"
     ]
    },
    {
     "name": "stderr",
     "output_type": "stream",
     "text": [
      "/home/sady/anaconda3/lib/python3.7/site-packages/sklearn/model_selection/_search.py:814: DeprecationWarning: The default of the `iid` parameter will change from True to False in version 0.22 and will be removed in 0.24. This will change numeric results when test-set sizes are unequal.\n",
      "  DeprecationWarning)\n"
     ]
    },
    {
     "name": "stdout",
     "output_type": "stream",
     "text": [
      "performanceTrain44 {'rmse': 39885.635932297606, 'mae': 27201.785374968294, 'mape': 16.642972071549334, 'r2': 0.7578113668569892}\n",
      "performanceTest44 {'rmse': 49459.99693092033, 'mae': 29352.95647891444, 'mape': 17.41382793457107, 'r2': 0.6000959382563851}\n"
     ]
    },
    {
     "name": "stderr",
     "output_type": "stream",
     "text": [
      "/home/sady/anaconda3/lib/python3.7/site-packages/sklearn/model_selection/_search.py:814: DeprecationWarning: The default of the `iid` parameter will change from True to False in version 0.22 and will be removed in 0.24. This will change numeric results when test-set sizes are unequal.\n",
      "  DeprecationWarning)\n"
     ]
    },
    {
     "name": "stdout",
     "output_type": "stream",
     "text": [
      "performanceTrain45 {'rmse': 43550.73178305193, 'mae': 26570.29257849667, 'mape': 15.389408976584726, 'r2': 0.6907851547671624}\n",
      "performanceTest45 {'rmse': 50264.590612944936, 'mae': 30953.020547945205, 'mape': 15.601981063224388, 'r2': 0.6265116388272314}\n"
     ]
    },
    {
     "name": "stderr",
     "output_type": "stream",
     "text": [
      "/home/sady/anaconda3/lib/python3.7/site-packages/sklearn/model_selection/_search.py:814: DeprecationWarning: The default of the `iid` parameter will change from True to False in version 0.22 and will be removed in 0.24. This will change numeric results when test-set sizes are unequal.\n",
      "  DeprecationWarning)\n"
     ]
    },
    {
     "name": "stdout",
     "output_type": "stream",
     "text": [
      "performanceTrain46 {'rmse': 43674.44044161161, 'mae': 27258.951629400573, 'mape': 15.93917410314199, 'r2': 0.6970803811781452}\n",
      "performanceTest46 {'rmse': 53843.89931945092, 'mae': 30752.87731164384, 'mape': 17.889797141878056, 'r2': 0.6048593223680453}\n"
     ]
    },
    {
     "name": "stderr",
     "output_type": "stream",
     "text": [
      "/home/sady/anaconda3/lib/python3.7/site-packages/sklearn/model_selection/_search.py:814: DeprecationWarning: The default of the `iid` parameter will change from True to False in version 0.22 and will be removed in 0.24. This will change numeric results when test-set sizes are unequal.\n",
      "  DeprecationWarning)\n"
     ]
    },
    {
     "name": "stdout",
     "output_type": "stream",
     "text": [
      "performanceTrain47 {'rmse': 40582.91899914688, 'mae': 27699.651849595557, 'mape': 16.701803644314214, 'r2': 0.7218594162803196}\n",
      "performanceTest47 {'rmse': 46337.58759565144, 'mae': 31527.213001697106, 'mape': 17.006938974161578, 'r2': 0.6678213685817557}\n"
     ]
    },
    {
     "name": "stderr",
     "output_type": "stream",
     "text": [
      "/home/sady/anaconda3/lib/python3.7/site-packages/sklearn/model_selection/_search.py:814: DeprecationWarning: The default of the `iid` parameter will change from True to False in version 0.22 and will be removed in 0.24. This will change numeric results when test-set sizes are unequal.\n",
      "  DeprecationWarning)\n"
     ]
    },
    {
     "name": "stdout",
     "output_type": "stream",
     "text": [
      "performanceTrain48 {'rmse': 40892.03438540876, 'mae': 26736.465422728146, 'mape': 15.84484267169119, 'r2': 0.7287805307166627}\n",
      "performanceTest48 {'rmse': 51633.40448384618, 'mae': 28407.563592165625, 'mape': 15.654503939576214, 'r2': 0.6806206536837591}\n"
     ]
    },
    {
     "name": "stderr",
     "output_type": "stream",
     "text": [
      "/home/sady/anaconda3/lib/python3.7/site-packages/sklearn/model_selection/_search.py:814: DeprecationWarning: The default of the `iid` parameter will change from True to False in version 0.22 and will be removed in 0.24. This will change numeric results when test-set sizes are unequal.\n",
      "  DeprecationWarning)\n"
     ]
    },
    {
     "name": "stdout",
     "output_type": "stream",
     "text": [
      "performanceTrain49 {'rmse': 44302.96461574888, 'mae': 27040.093296860134, 'mape': 15.137189781993197, 'r2': 0.7080538287731433}\n",
      "performanceTest49 {'rmse': 31152.769682283273, 'mae': 24099.852751141552, 'mape': 13.790644654581982, 'r2': 0.8073234736460377}\n"
     ]
    },
    {
     "name": "stderr",
     "output_type": "stream",
     "text": [
      "/home/sady/anaconda3/lib/python3.7/site-packages/sklearn/model_selection/_search.py:814: DeprecationWarning: The default of the `iid` parameter will change from True to False in version 0.22 and will be removed in 0.24. This will change numeric results when test-set sizes are unequal.\n",
      "  DeprecationWarning)\n"
     ]
    },
    {
     "name": "stdout",
     "output_type": "stream",
     "text": [
      "performanceTrain50 {'rmse': 45339.87202241581, 'mae': 27192.849714557564, 'mape': 15.356130377876188, 'r2': 0.6937588593947321}\n",
      "performanceTest50 {'rmse': 41281.76178365377, 'mae': 29670.094178082192, 'mape': 18.875449505146584, 'r2': 0.6960177537893162}\n"
     ]
    },
    {
     "name": "stderr",
     "output_type": "stream",
     "text": [
      "/home/sady/anaconda3/lib/python3.7/site-packages/sklearn/model_selection/_search.py:814: DeprecationWarning: The default of the `iid` parameter will change from True to False in version 0.22 and will be removed in 0.24. This will change numeric results when test-set sizes are unequal.\n",
      "  DeprecationWarning)\n"
     ]
    },
    {
     "name": "stdout",
     "output_type": "stream",
     "text": [
      "performanceTrain51 {'rmse': 42713.23056216612, 'mae': 26553.76831588963, 'mape': 15.06355423083589, 'r2': 0.6968441307217634}\n",
      "performanceTest51 {'rmse': 53758.050899720096, 'mae': 30344.806849315068, 'mape': 18.220093075526783, 'r2': 0.5831567554781824}\n"
     ]
    },
    {
     "name": "stderr",
     "output_type": "stream",
     "text": [
      "/home/sady/anaconda3/lib/python3.7/site-packages/sklearn/model_selection/_search.py:814: DeprecationWarning: The default of the `iid` parameter will change from True to False in version 0.22 and will be removed in 0.24. This will change numeric results when test-set sizes are unequal.\n",
      "  DeprecationWarning)\n"
     ]
    },
    {
     "name": "stdout",
     "output_type": "stream",
     "text": [
      "performanceTrain52 {'rmse': 42524.05238595054, 'mae': 27971.847847708417, 'mape': 16.770360183733676, 'r2': 0.7320004060293772}\n",
      "performanceTest52 {'rmse': 37695.94864010277, 'mae': 26086.132415757846, 'mape': 16.577485724788822, 'r2': 0.6087801036402603}\n"
     ]
    },
    {
     "name": "stderr",
     "output_type": "stream",
     "text": [
      "/home/sady/anaconda3/lib/python3.7/site-packages/sklearn/model_selection/_search.py:814: DeprecationWarning: The default of the `iid` parameter will change from True to False in version 0.22 and will be removed in 0.24. This will change numeric results when test-set sizes are unequal.\n",
      "  DeprecationWarning)\n"
     ]
    },
    {
     "name": "stdout",
     "output_type": "stream",
     "text": [
      "performanceTrain53 {'rmse': 40921.82751922572, 'mae': 26477.425058449793, 'mape': 15.668772525452818, 'r2': 0.7198928059137513}\n",
      "performanceTest53 {'rmse': 49719.110126615626, 'mae': 35293.658585867655, 'mape': 19.931680828286275, 'r2': 0.5944183085871464}\n"
     ]
    },
    {
     "name": "stderr",
     "output_type": "stream",
     "text": [
      "/home/sady/anaconda3/lib/python3.7/site-packages/sklearn/model_selection/_search.py:814: DeprecationWarning: The default of the `iid` parameter will change from True to False in version 0.22 and will be removed in 0.24. This will change numeric results when test-set sizes are unequal.\n",
      "  DeprecationWarning)\n"
     ]
    },
    {
     "name": "stdout",
     "output_type": "stream",
     "text": [
      "performanceTrain54 {'rmse': 40442.55637270384, 'mae': 26288.014093720267, 'mape': 15.553002259987192, 'r2': 0.7141274623515574}\n",
      "performanceTest54 {'rmse': 64420.905073123045, 'mae': 33375.31618150685, 'mape': 16.684092004628866, 'r2': 0.5997349124018125}\n"
     ]
    },
    {
     "name": "stderr",
     "output_type": "stream",
     "text": [
      "/home/sady/anaconda3/lib/python3.7/site-packages/sklearn/model_selection/_search.py:814: DeprecationWarning: The default of the `iid` parameter will change from True to False in version 0.22 and will be removed in 0.24. This will change numeric results when test-set sizes are unequal.\n",
      "  DeprecationWarning)\n"
     ]
    },
    {
     "name": "stdout",
     "output_type": "stream",
     "text": [
      "performanceTrain55 {'rmse': 41241.523578395456, 'mae': 26718.76295357419, 'mape': 15.75861721639516, 'r2': 0.7346988980410769}\n",
      "performanceTest55 {'rmse': 42731.08515448568, 'mae': 29825.252155663573, 'mape': 19.92208193280375, 'r2': 0.691879479983189}\n"
     ]
    },
    {
     "name": "stderr",
     "output_type": "stream",
     "text": [
      "/home/sady/anaconda3/lib/python3.7/site-packages/sklearn/model_selection/_search.py:814: DeprecationWarning: The default of the `iid` parameter will change from True to False in version 0.22 and will be removed in 0.24. This will change numeric results when test-set sizes are unequal.\n",
      "  DeprecationWarning)\n"
     ]
    },
    {
     "name": "stdout",
     "output_type": "stream",
     "text": [
      "performanceTrain56 {'rmse': 43183.649918172974, 'mae': 27925.378279934226, 'mape': 16.666660744568933, 'r2': 0.7169558423462512}\n",
      "performanceTest56 {'rmse': 42772.12659249536, 'mae': 28223.320051902898, 'mape': 19.39888445289569, 'r2': 0.6202043515887476}\n"
     ]
    },
    {
     "name": "stderr",
     "output_type": "stream",
     "text": [
      "/home/sady/anaconda3/lib/python3.7/site-packages/sklearn/model_selection/_search.py:814: DeprecationWarning: The default of the `iid` parameter will change from True to False in version 0.22 and will be removed in 0.24. This will change numeric results when test-set sizes are unequal.\n",
      "  DeprecationWarning)\n"
     ]
    },
    {
     "name": "stdout",
     "output_type": "stream",
     "text": [
      "performanceTrain57 {'rmse': 40658.371908866065, 'mae': 26962.768939469897, 'mape': 16.09734066202351, 'r2': 0.7388972057660963}\n",
      "performanceTest57 {'rmse': 43816.355918041925, 'mae': 30835.906903260402, 'mape': 18.89350817510764, 'r2': 0.6968261155752653}\n"
     ]
    },
    {
     "name": "stderr",
     "output_type": "stream",
     "text": [
      "/home/sady/anaconda3/lib/python3.7/site-packages/sklearn/model_selection/_search.py:814: DeprecationWarning: The default of the `iid` parameter will change from True to False in version 0.22 and will be removed in 0.24. This will change numeric results when test-set sizes are unequal.\n",
      "  DeprecationWarning)\n"
     ]
    },
    {
     "name": "stdout",
     "output_type": "stream",
     "text": [
      "performanceTrain58 {'rmse': 39528.83310709363, 'mae': 26397.043565854547, 'mape': 15.960654944109177, 'r2': 0.751834187845865}\n",
      "performanceTest58 {'rmse': 37221.21894707856, 'mae': 27325.924935543546, 'mape': 15.643835199818659, 'r2': 0.6938311813903788}\n"
     ]
    },
    {
     "name": "stderr",
     "output_type": "stream",
     "text": [
      "/home/sady/anaconda3/lib/python3.7/site-packages/sklearn/model_selection/_search.py:814: DeprecationWarning: The default of the `iid` parameter will change from True to False in version 0.22 and will be removed in 0.24. This will change numeric results when test-set sizes are unequal.\n",
      "  DeprecationWarning)\n"
     ]
    },
    {
     "name": "stdout",
     "output_type": "stream",
     "text": [
      "performanceTrain59 {'rmse': 43415.5189890651, 'mae': 27804.606485030632, 'mape': 16.4961815346037, 'r2': 0.7195784269381225}\n",
      "performanceTest59 {'rmse': 39029.50342023521, 'mae': 28106.09887777223, 'mape': 17.53503256575394, 'r2': 0.6890531771377866}\n"
     ]
    },
    {
     "name": "stderr",
     "output_type": "stream",
     "text": [
      "/home/sady/anaconda3/lib/python3.7/site-packages/sklearn/model_selection/_search.py:814: DeprecationWarning: The default of the `iid` parameter will change from True to False in version 0.22 and will be removed in 0.24. This will change numeric results when test-set sizes are unequal.\n",
      "  DeprecationWarning)\n"
     ]
    },
    {
     "name": "stdout",
     "output_type": "stream",
     "text": [
      "performanceTrain60 {'rmse': 44795.695731906315, 'mae': 27516.414010466222, 'mape': 15.418021321264586, 'r2': 0.7055814974860548}\n",
      "performanceTest60 {'rmse': 36049.850360263954, 'mae': 23843.491455479456, 'mape': 15.163592194785599, 'r2': 0.7305350364803124}\n"
     ]
    },
    {
     "name": "stderr",
     "output_type": "stream",
     "text": [
      "/home/sady/anaconda3/lib/python3.7/site-packages/sklearn/model_selection/_search.py:814: DeprecationWarning: The default of the `iid` parameter will change from True to False in version 0.22 and will be removed in 0.24. This will change numeric results when test-set sizes are unequal.\n",
      "  DeprecationWarning)\n"
     ]
    },
    {
     "name": "stdout",
     "output_type": "stream",
     "text": [
      "performanceTrain61 {'rmse': 43763.35295277819, 'mae': 27358.901598477638, 'mape': 15.946830797532325, 'r2': 0.6996313860531411}\n",
      "performanceTest61 {'rmse': 53374.100018482815, 'mae': 31937.19650684932, 'mape': 18.23012151169389, 'r2': 0.5311161662941288}\n"
     ]
    },
    {
     "name": "stderr",
     "output_type": "stream",
     "text": [
      "/home/sady/anaconda3/lib/python3.7/site-packages/sklearn/model_selection/_search.py:814: DeprecationWarning: The default of the `iid` parameter will change from True to False in version 0.22 and will be removed in 0.24. This will change numeric results when test-set sizes are unequal.\n",
      "  DeprecationWarning)\n"
     ]
    },
    {
     "name": "stdout",
     "output_type": "stream",
     "text": [
      "performanceTrain62 {'rmse': 40091.136636452444, 'mae': 27045.899257806526, 'mape': 16.559733905298632, 'r2': 0.73524702522868}\n",
      "performanceTest62 {'rmse': 55442.45675736678, 'mae': 35207.67938158898, 'mape': 17.93215042640479, 'r2': 0.5960047698463218}\n"
     ]
    },
    {
     "name": "stderr",
     "output_type": "stream",
     "text": [
      "/home/sady/anaconda3/lib/python3.7/site-packages/sklearn/model_selection/_search.py:814: DeprecationWarning: The default of the `iid` parameter will change from True to False in version 0.22 and will be removed in 0.24. This will change numeric results when test-set sizes are unequal.\n",
      "  DeprecationWarning)\n"
     ]
    },
    {
     "name": "stdout",
     "output_type": "stream",
     "text": [
      "performanceTrain63 {'rmse': 41001.92358779971, 'mae': 27167.418710734397, 'mape': 16.191087464979084, 'r2': 0.7346918898327159}\n",
      "performanceTest63 {'rmse': 38601.1817929611, 'mae': 26986.049872357467, 'mape': 16.278569025387217, 'r2': 0.7254230897799213}\n"
     ]
    },
    {
     "name": "stderr",
     "output_type": "stream",
     "text": [
      "/home/sady/anaconda3/lib/python3.7/site-packages/sklearn/model_selection/_search.py:814: DeprecationWarning: The default of the `iid` parameter will change from True to False in version 0.22 and will be removed in 0.24. This will change numeric results when test-set sizes are unequal.\n",
      "  DeprecationWarning)\n"
     ]
    },
    {
     "name": "stdout",
     "output_type": "stream",
     "text": [
      "performanceTrain64 {'rmse': 43442.36419389174, 'mae': 26587.589184903267, 'mape': 15.14994619985426, 'r2': 0.6962732811969736}\n",
      "performanceTest64 {'rmse': 51106.53164056017, 'mae': 31596.63915525114, 'mape': 17.68571218014409, 'r2': 0.6345598815199137}\n"
     ]
    },
    {
     "name": "stderr",
     "output_type": "stream",
     "text": [
      "/home/sady/anaconda3/lib/python3.7/site-packages/sklearn/model_selection/_search.py:814: DeprecationWarning: The default of the `iid` parameter will change from True to False in version 0.22 and will be removed in 0.24. This will change numeric results when test-set sizes are unequal.\n",
      "  DeprecationWarning)\n"
     ]
    },
    {
     "name": "stdout",
     "output_type": "stream",
     "text": [
      "performanceTrain65 {'rmse': 44696.7190544143, 'mae': 27245.866788772593, 'mape': 15.80229648009565, 'r2': 0.6939658292201516}\n",
      "performanceTest65 {'rmse': 39676.95923143272, 'mae': 26529.590993150687, 'mape': 14.61876867307739, 'r2': 0.7376278295553034}\n"
     ]
    },
    {
     "name": "stderr",
     "output_type": "stream",
     "text": [
      "/home/sady/anaconda3/lib/python3.7/site-packages/sklearn/model_selection/_search.py:814: DeprecationWarning: The default of the `iid` parameter will change from True to False in version 0.22 and will be removed in 0.24. This will change numeric results when test-set sizes are unequal.\n",
      "  DeprecationWarning)\n"
     ]
    },
    {
     "name": "stdout",
     "output_type": "stream",
     "text": [
      "performanceTrain66 {'rmse': 41683.16936339817, 'mae': 27411.149161156314, 'mape': 16.299080422123865, 'r2': 0.7304578814338771}\n",
      "performanceTest66 {'rmse': 43321.94791942358, 'mae': 31084.213008188515, 'mape': 18.72435825309918, 'r2': 0.7007499979352014}\n"
     ]
    },
    {
     "name": "stderr",
     "output_type": "stream",
     "text": [
      "/home/sady/anaconda3/lib/python3.7/site-packages/sklearn/model_selection/_search.py:814: DeprecationWarning: The default of the `iid` parameter will change from True to False in version 0.22 and will be removed in 0.24. This will change numeric results when test-set sizes are unequal.\n",
      "  DeprecationWarning)\n"
     ]
    },
    {
     "name": "stdout",
     "output_type": "stream",
     "text": [
      "performanceTrain67 {'rmse': 42259.285937264984, 'mae': 27877.178127849886, 'mape': 16.563874633606883, 'r2': 0.7236717503846535}\n",
      "performanceTest67 {'rmse': 34078.17964223738, 'mae': 25702.222906235853, 'mape': 17.015781349843397, 'r2': 0.7962051365065925}\n"
     ]
    },
    {
     "name": "stderr",
     "output_type": "stream",
     "text": [
      "/home/sady/anaconda3/lib/python3.7/site-packages/sklearn/model_selection/_search.py:814: DeprecationWarning: The default of the `iid` parameter will change from True to False in version 0.22 and will be removed in 0.24. This will change numeric results when test-set sizes are unequal.\n",
      "  DeprecationWarning)\n"
     ]
    },
    {
     "name": "stdout",
     "output_type": "stream",
     "text": [
      "performanceTrain68 {'rmse': 42420.62585930116, 'mae': 27575.814420296254, 'mape': 16.48811600638246, 'r2': 0.7317011941220533}\n",
      "performanceTest68 {'rmse': 37295.26915835214, 'mae': 26924.72499357616, 'mape': 15.719231009882673, 'r2': 0.7193924971846899}\n"
     ]
    },
    {
     "name": "stderr",
     "output_type": "stream",
     "text": [
      "/home/sady/anaconda3/lib/python3.7/site-packages/sklearn/model_selection/_search.py:814: DeprecationWarning: The default of the `iid` parameter will change from True to False in version 0.22 and will be removed in 0.24. This will change numeric results when test-set sizes are unequal.\n",
      "  DeprecationWarning)\n"
     ]
    },
    {
     "name": "stdout",
     "output_type": "stream",
     "text": [
      "performanceTrain69 {'rmse': 46279.267450704574, 'mae': 29335.721313035207, 'mape': 16.767365237020496, 'r2': 0.649894561861374}\n",
      "performanceTest69 {'rmse': 68740.3548437096, 'mae': 38063.90616438357, 'mape': 19.44437271736549, 'r2': 0.49096915685521547}\n"
     ]
    }
   ],
   "source": [
    "i = 0\n",
    "components = list(range(25,70))\n",
    "X_pca = np.zeros(75)\n",
    "\n",
    "for i in components:\n",
    "    ext = ''\n",
    "    ext = PCA(n_components=i)\n",
    "    ext = ext.fit(Xtrain)\n",
    "    X_ext = ''\n",
    "    X_ext = ext.transform(Xtrain)\n",
    "    \n",
    "    normalize = preprocessing.StandardScaler().fit(X_ext)\n",
    "    X_ext = normalize.transform(X_ext)\n",
    "    #Separa conjunto de entrenamiento y validación del conjunto de test\n",
    "    X_train_val_ex, Xtest_ex, y_train_val_ex, y_test_ex = train_test_split(X_ext, Ytrain, test_size=0.10, shuffle=True)\n",
    "    \n",
    "    #Separar entrenamiento del conjunto de validación\n",
    "    Xtrain_ex, X_val_ex, y_train_ex, y_val_ex = train_test_split(X_train_val_ex, y_train_val_ex, test_size=0.20, shuffle=True)\n",
    "    \n",
    "    n_estimators = [10, 20, 30, 40, 50, 100,150, 200,300,400,500]\n",
    "    max_features = ['auto', 'sqrt', 'log2']\n",
    "    max_depth = [3,4]\n",
    "    min_samples_split = [0.1]\n",
    "    criterion = [\"mse\", \"mae\"]\n",
    "    \n",
    "    random_grid = {'n_estimators': n_estimators,\n",
    "               'max_features': max_features,\n",
    "               'max_depth': max_depth,\n",
    "               'min_samples_split': min_samples_split,\n",
    "               'criterion': criterion}\n",
    "    \n",
    "    params = get_params(RandomForestRegressor(), random_grid, X_val_ex, y_val_ex)\n",
    "    \n",
    "    regr = ''\n",
    "    regr = RandomForestRegressor(n_estimators = params['n_estimators'], max_features = params['max_features'],\n",
    "                                max_depth = params['max_depth'], min_samples_split = params['min_samples_split'],\n",
    "                                criterion = params['criterion'])\n",
    "    regr.fit(Xtrain_ex, y_train_ex)\n",
    "\n",
    "    Yest = regr.predict(Xtrain_ex) \n",
    "    \n",
    "    performanceTrain = errorMeasure(y_train_ex, Yest)\n",
    "    print('performanceTrain' + str(i), performanceTrain)\n",
    "\n",
    "    #Desempeño del modelo con datos de prueba\n",
    "    Ytest = regr.predict(Xtest_ex)\n",
    "\n",
    "    performanceTest = errorMeasure(y_test_ex, Ytest)\n",
    "    print('performanceTest' + str(i), performanceTest)"
   ]
  },
  {
   "cell_type": "markdown",
   "metadata": {},
   "source": [
    "# Regresion por Vectores de Soporte con kernel lineal y con kernel RBF."
   ]
  },
  {
   "cell_type": "code",
   "execution_count": 168,
   "metadata": {},
   "outputs": [
    {
     "name": "stdout",
     "output_type": "stream",
     "text": [
      "SVR(C=1.0, cache_size=200, coef0=0.0, degree=3, epsilon=0.1,\n",
      "    gamma='auto_deprecated', kernel='rbf', max_iter=-1, shrinking=True,\n",
      "    tol=0.001, verbose=False) {'C': [0.001, 0.01, 0.1, 1, 10, 100, 200, 300, 500], 'epsilon': [0.2, 1], 'gamma': [0.001, 0.01, 0.1, 1]}\n",
      "{'copy_X': False, 'fit_intercept': True, 'n_jobs': None, 'normalize': False}\n"
     ]
    },
    {
     "name": "stderr",
     "output_type": "stream",
     "text": [
      "/home/sady/anaconda3/lib/python3.7/site-packages/sklearn/model_selection/_search.py:814: DeprecationWarning: The default of the `iid` parameter will change from True to False in version 0.22 and will be removed in 0.24. This will change numeric results when test-set sizes are unequal.\n",
      "  DeprecationWarning)\n"
     ]
    },
    {
     "ename": "KeyError",
     "evalue": "'C'",
     "output_type": "error",
     "traceback": [
      "\u001b[0;31m---------------------------------------------------------------------------\u001b[0m",
      "\u001b[0;31mKeyError\u001b[0m                                  Traceback (most recent call last)",
      "\u001b[0;32m<ipython-input-168-e77a1044bab4>\u001b[0m in \u001b[0;36m<module>\u001b[0;34m\u001b[0m\n\u001b[1;32m     33\u001b[0m     \u001b[0mregr\u001b[0m \u001b[0;34m=\u001b[0m \u001b[0;34m''\u001b[0m\u001b[0;34m\u001b[0m\u001b[0;34m\u001b[0m\u001b[0m\n\u001b[1;32m     34\u001b[0m     \u001b[0mprint\u001b[0m\u001b[0;34m(\u001b[0m\u001b[0mparams\u001b[0m\u001b[0;34m)\u001b[0m\u001b[0;34m\u001b[0m\u001b[0;34m\u001b[0m\u001b[0m\n\u001b[0;32m---> 35\u001b[0;31m     \u001b[0mregr\u001b[0m \u001b[0;34m=\u001b[0m \u001b[0mSVR\u001b[0m\u001b[0;34m(\u001b[0m\u001b[0mC\u001b[0m \u001b[0;34m=\u001b[0m \u001b[0mparams\u001b[0m\u001b[0;34m[\u001b[0m\u001b[0;34m'C'\u001b[0m\u001b[0;34m]\u001b[0m\u001b[0;34m,\u001b[0m \u001b[0mepsilon\u001b[0m \u001b[0;34m=\u001b[0m \u001b[0mparams\u001b[0m\u001b[0;34m[\u001b[0m\u001b[0;34m'epsilon'\u001b[0m\u001b[0;34m]\u001b[0m\u001b[0;34m,\u001b[0m \u001b[0mgamma\u001b[0m \u001b[0;34m=\u001b[0m \u001b[0mparams\u001b[0m\u001b[0;34m[\u001b[0m\u001b[0;34m'gamma'\u001b[0m\u001b[0;34m]\u001b[0m\u001b[0;34m,\u001b[0m \u001b[0mkernel\u001b[0m \u001b[0;34m=\u001b[0m \u001b[0;34m'rbf'\u001b[0m\u001b[0;34m)\u001b[0m\u001b[0;34m\u001b[0m\u001b[0;34m\u001b[0m\u001b[0m\n\u001b[0m\u001b[1;32m     36\u001b[0m     \u001b[0mregr\u001b[0m\u001b[0;34m.\u001b[0m\u001b[0mfit\u001b[0m\u001b[0;34m(\u001b[0m\u001b[0mXtrain_ex\u001b[0m\u001b[0;34m,\u001b[0m \u001b[0my_train_ex\u001b[0m\u001b[0;34m)\u001b[0m\u001b[0;34m\u001b[0m\u001b[0;34m\u001b[0m\u001b[0m\n\u001b[1;32m     37\u001b[0m \u001b[0;34m\u001b[0m\u001b[0m\n",
      "\u001b[0;31mKeyError\u001b[0m: 'C'"
     ]
    }
   ],
   "source": [
    "from sklearn.svm import SVR\n",
    "\n",
    "i = 0\n",
    "components = list(range(25,70))\n",
    "X_pca = np.zeros(75)\n",
    "\n",
    "for i in components:\n",
    "    ext = ''\n",
    "    ext = PCA(n_components=i)\n",
    "    ext = ext.fit(Xtrain)\n",
    "    X_ext = ''\n",
    "    X_ext = ext.transform(Xtrain)\n",
    "    \n",
    "    normalize = preprocessing.StandardScaler().fit(X_ext)\n",
    "    X_ext = normalize.transform(X_ext)\n",
    "    \n",
    "    \n",
    "    #Separa conjunto de entrenamiento y validación del conjunto de test\n",
    "    X_train_val_ex, Xtest_ex, y_train_val_ex, y_test_ex = train_test_split(X_ext, Ytrain, test_size=0.10, shuffle=True)\n",
    "    \n",
    "    #Separar entrenamiento del conjunto de validación\n",
    "    Xtrain_ex, X_val_ex, y_train_ex, y_val_ex = train_test_split(X_train_val_ex, y_train_val_ex, test_size=0.20, shuffle=True)\n",
    "    \n",
    "    gamma = [0.001, 0.01, 0.1, 1]\n",
    "    C = [0.001, 0.01,0.1,1,10,100, 200, 300, 500]\n",
    "    epsilon= [0.2, 1]\n",
    "    kernel = \n",
    "\n",
    "    svr_grid = {'C': C,\n",
    "               'epsilon': epsilon,\n",
    "               'gamma' : gamma,\n",
    "               'kernel': kernel}\n",
    "    \n",
    "    params = get_params(SVR('rbf'), svr_grid, X_val_ex, y_val_ex)\n",
    "    regr = ''\n",
    "    print(params)\n",
    "    regr = SVR(C = params['C'], epsilon = params['epsilon'], gamma = params['gamma'], kernel = 'rbf')\n",
    "    regr.fit(Xtrain_ex, y_train_ex)\n",
    "\n",
    "    Yest = regr.predict(Xtrain_ex)\n",
    "    \n",
    "    performanceTrain = errorMeasure(y_train_ex, Yest)\n",
    "    print('performanceTrain' + str(i), performanceTrain)\n",
    "\n",
    "    #Desempeño del modelo con datos de prueba\n",
    "    Ytest = regr.predict(Xtest_ex)\n",
    "\n",
    "    performanceTest = errorMeasure(y_test_ex, Ytest)\n",
    "    print('performanceTest' + str(i), performanceTest)"
   ]
  },
  {
   "cell_type": "markdown",
   "metadata": {},
   "source": [
    "# Regresion por Vectores de Soporte con kernel lineal y con kernel RBF."
   ]
  },
  {
   "cell_type": "markdown",
   "metadata": {},
   "source": [
    "Ejecute la siguiente instrucción para dejar guardados en el notebook los resultados de las pruebas."
   ]
  },
  {
   "cell_type": "code",
   "execution_count": null,
   "metadata": {},
   "outputs": [],
   "source": [
    "qgrid_widget.get_changed_df()"
   ]
  },
  {
   "cell_type": "markdown",
   "metadata": {},
   "source": [
    "## Ejercicio 5: Pruebas\n",
    "\n",
    "En la celda de código del Ejercicio # 3, comente la línea donde se normalizan las matrices de datos Xtrain y Xtest. Realice pruebas para diferentes valores de $\\eta$ y de grado del polinomio de manera similar a los valores que usó en el punto 3. Observe que pasa con el ECM.\n",
    "\n",
    "#### Responda\n",
    "\n",
    "5.1 ¿Qué sucede con los valores del ECM?\n",
    "\n"
   ]
  },
  {
   "cell_type": "markdown",
   "metadata": {},
   "source": [
    "Los valores del ECM se desbordan"
   ]
  },
  {
   "cell_type": "markdown",
   "metadata": {},
   "source": [
    "5.2 ¿A qué se debe lo que observa?\n"
   ]
  },
  {
   "cell_type": "markdown",
   "metadata": {},
   "source": [
    "Debido a que la convergencia entre caracteristicas se reduce por falta de normalización"
   ]
  },
  {
   "cell_type": "markdown",
   "metadata": {},
   "source": [
    "5.3.1 ¿Qu&eacute; proceso hace la normalizaci&oacute;n sobre los datos? \n",
    "\n",
    "\n"
   ]
  },
  {
   "cell_type": "markdown",
   "metadata": {},
   "source": [
    "Cambia los valores del dataset a una escala común sin distorsionar las diferencias en los rangos de valores."
   ]
  },
  {
   "cell_type": "markdown",
   "metadata": {},
   "source": [
    "5.3.2 Consulte por qu&eacute; es necesaria la normalizaci&oacute;n en el modelo de regresi&oacute;n  y cu&aacute;les son los tipos de normalizaci&oacute;n m&aacute;s comunes. "
   ]
  },
  {
   "cell_type": "markdown",
   "metadata": {},
   "source": [
    "Es necesaria porque es posible que algunas características sean cuantitativamente mucho mayores que las demás lo que puede causar que contribuyan a la variación en el término independiente aunque no necesariamente sean más importantes. Algunos de los métodos de normalización son: decimal scaling, min-max normalization y z-score."
   ]
  },
  {
   "cell_type": "markdown",
   "metadata": {},
   "source": [
    "5.3.3 ¿Cu&aacute;l de ellos se aplic&oacute; en el laboratorio?"
   ]
  },
  {
   "cell_type": "markdown",
   "metadata": {},
   "source": [
    "El método utilizado en este laboratorio fue z-score. \n"
   ]
  }
 ],
 "metadata": {
  "kernelspec": {
   "display_name": "Python 3",
   "language": "python",
   "name": "python3"
  },
  "language_info": {
   "codemirror_mode": {
    "name": "ipython",
    "version": 3
   },
   "file_extension": ".py",
   "mimetype": "text/x-python",
   "name": "python",
   "nbconvert_exporter": "python",
   "pygments_lexer": "ipython3",
   "version": "3.7.4"
  }
 },
 "nbformat": 4,
 "nbformat_minor": 2
}
