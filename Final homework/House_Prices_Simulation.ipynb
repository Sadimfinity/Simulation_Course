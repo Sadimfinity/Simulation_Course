{
 "cells": [
  {
   "cell_type": "markdown",
   "metadata": {},
   "source": [
    "# Proyecto Final\n",
    "\n",
    "### 2019 - II\n",
    "\n",
    "#### Profesor: Julián D. Arias Londoño\n",
    "#### julian.ariasl@udea.edu.co\n"
   ]
  },
  {
   "cell_type": "markdown",
   "metadata": {},
   "source": [
    "### Primer integrante:\n",
    "Nombre: Jorge Hiler Ricardo\n",
    "\n",
    "\n",
    "#### Segundo integrante:\n",
    "\n",
    "Nombre: Santiago Gaviria Zapata\n"
   ]
  },
  {
   "cell_type": "code",
   "execution_count": 5,
   "metadata": {},
   "outputs": [
    {
     "name": "stdout",
     "output_type": "stream",
     "text": [
      "1460 77\n"
     ]
    }
   ],
   "source": [
    "import numpy as np\n",
    "import numpy.matlib as npMatlib\n",
    "import matplotlib.pyplot as plt\n",
    "import pandas as pd\n",
    "from scipy import stats\n",
    "\n",
    "#Algunas advertencias que queremos evitar\n",
    "import warnings\n",
    "warnings.filterwarnings(\"always\")\n",
    "\n",
    "train = pd.read_csv(r'DB/train.csv')\n",
    "\n",
    "test = pd.read_csv(r'DB/test.csv')\n",
    "\n",
    "print(np.size(train, 0), np.size(train, 1))"
   ]
  },
  {
   "cell_type": "code",
   "execution_count": 64,
   "metadata": {},
   "outputs": [
    {
     "name": "stdout",
     "output_type": "stream",
     "text": [
      "Numero de columnas con valores NA:  0\n",
      "Numero de columnas con valores NA:  0\n",
      "Lllenado de campos vacíos completado\n"
     ]
    }
   ],
   "source": [
    "\n",
    "\n",
    "def fillNAs(train, test):\n",
    "    naTrainColumns = train.columns[train.isna().any()].tolist()\n",
    "    train[naTrainColumns[0]].fillna(train[naTrainColumns[0]].mean(), inplace = True)\n",
    "    train[naTrainColumns[1]].fillna('None', inplace = True)\n",
    "    train[naTrainColumns[2]].fillna(train[naTrainColumns[2]].mean(), inplace = True)\n",
    "    train[naTrainColumns[3]].fillna('NA', inplace = True)\n",
    "    train[naTrainColumns[4]].fillna('NA', inplace = True)\n",
    "    train[naTrainColumns[5]].fillna('NA', inplace = True)\n",
    "    train[naTrainColumns[6]].fillna('NA', inplace = True)\n",
    "    train[naTrainColumns[7]].fillna('NA', inplace = True)\n",
    "    train[naTrainColumns[8]].fillna('SBrkr', inplace = True)\n",
    "    train[naTrainColumns[9]].fillna('NA', inplace = True)\n",
    "    train[naTrainColumns[10]].fillna('NA', inplace = True)\n",
    "    train[naTrainColumns[11]].fillna(train[naTrainColumns[11]].mean(), inplace = True)\n",
    "    train[naTrainColumns[12]].fillna('NA', inplace = True)\n",
    "    train[naTrainColumns[13]].fillna('NA', inplace = True)\n",
    "    train[naTrainColumns[14]].fillna('NA', inplace = True)\n",
    "    \n",
    "    naTrainResultantColumns = train.columns[train.isna().any()].size\n",
    "    print('Numero de columnas con valores NA: ', naTrainResultantColumns)\n",
    "    \n",
    "    naTestColumns = test.columns[test.isna().any()].tolist()\n",
    "    \n",
    "    test[naTestColumns[0]].fillna('RL', inplace = True)\n",
    "    test[naTestColumns[1]].fillna(test[naTestColumns[1]].mean(), inplace = True)\n",
    "    test[naTestColumns[2]].fillna('None', inplace = True)\n",
    "    test[naTestColumns[3]].fillna(test[naTestColumns[3]].mean(), inplace = True)\n",
    "    test[naTestColumns[4]].fillna('NA', inplace = True)\n",
    "    test[naTestColumns[5]].fillna('NA', inplace = True)\n",
    "    test[naTestColumns[6]].fillna('NA', inplace = True)\n",
    "    test[naTestColumns[7]].fillna('NA', inplace = True)\n",
    "    test[naTestColumns[8]].fillna(test[naTestColumns[8]].mean(), inplace = True)\n",
    "    test[naTestColumns[9]].fillna('NA', inplace = True)\n",
    "    test[naTestColumns[10]].fillna(test[naTestColumns[10]].mean(), inplace = True)\n",
    "    test[naTestColumns[11]].fillna(test[naTestColumns[11]].mean(), inplace = True)\n",
    "    test[naTestColumns[12]].fillna(test[naTestColumns[12]].mean(), inplace = True)\n",
    "    test[naTestColumns[13]].fillna(test[naTestColumns[13]].mean(), inplace = True)\n",
    "    test[naTestColumns[14]].fillna(test[naTestColumns[14]].mean(), inplace = True)\n",
    "    test[naTestColumns[15]].fillna('NA', inplace = True)\n",
    "    test[naTestColumns[16]].fillna('NA', inplace = True)\n",
    "    test[naTestColumns[17]].fillna(test[naTestColumns[17]].mean(), inplace = True)\n",
    "    test[naTestColumns[18]].fillna('NA', inplace = True)\n",
    "    test[naTestColumns[19]].fillna(round(float(test[naTestColumns[19]].mean()), 1), inplace = True)\n",
    "    test[naTestColumns[20]].fillna(test[naTestColumns[20]].mean(), inplace = True)\n",
    "    test[naTestColumns[21]].fillna('NA', inplace = True)\n",
    "    test[naTestColumns[22]].fillna('NA', inplace = True)\n",
    "    \n",
    "    naTestResultantColumns = train.columns[train.isna().any()].size\n",
    "    print('Numero de columnas con valores NA: ', naTestResultantColumns)\n",
    "    \n",
    "    if (naTrainResultantColumns == 0 & naTestResultantColumns == 0):\n",
    "        return print(\"Lllenado de campos vacíos completado\")\n",
    "    else: \n",
    "        return print(\"Llenado de campos vacíos erróneo\")\n",
    "\n",
    "fillNAs(train, test)\n"
   ]
  },
  {
   "cell_type": "code",
   "execution_count": 65,
   "metadata": {},
   "outputs": [],
   "source": [
    "\n",
    "#Deleted columns 'cause had a lot of NA > 80%: 'Alley','Fence','MiscFeature','PoolQC'\n",
    "#Deleted columns 'cause the std = 0: 'Utilities' %rep = 1, 'Street' %rep =1,\n",
    "#'LandSlope' %rep = 0.95, Condition2 %rep = 1445/1460, RoofMatl %rep = 1434/1460, \n",
    "# Heating %rep = 1428/1460, LowQualFinSF %rep = 1436/1460, \n",
    "# PoolArea %rep = 1454/1460, 3SsnPorch %rep = 1438/1460\n",
    "\n",
    "def deleteColumns(train, test):\n",
    "    columnsToDelete = ['Id','Utilities','Street','LandSlope', 'Condition2', 'RoofMatl',  'Heating', 'LowQualFinSF', 'PoolArea', '3SsnPorch']\n",
    "    train.drop(labels = columnsToDelete, axis = 1, inplace = True)\n",
    "    test.drop(labels = columnsToDelete, axis = 1, inplace = True)\n",
    "    \n",
    "deleteColumns(train, test)"
   ]
  },
  {
   "cell_type": "code",
   "execution_count": 70,
   "metadata": {},
   "outputs": [
    {
     "name": "stdout",
     "output_type": "stream",
     "text": [
      "<class 'pandas.core.frame.DataFrame'>\n",
      "Int64Index: 2912 entries, 0 to 1451\n",
      "Data columns (total 204 columns):\n",
      "LotFrontage              float64\n",
      "LotArea                  int64\n",
      "OverallQual              int64\n",
      "OverallCond              int64\n",
      "YearBuilt                int64\n",
      "YearRemodAdd             int64\n",
      "MasVnrArea               float64\n",
      "ExterQual                int64\n",
      "ExterCond                int64\n",
      "BsmtQual                 int64\n",
      "BsmtCond                 int64\n",
      "BsmtExposure             int64\n",
      "BsmtFinSF1               float64\n",
      "BsmtFinSF2               float64\n",
      "BsmtUnfSF                float64\n",
      "TotalBsmtSF              float64\n",
      "HeatingQC                int64\n",
      "1stFlrSF                 int64\n",
      "2ndFlrSF                 int64\n",
      "GrLivArea                int64\n",
      "BsmtFullBath             float64\n",
      "BsmtHalfBath             float64\n",
      "FullBath                 int64\n",
      "HalfBath                 int64\n",
      "BedroomAbvGr             int64\n",
      "KitchenAbvGr             int64\n",
      "KitchenQual              int64\n",
      "TotRmsAbvGrd             int64\n",
      "Fireplaces               int64\n",
      "FireplaceQu              int64\n",
      "GarageYrBlt              float64\n",
      "GarageCars               float64\n",
      "GarageArea               float64\n",
      "GarageQual               int64\n",
      "GarageCond               int64\n",
      "WoodDeckSF               int64\n",
      "OpenPorchSF              int64\n",
      "EnclosedPorch            int64\n",
      "ScreenPorch              int64\n",
      "MiscVal                  int64\n",
      "MoSold                   int64\n",
      "YrSold                   int64\n",
      "MSSubClass_30            uint8\n",
      "MSSubClass_40            uint8\n",
      "MSSubClass_45            uint8\n",
      "MSSubClass_50            uint8\n",
      "MSSubClass_60            uint8\n",
      "MSSubClass_70            uint8\n",
      "MSSubClass_75            uint8\n",
      "MSSubClass_80            uint8\n",
      "MSSubClass_85            uint8\n",
      "MSSubClass_90            uint8\n",
      "MSSubClass_120           uint8\n",
      "MSSubClass_150           uint8\n",
      "MSSubClass_160           uint8\n",
      "MSSubClass_180           uint8\n",
      "MSSubClass_190           uint8\n",
      "MSZoning_FV              uint8\n",
      "MSZoning_RH              uint8\n",
      "MSZoning_RL              uint8\n",
      "MSZoning_RM              uint8\n",
      "LotShape_IR2             uint8\n",
      "LotShape_IR3             uint8\n",
      "LotShape_Reg             uint8\n",
      "LandContour_HLS          uint8\n",
      "LandContour_Low          uint8\n",
      "LandContour_Lvl          uint8\n",
      "LotConfig_CulDSac        uint8\n",
      "LotConfig_FR2            uint8\n",
      "LotConfig_FR3            uint8\n",
      "LotConfig_Inside         uint8\n",
      "Neighborhood_Blueste     uint8\n",
      "Neighborhood_BrDale      uint8\n",
      "Neighborhood_BrkSide     uint8\n",
      "Neighborhood_ClearCr     uint8\n",
      "Neighborhood_CollgCr     uint8\n",
      "Neighborhood_Crawfor     uint8\n",
      "Neighborhood_Edwards     uint8\n",
      "Neighborhood_Gilbert     uint8\n",
      "Neighborhood_IDOTRR      uint8\n",
      "Neighborhood_MeadowV     uint8\n",
      "Neighborhood_Mitchel     uint8\n",
      "Neighborhood_NAmes       uint8\n",
      "Neighborhood_NPkVill     uint8\n",
      "Neighborhood_NWAmes      uint8\n",
      "Neighborhood_NoRidge     uint8\n",
      "Neighborhood_NridgHt     uint8\n",
      "Neighborhood_OldTown     uint8\n",
      "Neighborhood_SWISU       uint8\n",
      "Neighborhood_Sawyer      uint8\n",
      "Neighborhood_SawyerW     uint8\n",
      "Neighborhood_Somerst     uint8\n",
      "Neighborhood_StoneBr     uint8\n",
      "Neighborhood_Timber      uint8\n",
      "Neighborhood_Veenker     uint8\n",
      "Condition1_Feedr         uint8\n",
      "Condition1_Norm          uint8\n",
      "Condition1_PosA          uint8\n",
      "Condition1_PosN          uint8\n",
      "Condition1_RRAe          uint8\n",
      "Condition1_RRAn          uint8\n",
      "Condition1_RRNe          uint8\n",
      "Condition1_RRNn          uint8\n",
      "BldgType_2fmCon          uint8\n",
      "BldgType_Duplex          uint8\n",
      "BldgType_Twnhs           uint8\n",
      "BldgType_TwnhsE          uint8\n",
      "HouseStyle_1.5Unf        uint8\n",
      "HouseStyle_1Story        uint8\n",
      "HouseStyle_2.5Fin        uint8\n",
      "HouseStyle_2.5Unf        uint8\n",
      "HouseStyle_2Story        uint8\n",
      "HouseStyle_SFoyer        uint8\n",
      "HouseStyle_SLvl          uint8\n",
      "RoofStyle_Gable          uint8\n",
      "RoofStyle_Gambrel        uint8\n",
      "RoofStyle_Hip            uint8\n",
      "RoofStyle_Mansard        uint8\n",
      "RoofStyle_Shed           uint8\n",
      "Exterior1st_AsphShn      uint8\n",
      "Exterior1st_BrkComm      uint8\n",
      "Exterior1st_BrkFace      uint8\n",
      "Exterior1st_CBlock       uint8\n",
      "Exterior1st_CemntBd      uint8\n",
      "Exterior1st_HdBoard      uint8\n",
      "Exterior1st_ImStucc      uint8\n",
      "Exterior1st_MetalSd      uint8\n",
      "Exterior1st_Plywood      uint8\n",
      "Exterior1st_Stone        uint8\n",
      "Exterior1st_Stucco       uint8\n",
      "Exterior1st_VinylSd      uint8\n",
      "Exterior1st_Wd Sdng      uint8\n",
      "Exterior1st_WdShing      uint8\n",
      "Exterior2nd_AsphShn      uint8\n",
      "Exterior2nd_Brk Cmn      uint8\n",
      "Exterior2nd_BrkFace      uint8\n",
      "Exterior2nd_CBlock       uint8\n",
      "Exterior2nd_CmentBd      uint8\n",
      "Exterior2nd_HdBoard      uint8\n",
      "Exterior2nd_ImStucc      uint8\n",
      "Exterior2nd_MetalSd      uint8\n",
      "Exterior2nd_Other        uint8\n",
      "Exterior2nd_Plywood      uint8\n",
      "Exterior2nd_Stone        uint8\n",
      "Exterior2nd_Stucco       uint8\n",
      "Exterior2nd_VinylSd      uint8\n",
      "Exterior2nd_Wd Sdng      uint8\n",
      "Exterior2nd_Wd Shng      uint8\n",
      "MasVnrType_BrkFace       uint8\n",
      "MasVnrType_None          uint8\n",
      "MasVnrType_Stone         uint8\n",
      "Foundation_CBlock        uint8\n",
      "Foundation_PConc         uint8\n",
      "Foundation_Slab          uint8\n",
      "Foundation_Stone         uint8\n",
      "Foundation_Wood          uint8\n",
      "BsmtFinType1_BLQ         uint8\n",
      "BsmtFinType1_GLQ         uint8\n",
      "BsmtFinType1_LwQ         uint8\n",
      "BsmtFinType1_NA          uint8\n",
      "BsmtFinType1_Rec         uint8\n",
      "BsmtFinType1_Unf         uint8\n",
      "BsmtFinType2_BLQ         uint8\n",
      "BsmtFinType2_GLQ         uint8\n",
      "BsmtFinType2_LwQ         uint8\n",
      "BsmtFinType2_NA          uint8\n",
      "BsmtFinType2_Rec         uint8\n",
      "BsmtFinType2_Unf         uint8\n",
      "CentralAir_Y             uint8\n",
      "Electrical_FuseF         uint8\n",
      "Electrical_FuseP         uint8\n",
      "Electrical_Mix           uint8\n",
      "Electrical_SBrkr         uint8\n",
      "Functional_Maj2          uint8\n",
      "Functional_Min1          uint8\n",
      "Functional_Min2          uint8\n",
      "Functional_Mod           uint8\n",
      "Functional_Sev           uint8\n",
      "Functional_Typ           uint8\n",
      "GarageType_Attchd        uint8\n",
      "GarageType_Basment       uint8\n",
      "GarageType_BuiltIn       uint8\n",
      "GarageType_CarPort       uint8\n",
      "GarageType_Detchd        uint8\n",
      "GarageType_NA            uint8\n",
      "GarageFinish_NA          uint8\n",
      "GarageFinish_RFn         uint8\n",
      "GarageFinish_Unf         uint8\n",
      "PavedDrive_P             uint8\n",
      "PavedDrive_Y             uint8\n",
      "SaleType_CWD             uint8\n",
      "SaleType_Con             uint8\n",
      "SaleType_ConLD           uint8\n",
      "SaleType_ConLI           uint8\n",
      "SaleType_ConLw           uint8\n",
      "SaleType_New             uint8\n",
      "SaleType_Oth             uint8\n",
      "SaleType_WD              uint8\n",
      "SaleCondition_AdjLand    uint8\n",
      "SaleCondition_Alloca     uint8\n",
      "SaleCondition_Family     uint8\n",
      "SaleCondition_Normal     uint8\n",
      "SaleCondition_Partial    uint8\n",
      "Set                      category\n",
      "dtypes: category(1), float64(11), int64(31), uint8(161)\n",
      "memory usage: 1.4 MB\n"
     ]
    }
   ],
   "source": [
    "\n",
    "def mergeTrainAndTest(train, test):\n",
    "    trainToMerge = train.copy()\n",
    "    Ytrain = trainToMerge['SalePrice'] \n",
    "    trainToMerge.drop(labels = 'SalePrice', axis = 1, inplace = True)\n",
    "    trainToMerge['Set'] = 'train'\n",
    "    testToMerge = test.copy()\n",
    "    testToMerge['Set'] = 'test'\n",
    "    db = trainToMerge.copy()\n",
    "    db = db.append(testToMerge)\n",
    "    return db, Ytrain\n",
    "\n",
    "def convertToCategories(db):\n",
    "    db[\"MSSubClass\"] = db['MSSubClass'].astype('category')\n",
    "    db[\"ExterQual\"] = db[\"ExterQual\"].map({'Ex': 5, 'Gd': 4, 'TA': 3, 'Fa': 2, 'Po': 1})\n",
    "    db[\"ExterCond\"] = db[\"ExterCond\"].map({'Ex': 5, 'Gd': 4, 'TA': 3, 'Fa': 2, 'Po': 1})\n",
    "    db[\"BsmtQual\"] = db[\"BsmtQual\"].map({'Ex': 5, 'Gd': 4, 'TA': 3, 'Fa': 2, 'Po': 1, 'NA': 0})\n",
    "    db[\"BsmtCond\"] = db[\"BsmtCond\"].map({'Ex': 5, 'Gd': 4, 'TA': 3, 'Fa': 2, 'Po': 1, 'NA': 0})\n",
    "    db[\"BsmtExposure\"] = db[\"BsmtExposure\"].map({'Gd': 4, 'Av': 3, 'Mn': 2, 'No': 1, 'NA': 0})\n",
    "    db[\"HeatingQC\"] = db[\"HeatingQC\"].map({'Ex': 5, 'Gd': 4, 'TA': 3, 'Fa': 2, 'Po': 1})\n",
    "    db[\"KitchenQual\"] = db[\"KitchenQual\"].map({'Ex': 5, 'Gd': 4, 'TA': 3, 'Fa': 2, 'Po': 1})\n",
    "    db[\"FireplaceQu\"] = db[\"FireplaceQu\"].map({'Ex': 5, 'Gd': 4, 'TA': 3, 'Fa': 2, 'Po': 1, 'NA': 0})\n",
    "    db[\"GarageQual\"] = db[\"GarageQual\"].map({'Ex': 5, 'Gd': 4, 'TA': 3, 'Fa': 2, 'Po': 1, 'NA': 0})\n",
    "    db[\"GarageCond\"] = db[\"GarageCond\"].map({'Ex': 5, 'Gd': 4, 'TA': 3, 'Fa': 2, 'Po': 1, 'NA': 0})\n",
    "    for i in db.select_dtypes(include='object').columns.to_list():\n",
    "        db[i] = db[i].astype('category')\n",
    "        \n",
    "def oneHotEncoding(db):\n",
    "    typeOfSet = db['Set']\n",
    "    db.drop(labels = 'Set', axis = 1, inplace = True)\n",
    "    featuresToEncode = db.select_dtypes(include='category').head().columns.values.tolist()\n",
    "    resultantDB = pd.get_dummies(db, columns = featuresToEncode, drop_first= True)\n",
    "    resultantDB = pd.concat([resultantDB, typeOfSet], axis=1)\n",
    "    return resultantDB\n",
    "\n",
    "db, Ytrain = mergeTrainAndTest(train, test)\n",
    "convertToCategories(db)\n",
    "\n",
    "db = oneHotEncoding(db)\n",
    "\n",
    "db.info(verbose=True)"
   ]
  },
  {
   "cell_type": "code",
   "execution_count": 7,
   "metadata": {},
   "outputs": [
    {
     "name": "stderr",
     "output_type": "stream",
     "text": [
      "/home/sady/anaconda3/lib/python3.7/site-packages/pandas/core/frame.py:4102: SettingWithCopyWarning: \n",
      "A value is trying to be set on a copy of a slice from a DataFrame\n",
      "\n",
      "See the caveats in the documentation: http://pandas.pydata.org/pandas-docs/stable/user_guide/indexing.html#returning-a-view-versus-a-copy\n",
      "  errors=errors,\n",
      "/home/sady/anaconda3/lib/python3.7/site-packages/pandas/core/frame.py:4102: SettingWithCopyWarning: \n",
      "A value is trying to be set on a copy of a slice from a DataFrame\n",
      "\n",
      "See the caveats in the documentation: http://pandas.pydata.org/pandas-docs/stable/user_guide/indexing.html#returning-a-view-versus-a-copy\n",
      "  errors=errors,\n"
     ]
    }
   ],
   "source": [
    "def separateTestAndTrain(db):\n",
    "    \n",
    "    Xtrain = db.loc[db['Set'] == 'train']\n",
    "    Xtrain.drop(labels = 'Set', axis = 1, inplace = True)\n",
    "    Xtest = db.loc[db['Set'] == 'test']\n",
    "    Xtest.drop(labels = 'Set', axis = 1, inplace = True)\n",
    "    return Xtrain, Xtest\n",
    "\n",
    "Xtrain, Xtest = separateTestAndTrain(db)"
   ]
  },
  {
   "cell_type": "code",
   "execution_count": 60,
   "metadata": {},
   "outputs": [],
   "source": [
    "from sklearn.utils import check_array\n",
    "def mean_absolute_percentage_error(y_true, y_pred): \n",
    "    y_true, y_pred = check_array(y_true, y_pred)\n",
    "\n",
    "    ## Note: does not handle mix 1d representation\n",
    "    #if _is_1d(y_true): \n",
    "    #    y_true, y_pred = _check_1d_array(y_true, y_pred)\n",
    "\n",
    "    return np.mean(np.abs((y_true - y_pred) / y_true)) * 100"
   ]
  },
  {
   "cell_type": "code",
   "execution_count": 71,
   "metadata": {
    "scrolled": true
   },
   "outputs": [
    {
     "name": "stdout",
     "output_type": "stream",
     "text": [
      "RMSE = 32634.65, R2 = 84.14%\n"
     ]
    }
   ],
   "source": [
    "from sklearn.linear_model import LinearRegression\n",
    "from sklearn.model_selection import StratifiedKFold, GridSearchCV\n",
    "from numpy import random\n",
    "import math\n",
    "\n",
    "X = Xtrain.values\n",
    "Y = Ytrain.values\n",
    "\n",
    "random.seed(1)\n",
    "#print(np.any(np.isnan(X)))\n",
    "#print(np.all(np.isfinite(X)))\n",
    "\n",
    "\n",
    "Xtraining, Xtesting, Ytraining, Ytesting = train_test_split(X, Y, test_size=0.25)\n",
    "\n",
    "regr_freq = LinearRegression()\n",
    "regr_freq.fit(Xtraining, Ytraining)\n",
    "\n",
    "print(\"RMSE = {:.2f}, R2 = {:.2f}%\".format(math.sqrt(np.mean((regr_freq.predict(Xtesting) - Ytesting) ** 2)),\n",
    "                                                   regr_freq.score(Xtesting,Ytesting)*100))"
   ]
  },
  {
   "cell_type": "code",
   "execution_count": 72,
   "metadata": {},
   "outputs": [
    {
     "name": "stderr",
     "output_type": "stream",
     "text": [
      "/home/sady/anaconda3/lib/python3.7/site-packages/sklearn/model_selection/_split.py:1978: FutureWarning: The default value of cv will change from 3 to 5 in version 0.22. Specify it explicitly to silence this warning.\n",
      "  warnings.warn(CV_WARNING, FutureWarning)\n"
     ]
    },
    {
     "name": "stdout",
     "output_type": "stream",
     "text": [
      "Best score: -59878648.573505 using {'bandwidth': 10.0}\n"
     ]
    }
   ],
   "source": [
    "from sklearn.neighbors import KernelDensity\n",
    "from sklearn.model_selection import train_test_split\n",
    "from sklearn.model_selection import StratifiedKFold, GridSearchCV\n",
    "from numpy import random\n",
    "import math\n",
    "\n",
    "X = Xtrain.values\n",
    "Y = Ytrain.values\n",
    "\n",
    "random.seed(1)\n",
    "\n",
    "Xtraining, Xtesting, Ytraining, Ytesting = train_test_split(X, Y, test_size=0.25)\n",
    "\n",
    "params = {'bandwidth': np.logspace(-1, 1, 20)}\n",
    "kfold = StratifiedKFold(n_splits = 10, shuffle = True, random_state = 10)\n",
    "grid = GridSearchCV(KernelDensity(), params)\n",
    "resultGrid = grid.fit(Xtraining)\n",
    "\n",
    "print(\"Best score: %f using %s\" % (resultGrid.best_score_, resultGrid.best_params_))\n",
    "means = resultGrid.cv_results_['mean_test_score']\n",
    "stds = resultGrid.cv_results_['std_test_score']\n",
    "params = resultGrid.cv_results_['params']"
   ]
  },
  {
   "cell_type": "markdown",
   "metadata": {},
   "source": [
    "3.2 La funci&oacute;n polin&oacute;mica que se est&aacute; usando para grados mayores a 1\n",
    "est&aacute; incompleta, ¿Por qu&eacute;?:"
   ]
  },
  {
   "cell_type": "markdown",
   "metadata": {},
   "source": [
    "Debido a que falta el producto entre caracteristicas que resulta de extender la expresión polinomica a un grado mayor a uno."
   ]
  },
  {
   "cell_type": "markdown",
   "metadata": {},
   "source": [
    "## Ejercicio 4: Obtener resultados\n",
    "\n",
    "Identifique la variable \"eta\" (tasa de aprendizaje $\\eta$) en el código anterior, cambie su valor de acuerdo a la siguiente tabla. Haga lo mismo con el valor del grado del polinomio y complete las columnas ECM_Entrenamiento y ECM_Prueba.\n",
    "\n",
    "Tenga en cuenta que cuando el valor de $\\eta$ sea $0.00001$ y el grado del polinomio sea $1$, el valor del ECM de prueba debe ser $703.376$. Esto le servirá de criterio de verificación para la implementación de su algorítmo de gradiente descendente.\n"
   ]
  },
  {
   "cell_type": "code",
   "execution_count": 46,
   "metadata": {},
   "outputs": [
    {
     "data": {
      "application/vnd.jupyter.widget-view+json": {
       "model_id": "3d005685544a4eeb9b05a0f3d8e192d7",
       "version_major": 2,
       "version_minor": 0
      },
      "text/plain": [
       "QgridWidget(grid_options={'fullWidthRows': True, 'syncColumnCellResize': True, 'forceFitColumns': True, 'defau…"
      ]
     },
     "metadata": {},
     "output_type": "display_data"
    }
   ],
   "source": [
    "import numpy as np\n",
    "import pandas as pd\n",
    "import qgrid as qg\n",
    "randn = np.random.randn\n",
    "df_types = pd.DataFrame({\n",
    "    'Tasa de aprendizaje' : pd.Series(['1e-5', '1e-5', '1e-5', '1e-5', '1e-5', '1e-3', '1e-3', '1e-3', '1e-3', '1e-3', '1e-1', '1e-1', '1e-1', '1e-1', '1e-1']),\n",
    "    'Grado del polinomio' : pd.Series([1,2,3,4,5,1,2,3,4,5,1,2,3,4,5])})\n",
    "df_types[\"ECM_Entrenamiento\"] = \"\"\n",
    "df_types[\"ECM_Prueba\"] = \"\"\n",
    "df_types.set_index(['Tasa de aprendizaje','Grado del polinomio'], inplace=True)\n",
    "df_types[\"ECM_Entrenamiento\"][0] = \"774.055\"\n",
    "df_types[\"ECM_Prueba\"][0] = \"703.376\"\n",
    "df_types.sort_index(inplace=True)\n",
    "qgrid_widget = qg.show_grid(df_types, show_toolbar=False)\n",
    "qgrid_widget"
   ]
  },
  {
   "cell_type": "markdown",
   "metadata": {},
   "source": [
    "Ejecute la siguiente instrucción para dejar guardados en el notebook los resultados de las pruebas."
   ]
  },
  {
   "cell_type": "code",
   "execution_count": null,
   "metadata": {},
   "outputs": [],
   "source": [
    "qgrid_widget.get_changed_df()"
   ]
  },
  {
   "cell_type": "markdown",
   "metadata": {},
   "source": [
    "## Ejercicio 5: Pruebas\n",
    "\n",
    "En la celda de código del Ejercicio # 3, comente la línea donde se normalizan las matrices de datos Xtrain y Xtest. Realice pruebas para diferentes valores de $\\eta$ y de grado del polinomio de manera similar a los valores que usó en el punto 3. Observe que pasa con el ECM.\n",
    "\n",
    "#### Responda\n",
    "\n",
    "5.1 ¿Qué sucede con los valores del ECM?\n",
    "\n"
   ]
  },
  {
   "cell_type": "markdown",
   "metadata": {},
   "source": [
    "Los valores del ECM se desbordan"
   ]
  },
  {
   "cell_type": "markdown",
   "metadata": {},
   "source": [
    "5.2 ¿A qué se debe lo que observa?\n"
   ]
  },
  {
   "cell_type": "markdown",
   "metadata": {},
   "source": [
    "Debido a que la convergencia entre caracteristicas se reduce por falta de normalización"
   ]
  },
  {
   "cell_type": "markdown",
   "metadata": {},
   "source": [
    "5.3.1 ¿Qu&eacute; proceso hace la normalizaci&oacute;n sobre los datos? \n",
    "\n",
    "\n"
   ]
  },
  {
   "cell_type": "markdown",
   "metadata": {},
   "source": [
    "Cambia los valores del dataset a una escala común sin distorsionar las diferencias en los rangos de valores."
   ]
  },
  {
   "cell_type": "markdown",
   "metadata": {},
   "source": [
    "5.3.2 Consulte por qu&eacute; es necesaria la normalizaci&oacute;n en el modelo de regresi&oacute;n  y cu&aacute;les son los tipos de normalizaci&oacute;n m&aacute;s comunes. "
   ]
  },
  {
   "cell_type": "markdown",
   "metadata": {},
   "source": [
    "Es necesaria porque es posible que algunas características sean cuantitativamente mucho mayores que las demás lo que puede causar que contribuyan a la variación en el término independiente aunque no necesariamente sean más importantes. Algunos de los métodos de normalización son: decimal scaling, min-max normalization y z-score."
   ]
  },
  {
   "cell_type": "markdown",
   "metadata": {},
   "source": [
    "5.3.3 ¿Cu&aacute;l de ellos se aplic&oacute; en el laboratorio?"
   ]
  },
  {
   "cell_type": "markdown",
   "metadata": {},
   "source": [
    "El método utilizado en este laboratorio fue z-score. \n"
   ]
  }
 ],
 "metadata": {
  "kernelspec": {
   "display_name": "Python 3",
   "language": "python",
   "name": "python3"
  },
  "language_info": {
   "codemirror_mode": {
    "name": "ipython",
    "version": 3
   },
   "file_extension": ".py",
   "mimetype": "text/x-python",
   "name": "python",
   "nbconvert_exporter": "python",
   "pygments_lexer": "ipython3",
   "version": "3.7.4"
  }
 },
 "nbformat": 4,
 "nbformat_minor": 2
}
