{
 "cells": [
  {
   "cell_type": "markdown",
   "metadata": {
    "colab_type": "text",
    "id": "Zd66tg8S6yZN"
   },
   "source": [
    "# Laboratorio 6 Parte 2\n",
    "\n",
    "### Reducción de dimensión: PCA y LDA\n",
    "\n",
    "### 2019-II\n",
    "\n",
    "#### Profesor: Julián D. Arias Londoño\n",
    "#### julian.ariasl@udea.edu.co"
   ]
  },
  {
   "cell_type": "markdown",
   "metadata": {
    "colab_type": "text",
    "id": "WMykMYTj6yZP"
   },
   "source": [
    "## Estudiantes\n",
    "\n",
    "#### Primer Integrante: Jorge Andres Hiler Ricardo\n",
    "#### Segundo Integrante: Santiago Gaviria Zapata\n"
   ]
  },
  {
   "cell_type": "markdown",
   "metadata": {
    "colab_type": "text",
    "id": "9Pnv6w2Y6yZR"
   },
   "source": [
    "## Guía del laboratorio\n",
    "\n",
    "En esta archivo va a encontrar tanto celdas de código cómo celdas de texto con las instrucciones para desarrollar el laboratorio.\n",
    "\n",
    "Lea atentamente las instrucciones entregadas en las celdas de texto correspondientes y proceda con la solución de las preguntas planteadas.\n",
    "\n",
    "Nota: no olvide ir ejecutando las celdas de código de arriba hacia abajo para que no tenga errores de importación de librerías o por falta de definición de variables."
   ]
  },
  {
   "cell_type": "markdown",
   "metadata": {
    "colab_type": "text",
    "id": "W8AEBQiT6yZT"
   },
   "source": [
    "## Indicaciones\n",
    "\n",
    "Este ejercicio tiene como objetivo implementar varias técnicas de extracción de características (PCA y LDA) y usar SVM para resolver un problema de clasificación multietiqueta o multiclase.\n",
    "\n",
    "\n",
    "Antes de iniciar a ejecutar las celdas, debe instalar la librería mlxtend que usaremos para los laboratorios de reducción de dimensión.\n",
    "Para hacerlo solo tiene que usar el siguiente comando: \n",
    "`!pip install mlxtend`\n",
    "También puede consultar la guía oficial de instalación\n",
    "    de esta librería: https://rasbt.github.io/mlxtend/installation/\n",
    "\n",
    "\n",
    "\n"
   ]
  },
  {
   "cell_type": "code",
   "execution_count": 1,
   "metadata": {
    "colab": {
     "base_uri": "https://localhost:8080/",
     "height": 887
    },
    "colab_type": "code",
    "id": "0fu5hLl_ceNR",
    "outputId": "da597fe1-2049-4217-f02e-d4964df3785e"
   },
   "outputs": [
    {
     "name": "stdout",
     "output_type": "stream",
     "text": [
      "Requirement already satisfied: qgrid in /home/sady/anaconda3/lib/python3.7/site-packages (1.1.1)\n",
      "Requirement already satisfied: pandas>=0.18.0 in /home/sady/anaconda3/lib/python3.7/site-packages (from qgrid) (0.25.1)\n",
      "Requirement already satisfied: notebook>=4.0.0 in /home/sady/anaconda3/lib/python3.7/site-packages (from qgrid) (6.0.1)\n",
      "Requirement already satisfied: ipywidgets>=7.0.0 in /home/sady/anaconda3/lib/python3.7/site-packages (from qgrid) (7.5.1)\n",
      "Requirement already satisfied: python-dateutil>=2.6.1 in /home/sady/anaconda3/lib/python3.7/site-packages (from pandas>=0.18.0->qgrid) (2.8.0)\n",
      "Requirement already satisfied: pytz>=2017.2 in /home/sady/anaconda3/lib/python3.7/site-packages (from pandas>=0.18.0->qgrid) (2019.3)\n",
      "Requirement already satisfied: numpy>=1.13.3 in /home/sady/anaconda3/lib/python3.7/site-packages (from pandas>=0.18.0->qgrid) (1.17.2)\n",
      "Requirement already satisfied: jupyter-client>=5.3.1 in /home/sady/anaconda3/lib/python3.7/site-packages (from notebook>=4.0.0->qgrid) (5.3.3)\n",
      "Requirement already satisfied: prometheus-client in /home/sady/anaconda3/lib/python3.7/site-packages (from notebook>=4.0.0->qgrid) (0.7.1)\n",
      "Requirement already satisfied: nbconvert in /home/sady/anaconda3/lib/python3.7/site-packages (from notebook>=4.0.0->qgrid) (5.6.0)\n",
      "Requirement already satisfied: traitlets>=4.2.1 in /home/sady/anaconda3/lib/python3.7/site-packages (from notebook>=4.0.0->qgrid) (4.3.3)\n",
      "Requirement already satisfied: terminado>=0.8.1 in /home/sady/anaconda3/lib/python3.7/site-packages (from notebook>=4.0.0->qgrid) (0.8.2)\n",
      "Requirement already satisfied: ipykernel in /home/sady/anaconda3/lib/python3.7/site-packages (from notebook>=4.0.0->qgrid) (5.1.2)\n",
      "Requirement already satisfied: tornado>=5.0 in /home/sady/anaconda3/lib/python3.7/site-packages (from notebook>=4.0.0->qgrid) (6.0.3)\n",
      "Requirement already satisfied: pyzmq>=17 in /home/sady/anaconda3/lib/python3.7/site-packages (from notebook>=4.0.0->qgrid) (18.1.0)\n",
      "Requirement already satisfied: ipython-genutils in /home/sady/anaconda3/lib/python3.7/site-packages (from notebook>=4.0.0->qgrid) (0.2.0)\n",
      "Requirement already satisfied: Send2Trash in /home/sady/anaconda3/lib/python3.7/site-packages (from notebook>=4.0.0->qgrid) (1.5.0)\n",
      "Requirement already satisfied: jinja2 in /home/sady/anaconda3/lib/python3.7/site-packages (from notebook>=4.0.0->qgrid) (2.10.3)\n",
      "Requirement already satisfied: nbformat in /home/sady/anaconda3/lib/python3.7/site-packages (from notebook>=4.0.0->qgrid) (4.4.0)\n",
      "Requirement already satisfied: jupyter-core>=4.4.0 in /home/sady/anaconda3/lib/python3.7/site-packages (from notebook>=4.0.0->qgrid) (4.5.0)\n",
      "Requirement already satisfied: ipython>=4.0.0; python_version >= \"3.3\" in /home/sady/anaconda3/lib/python3.7/site-packages (from ipywidgets>=7.0.0->qgrid) (7.8.0)\n",
      "Requirement already satisfied: widgetsnbextension~=3.5.0 in /home/sady/anaconda3/lib/python3.7/site-packages (from ipywidgets>=7.0.0->qgrid) (3.5.1)\n",
      "Requirement already satisfied: six>=1.5 in /home/sady/anaconda3/lib/python3.7/site-packages (from python-dateutil>=2.6.1->pandas>=0.18.0->qgrid) (1.12.0)\n",
      "Requirement already satisfied: pygments in /home/sady/anaconda3/lib/python3.7/site-packages (from nbconvert->notebook>=4.0.0->qgrid) (2.4.2)\n",
      "Requirement already satisfied: bleach in /home/sady/anaconda3/lib/python3.7/site-packages (from nbconvert->notebook>=4.0.0->qgrid) (3.1.0)\n",
      "Requirement already satisfied: entrypoints>=0.2.2 in /home/sady/anaconda3/lib/python3.7/site-packages (from nbconvert->notebook>=4.0.0->qgrid) (0.3)\n",
      "Requirement already satisfied: mistune<2,>=0.8.1 in /home/sady/anaconda3/lib/python3.7/site-packages (from nbconvert->notebook>=4.0.0->qgrid) (0.8.4)\n",
      "Requirement already satisfied: defusedxml in /home/sady/anaconda3/lib/python3.7/site-packages (from nbconvert->notebook>=4.0.0->qgrid) (0.6.0)\n",
      "Requirement already satisfied: pandocfilters>=1.4.1 in /home/sady/anaconda3/lib/python3.7/site-packages (from nbconvert->notebook>=4.0.0->qgrid) (1.4.2)\n",
      "Requirement already satisfied: testpath in /home/sady/anaconda3/lib/python3.7/site-packages (from nbconvert->notebook>=4.0.0->qgrid) (0.4.2)\n",
      "Requirement already satisfied: decorator in /home/sady/anaconda3/lib/python3.7/site-packages (from traitlets>=4.2.1->notebook>=4.0.0->qgrid) (4.4.0)\n",
      "Requirement already satisfied: MarkupSafe>=0.23 in /home/sady/anaconda3/lib/python3.7/site-packages (from jinja2->notebook>=4.0.0->qgrid) (1.1.1)\n",
      "Requirement already satisfied: jsonschema!=2.5.0,>=2.4 in /home/sady/anaconda3/lib/python3.7/site-packages (from nbformat->notebook>=4.0.0->qgrid) (3.0.2)\n",
      "Requirement already satisfied: pickleshare in /home/sady/anaconda3/lib/python3.7/site-packages (from ipython>=4.0.0; python_version >= \"3.3\"->ipywidgets>=7.0.0->qgrid) (0.7.5)\n",
      "Requirement already satisfied: pexpect; sys_platform != \"win32\" in /home/sady/anaconda3/lib/python3.7/site-packages (from ipython>=4.0.0; python_version >= \"3.3\"->ipywidgets>=7.0.0->qgrid) (4.7.0)\n",
      "Requirement already satisfied: setuptools>=18.5 in /home/sady/anaconda3/lib/python3.7/site-packages (from ipython>=4.0.0; python_version >= \"3.3\"->ipywidgets>=7.0.0->qgrid) (46.1.3)\n",
      "Requirement already satisfied: prompt-toolkit<2.1.0,>=2.0.0 in /home/sady/anaconda3/lib/python3.7/site-packages (from ipython>=4.0.0; python_version >= \"3.3\"->ipywidgets>=7.0.0->qgrid) (2.0.10)\n",
      "Requirement already satisfied: backcall in /home/sady/anaconda3/lib/python3.7/site-packages (from ipython>=4.0.0; python_version >= \"3.3\"->ipywidgets>=7.0.0->qgrid) (0.1.0)\n",
      "Requirement already satisfied: jedi>=0.10 in /home/sady/anaconda3/lib/python3.7/site-packages (from ipython>=4.0.0; python_version >= \"3.3\"->ipywidgets>=7.0.0->qgrid) (0.15.1)\n",
      "Requirement already satisfied: webencodings in /home/sady/anaconda3/lib/python3.7/site-packages (from bleach->nbconvert->notebook>=4.0.0->qgrid) (0.5.1)\n",
      "Requirement already satisfied: pyrsistent>=0.14.0 in /home/sady/anaconda3/lib/python3.7/site-packages (from jsonschema!=2.5.0,>=2.4->nbformat->notebook>=4.0.0->qgrid) (0.15.4)\n",
      "Requirement already satisfied: attrs>=17.4.0 in /home/sady/anaconda3/lib/python3.7/site-packages (from jsonschema!=2.5.0,>=2.4->nbformat->notebook>=4.0.0->qgrid) (19.2.0)\n",
      "Requirement already satisfied: ptyprocess>=0.5 in /home/sady/anaconda3/lib/python3.7/site-packages (from pexpect; sys_platform != \"win32\"->ipython>=4.0.0; python_version >= \"3.3\"->ipywidgets>=7.0.0->qgrid) (0.6.0)\n",
      "Requirement already satisfied: wcwidth in /home/sady/anaconda3/lib/python3.7/site-packages (from prompt-toolkit<2.1.0,>=2.0.0->ipython>=4.0.0; python_version >= \"3.3\"->ipywidgets>=7.0.0->qgrid) (0.1.7)\n",
      "Requirement already satisfied: parso>=0.5.0 in /home/sady/anaconda3/lib/python3.7/site-packages (from jedi>=0.10->ipython>=4.0.0; python_version >= \"3.3\"->ipywidgets>=7.0.0->qgrid) (0.5.1)\n",
      "\u001b[33mWARNING: You are using pip version 20.0.2; however, version 20.1.1 is available.\n",
      "You should consider upgrading via the '/home/sady/anaconda3/bin/python -m pip install --upgrade pip' command.\u001b[0m\n",
      "Note: you may need to restart the kernel to use updated packages.\n"
     ]
    }
   ],
   "source": [
    "pip install qgrid"
   ]
  },
  {
   "cell_type": "code",
   "execution_count": 2,
   "metadata": {
    "colab": {},
    "colab_type": "code",
    "id": "xe1keNqO6yZU"
   },
   "outputs": [],
   "source": [
    "from __future__ import division\n",
    "\n",
    "import numpy as np\n",
    "import matplotlib.pyplot as plt\n",
    "from sklearn import svm\n",
    "from sklearn.model_selection import KFold\n",
    "from mlxtend.preprocessing import standardize\n",
    "from mlxtend.feature_extraction import PrincipalComponentAnalysis as PCA\n",
    "from mlxtend.feature_extraction import LinearDiscriminantAnalysis as LDA\n",
    "\n",
    "import time"
   ]
  },
  {
   "cell_type": "markdown",
   "metadata": {
    "colab_type": "text",
    "id": "UnY_e07v6yZZ"
   },
   "source": [
    "\n",
    "Para el problema de clasificación usaremos la siguiente base de datos: https://archive.ics.uci.edu/ml/datasets/Cardiotocography\n",
    "\n",
    "\n",
    "\n",
    "Analice la base de datos, sus características, su variable de salida y el contexto del problema."
   ]
  },
  {
   "cell_type": "markdown",
   "metadata": {
    "colab_type": "text",
    "id": "hJYjDosp6yZa"
   },
   "source": [
    "\n",
    "\n",
    "Analice y comprenda la siguiente celda de código donde se importan las librerías a usar y se carga la base de datos."
   ]
  },
  {
   "cell_type": "code",
   "execution_count": 3,
   "metadata": {
    "colab": {
     "base_uri": "https://localhost:8080/",
     "height": 34
    },
    "colab_type": "code",
    "id": "XLENPM5F6yZb",
    "outputId": "93973d44-498d-457f-e819-aecd0da569b7"
   },
   "outputs": [
    {
     "name": "stdout",
     "output_type": "stream",
     "text": [
      "Dimensiones de la base de datos de entrenamiento. dim de X: (2126, 22)\tdim de Y: (2126,)\n"
     ]
    }
   ],
   "source": [
    "#cargamos la bd de entrenamiento\n",
    "db = np.loadtxt('DB/DB_Fetal_Cardiotocograms.txt',delimiter='\\t')  # Assuming tab-delimiter\n",
    "\n",
    "X = db[:,0:22]\n",
    "\n",
    "#Solo para dar formato a algunas variables\n",
    "for i in range(1,7):\n",
    "    X[:,i] = X[:,i]*1000\n",
    "\n",
    "X = X\n",
    "Y = db[:,22]\n",
    "\n",
    "#Para darle formato de entero a la variable de salida\n",
    "\n",
    "Y_l = []\n",
    "for i in Y:\n",
    "    Y_l.append(int(i))\n",
    "Y = np.asarray(Y_l)\n",
    "\n",
    "print (\"Dimensiones de la base de datos de entrenamiento. dim de X: \" + str(np.shape(X)) + \"\\tdim de Y: \" + str(np.shape(Y)))\n"
   ]
  },
  {
   "cell_type": "markdown",
   "metadata": {
    "colab_type": "text",
    "id": "Eh7u4Fv-6yZg"
   },
   "source": [
    "## Ejercicio 1: Entrenamiento sin extracción de características\n",
    "\n",
    "En la siguiente celda de código no tiene que completar nada. Analice, comprenda y ejecute el código y tenga en cuenta los resultados para completar la tabla que se le pide más abajo."
   ]
  },
  {
   "cell_type": "code",
   "execution_count": 4,
   "metadata": {
    "colab": {
     "base_uri": "https://localhost:8080/",
     "height": 136
    },
    "colab_type": "code",
    "id": "FHfK5Ao16yZh",
    "outputId": "b6680ba4-0b52-4899-cf5f-4e1ef0be44a0"
   },
   "outputs": [
    {
     "name": "stdout",
     "output_type": "stream",
     "text": [
      "train_index [ 213  214  215 ... 2123 2124 2125]\n",
      "test_index [  0   1   2   3   4   5   6   7   8   9  10  11  12  13  14  15  16  17\n",
      "  18  19  20  21  22  23  24  25  26  27  28  29  30  31  32  33  34  35\n",
      "  36  37  38  39  40  41  42  43  44  45  46  47  48  49  50  51  52  53\n",
      "  54  55  56  57  58  59  60  61  62  63  64  65  66  67  68  69  70  71\n",
      "  72  73  74  75  76  77  78  79  80  81  82  83  84  85  86  87  88  89\n",
      "  90  91  92  93  94  95  96  97  98  99 100 101 102 103 104 105 106 107\n",
      " 108 109 110 111 112 113 114 115 116 117 118 119 120 121 122 123 124 125\n",
      " 126 127 128 129 130 131 132 133 134 135 136 137 138 139 140 141 142 143\n",
      " 144 145 146 147 148 149 150 151 152 153 154 155 156 157 158 159 160 161\n",
      " 162 163 164 165 166 167 168 169 170 171 172 173 174 175 176 177 178 179\n",
      " 180 181 182 183 184 185 186 187 188 189 190 191 192 193 194 195 196 197\n",
      " 198 199 200 201 202 203 204 205 206 207 208 209 210 211 212]\n",
      "train_index [   0    1    2 ... 2123 2124 2125]\n",
      "test_index [213 214 215 216 217 218 219 220 221 222 223 224 225 226 227 228 229 230\n",
      " 231 232 233 234 235 236 237 238 239 240 241 242 243 244 245 246 247 248\n",
      " 249 250 251 252 253 254 255 256 257 258 259 260 261 262 263 264 265 266\n",
      " 267 268 269 270 271 272 273 274 275 276 277 278 279 280 281 282 283 284\n",
      " 285 286 287 288 289 290 291 292 293 294 295 296 297 298 299 300 301 302\n",
      " 303 304 305 306 307 308 309 310 311 312 313 314 315 316 317 318 319 320\n",
      " 321 322 323 324 325 326 327 328 329 330 331 332 333 334 335 336 337 338\n",
      " 339 340 341 342 343 344 345 346 347 348 349 350 351 352 353 354 355 356\n",
      " 357 358 359 360 361 362 363 364 365 366 367 368 369 370 371 372 373 374\n",
      " 375 376 377 378 379 380 381 382 383 384 385 386 387 388 389 390 391 392\n",
      " 393 394 395 396 397 398 399 400 401 402 403 404 405 406 407 408 409 410\n",
      " 411 412 413 414 415 416 417 418 419 420 421 422 423 424 425]\n",
      "train_index [   0    1    2 ... 2123 2124 2125]\n",
      "test_index [426 427 428 429 430 431 432 433 434 435 436 437 438 439 440 441 442 443\n",
      " 444 445 446 447 448 449 450 451 452 453 454 455 456 457 458 459 460 461\n",
      " 462 463 464 465 466 467 468 469 470 471 472 473 474 475 476 477 478 479\n",
      " 480 481 482 483 484 485 486 487 488 489 490 491 492 493 494 495 496 497\n",
      " 498 499 500 501 502 503 504 505 506 507 508 509 510 511 512 513 514 515\n",
      " 516 517 518 519 520 521 522 523 524 525 526 527 528 529 530 531 532 533\n",
      " 534 535 536 537 538 539 540 541 542 543 544 545 546 547 548 549 550 551\n",
      " 552 553 554 555 556 557 558 559 560 561 562 563 564 565 566 567 568 569\n",
      " 570 571 572 573 574 575 576 577 578 579 580 581 582 583 584 585 586 587\n",
      " 588 589 590 591 592 593 594 595 596 597 598 599 600 601 602 603 604 605\n",
      " 606 607 608 609 610 611 612 613 614 615 616 617 618 619 620 621 622 623\n",
      " 624 625 626 627 628 629 630 631 632 633 634 635 636 637 638]\n",
      "train_index [   0    1    2 ... 2123 2124 2125]\n",
      "test_index [639 640 641 642 643 644 645 646 647 648 649 650 651 652 653 654 655 656\n",
      " 657 658 659 660 661 662 663 664 665 666 667 668 669 670 671 672 673 674\n",
      " 675 676 677 678 679 680 681 682 683 684 685 686 687 688 689 690 691 692\n",
      " 693 694 695 696 697 698 699 700 701 702 703 704 705 706 707 708 709 710\n",
      " 711 712 713 714 715 716 717 718 719 720 721 722 723 724 725 726 727 728\n",
      " 729 730 731 732 733 734 735 736 737 738 739 740 741 742 743 744 745 746\n",
      " 747 748 749 750 751 752 753 754 755 756 757 758 759 760 761 762 763 764\n",
      " 765 766 767 768 769 770 771 772 773 774 775 776 777 778 779 780 781 782\n",
      " 783 784 785 786 787 788 789 790 791 792 793 794 795 796 797 798 799 800\n",
      " 801 802 803 804 805 806 807 808 809 810 811 812 813 814 815 816 817 818\n",
      " 819 820 821 822 823 824 825 826 827 828 829 830 831 832 833 834 835 836\n",
      " 837 838 839 840 841 842 843 844 845 846 847 848 849 850 851]\n",
      "train_index [   0    1    2 ... 2123 2124 2125]\n",
      "test_index [ 852  853  854  855  856  857  858  859  860  861  862  863  864  865\n",
      "  866  867  868  869  870  871  872  873  874  875  876  877  878  879\n",
      "  880  881  882  883  884  885  886  887  888  889  890  891  892  893\n",
      "  894  895  896  897  898  899  900  901  902  903  904  905  906  907\n",
      "  908  909  910  911  912  913  914  915  916  917  918  919  920  921\n",
      "  922  923  924  925  926  927  928  929  930  931  932  933  934  935\n",
      "  936  937  938  939  940  941  942  943  944  945  946  947  948  949\n",
      "  950  951  952  953  954  955  956  957  958  959  960  961  962  963\n",
      "  964  965  966  967  968  969  970  971  972  973  974  975  976  977\n",
      "  978  979  980  981  982  983  984  985  986  987  988  989  990  991\n",
      "  992  993  994  995  996  997  998  999 1000 1001 1002 1003 1004 1005\n",
      " 1006 1007 1008 1009 1010 1011 1012 1013 1014 1015 1016 1017 1018 1019\n",
      " 1020 1021 1022 1023 1024 1025 1026 1027 1028 1029 1030 1031 1032 1033\n",
      " 1034 1035 1036 1037 1038 1039 1040 1041 1042 1043 1044 1045 1046 1047\n",
      " 1048 1049 1050 1051 1052 1053 1054 1055 1056 1057 1058 1059 1060 1061\n",
      " 1062 1063 1064]\n",
      "train_index [   0    1    2 ... 2123 2124 2125]\n",
      "test_index [1065 1066 1067 1068 1069 1070 1071 1072 1073 1074 1075 1076 1077 1078\n",
      " 1079 1080 1081 1082 1083 1084 1085 1086 1087 1088 1089 1090 1091 1092\n",
      " 1093 1094 1095 1096 1097 1098 1099 1100 1101 1102 1103 1104 1105 1106\n",
      " 1107 1108 1109 1110 1111 1112 1113 1114 1115 1116 1117 1118 1119 1120\n",
      " 1121 1122 1123 1124 1125 1126 1127 1128 1129 1130 1131 1132 1133 1134\n",
      " 1135 1136 1137 1138 1139 1140 1141 1142 1143 1144 1145 1146 1147 1148\n",
      " 1149 1150 1151 1152 1153 1154 1155 1156 1157 1158 1159 1160 1161 1162\n",
      " 1163 1164 1165 1166 1167 1168 1169 1170 1171 1172 1173 1174 1175 1176\n",
      " 1177 1178 1179 1180 1181 1182 1183 1184 1185 1186 1187 1188 1189 1190\n",
      " 1191 1192 1193 1194 1195 1196 1197 1198 1199 1200 1201 1202 1203 1204\n",
      " 1205 1206 1207 1208 1209 1210 1211 1212 1213 1214 1215 1216 1217 1218\n",
      " 1219 1220 1221 1222 1223 1224 1225 1226 1227 1228 1229 1230 1231 1232\n",
      " 1233 1234 1235 1236 1237 1238 1239 1240 1241 1242 1243 1244 1245 1246\n",
      " 1247 1248 1249 1250 1251 1252 1253 1254 1255 1256 1257 1258 1259 1260\n",
      " 1261 1262 1263 1264 1265 1266 1267 1268 1269 1270 1271 1272 1273 1274\n",
      " 1275 1276 1277]\n",
      "train_index [   0    1    2 ... 2123 2124 2125]\n",
      "test_index [1278 1279 1280 1281 1282 1283 1284 1285 1286 1287 1288 1289 1290 1291\n",
      " 1292 1293 1294 1295 1296 1297 1298 1299 1300 1301 1302 1303 1304 1305\n",
      " 1306 1307 1308 1309 1310 1311 1312 1313 1314 1315 1316 1317 1318 1319\n",
      " 1320 1321 1322 1323 1324 1325 1326 1327 1328 1329 1330 1331 1332 1333\n",
      " 1334 1335 1336 1337 1338 1339 1340 1341 1342 1343 1344 1345 1346 1347\n",
      " 1348 1349 1350 1351 1352 1353 1354 1355 1356 1357 1358 1359 1360 1361\n",
      " 1362 1363 1364 1365 1366 1367 1368 1369 1370 1371 1372 1373 1374 1375\n",
      " 1376 1377 1378 1379 1380 1381 1382 1383 1384 1385 1386 1387 1388 1389\n",
      " 1390 1391 1392 1393 1394 1395 1396 1397 1398 1399 1400 1401 1402 1403\n",
      " 1404 1405 1406 1407 1408 1409 1410 1411 1412 1413 1414 1415 1416 1417\n",
      " 1418 1419 1420 1421 1422 1423 1424 1425 1426 1427 1428 1429 1430 1431\n",
      " 1432 1433 1434 1435 1436 1437 1438 1439 1440 1441 1442 1443 1444 1445\n",
      " 1446 1447 1448 1449 1450 1451 1452 1453 1454 1455 1456 1457 1458 1459\n",
      " 1460 1461 1462 1463 1464 1465 1466 1467 1468 1469 1470 1471 1472 1473\n",
      " 1474 1475 1476 1477 1478 1479 1480 1481 1482 1483 1484 1485 1486 1487\n",
      " 1488 1489]\n",
      "train_index [   0    1    2 ... 2123 2124 2125]\n",
      "test_index [1490 1491 1492 1493 1494 1495 1496 1497 1498 1499 1500 1501 1502 1503\n",
      " 1504 1505 1506 1507 1508 1509 1510 1511 1512 1513 1514 1515 1516 1517\n",
      " 1518 1519 1520 1521 1522 1523 1524 1525 1526 1527 1528 1529 1530 1531\n",
      " 1532 1533 1534 1535 1536 1537 1538 1539 1540 1541 1542 1543 1544 1545\n",
      " 1546 1547 1548 1549 1550 1551 1552 1553 1554 1555 1556 1557 1558 1559\n",
      " 1560 1561 1562 1563 1564 1565 1566 1567 1568 1569 1570 1571 1572 1573\n",
      " 1574 1575 1576 1577 1578 1579 1580 1581 1582 1583 1584 1585 1586 1587\n",
      " 1588 1589 1590 1591 1592 1593 1594 1595 1596 1597 1598 1599 1600 1601\n",
      " 1602 1603 1604 1605 1606 1607 1608 1609 1610 1611 1612 1613 1614 1615\n",
      " 1616 1617 1618 1619 1620 1621 1622 1623 1624 1625 1626 1627 1628 1629\n",
      " 1630 1631 1632 1633 1634 1635 1636 1637 1638 1639 1640 1641 1642 1643\n",
      " 1644 1645 1646 1647 1648 1649 1650 1651 1652 1653 1654 1655 1656 1657\n",
      " 1658 1659 1660 1661 1662 1663 1664 1665 1666 1667 1668 1669 1670 1671\n",
      " 1672 1673 1674 1675 1676 1677 1678 1679 1680 1681 1682 1683 1684 1685\n",
      " 1686 1687 1688 1689 1690 1691 1692 1693 1694 1695 1696 1697 1698 1699\n",
      " 1700 1701]\n"
     ]
    },
    {
     "name": "stdout",
     "output_type": "stream",
     "text": [
      "train_index [   0    1    2 ... 2123 2124 2125]\n",
      "test_index [1702 1703 1704 1705 1706 1707 1708 1709 1710 1711 1712 1713 1714 1715\n",
      " 1716 1717 1718 1719 1720 1721 1722 1723 1724 1725 1726 1727 1728 1729\n",
      " 1730 1731 1732 1733 1734 1735 1736 1737 1738 1739 1740 1741 1742 1743\n",
      " 1744 1745 1746 1747 1748 1749 1750 1751 1752 1753 1754 1755 1756 1757\n",
      " 1758 1759 1760 1761 1762 1763 1764 1765 1766 1767 1768 1769 1770 1771\n",
      " 1772 1773 1774 1775 1776 1777 1778 1779 1780 1781 1782 1783 1784 1785\n",
      " 1786 1787 1788 1789 1790 1791 1792 1793 1794 1795 1796 1797 1798 1799\n",
      " 1800 1801 1802 1803 1804 1805 1806 1807 1808 1809 1810 1811 1812 1813\n",
      " 1814 1815 1816 1817 1818 1819 1820 1821 1822 1823 1824 1825 1826 1827\n",
      " 1828 1829 1830 1831 1832 1833 1834 1835 1836 1837 1838 1839 1840 1841\n",
      " 1842 1843 1844 1845 1846 1847 1848 1849 1850 1851 1852 1853 1854 1855\n",
      " 1856 1857 1858 1859 1860 1861 1862 1863 1864 1865 1866 1867 1868 1869\n",
      " 1870 1871 1872 1873 1874 1875 1876 1877 1878 1879 1880 1881 1882 1883\n",
      " 1884 1885 1886 1887 1888 1889 1890 1891 1892 1893 1894 1895 1896 1897\n",
      " 1898 1899 1900 1901 1902 1903 1904 1905 1906 1907 1908 1909 1910 1911\n",
      " 1912 1913]\n",
      "train_index [   0    1    2 ... 1911 1912 1913]\n",
      "test_index [1914 1915 1916 1917 1918 1919 1920 1921 1922 1923 1924 1925 1926 1927\n",
      " 1928 1929 1930 1931 1932 1933 1934 1935 1936 1937 1938 1939 1940 1941\n",
      " 1942 1943 1944 1945 1946 1947 1948 1949 1950 1951 1952 1953 1954 1955\n",
      " 1956 1957 1958 1959 1960 1961 1962 1963 1964 1965 1966 1967 1968 1969\n",
      " 1970 1971 1972 1973 1974 1975 1976 1977 1978 1979 1980 1981 1982 1983\n",
      " 1984 1985 1986 1987 1988 1989 1990 1991 1992 1993 1994 1995 1996 1997\n",
      " 1998 1999 2000 2001 2002 2003 2004 2005 2006 2007 2008 2009 2010 2011\n",
      " 2012 2013 2014 2015 2016 2017 2018 2019 2020 2021 2022 2023 2024 2025\n",
      " 2026 2027 2028 2029 2030 2031 2032 2033 2034 2035 2036 2037 2038 2039\n",
      " 2040 2041 2042 2043 2044 2045 2046 2047 2048 2049 2050 2051 2052 2053\n",
      " 2054 2055 2056 2057 2058 2059 2060 2061 2062 2063 2064 2065 2066 2067\n",
      " 2068 2069 2070 2071 2072 2073 2074 2075 2076 2077 2078 2079 2080 2081\n",
      " 2082 2083 2084 2085 2086 2087 2088 2089 2090 2091 2092 2093 2094 2095\n",
      " 2096 2097 2098 2099 2100 2101 2102 2103 2104 2105 2106 2107 2108 2109\n",
      " 2110 2111 2112 2113 2114 2115 2116 2117 2118 2119 2120 2121 2122 2123\n",
      " 2124 2125]\n",
      "\n",
      "Error de validación sin aplicar extracción: 0.07712817787226504 +/- 0.05442325724156325\n",
      "\n",
      "Eficiencia en validación sin extracción: 92.2871822127735%\n",
      "\n",
      "\n",
      "Tiempo total de ejecución: 0.5532016754150391 segundos.\n"
     ]
    }
   ],
   "source": [
    "def classification_error(y_est, y_real):\n",
    "    err = 0\n",
    "    for y_e, y_r in zip(y_est, y_real):\n",
    "\n",
    "        if y_e != y_r:\n",
    "            err += 1\n",
    "\n",
    "    return err/np.size(y_est)\n",
    "\n",
    "#Para calcular el costo computacional\n",
    "tiempo_i = time.time()\n",
    "\n",
    "#Creamos el clasificador SVM. Tenga en cuenta que el problema es multiclase. \n",
    "clf = svm.SVC(decision_function_shape='ovr', kernel='rbf', C = 100, gamma=0.0001)\n",
    "\n",
    "#Implemetamos la metodología de validación\n",
    "\n",
    "Errores = np.ones(10)\n",
    "j = 0\n",
    "kf = KFold(n_splits=10)\n",
    "\n",
    "for train_index, test_index in kf.split(X):\n",
    "    print('train_index', train_index)\n",
    "    print('test_index', test_index)\n",
    "    \n",
    "    X_train, X_test = X[train_index], X[test_index]\n",
    "    y_train, y_test = Y[train_index], Y[test_index]  \n",
    "\n",
    "    #Aquí se entran y se valida el modelo sin hacer selección de características\n",
    "    \n",
    "    ######\n",
    "    \n",
    "    # Entrenamiento el modelo.\n",
    "    model = clf.fit(X_train,y_train)\n",
    "\n",
    "    # Validación del modelo\n",
    "    ypred = model.predict(X_test)\n",
    "    \n",
    "    #######\n",
    "\n",
    "    Errores[j] = classification_error(ypred, y_test)\n",
    "    j+=1\n",
    "\n",
    "print(\"\\nError de validación sin aplicar extracción: \" + str(np.mean(Errores)) + \" +/- \" + str(np.std(Errores)))\n",
    "print(\"\\nEficiencia en validación sin extracción: \" + str((1-np.mean(Errores))*100) + \"%\" )\n",
    "\n",
    "print (\"\\n\\nTiempo total de ejecución: \" + str(time.time()-tiempo_i) + \" segundos.\")\n",
    "\n",
    "#print str(ypred)\n",
    "#print str(y_test) "
   ]
  },
  {
   "cell_type": "markdown",
   "metadata": {
    "colab_type": "text",
    "id": "HC-pKIDt6yZm"
   },
   "source": [
    "\n",
    "\n",
    "1.1 Cuando se aplica PCA ¿es necesario estandarizar los datos? Si, No y por qué? En qué consiste dicha estandarización?\n",
    "\n",
    "R/:Si, debido a que es un técnica que usa medidas de distancia y cuando se están calculando las componentes uno de los criterios que deben cumplirse es que la distancia entre la proyección y la componente sea minima. También debido a que esta técnica se enfoca en las características de mayor variación.\n",
    "    \n",
    "1.2 La proyección de los datos que realiza PCA busca optimizar un medida, ¿Cuál? Explique.\n",
    "\n",
    "R/:Busca minimizar la distancia entre cada punto y su proyección "
   ]
  },
  {
   "cell_type": "markdown",
   "metadata": {
    "colab_type": "text",
    "id": "q4jeNDYL6yZn"
   },
   "source": [
    "## Ejercicio 2: Entrenamiento con extracción de características\n",
    "\n",
    "En la siguiente celda, complete el código donde le sea indicado. Consulte la documentación oficial de la librería mlxtend para los métodos de extracción de características. https://rasbt.github.io/mlxtend/user_guide/feature_extraction/"
   ]
  },
  {
   "cell_type": "code",
   "execution_count": 0,
   "metadata": {
    "colab": {},
    "colab_type": "code",
    "id": "BmmMxGIy6yZo"
   },
   "outputs": [],
   "source": [
    "'''\n",
    "Feature Extraction Function\n",
    "#Recibe 2 parámetros: \n",
    "1. el tipo de método de extracción (pca o lda como string),\n",
    "2. el número componentes (para pca) o el número de discriminantes (para lda)\n",
    "\n",
    "#Para este laboratorio solo se le pedirá trabajar con PCA, LDA es opcional.\n",
    "'''\n",
    "\n",
    "def extract_features(tipo, n):\n",
    "    \n",
    "    if tipo == 'pca':\n",
    "    \n",
    "        ext = PCA(n_components=n)\n",
    "    \n",
    "        return ext\n",
    "\n",
    "    elif tipo == 'lda':\n",
    "        \n",
    "        ext = LDA(n_discriminants=n)\n",
    "        \n",
    "        return ext\n",
    "    \n",
    "    else:\n",
    "        print (\"Ingrese un método válido (pca o lda)\\n\")"
   ]
  },
  {
   "cell_type": "code",
   "execution_count": 68,
   "metadata": {
    "colab": {
     "base_uri": "https://localhost:8080/",
     "height": 153
    },
    "colab_type": "code",
    "id": "uM4nBB056yZs",
    "outputId": "d910fd21-fca2-4dae-c242-aad859acc097"
   },
   "outputs": [
    {
     "name": "stdout",
     "output_type": "stream",
     "text": [
      "\n",
      "Error de validación aplicando extracción: 0.22142793870139074 +/- 0.17001475908401714\n",
      "\n",
      "Eficiencia en validación aplicando extracción: 77.85720612986093%\n",
      "\n",
      "\n",
      "Tiempo total de ejecución: 0.7970623970031738 segundos.\n",
      "(0.22142793870139074, 0.17001475908401714, 77.85720612986093, 0.7971689701080322)\n"
     ]
    }
   ],
   "source": [
    "\n",
    "def SVM_PCA_LDA(tipo, n, X): \n",
    "\n",
    "  #Para calcular el costo computacional\n",
    "  tiempo_i = time.time()\n",
    "\n",
    "  #Estandarizamos los datos\n",
    "  X = standardize(X)\n",
    "\n",
    "  #Implemetamos la metodología de validación cross validation con 10 folds\n",
    "\n",
    "  Errores = np.ones(10)\n",
    "  j = 0\n",
    "  kf = KFold(n_splits=10)\n",
    "\n",
    "  for train_index, test_index in kf.split(X):\n",
    "      \n",
    "      #Aquí se aplica la extracción de características por PCA\n",
    "      #Complete el código\n",
    "      \n",
    "      #Complete el código llamando el método extract_features. Tenga en cuenta lo que le pide el ejercicio 3.1\n",
    "      ex =  extract_features(tipo,n)\n",
    "\n",
    "      #Fit de PCA\n",
    "      #Complete el código con el fit correspondiente\n",
    "      ex = ex.fit(X)\n",
    "      \n",
    "      #Transforme las variables y genere el nuevo espacio de características de menor dimensión\n",
    "      X_ex = ex.transform(X)#complete el código aquí para hacer la transformación\n",
    "      \n",
    "      \n",
    "      #Aquí se aplica la extracción de características por LDA\n",
    "      \n",
    "      #OPCIONAL\n",
    "      '''\n",
    "      #ex = #Complete el código llamando el método extract_features.Tenga en cuenta lo que le pide el ejercicio 3.1\n",
    "\n",
    "      #Fit de LDA\n",
    "      ex = #Complete el código con el fit correspondiente\n",
    "      \n",
    "      #Transforme las variables y genere el nuevo espacio de características de menor dimensión\n",
    "      X_ex = #complete el código aquí para hacer la transformación\n",
    "      '''\n",
    "      \n",
    "      #Se aplica CV-10\n",
    "      \n",
    "      X_train, X_test = X_ex[train_index], X_ex[test_index]\n",
    "      y_train, y_test = Y[train_index], Y[test_index]  \n",
    "    \n",
    "      #Aquí se entrena y se valida el modelo luego de aplicar extracción de características con PCA o LDA\n",
    "      \n",
    "      ######\n",
    "      \n",
    "      # Entrenamiento el modelo.\n",
    "      model = clf.fit(X_train,y_train)\n",
    "\n",
    "      # Validación del modelo\n",
    "      ypred = model.predict(X_test)\n",
    "      \n",
    "      #######\n",
    "\n",
    "      Errores[j] = classification_error(ypred, y_test)\n",
    "      j+=1\n",
    "          \n",
    "\n",
    "  print(\"\\nError de validación aplicando extracción: \" + str(np.mean(Errores)) + \" +/- \" + str(np.std(Errores)))\n",
    "\n",
    "  print(\"\\nEficiencia en validación aplicando extracción: \" + str((1-np.mean(Errores))*100) + \"%\" )\n",
    "\n",
    "  print (\"\\n\\nTiempo total de ejecución: \" + str(time.time()-tiempo_i) + \" segundos.\")\n",
    "\n",
    "  return np.mean(Errores), np.std(Errores), (1-np.mean(Errores))*100, time.time()-tiempo_i\n",
    "\n",
    "print(SVM_PCA_LDA('pca', 2, X))\n"
   ]
  },
  {
   "cell_type": "markdown",
   "metadata": {
    "colab_type": "text",
    "id": "_0-1VdqP6yZy"
   },
   "source": [
    "## Ejercicio 3\n",
    "\n",
    "3.1 En la celda de código anterior, varíe los parámetros correspondientes al número de componentes principales a tener en cuenta (use 2, 10, 19 y 21 componentes principales) para PCA y complete la siguiente tabla de resultados:"
   ]
  },
  {
   "cell_type": "code",
   "execution_count": 66,
   "metadata": {
    "colab": {
     "base_uri": "https://localhost:8080/",
     "height": 762
    },
    "colab_type": "code",
    "id": "zpVCheQh6yZz",
    "outputId": "f283dbc8-cdbb-426e-87dc-b741d351d466"
   },
   "outputs": [
    {
     "name": "stdout",
     "output_type": "stream",
     "text": [
      "\n",
      "Error de validación aplicando extracción: 0.22142793870139074 +/- 0.17001475908401714\n",
      "\n",
      "Eficiencia en validación aplicando extracción: 77.85720612986093%\n",
      "\n",
      "\n",
      "Tiempo total de ejecución: 0.8120348453521729 segundos.\n",
      "\n",
      "Error de validación aplicando extracción: 0.09169324120825582 +/- 0.061564467997647386\n",
      "\n",
      "Eficiencia en validación aplicando extracción: 90.83067587917442%\n",
      "\n",
      "\n",
      "Tiempo total de ejecución: 0.68729567527771 segundos.\n",
      "\n",
      "Error de validación aplicando extracción: 0.07193949862698203 +/- 0.04841386304281984\n",
      "\n",
      "Eficiencia en validación aplicando extracción: 92.8060501373018%\n",
      "\n",
      "\n",
      "Tiempo total de ejecución: 0.7032825946807861 segundos.\n",
      "\n",
      "Error de validación aplicando extracción: 0.07430463282841704 +/- 0.04391645244688941\n",
      "\n",
      "Eficiencia en validación aplicando extracción: 92.5695367171583%\n",
      "\n",
      "\n",
      "Tiempo total de ejecución: 0.7013306617736816 segundos.\n"
     ]
    },
    {
     "data": {
      "text/html": [
       "<div>\n",
       "<style scoped>\n",
       "    .dataframe tbody tr th:only-of-type {\n",
       "        vertical-align: middle;\n",
       "    }\n",
       "\n",
       "    .dataframe tbody tr th {\n",
       "        vertical-align: top;\n",
       "    }\n",
       "\n",
       "    .dataframe thead th {\n",
       "        text-align: right;\n",
       "    }\n",
       "</style>\n",
       "<table border=\"1\" class=\"dataframe\">\n",
       "  <thead>\n",
       "    <tr style=\"text-align: right;\">\n",
       "      <th></th>\n",
       "      <th></th>\n",
       "      <th>Error de validación</th>\n",
       "      <th>IC(std)</th>\n",
       "      <th>Eficiencia</th>\n",
       "      <th>Tiempo de ejecución</th>\n",
       "    </tr>\n",
       "    <tr>\n",
       "      <th>Tecnica</th>\n",
       "      <th># de características seleccionadas</th>\n",
       "      <th></th>\n",
       "      <th></th>\n",
       "      <th></th>\n",
       "      <th></th>\n",
       "    </tr>\n",
       "  </thead>\n",
       "  <tbody>\n",
       "    <tr>\n",
       "      <th>SVM sin extracción</th>\n",
       "      <th>N/A</th>\n",
       "      <td>0.0771281</td>\n",
       "      <td>0.04353333</td>\n",
       "      <td>92.66365</td>\n",
       "      <td>0.59319067</td>\n",
       "    </tr>\n",
       "    <tr>\n",
       "      <th rowspan=\"4\" valign=\"top\">SVM + PCA</th>\n",
       "      <th>2</th>\n",
       "      <td>0.221428</td>\n",
       "      <td>0.170015</td>\n",
       "      <td>77.8572</td>\n",
       "      <td>0.81215</td>\n",
       "    </tr>\n",
       "    <tr>\n",
       "      <th>10</th>\n",
       "      <td>0.0916932</td>\n",
       "      <td>0.0615645</td>\n",
       "      <td>90.8307</td>\n",
       "      <td>0.687452</td>\n",
       "    </tr>\n",
       "    <tr>\n",
       "      <th>19</th>\n",
       "      <td>0.0719395</td>\n",
       "      <td>0.0484139</td>\n",
       "      <td>92.8061</td>\n",
       "      <td>0.703414</td>\n",
       "    </tr>\n",
       "    <tr>\n",
       "      <th>21</th>\n",
       "      <td>0.0743046</td>\n",
       "      <td>0.0439165</td>\n",
       "      <td>92.5695</td>\n",
       "      <td>0.701445</td>\n",
       "    </tr>\n",
       "  </tbody>\n",
       "</table>\n",
       "</div>"
      ],
      "text/plain": [
       "                                                      Error de validación  ... Tiempo de ejecución\n",
       "Tecnica            # de características seleccionadas                      ...                    \n",
       "SVM sin extracción N/A                                          0.0771281  ...          0.59319067\n",
       "SVM + PCA          2                                             0.221428  ...             0.81215\n",
       "                   10                                           0.0916932  ...            0.687452\n",
       "                   19                                           0.0719395  ...            0.703414\n",
       "                   21                                           0.0743046  ...            0.701445\n",
       "\n",
       "[5 rows x 4 columns]"
      ]
     },
     "execution_count": 66,
     "metadata": {
      "tags": []
     },
     "output_type": "execute_result"
    }
   ],
   "source": [
    "import pandas as pd\n",
    "import qgrid\n",
    "df_types = pd.DataFrame({\n",
    "    'Tecnica' : pd.Series(['SVM sin extracción','SVM + PCA','SVM + PCA','SVM + PCA','SVM + PCA']),\n",
    "    '# de características seleccionadas' : pd.Series(['N/A',2,10,19,21]),\n",
    "   })\n",
    "df_types[\"Error de validación\"] = \"\"\n",
    "df_types[\"IC(std)\"] = \"\"\n",
    "df_types[\"Eficiencia\"] = \"\"\n",
    "df_types[\"Tiempo de ejecución\"] = \"\"\n",
    "\n",
    "df_types.set_index(['Tecnica','# de características seleccionadas'], inplace=True)\n",
    "\n",
    "#df_types.sort_index(inplace=True)\n",
    "qgrid_widget = qgrid.show_grid(df_types, show_toolbar=False)\n",
    "qgrid_widget\n",
    "\n",
    "for i in df_types.index:\n",
    "  if (str(i[1]) == 'N/A'):\n",
    "    ERR, IC, EF, TM = '0.0771281','0.04353333','92.66365','0.59319067'\n",
    "  else:                \n",
    "    ERR, IC, EF, TM = SVM_PCA_LDA('pca', i[1], X)\n",
    "    \n",
    "  df_types[\"Error de validación\"][i] = ERR\n",
    "  df_types[\"IC(std)\"][i] = IC\n",
    "  df_types[\"Eficiencia\"][i] = EF\n",
    "  df_types[\"Tiempo de ejecución\"][i] = TM\n",
    "\n",
    "df_types\n"
   ]
  },
  {
   "cell_type": "markdown",
   "metadata": {
    "colab_type": "text",
    "id": "JXoeDn9g6yZ9"
   },
   "source": [
    "3.2 Analizando los resultados del punto anterior que puede decir de la viabilidad de aplicar PCA para hacer reducción de dimensión en este problema?\n",
    "\n",
    "R/: No es viable. La mejora que se obtiene, cuando se acerca al numero de caracteristicas (23), es insignifcante y aumenta el costo computacional ya que toma más tiempo.\n",
    "\n"
   ]
  },
  {
   "cell_type": "markdown",
   "metadata": {
    "colab_type": "text",
    "id": "Q2X28L-L6yZ-"
   },
   "source": [
    "3.3 Explique en sus palabras la principal ventaja que tiene LDA sobre PCA para resolver problemas de clasificación.\n",
    "\n",
    "R/: LDA tiene como criterio reducir la dimensionalidad maximizando la separación entre los grupos de datos, mientras que en PCA el criterio es reducir la dimensión enfocandose en las características de que representan mayor variación "
   ]
  },
  {
   "cell_type": "markdown",
   "metadata": {
    "colab_type": "text",
    "id": "K2gflSiw6yZ_"
   },
   "source": [
    "3.3 Explique en sus palabras las diferencias que existen entre los métodos de selección de características y los métodos de extracción de características vistos en el curso.\n",
    "\n",
    "R/: El método de selección implica desechar unas características y considerar sola los mejores predictores a diferencia de la extracción que busca tranformar el conjunto de caracteristicas en un conjunto reducido.\n",
    "\n"
   ]
  }
 ],
 "metadata": {
  "colab": {
   "collapsed_sections": [],
   "name": "Lab_6.2_PCA_LDA.ipynb",
   "provenance": []
  },
  "kernelspec": {
   "display_name": "Python 3",
   "language": "python",
   "name": "python3"
  },
  "language_info": {
   "codemirror_mode": {
    "name": "ipython",
    "version": 3
   },
   "file_extension": ".py",
   "mimetype": "text/x-python",
   "name": "python",
   "nbconvert_exporter": "python",
   "pygments_lexer": "ipython3",
   "version": "3.7.4"
  }
 },
 "nbformat": 4,
 "nbformat_minor": 1
}
