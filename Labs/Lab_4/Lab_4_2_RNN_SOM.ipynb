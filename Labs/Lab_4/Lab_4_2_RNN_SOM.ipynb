{
  "nbformat": 4,
  "nbformat_minor": 0,
  "metadata": {
    "kernelspec": {
      "display_name": "Python 3",
      "language": "python",
      "name": "python3"
    },
    "language_info": {
      "codemirror_mode": {
        "name": "ipython",
        "version": 3
      },
      "file_extension": ".py",
      "mimetype": "text/x-python",
      "name": "python",
      "nbconvert_exporter": "python",
      "pygments_lexer": "ipython3",
      "version": "3.7.4"
    },
    "colab": {
      "name": "Lab_4.2_RNN_SOM.ipynb",
      "provenance": []
    },
    "widgets": {
      "application/vnd.jupyter.widget-state+json": {
        "c78c61fe9f254459acc35195eb19ec8b": {
          "model_module": "qgrid",
          "model_name": "QgridModel",
          "state": {
            "_view_name": "QgridView",
            "_view_module": "qgrid",
            "_model_module_version": "^1.1.3",
            "_index_col_name": "qgrid_unfiltered_index",
            "_model_module": "qgrid",
            "id": "efaaa78d-0eb5-4ae3-93d9-0aeb89c2e043",
            "_sort_ascending": true,
            "_columns": {
              "Retardos de tiempo por muestra": {
                "is_index": true,
                "resizable": true,
                "sortable": true,
                "name": "Retardos de tiempo por muestra",
                "maxWidth": null,
                "level": 0,
                "first_index": true,
                "defaultSortAsc": true,
                "editable": true,
                "toolTip": "",
                "minWidth": 30,
                "field": "Retardos de tiempo por muestra",
                "width": null,
                "position": 0,
                "index_display_text": "Retardos de tiempo por muestra",
                "cssClass": "integer",
                "type": "integer",
                "id": "Retardos de tiempo por muestra"
              },
              "qgrid_unfiltered_index": {
                "resizable": true,
                "sortable": true,
                "name": "qgrid_unfiltered_index",
                "maxWidth": null,
                "width": null,
                "defaultSortAsc": true,
                "editable": true,
                "toolTip": "",
                "minWidth": 30,
                "field": "qgrid_unfiltered_index",
                "position": 2,
                "cssClass": "integer",
                "type": "integer",
                "id": "qgrid_unfiltered_index"
              },
              "Neuronas por capa": {
                "is_index": true,
                "resizable": true,
                "sortable": true,
                "name": "Neuronas por capa",
                "maxWidth": null,
                "level": 1,
                "defaultSortAsc": true,
                "last_index": true,
                "editable": true,
                "toolTip": "",
                "minWidth": 30,
                "field": "Neuronas por capa",
                "width": null,
                "position": 1,
                "index_display_text": "Neuronas por capa",
                "cssClass": "integer",
                "type": "integer",
                "id": "Neuronas por capa"
              },
              "MAPE": {
                "resizable": true,
                "sortable": true,
                "name": "MAPE",
                "maxWidth": null,
                "width": null,
                "defaultSortAsc": true,
                "editable": true,
                "toolTip": "",
                "minWidth": 30,
                "field": "MAPE",
                "position": 3,
                "cssClass": "number",
                "type": "number",
                "id": "MAPE"
              }
            },
            "_interval_columns": [],
            "_dom_classes": [],
            "_df_range": [
              0,
              100
            ],
            "_model_name": "QgridModel",
            "precision": 5,
            "_editable_rows": {},
            "_viewport_range": [
              0,
              100
            ],
            "layout": "IPY_MODEL_fdc11e2b069847ae931242decde858d8",
            "_view_count": null,
            "_row_styles": {
              "0": {
                "Retardos de tiempo por muestra": "group-top",
                "Neuronas por capa": "group-single"
              },
              "1": {
                "Retardos de tiempo por muestra": "group-middle",
                "Neuronas por capa": "group-single"
              },
              "2": {
                "Retardos de tiempo por muestra": "group-middle",
                "Neuronas por capa": "group-single"
              },
              "3": {
                "Retardos de tiempo por muestra": "group-middle",
                "Neuronas por capa": "group-single"
              },
              "4": {
                "Retardos de tiempo por muestra": "group-middle",
                "Neuronas por capa": "group-single"
              },
              "5": {
                "Retardos de tiempo por muestra": "group-bottom",
                "Neuronas por capa": "group-single"
              },
              "6": {
                "Retardos de tiempo por muestra": "group-top",
                "Neuronas por capa": "group-single"
              },
              "7": {
                "Retardos de tiempo por muestra": "group-middle",
                "Neuronas por capa": "group-single"
              },
              "8": {
                "Retardos de tiempo por muestra": "group-middle",
                "Neuronas por capa": "group-single"
              },
              "9": {
                "Retardos de tiempo por muestra": "group-middle",
                "Neuronas por capa": "group-single"
              },
              "10": {
                "Retardos de tiempo por muestra": "group-middle",
                "Neuronas por capa": "group-single"
              },
              "11": {
                "Retardos de tiempo por muestra": "group-bottom",
                "Neuronas por capa": "group-single"
              },
              "12": {
                "Retardos de tiempo por muestra": "group-top",
                "Neuronas por capa": "group-single"
              },
              "13": {
                "Retardos de tiempo por muestra": "group-middle",
                "Neuronas por capa": "group-single"
              },
              "14": {
                "Retardos de tiempo por muestra": "group-middle",
                "Neuronas por capa": "group-single"
              },
              "15": {
                "Retardos de tiempo por muestra": "group-middle",
                "Neuronas por capa": "group-single"
              },
              "16": {
                "Retardos de tiempo por muestra": "group-middle",
                "Neuronas por capa": "group-single"
              },
              "17": {
                "Retardos de tiempo por muestra": "group-bottom",
                "Neuronas por capa": "group-single"
              },
              "18": {
                "Retardos de tiempo por muestra": "group-top",
                "Neuronas por capa": "group-single"
              },
              "19": {
                "Retardos de tiempo por muestra": "group-middle",
                "Neuronas por capa": "group-single"
              },
              "20": {
                "Retardos de tiempo por muestra": "group-middle",
                "Neuronas por capa": "group-single"
              },
              "21": {
                "Retardos de tiempo por muestra": "group-middle",
                "Neuronas por capa": "group-single"
              },
              "22": {
                "Retardos de tiempo por muestra": "group-middle",
                "Neuronas por capa": "group-single"
              },
              "23": {
                "Retardos de tiempo por muestra": "group-middle",
                "Neuronas por capa": "single"
              }
            },
            "_row_count": 24,
            "_multi_index": true,
            "show_toolbar": false,
            "_view_module_version": "^1.1.3",
            "grid_options": {
              "highlightSelectedRow": true,
              "fullWidthRows": true,
              "rowHeight": 28,
              "enableColumnReorder": false,
              "filterable": true,
              "sortable": true,
              "enableTextSelectionOnCells": true,
              "editable": true,
              "explicitInitialization": true,
              "minVisibleRows": 8,
              "autoEdit": false,
              "syncColumnCellResize": true,
              "maxVisibleRows": 15,
              "defaultColumnWidth": 150,
              "boldIndex": true,
              "forceFitColumns": true,
              "highlightSelectedCell": false
            },
            "_df_json": "{\"schema\":{\"fields\":[{\"name\":\"Retardos de tiempo por muestra\",\"type\":\"integer\"},{\"name\":\"Neuronas por capa\",\"type\":\"integer\"},{\"name\":\"qgrid_unfiltered_index\",\"type\":\"integer\"},{\"name\":\"MAPE\",\"type\":\"number\"}],\"primaryKey\":[\"Retardos de tiempo por muestra\",\"Neuronas por capa\"],\"pandas_version\":\"0.20.0\"},\"data\":[{\"Retardos de tiempo por muestra\":1,\"Neuronas por capa\":5,\"qgrid_unfiltered_index\":0,\"MAPE\":0.12473},{\"Retardos de tiempo por muestra\":1,\"Neuronas por capa\":10,\"qgrid_unfiltered_index\":1,\"MAPE\":0.12387},{\"Retardos de tiempo por muestra\":1,\"Neuronas por capa\":15,\"qgrid_unfiltered_index\":2,\"MAPE\":0.12494},{\"Retardos de tiempo por muestra\":1,\"Neuronas por capa\":20,\"qgrid_unfiltered_index\":3,\"MAPE\":0.12631},{\"Retardos de tiempo por muestra\":1,\"Neuronas por capa\":25,\"qgrid_unfiltered_index\":4,\"MAPE\":0.126},{\"Retardos de tiempo por muestra\":1,\"Neuronas por capa\":30,\"qgrid_unfiltered_index\":5,\"MAPE\":0.1261},{\"Retardos de tiempo por muestra\":2,\"Neuronas por capa\":5,\"qgrid_unfiltered_index\":6,\"MAPE\":0.12145},{\"Retardos de tiempo por muestra\":2,\"Neuronas por capa\":10,\"qgrid_unfiltered_index\":7,\"MAPE\":0.12697},{\"Retardos de tiempo por muestra\":2,\"Neuronas por capa\":15,\"qgrid_unfiltered_index\":8,\"MAPE\":0.11781},{\"Retardos de tiempo por muestra\":2,\"Neuronas por capa\":20,\"qgrid_unfiltered_index\":9,\"MAPE\":0.11695},{\"Retardos de tiempo por muestra\":2,\"Neuronas por capa\":25,\"qgrid_unfiltered_index\":10,\"MAPE\":0.11739},{\"Retardos de tiempo por muestra\":2,\"Neuronas por capa\":30,\"qgrid_unfiltered_index\":11,\"MAPE\":0.12349},{\"Retardos de tiempo por muestra\":3,\"Neuronas por capa\":5,\"qgrid_unfiltered_index\":12,\"MAPE\":0.12105},{\"Retardos de tiempo por muestra\":3,\"Neuronas por capa\":10,\"qgrid_unfiltered_index\":13,\"MAPE\":0.12097},{\"Retardos de tiempo por muestra\":3,\"Neuronas por capa\":15,\"qgrid_unfiltered_index\":14,\"MAPE\":0.11408},{\"Retardos de tiempo por muestra\":3,\"Neuronas por capa\":20,\"qgrid_unfiltered_index\":15,\"MAPE\":0.11297},{\"Retardos de tiempo por muestra\":3,\"Neuronas por capa\":25,\"qgrid_unfiltered_index\":16,\"MAPE\":0.1145},{\"Retardos de tiempo por muestra\":3,\"Neuronas por capa\":30,\"qgrid_unfiltered_index\":17,\"MAPE\":0.11675},{\"Retardos de tiempo por muestra\":4,\"Neuronas por capa\":5,\"qgrid_unfiltered_index\":18,\"MAPE\":0.12476},{\"Retardos de tiempo por muestra\":4,\"Neuronas por capa\":10,\"qgrid_unfiltered_index\":19,\"MAPE\":0.12592},{\"Retardos de tiempo por muestra\":4,\"Neuronas por capa\":15,\"qgrid_unfiltered_index\":20,\"MAPE\":0.12593},{\"Retardos de tiempo por muestra\":4,\"Neuronas por capa\":20,\"qgrid_unfiltered_index\":21,\"MAPE\":0.13076},{\"Retardos de tiempo por muestra\":4,\"Neuronas por capa\":25,\"qgrid_unfiltered_index\":22,\"MAPE\":0.12382},{\"Retardos de tiempo por muestra\":4,\"Neuronas por capa\":30,\"qgrid_unfiltered_index\":23,\"MAPE\":0.12787}]}",
            "_sort_field": null
          }
        }
      }
    }
  },
  "cells": [
    {
      "cell_type": "markdown",
      "metadata": {
        "id": "ZRxizEI75Wvi",
        "colab_type": "text"
      },
      "source": [
        "# Laboratorio 4 - Parte 2\n",
        "\n",
        "### Redes Neuronales Artificiales: RNN y SOM\n",
        "\n",
        "### 2019-II\n",
        "\n",
        "#### Profesor: Julián D. Arias Londoño\n",
        "#### julian.ariasl@udea.edu.co\n"
      ]
    },
    {
      "cell_type": "markdown",
      "metadata": {
        "id": "QhiaNwcf5Wvj",
        "colab_type": "text"
      },
      "source": [
        "## Guía del laboratorio\n",
        "\n",
        "En esta archivo va a encontrar tanto celdas de código cómo celdas de texto con las instrucciones para desarrollar el laboratorio.\n",
        "\n",
        "Lea atentamente las instrucciones entregadas en las celdas de texto correspondientes y proceda con la solución de las preguntas planteadas.\n",
        "\n",
        "Nota: no olvide ir ejecutando las celdas de código de arriba hacia abajo para que no tenga errores de importación de librerías o por falta de definición de variables."
      ]
    },
    {
      "cell_type": "markdown",
      "metadata": {
        "id": "IhYOiMbW5Wvk",
        "colab_type": "text"
      },
      "source": [
        "#### Primer Integrante: Santiago Gaviria Zapata\n",
        "#### Segundo Integrante: Jorge Hiler Ricardo\n"
      ]
    },
    {
      "cell_type": "code",
      "metadata": {
        "id": "7BzyWbau6Xkq",
        "colab_type": "code",
        "outputId": "601b25e8-325c-46f0-bcb9-b04c1f9e9dec",
        "colab": {
          "base_uri": "https://localhost:8080/",
          "height": 346
        }
      },
      "source": [
        "!pip3 install git+https://github.com/sevamoo/SOMPY.git"
      ],
      "execution_count": 0,
      "outputs": [
        {
          "output_type": "stream",
          "text": [
            "Collecting git+https://github.com/sevamoo/SOMPY.git\n",
            "  Cloning https://github.com/sevamoo/SOMPY.git to /tmp/pip-req-build-v7ymfiqo\n",
            "  Running command git clone -q https://github.com/sevamoo/SOMPY.git /tmp/pip-req-build-v7ymfiqo\n",
            "Requirement already satisfied: numpy>=1.7 in /usr/local/lib/python3.6/dist-packages (from SOMPY==1.1) (1.18.2)\n",
            "Requirement already satisfied: scipy>=0.9 in /usr/local/lib/python3.6/dist-packages (from SOMPY==1.1) (1.4.1)\n",
            "Requirement already satisfied: scikit-learn>=0.21 in /usr/local/lib/python3.6/dist-packages (from SOMPY==1.1) (0.22.2.post1)\n",
            "Requirement already satisfied: numexpr>=2.5 in /usr/local/lib/python3.6/dist-packages (from SOMPY==1.1) (2.7.1)\n",
            "Requirement already satisfied: joblib>=0.11 in /usr/local/lib/python3.6/dist-packages (from scikit-learn>=0.21->SOMPY==1.1) (0.14.1)\n",
            "Building wheels for collected packages: SOMPY\n",
            "  Building wheel for SOMPY (setup.py) ... \u001b[?25l\u001b[?25hdone\n",
            "  Created wheel for SOMPY: filename=SOMPY-1.1-cp36-none-any.whl size=28117 sha256=86ca792f9c10a006ed027a25087da750bd3d876a5748a767ef1ab65629daa2eb\n",
            "  Stored in directory: /tmp/pip-ephem-wheel-cache-g9g6spp3/wheels/97/7f/e9/77eaac4e79f64a701e9788d91ba334f6c7f38f96a2c6eb8261\n",
            "Successfully built SOMPY\n",
            "Installing collected packages: SOMPY\n",
            "Successfully installed SOMPY-1.1\n"
          ],
          "name": "stdout"
        },
        {
          "output_type": "stream",
          "text": [
            "/usr/local/lib/python3.6/dist-packages/google/colab/_pip.py:87: ResourceWarning: unclosed file <_io.TextIOWrapper name='/usr/local/lib/python3.6/dist-packages/SOMPY-1.1.dist-info/top_level.txt' mode='r' encoding='UTF-8'>\n",
            "  for line in open(toplevel):\n"
          ],
          "name": "stderr"
        }
      ]
    },
    {
      "cell_type": "code",
      "metadata": {
        "id": "8C24cXc75Wvl",
        "colab_type": "code",
        "colab": {}
      },
      "source": [
        "%matplotlib inline\n",
        "\n",
        "import numpy as np\n",
        "import math\n",
        "import matplotlib.pyplot as plt\n",
        "#Algunas advertencias que queremos evitar\n",
        "import warnings\n",
        "warnings.filterwarnings(\"always\")\n"
      ],
      "execution_count": 0,
      "outputs": []
    },
    {
      "cell_type": "markdown",
      "metadata": {
        "id": "2ONAg4d25Wvp",
        "colab_type": "text"
      },
      "source": [
        "## Ejercicio 1\n",
        "\n",
        "En este ejercicio vamos a utilizar dos bases de datos diferentes para entrenar dos mapas auto-organizables.\n",
        "\n",
        "1. La base de datos iris \n",
        "2. La base de datos de dígitos escritos. \n",
        "\n",
        "Si bien en estas dos bases de datos las muestras cuentan con etiquetadas de salida, las vamos a usar para evaluar el agrupamiento que produce un SOM, es decir que **no usaremos las etiquetas** e intentaremos que el modelo descubra los grupos de muestras similares que hay en los datos. Tenga en cuenta el número de clases en cada una de las bases de datos para los análisis posteriores."
      ]
    },
    {
      "cell_type": "code",
      "metadata": {
        "id": "Zp171Toq5Wvq",
        "colab_type": "code",
        "outputId": "e8593f04-9d65-429e-fa77-3ff86c1769c9",
        "colab": {
          "base_uri": "https://localhost:8080/",
          "height": 637
        }
      },
      "source": [
        "from sklearn.datasets import load_iris\n",
        "from numpy import random\n",
        "import sompy\n",
        "import sys\n",
        "sys.path.insert(0, '../../library/')\n",
        "from sklearn.preprocessing import StandardScaler\n",
        "import showsompy as sm\n",
        "\n",
        "\n",
        "data = load_iris()\n",
        "X_iris = data.data\n",
        "#Definimos una lista de colores de acuerdo con las clases originales\n",
        "colors = [\"red\"] * 50\n",
        "colors.extend([\"yellow\"] * 50)\n",
        "colors.extend([\"blue\"] * 50)"
      ],
      "execution_count": 0,
      "outputs": [
        {
          "output_type": "stream",
          "text": [
            "/usr/lib/python3.6/importlib/_bootstrap.py:219: RuntimeWarning: numpy.ufunc size changed, may indicate binary incompatibility. Expected 192 from C header, got 216 from PyObject\n",
            "  return f(*args, **kwds)\n",
            "/usr/lib/python3.6/importlib/_bootstrap.py:219: RuntimeWarning: numpy.ufunc size changed, may indicate binary incompatibility. Expected 192 from C header, got 216 from PyObject\n",
            "  return f(*args, **kwds)\n",
            "/usr/lib/python3.6/importlib/_bootstrap.py:219: RuntimeWarning: numpy.ufunc size changed, may indicate binary incompatibility. Expected 192 from C header, got 216 from PyObject\n",
            "  return f(*args, **kwds)\n",
            "/usr/lib/python3.6/importlib/_bootstrap.py:219: RuntimeWarning: numpy.ufunc size changed, may indicate binary incompatibility. Expected 192 from C header, got 216 from PyObject\n",
            "  return f(*args, **kwds)\n",
            "/usr/lib/python3.6/importlib/_bootstrap.py:219: RuntimeWarning: numpy.ufunc size changed, may indicate binary incompatibility. Expected 192 from C header, got 216 from PyObject\n",
            "  return f(*args, **kwds)\n",
            "/usr/lib/python3.6/importlib/_bootstrap.py:219: RuntimeWarning: numpy.ufunc size changed, may indicate binary incompatibility. Expected 192 from C header, got 216 from PyObject\n",
            "  return f(*args, **kwds)\n",
            "/usr/lib/python3.6/importlib/_bootstrap.py:219: RuntimeWarning: numpy.ufunc size changed, may indicate binary incompatibility. Expected 192 from C header, got 216 from PyObject\n",
            "  return f(*args, **kwds)\n",
            "/usr/lib/python3.6/importlib/_bootstrap.py:219: RuntimeWarning: numpy.ufunc size changed, may indicate binary incompatibility. Expected 192 from C header, got 216 from PyObject\n",
            "  return f(*args, **kwds)\n",
            "/usr/lib/python3.6/importlib/_bootstrap.py:219: RuntimeWarning: numpy.ufunc size changed, may indicate binary incompatibility. Expected 192 from C header, got 216 from PyObject\n",
            "  return f(*args, **kwds)\n",
            "/usr/lib/python3.6/importlib/_bootstrap.py:219: RuntimeWarning: numpy.ufunc size changed, may indicate binary incompatibility. Expected 192 from C header, got 216 from PyObject\n",
            "  return f(*args, **kwds)\n",
            "/usr/lib/python3.6/importlib/_bootstrap.py:219: RuntimeWarning: numpy.ufunc size changed, may indicate binary incompatibility. Expected 192 from C header, got 216 from PyObject\n",
            "  return f(*args, **kwds)\n",
            "/usr/lib/python3.6/importlib/_bootstrap.py:219: RuntimeWarning: numpy.ufunc size changed, may indicate binary incompatibility. Expected 192 from C header, got 216 from PyObject\n",
            "  return f(*args, **kwds)\n",
            "/usr/lib/python3.6/importlib/_bootstrap.py:219: RuntimeWarning: numpy.ufunc size changed, may indicate binary incompatibility. Expected 192 from C header, got 216 from PyObject\n",
            "  return f(*args, **kwds)\n",
            "/usr/lib/python3.6/importlib/_bootstrap.py:219: RuntimeWarning: numpy.ufunc size changed, may indicate binary incompatibility. Expected 192 from C header, got 216 from PyObject\n",
            "  return f(*args, **kwds)\n",
            "/usr/lib/python3.6/importlib/_bootstrap.py:219: RuntimeWarning: numpy.ufunc size changed, may indicate binary incompatibility. Expected 192 from C header, got 216 from PyObject\n",
            "  return f(*args, **kwds)\n",
            "/usr/lib/python3.6/importlib/_bootstrap.py:219: RuntimeWarning: numpy.ufunc size changed, may indicate binary incompatibility. Expected 192 from C header, got 216 from PyObject\n",
            "  return f(*args, **kwds)\n",
            "Loaded backend module://ipykernel.pylab.backend_inline version unknown.\n"
          ],
          "name": "stderr"
        }
      ]
    },
    {
      "cell_type": "code",
      "metadata": {
        "id": "mRnVxt-b5Wvu",
        "colab_type": "code",
        "colab": {}
      },
      "source": [
        "#Normalizar\n",
        "random.seed(19680801)\n",
        "scaler = StandardScaler()\n",
        "Xn = scaler.fit_transform(X_iris)\n",
        "n_columns = 50\n",
        "n_rows =50"
      ],
      "execution_count": 0,
      "outputs": []
    },
    {
      "cell_type": "markdown",
      "metadata": {
        "id": "2V5vqBmy5Wv2",
        "colab_type": "text"
      },
      "source": [
        "Para el trabajo usaremos el paquete SOMPY, use la siguiente instrucción\n",
        "\n",
        "```\n",
        "!pip3 install git+https://github.com/sevamoo/SOMPY.git\n",
        "```\n",
        "La documentación se pueden consultar en : https://github.com/sevamoo/SOMPY. \n",
        "\n",
        "Complete el siguiente código para entrenar un SOM con los datos almacenados en la variable Xn (Datos normalizados), use una cuadrícula de neuronas de 50 por 50 y un número de épocas igual a 100. "
      ]
    },
    {
      "cell_type": "code",
      "metadata": {
        "id": "gobDK6iC5Wv3",
        "colab_type": "code",
        "outputId": "0050c2b8-a34d-4b6b-a912-8f9d8ca9517b",
        "colab": {
          "base_uri": "https://localhost:8080/",
          "height": 1000
        }
      },
      "source": [
        "mapsize = [n_columns,n_rows]\n",
        "component_names = ['sepal length','sepal width', 'petal length','petal width']\n",
        "som_iris = sompy.SOMFactory.build(Xn, mapsize, mask=None, mapshape='planar', lattice='rect', normalization='var', initialization='pca', neighborhood='gaussian', training='batch', name='sompy')\n",
        "som_iris.train(n_job=1, verbose='info', maxtrainlen=100) "
      ],
      "execution_count": 0,
      "outputs": [
        {
          "output_type": "stream",
          "text": [
            " Training...\n",
            " pca_linear_initialization took: 0.044000 seconds\n",
            " Rough training...\n",
            " radius_ini: 7.000000 , radius_final: 1.750000, trainlen: 100\n",
            "\n",
            " epoch: 1 ---> elapsed time:  0.339000, quantization error: 0.465204\n",
            "\n",
            " epoch: 2 ---> elapsed time:  0.326000, quantization error: 0.409582\n",
            "\n",
            " epoch: 3 ---> elapsed time:  0.307000, quantization error: 0.368708\n",
            "\n",
            " epoch: 4 ---> elapsed time:  0.308000, quantization error: 0.356570\n",
            "\n",
            " epoch: 5 ---> elapsed time:  0.311000, quantization error: 0.351745\n",
            "\n",
            " epoch: 6 ---> elapsed time:  0.310000, quantization error: 0.347000\n",
            "\n",
            " epoch: 7 ---> elapsed time:  0.304000, quantization error: 0.344627\n",
            "\n",
            " epoch: 8 ---> elapsed time:  0.322000, quantization error: 0.341991\n",
            "\n",
            " epoch: 9 ---> elapsed time:  0.308000, quantization error: 0.339977\n",
            "\n",
            " epoch: 10 ---> elapsed time:  0.315000, quantization error: 0.337937\n",
            "\n",
            " epoch: 11 ---> elapsed time:  0.317000, quantization error: 0.335417\n",
            "\n",
            " epoch: 12 ---> elapsed time:  0.314000, quantization error: 0.332384\n",
            "\n",
            " epoch: 13 ---> elapsed time:  0.305000, quantization error: 0.329923\n",
            "\n",
            " epoch: 14 ---> elapsed time:  0.309000, quantization error: 0.327165\n",
            "\n",
            " epoch: 15 ---> elapsed time:  0.306000, quantization error: 0.324894\n",
            "\n",
            " epoch: 16 ---> elapsed time:  0.309000, quantization error: 0.322899\n",
            "\n",
            " epoch: 17 ---> elapsed time:  0.315000, quantization error: 0.320318\n",
            "\n",
            " epoch: 18 ---> elapsed time:  0.307000, quantization error: 0.318218\n",
            "\n",
            " epoch: 19 ---> elapsed time:  0.309000, quantization error: 0.315993\n",
            "\n",
            " epoch: 20 ---> elapsed time:  0.314000, quantization error: 0.313957\n",
            "\n",
            " epoch: 21 ---> elapsed time:  0.311000, quantization error: 0.311522\n",
            "\n",
            " epoch: 22 ---> elapsed time:  0.310000, quantization error: 0.309353\n",
            "\n",
            " epoch: 23 ---> elapsed time:  0.306000, quantization error: 0.306897\n",
            "\n",
            " epoch: 24 ---> elapsed time:  0.320000, quantization error: 0.304795\n",
            "\n",
            " epoch: 25 ---> elapsed time:  0.306000, quantization error: 0.302299\n",
            "\n",
            " epoch: 26 ---> elapsed time:  0.306000, quantization error: 0.300053\n",
            "\n",
            " epoch: 27 ---> elapsed time:  0.310000, quantization error: 0.297640\n",
            "\n",
            " epoch: 28 ---> elapsed time:  0.311000, quantization error: 0.295230\n",
            "\n",
            " epoch: 29 ---> elapsed time:  0.309000, quantization error: 0.291834\n",
            "\n",
            " epoch: 30 ---> elapsed time:  0.312000, quantization error: 0.288263\n",
            "\n",
            " epoch: 31 ---> elapsed time:  0.310000, quantization error: 0.285290\n",
            "\n",
            " epoch: 32 ---> elapsed time:  0.309000, quantization error: 0.282637\n",
            "\n",
            " epoch: 33 ---> elapsed time:  0.343000, quantization error: 0.280286\n",
            "\n",
            " epoch: 34 ---> elapsed time:  0.316000, quantization error: 0.278142\n",
            "\n",
            " epoch: 35 ---> elapsed time:  0.306000, quantization error: 0.275478\n",
            "\n",
            " epoch: 36 ---> elapsed time:  0.314000, quantization error: 0.272482\n",
            "\n",
            " epoch: 37 ---> elapsed time:  0.308000, quantization error: 0.270120\n",
            "\n",
            " epoch: 38 ---> elapsed time:  0.309000, quantization error: 0.267380\n",
            "\n",
            " epoch: 39 ---> elapsed time:  0.311000, quantization error: 0.264914\n",
            "\n",
            " epoch: 40 ---> elapsed time:  0.320000, quantization error: 0.262516\n",
            "\n",
            " epoch: 41 ---> elapsed time:  0.307000, quantization error: 0.260341\n",
            "\n",
            " epoch: 42 ---> elapsed time:  0.312000, quantization error: 0.258027\n",
            "\n",
            " epoch: 43 ---> elapsed time:  0.315000, quantization error: 0.255447\n",
            "\n",
            " epoch: 44 ---> elapsed time:  0.324000, quantization error: 0.252977\n",
            "\n",
            " epoch: 45 ---> elapsed time:  0.313000, quantization error: 0.250598\n",
            "\n",
            " epoch: 46 ---> elapsed time:  0.312000, quantization error: 0.248007\n",
            "\n",
            " epoch: 47 ---> elapsed time:  0.306000, quantization error: 0.244763\n",
            "\n",
            " epoch: 48 ---> elapsed time:  0.306000, quantization error: 0.242192\n",
            "\n",
            " epoch: 49 ---> elapsed time:  0.320000, quantization error: 0.239345\n",
            "\n",
            " epoch: 50 ---> elapsed time:  0.314000, quantization error: 0.236629\n",
            "\n",
            " epoch: 51 ---> elapsed time:  0.317000, quantization error: 0.233335\n",
            "\n",
            " epoch: 52 ---> elapsed time:  0.310000, quantization error: 0.230458\n",
            "\n",
            " epoch: 53 ---> elapsed time:  0.314000, quantization error: 0.227508\n",
            "\n",
            " epoch: 54 ---> elapsed time:  0.314000, quantization error: 0.224872\n",
            "\n",
            " epoch: 55 ---> elapsed time:  0.303000, quantization error: 0.222232\n",
            "\n",
            " epoch: 56 ---> elapsed time:  0.318000, quantization error: 0.219682\n",
            "\n",
            " epoch: 57 ---> elapsed time:  0.310000, quantization error: 0.216913\n",
            "\n",
            " epoch: 58 ---> elapsed time:  0.305000, quantization error: 0.214467\n",
            "\n",
            " epoch: 59 ---> elapsed time:  0.316000, quantization error: 0.211868\n",
            "\n",
            " epoch: 60 ---> elapsed time:  0.305000, quantization error: 0.209656\n",
            "\n",
            " epoch: 61 ---> elapsed time:  0.303000, quantization error: 0.207254\n",
            "\n",
            " epoch: 62 ---> elapsed time:  0.305000, quantization error: 0.204518\n",
            "\n",
            " epoch: 63 ---> elapsed time:  0.308000, quantization error: 0.202007\n",
            "\n",
            " epoch: 64 ---> elapsed time:  0.313000, quantization error: 0.199183\n",
            "\n",
            " epoch: 65 ---> elapsed time:  0.313000, quantization error: 0.195908\n",
            "\n",
            " epoch: 66 ---> elapsed time:  0.308000, quantization error: 0.192801\n",
            "\n",
            " epoch: 67 ---> elapsed time:  0.305000, quantization error: 0.190120\n",
            "\n",
            " epoch: 68 ---> elapsed time:  0.308000, quantization error: 0.187329\n",
            "\n",
            " epoch: 69 ---> elapsed time:  0.314000, quantization error: 0.184423\n",
            "\n",
            " epoch: 70 ---> elapsed time:  0.309000, quantization error: 0.181716\n",
            "\n",
            " epoch: 71 ---> elapsed time:  0.303000, quantization error: 0.179051\n",
            "\n",
            " epoch: 72 ---> elapsed time:  0.311000, quantization error: 0.176292\n",
            "\n",
            " epoch: 73 ---> elapsed time:  0.307000, quantization error: 0.173031\n",
            "\n",
            " epoch: 74 ---> elapsed time:  0.310000, quantization error: 0.169445\n",
            "\n",
            " epoch: 75 ---> elapsed time:  0.301000, quantization error: 0.165678\n",
            "\n",
            " epoch: 76 ---> elapsed time:  0.305000, quantization error: 0.162299\n",
            "\n",
            " epoch: 77 ---> elapsed time:  0.311000, quantization error: 0.159132\n",
            "\n",
            " epoch: 78 ---> elapsed time:  0.312000, quantization error: 0.155693\n",
            "\n",
            " epoch: 79 ---> elapsed time:  0.309000, quantization error: 0.152102\n",
            "\n",
            " epoch: 80 ---> elapsed time:  0.307000, quantization error: 0.148808\n",
            "\n",
            " epoch: 81 ---> elapsed time:  0.301000, quantization error: 0.145219\n",
            "\n",
            " epoch: 82 ---> elapsed time:  0.310000, quantization error: 0.141550\n",
            "\n",
            " epoch: 83 ---> elapsed time:  0.355000, quantization error: 0.137999\n",
            "\n",
            " epoch: 84 ---> elapsed time:  0.311000, quantization error: 0.134218\n",
            "\n",
            " epoch: 85 ---> elapsed time:  0.309000, quantization error: 0.129803\n",
            "\n",
            " epoch: 86 ---> elapsed time:  0.310000, quantization error: 0.125485\n",
            "\n",
            " epoch: 87 ---> elapsed time:  0.304000, quantization error: 0.121028\n",
            "\n",
            " epoch: 88 ---> elapsed time:  0.310000, quantization error: 0.117221\n",
            "\n",
            " epoch: 89 ---> elapsed time:  0.307000, quantization error: 0.112825\n",
            "\n",
            " epoch: 90 ---> elapsed time:  0.309000, quantization error: 0.108041\n",
            "\n",
            " epoch: 91 ---> elapsed time:  0.305000, quantization error: 0.103390\n",
            "\n",
            " epoch: 92 ---> elapsed time:  0.308000, quantization error: 0.098482\n",
            "\n",
            " epoch: 93 ---> elapsed time:  0.302000, quantization error: 0.093385\n",
            "\n",
            " epoch: 94 ---> elapsed time:  0.319000, quantization error: 0.087853\n",
            "\n",
            " epoch: 95 ---> elapsed time:  0.303000, quantization error: 0.081696\n",
            "\n",
            " epoch: 96 ---> elapsed time:  0.312000, quantization error: 0.076755\n",
            "\n",
            " epoch: 97 ---> elapsed time:  0.301000, quantization error: 0.071113\n",
            "\n",
            " epoch: 98 ---> elapsed time:  0.310000, quantization error: 0.065173\n",
            "\n",
            " epoch: 99 ---> elapsed time:  0.310000, quantization error: 0.059110\n",
            "\n",
            " epoch: 100 ---> elapsed time:  0.306000, quantization error: 0.053381\n",
            "\n",
            " Finetune training...\n",
            " radius_ini: 1.750000 , radius_final: 1.000000, trainlen: 100\n",
            "\n",
            " epoch: 1 ---> elapsed time:  0.312000, quantization error: 0.047200\n",
            "\n",
            " epoch: 2 ---> elapsed time:  0.307000, quantization error: 0.046336\n",
            "\n",
            " epoch: 3 ---> elapsed time:  0.307000, quantization error: 0.045156\n",
            "\n",
            " epoch: 4 ---> elapsed time:  0.312000, quantization error: 0.044164\n",
            "\n",
            " epoch: 5 ---> elapsed time:  0.303000, quantization error: 0.043440\n",
            "\n",
            " epoch: 6 ---> elapsed time:  0.310000, quantization error: 0.042526\n",
            "\n",
            " epoch: 7 ---> elapsed time:  0.305000, quantization error: 0.041321\n",
            "\n",
            " epoch: 8 ---> elapsed time:  0.313000, quantization error: 0.040590\n",
            "\n",
            " epoch: 9 ---> elapsed time:  0.311000, quantization error: 0.039924\n",
            "\n",
            " epoch: 10 ---> elapsed time:  0.308000, quantization error: 0.039147\n",
            "\n",
            " epoch: 11 ---> elapsed time:  0.302000, quantization error: 0.038405\n",
            "\n",
            " epoch: 12 ---> elapsed time:  0.313000, quantization error: 0.037693\n",
            "\n",
            " epoch: 13 ---> elapsed time:  0.304000, quantization error: 0.036849\n",
            "\n",
            " epoch: 14 ---> elapsed time:  0.315000, quantization error: 0.035983\n",
            "\n",
            " epoch: 15 ---> elapsed time:  0.350000, quantization error: 0.035265\n",
            "\n",
            " epoch: 16 ---> elapsed time:  0.305000, quantization error: 0.034285\n",
            "\n",
            " epoch: 17 ---> elapsed time:  0.309000, quantization error: 0.033416\n",
            "\n",
            " epoch: 18 ---> elapsed time:  0.308000, quantization error: 0.032121\n",
            "\n",
            " epoch: 19 ---> elapsed time:  0.302000, quantization error: 0.031436\n",
            "\n",
            " epoch: 20 ---> elapsed time:  0.314000, quantization error: 0.030759\n",
            "\n",
            " epoch: 21 ---> elapsed time:  0.311000, quantization error: 0.030016\n",
            "\n",
            " epoch: 22 ---> elapsed time:  0.307000, quantization error: 0.029352\n",
            "\n",
            " epoch: 23 ---> elapsed time:  0.309000, quantization error: 0.028695\n",
            "\n",
            " epoch: 24 ---> elapsed time:  0.309000, quantization error: 0.027959\n",
            "\n",
            " epoch: 25 ---> elapsed time:  0.305000, quantization error: 0.027310\n",
            "\n",
            " epoch: 26 ---> elapsed time:  0.307000, quantization error: 0.026610\n",
            "\n",
            " epoch: 27 ---> elapsed time:  0.308000, quantization error: 0.025977\n",
            "\n",
            " epoch: 28 ---> elapsed time:  0.305000, quantization error: 0.025344\n",
            "\n",
            " epoch: 29 ---> elapsed time:  0.305000, quantization error: 0.024278\n",
            "\n",
            " epoch: 30 ---> elapsed time:  0.311000, quantization error: 0.023588\n",
            "\n",
            " epoch: 31 ---> elapsed time:  0.311000, quantization error: 0.022928\n",
            "\n",
            " epoch: 32 ---> elapsed time:  0.307000, quantization error: 0.022334\n",
            "\n",
            " epoch: 33 ---> elapsed time:  0.323000, quantization error: 0.021750\n",
            "\n",
            " epoch: 34 ---> elapsed time:  0.311000, quantization error: 0.021176\n",
            "\n",
            " epoch: 35 ---> elapsed time:  0.304000, quantization error: 0.020395\n",
            "\n",
            " epoch: 36 ---> elapsed time:  0.311000, quantization error: 0.019664\n",
            "\n",
            " epoch: 37 ---> elapsed time:  0.306000, quantization error: 0.018999\n",
            "\n",
            " epoch: 38 ---> elapsed time:  0.307000, quantization error: 0.018277\n",
            "\n",
            " epoch: 39 ---> elapsed time:  0.323000, quantization error: 0.017631\n",
            "\n",
            " epoch: 40 ---> elapsed time:  0.305000, quantization error: 0.016744\n",
            "\n",
            " epoch: 41 ---> elapsed time:  0.308000, quantization error: 0.016183\n",
            "\n",
            " epoch: 42 ---> elapsed time:  0.309000, quantization error: 0.015614\n",
            "\n",
            " epoch: 43 ---> elapsed time:  0.312000, quantization error: 0.015011\n",
            "\n",
            " epoch: 44 ---> elapsed time:  0.307000, quantization error: 0.014508\n",
            "\n",
            " epoch: 45 ---> elapsed time:  0.312000, quantization error: 0.014016\n",
            "\n",
            " epoch: 46 ---> elapsed time:  0.312000, quantization error: 0.013485\n",
            "\n",
            " epoch: 47 ---> elapsed time:  0.307000, quantization error: 0.012928\n",
            "\n",
            " epoch: 48 ---> elapsed time:  0.310000, quantization error: 0.012473\n",
            "\n",
            " epoch: 49 ---> elapsed time:  0.315000, quantization error: 0.012024\n",
            "\n",
            " epoch: 50 ---> elapsed time:  0.315000, quantization error: 0.011480\n",
            "\n",
            " epoch: 51 ---> elapsed time:  0.315000, quantization error: 0.010998\n",
            "\n",
            " epoch: 52 ---> elapsed time:  0.307000, quantization error: 0.010583\n",
            "\n",
            " epoch: 53 ---> elapsed time:  0.313000, quantization error: 0.010179\n",
            "\n",
            " epoch: 54 ---> elapsed time:  0.314000, quantization error: 0.009786\n",
            "\n",
            " epoch: 55 ---> elapsed time:  0.310000, quantization error: 0.009402\n",
            "\n",
            " epoch: 56 ---> elapsed time:  0.311000, quantization error: 0.008919\n",
            "\n",
            " epoch: 57 ---> elapsed time:  0.306000, quantization error: 0.008508\n",
            "\n",
            " epoch: 58 ---> elapsed time:  0.318000, quantization error: 0.008109\n",
            "\n",
            " epoch: 59 ---> elapsed time:  0.320000, quantization error: 0.007769\n",
            "\n",
            " epoch: 60 ---> elapsed time:  0.312000, quantization error: 0.007439\n",
            "\n",
            " epoch: 61 ---> elapsed time:  0.317000, quantization error: 0.007119\n",
            "\n",
            " epoch: 62 ---> elapsed time:  0.322000, quantization error: 0.006808\n",
            "\n",
            " epoch: 63 ---> elapsed time:  0.312000, quantization error: 0.006507\n",
            "\n",
            " epoch: 64 ---> elapsed time:  0.315000, quantization error: 0.006216\n",
            "\n",
            " epoch: 65 ---> elapsed time:  0.315000, quantization error: 0.005934\n",
            "\n",
            " epoch: 66 ---> elapsed time:  0.324000, quantization error: 0.005661\n",
            "\n",
            " epoch: 67 ---> elapsed time:  0.316000, quantization error: 0.005397\n",
            "\n",
            " epoch: 68 ---> elapsed time:  0.317000, quantization error: 0.005142\n",
            "\n",
            " epoch: 69 ---> elapsed time:  0.310000, quantization error: 0.004896\n",
            "\n",
            " epoch: 70 ---> elapsed time:  0.320000, quantization error: 0.004658\n",
            "\n",
            " epoch: 71 ---> elapsed time:  0.322000, quantization error: 0.004429\n",
            "\n",
            " epoch: 72 ---> elapsed time:  0.314000, quantization error: 0.004208\n",
            "\n",
            " epoch: 73 ---> elapsed time:  0.322000, quantization error: 0.003995\n",
            "\n",
            " epoch: 74 ---> elapsed time:  0.313000, quantization error: 0.003790\n",
            "\n",
            " epoch: 75 ---> elapsed time:  0.313000, quantization error: 0.003593\n",
            "\n",
            " epoch: 76 ---> elapsed time:  0.315000, quantization error: 0.003402\n",
            "\n",
            " epoch: 77 ---> elapsed time:  0.330000, quantization error: 0.003193\n",
            "\n",
            " epoch: 78 ---> elapsed time:  0.347000, quantization error: 0.003005\n",
            "\n",
            " epoch: 79 ---> elapsed time:  0.318000, quantization error: 0.002834\n",
            "\n",
            " epoch: 80 ---> elapsed time:  0.324000, quantization error: 0.002674\n",
            "\n",
            " epoch: 81 ---> elapsed time:  0.310000, quantization error: 0.002516\n",
            "\n",
            " epoch: 82 ---> elapsed time:  0.316000, quantization error: 0.002369\n",
            "\n",
            " epoch: 83 ---> elapsed time:  0.313000, quantization error: 0.002225\n",
            "\n",
            " epoch: 84 ---> elapsed time:  0.319000, quantization error: 0.002086\n",
            "\n",
            " epoch: 85 ---> elapsed time:  0.323000, quantization error: 0.001947\n",
            "\n",
            " epoch: 86 ---> elapsed time:  0.320000, quantization error: 0.001822\n",
            "\n",
            " epoch: 87 ---> elapsed time:  0.318000, quantization error: 0.001703\n",
            "\n",
            " epoch: 88 ---> elapsed time:  0.319000, quantization error: 0.001590\n",
            "\n",
            " epoch: 89 ---> elapsed time:  0.333000, quantization error: 0.001482\n",
            "\n",
            " epoch: 90 ---> elapsed time:  0.321000, quantization error: 0.001381\n",
            "\n",
            " epoch: 91 ---> elapsed time:  0.320000, quantization error: 0.001248\n",
            "\n",
            " epoch: 92 ---> elapsed time:  0.314000, quantization error: 0.001133\n",
            "\n",
            " epoch: 93 ---> elapsed time:  0.320000, quantization error: 0.001051\n",
            "\n",
            " epoch: 94 ---> elapsed time:  0.317000, quantization error: 0.000957\n",
            "\n",
            " epoch: 95 ---> elapsed time:  0.311000, quantization error: 0.000863\n",
            "\n",
            " epoch: 96 ---> elapsed time:  0.313000, quantization error: 0.000785\n",
            "\n",
            " epoch: 97 ---> elapsed time:  0.324000, quantization error: 0.000697\n",
            "\n",
            " epoch: 98 ---> elapsed time:  0.334000, quantization error: 0.000641\n",
            "\n",
            " epoch: 99 ---> elapsed time:  0.315000, quantization error: 0.000588\n",
            "\n",
            " epoch: 100 ---> elapsed time:  0.316000, quantization error: 0.000538\n",
            "\n",
            " Final quantization error: 0.000538\n",
            " train took: 63.686000 seconds\n"
          ],
          "name": "stderr"
        }
      ]
    },
    {
      "cell_type": "markdown",
      "metadata": {
        "id": "1xWzXB9s5Wv6",
        "colab_type": "text"
      },
      "source": [
        "Una vez entrenado el modelo ejecute la siguiente celda, la cuál grafica la matriz U extraída del SOM:"
      ]
    },
    {
      "cell_type": "code",
      "metadata": {
        "id": "EBBFf2715Wv7",
        "colab_type": "code",
        "outputId": "0ef41a45-5354-4666-dae9-306e8402c744",
        "colab": {
          "base_uri": "https://localhost:8080/",
          "height": 1000
        }
      },
      "source": [
        "u = sompy.umatrix.UMatrixView(50, 50, 'umatrix', show_axis=True, text_size=8, show_text=True)\n",
        "umat = u.build_u_matrix(som_iris, distance=1, row_normalized=False)\n",
        "sm.show(umat,som_iris, show_data=False)\n",
        "sm.show(umat,som_iris,colors=colors)\n"
      ],
      "execution_count": 0,
      "outputs": [
        {
          "output_type": "display_data",
          "data": {
            "image/png": "[encoded data removed]",
            "text/plain": [
              "<Figure size 540x540 with 1 Axes>"
            ]
          },
          "metadata": {
            "tags": [],
            "needs_background": "light"
          }
        },
        {
          "output_type": "display_data",
          "data": {
            "image/png": "[encoded data removed]",
            "text/plain": [
              "<Figure size 540x540 with 1 Axes>"
            ]
          },
          "metadata": {
            "tags": [],
            "needs_background": "light"
          }
        },
        {
          "output_type": "execute_result",
          "data": {
            "text/plain": [
              "array([[0.00154279, 0.02797028, 0.05529294, ..., 0.29383454, 0.05263419,\n",
              "        0.00745858],\n",
              "       [0.01210197, 0.05624121, 0.08310182, ..., 0.22329159, 0.16757795,\n",
              "        0.07760083],\n",
              "       [0.10625761, 0.11311965, 0.08740971, ..., 0.06583321, 0.164164  ,\n",
              "        0.19567335],\n",
              "       ...,\n",
              "       [0.16875981, 0.18523807, 0.15066023, ..., 0.38116619, 0.09801478,\n",
              "        0.080479  ],\n",
              "       [0.01813078, 0.07486225, 0.23035508, ..., 0.37089212, 0.08471598,\n",
              "        0.08012094],\n",
              "       [0.00062547, 0.01798065, 0.2009474 , ..., 0.28536704, 0.02150696,\n",
              "        0.02269221]])"
            ]
          },
          "metadata": {
            "tags": []
          },
          "execution_count": 17
        }
      ]
    },
    {
      "cell_type": "markdown",
      "metadata": {
        "id": "8kr8WXfK5Wv-",
        "colab_type": "text"
      },
      "source": [
        "Responda:\n",
        "\n",
        "1.1 ¿Qué es la matrix U (En inglés U-matrix) de un SOM?\n",
        "\n",
        "La matrix de distancia unificada es un recurso que permite visualizar la distancia entre las neuronas. Utilizando colores según la distancia entre los pesos W comparando neuronas vecinas."
      ]
    },
    {
      "cell_type": "markdown",
      "metadata": {
        "id": "uiId8lS85Wv_",
        "colab_type": "text"
      },
      "source": [
        "1.2 ¿Cómo se pueden interpretar las gráficas obtenidas en el punto anterior? Describa detalladamente lo que observa e interprételo de acuerdo con la definición que dio en el punto 1.1\n",
        "\n",
        "De la gráfica obtenica se tiene que se cuentan con 3 clusters, debido a que las regiones más oscuras dan información de separación entre clusters, demarcando así 3 regiones, siendo una de ellas facil de reconocer y una tercera región en la que no hay una división tan evidente pero se puede observar una diferencia en que hay un área más clara y otra más oscura."
      ]
    },
    {
      "cell_type": "markdown",
      "metadata": {
        "id": "TYgUt4GB5WwA",
        "colab_type": "text"
      },
      "source": [
        "Ejecute la siguiente instrucción:"
      ]
    },
    {
      "cell_type": "code",
      "metadata": {
        "id": "KYSYvJDa5WwA",
        "colab_type": "code",
        "outputId": "fcde9baa-5b86-4c3a-d34c-98c04793d09a",
        "colab": {
          "base_uri": "https://localhost:8080/",
          "height": 135
        }
      },
      "source": [
        "from sompy.visualization.mapview import View2D\n",
        "view2D  = View2D(100,100,\"rand data\",text_size=10)\n",
        "view2D.show(som_iris, col_sz=4, which_dim=\"all\", denormalize=True)"
      ],
      "execution_count": 0,
      "outputs": [
        {
          "output_type": "display_data",
          "data": {
            "image/png": "[encoded data removed]",
            "text/plain": [
              "<Figure size 1152x288 with 8 Axes>"
            ]
          },
          "metadata": {
            "tags": []
          }
        }
      ]
    },
    {
      "cell_type": "markdown",
      "metadata": {
        "id": "8mYBHWOS5WwD",
        "colab_type": "text"
      },
      "source": [
        "Responda:\n",
        "\n",
        "1.3 ¿Qué se está gráficando en las figuras? \n",
        "\n",
        "La activación de las regiones para cada una de las variables de entrada evaluadas o componentes."
      ]
    },
    {
      "cell_type": "markdown",
      "metadata": {
        "id": "AVbuNHgV5WwD",
        "colab_type": "text"
      },
      "source": [
        "1.4 ¿Qué utilidad tienen las gráficas anteriores?\n",
        "\n",
        "Permite encontrar el número de clusters presentes sin ninguna información previa analizando la información que proporciona la gráfica, ademas de realizar una analisís de que varibles están correlacionadas."
      ]
    },
    {
      "cell_type": "markdown",
      "metadata": {
        "id": "vp0zXYM35WwE",
        "colab_type": "text"
      },
      "source": [
        "1.5 ¿De acuerdo con las gráficas anteriores cuáles variables en el problema están correlacionadas?\n",
        "\n",
        "La varables 3 y 4"
      ]
    },
    {
      "cell_type": "code",
      "metadata": {
        "id": "rXMV8VZ75WwF",
        "colab_type": "code",
        "outputId": "73eaa78e-63c3-4096-89a5-e585e9ef01ad",
        "colab": {}
      },
      "source": [
        "codebook = som_iris._normalizer.denormalize_by(som_iris.data_raw, som_iris.codebook.matrix)\n",
        "mp = codebook.reshape(som_iris.codebook.mapsize[0],som_iris.codebook.mapsize[1],codebook.shape[1])\n",
        "mp.shape"
      ],
      "execution_count": 0,
      "outputs": [
        {
          "output_type": "execute_result",
          "data": {
            "text/plain": [
              "(50, 50, 4)"
            ]
          },
          "metadata": {
            "tags": []
          },
          "execution_count": 63
        }
      ]
    },
    {
      "cell_type": "markdown",
      "metadata": {
        "id": "3254jDP65WwI",
        "colab_type": "text"
      },
      "source": [
        "## Ejercicio 2\n",
        "\n",
        "Repita el proceso anterior para los datos del problema de reconocimiento de dígitos escritos a mano. Ejecute la siguiente celda para cargar los datos"
      ]
    },
    {
      "cell_type": "code",
      "metadata": {
        "id": "ssRiwr7c5WwJ",
        "colab_type": "code",
        "colab": {}
      },
      "source": [
        "from sklearn.datasets import load_digits\n",
        "from sklearn.decomposition import PCA\n",
        "digits = load_digits(n_class=4)\n",
        "\n",
        "#--------- preprocesamiento--------------------\n",
        "pca = PCA(0.99, whiten=True)\n",
        "data = pca.fit_transform(digits.data)\n",
        "\n",
        "#---------- Datos a usar ----------------------\n",
        "X_digits = data\n",
        "Y = digits.target\n",
        "\n",
        "#Definimos una lista de colores de acuerdo con las clases en Y\n",
        "color_digits = []\n",
        "for i in range(len(Y)):\n",
        "    if Y[i] == 0:\n",
        "        color_digits.append('red')\n",
        "    elif Y[i] == 1:\n",
        "        color_digits.append('blue')\n",
        "    elif Y[i] == 2:\n",
        "        color_digits.append('green')\n",
        "    elif Y[i] == 3:\n",
        "        color_digits.append('yellow')"
      ],
      "execution_count": 0,
      "outputs": []
    },
    {
      "cell_type": "code",
      "metadata": {
        "id": "w3c0XCUu5WwM",
        "colab_type": "code",
        "colab": {}
      },
      "source": [
        "random.seed(19680801)\n",
        "scaler = StandardScaler()\n",
        "Xn_dig = scaler.fit_transform(X_digits);\n",
        "\n",
        "map_size = [50,50]"
      ],
      "execution_count": 0,
      "outputs": []
    },
    {
      "cell_type": "markdown",
      "metadata": {
        "id": "lSiPffL15WwO",
        "colab_type": "text"
      },
      "source": [
        "Entrene un SOM a partir de los datos cargados en la celda anterior. En este caso utilice un SOM con una capa de neuronas 50x50."
      ]
    },
    {
      "cell_type": "code",
      "metadata": {
        "id": "rQPK4pw55WwP",
        "colab_type": "code",
        "outputId": "b85820da-eba7-48d2-e5b9-c99e4f0bb535",
        "colab": {
          "base_uri": "https://localhost:8080/",
          "height": 1000
        }
      },
      "source": [
        "mapsize = [50,50]\n",
        "component_names = ['0','1','2', '3']\n",
        "som_digits = sompy.SOMFactory.build(Xn_dig, mapsize, mask=None, mapshape='planar', lattice='rect', normalization='var', initialization='pca', neighborhood='gaussian', training='batch', name='sompy')\n",
        "som_digits.train(n_job=1, verbose='info', maxtrainlen=100) "
      ],
      "execution_count": 0,
      "outputs": [
        {
          "output_type": "stream",
          "text": [
            " Training...\n",
            " pca_linear_initialization took: 0.043000 seconds\n",
            " Rough training...\n",
            " radius_ini: 7.000000 , radius_final: 1.750000, trainlen: 100\n",
            "\n",
            " epoch: 1 ---> elapsed time:  0.315000, quantization error: 6.005682\n",
            "\n",
            " epoch: 2 ---> elapsed time:  0.331000, quantization error: 5.844588\n",
            "\n",
            " epoch: 3 ---> elapsed time:  0.324000, quantization error: 5.632467\n",
            "\n",
            " epoch: 4 ---> elapsed time:  0.319000, quantization error: 5.528802\n",
            "\n",
            " epoch: 5 ---> elapsed time:  0.325000, quantization error: 5.457209\n",
            "\n",
            " epoch: 6 ---> elapsed time:  0.317000, quantization error: 5.405375\n",
            "\n",
            " epoch: 7 ---> elapsed time:  0.314000, quantization error: 5.375174\n",
            "\n",
            " epoch: 8 ---> elapsed time:  0.320000, quantization error: 5.352972\n",
            "\n",
            " epoch: 9 ---> elapsed time:  0.320000, quantization error: 5.332714\n",
            "\n",
            " epoch: 10 ---> elapsed time:  0.318000, quantization error: 5.315238\n",
            "\n",
            " epoch: 11 ---> elapsed time:  0.312000, quantization error: 5.300654\n",
            "\n",
            " epoch: 12 ---> elapsed time:  0.327000, quantization error: 5.288338\n",
            "\n",
            " epoch: 13 ---> elapsed time:  0.312000, quantization error: 5.276589\n",
            "\n",
            " epoch: 14 ---> elapsed time:  0.312000, quantization error: 5.264367\n",
            "\n",
            " epoch: 15 ---> elapsed time:  0.312000, quantization error: 5.253702\n",
            "\n",
            " epoch: 16 ---> elapsed time:  0.322000, quantization error: 5.243020\n",
            "\n",
            " epoch: 17 ---> elapsed time:  0.318000, quantization error: 5.233857\n",
            "\n",
            " epoch: 18 ---> elapsed time:  0.313000, quantization error: 5.224698\n",
            "\n",
            " epoch: 19 ---> elapsed time:  0.317000, quantization error: 5.215074\n",
            "\n",
            " epoch: 20 ---> elapsed time:  0.312000, quantization error: 5.205842\n",
            "\n",
            " epoch: 21 ---> elapsed time:  0.314000, quantization error: 5.196390\n",
            "\n",
            " epoch: 22 ---> elapsed time:  0.320000, quantization error: 5.187434\n",
            "\n",
            " epoch: 23 ---> elapsed time:  0.313000, quantization error: 5.177955\n",
            "\n",
            " epoch: 24 ---> elapsed time:  0.314000, quantization error: 5.167435\n",
            "\n",
            " epoch: 25 ---> elapsed time:  0.312000, quantization error: 5.155845\n",
            "\n",
            " epoch: 26 ---> elapsed time:  0.316000, quantization error: 5.143824\n",
            "\n",
            " epoch: 27 ---> elapsed time:  0.311000, quantization error: 5.132805\n",
            "\n",
            " epoch: 28 ---> elapsed time:  0.312000, quantization error: 5.122714\n",
            "\n",
            " epoch: 29 ---> elapsed time:  0.318000, quantization error: 5.112388\n",
            "\n",
            " epoch: 30 ---> elapsed time:  0.315000, quantization error: 5.101809\n",
            "\n",
            " epoch: 31 ---> elapsed time:  0.325000, quantization error: 5.091732\n",
            "\n",
            " epoch: 32 ---> elapsed time:  0.316000, quantization error: 5.081318\n",
            "\n",
            " epoch: 33 ---> elapsed time:  0.346000, quantization error: 5.069168\n",
            "\n",
            " epoch: 34 ---> elapsed time:  0.315000, quantization error: 5.055505\n",
            "\n",
            " epoch: 35 ---> elapsed time:  0.311000, quantization error: 5.042591\n",
            "\n",
            " epoch: 36 ---> elapsed time:  0.313000, quantization error: 5.028937\n",
            "\n",
            " epoch: 37 ---> elapsed time:  0.317000, quantization error: 5.016260\n",
            "\n",
            " epoch: 38 ---> elapsed time:  0.324000, quantization error: 5.003015\n",
            "\n",
            " epoch: 39 ---> elapsed time:  0.315000, quantization error: 4.990056\n",
            "\n",
            " epoch: 40 ---> elapsed time:  0.315000, quantization error: 4.977401\n",
            "\n",
            " epoch: 41 ---> elapsed time:  0.317000, quantization error: 4.965178\n",
            "\n",
            " epoch: 42 ---> elapsed time:  0.313000, quantization error: 4.953042\n",
            "\n",
            " epoch: 43 ---> elapsed time:  0.323000, quantization error: 4.940983\n",
            "\n",
            " epoch: 44 ---> elapsed time:  0.340000, quantization error: 4.929300\n",
            "\n",
            " epoch: 45 ---> elapsed time:  0.315000, quantization error: 4.917014\n",
            "\n",
            " epoch: 46 ---> elapsed time:  0.314000, quantization error: 4.904917\n",
            "\n",
            " epoch: 47 ---> elapsed time:  0.312000, quantization error: 4.892378\n",
            "\n",
            " epoch: 48 ---> elapsed time:  0.318000, quantization error: 4.879722\n",
            "\n",
            " epoch: 49 ---> elapsed time:  0.311000, quantization error: 4.867021\n",
            "\n",
            " epoch: 50 ---> elapsed time:  0.317000, quantization error: 4.853848\n",
            "\n",
            " epoch: 51 ---> elapsed time:  0.316000, quantization error: 4.840143\n",
            "\n",
            " epoch: 52 ---> elapsed time:  0.313000, quantization error: 4.826467\n",
            "\n",
            " epoch: 53 ---> elapsed time:  0.324000, quantization error: 4.812958\n",
            "\n",
            " epoch: 54 ---> elapsed time:  0.319000, quantization error: 4.799201\n",
            "\n",
            " epoch: 55 ---> elapsed time:  0.313000, quantization error: 4.785228\n",
            "\n",
            " epoch: 56 ---> elapsed time:  0.312000, quantization error: 4.770802\n",
            "\n",
            " epoch: 57 ---> elapsed time:  0.320000, quantization error: 4.756316\n",
            "\n",
            " epoch: 58 ---> elapsed time:  0.312000, quantization error: 4.741391\n",
            "\n",
            " epoch: 59 ---> elapsed time:  0.315000, quantization error: 4.725794\n",
            "\n",
            " epoch: 60 ---> elapsed time:  0.321000, quantization error: 4.709859\n",
            "\n",
            " epoch: 61 ---> elapsed time:  0.320000, quantization error: 4.693099\n",
            "\n",
            " epoch: 62 ---> elapsed time:  0.315000, quantization error: 4.676372\n",
            "\n",
            " epoch: 63 ---> elapsed time:  0.318000, quantization error: 4.659792\n",
            "\n",
            " epoch: 64 ---> elapsed time:  0.316000, quantization error: 4.643028\n",
            "\n",
            " epoch: 65 ---> elapsed time:  0.316000, quantization error: 4.625726\n",
            "\n",
            " epoch: 66 ---> elapsed time:  0.320000, quantization error: 4.607345\n",
            "\n",
            " epoch: 67 ---> elapsed time:  0.318000, quantization error: 4.588883\n",
            "\n",
            " epoch: 68 ---> elapsed time:  0.315000, quantization error: 4.571056\n",
            "\n",
            " epoch: 69 ---> elapsed time:  0.313000, quantization error: 4.552049\n",
            "\n",
            " epoch: 70 ---> elapsed time:  0.319000, quantization error: 4.532135\n",
            "\n",
            " epoch: 71 ---> elapsed time:  0.315000, quantization error: 4.512500\n",
            "\n",
            " epoch: 72 ---> elapsed time:  0.319000, quantization error: 4.493033\n",
            "\n",
            " epoch: 73 ---> elapsed time:  0.313000, quantization error: 4.472894\n",
            "\n",
            " epoch: 74 ---> elapsed time:  0.316000, quantization error: 4.451479\n",
            "\n",
            " epoch: 75 ---> elapsed time:  0.313000, quantization error: 4.430139\n",
            "\n",
            " epoch: 76 ---> elapsed time:  0.322000, quantization error: 4.407573\n",
            "\n",
            " epoch: 77 ---> elapsed time:  0.316000, quantization error: 4.385352\n",
            "\n",
            " epoch: 78 ---> elapsed time:  0.314000, quantization error: 4.363033\n",
            "\n",
            " epoch: 79 ---> elapsed time:  0.317000, quantization error: 4.340258\n",
            "\n",
            " epoch: 80 ---> elapsed time:  0.316000, quantization error: 4.316375\n",
            "\n",
            " epoch: 81 ---> elapsed time:  0.312000, quantization error: 4.292392\n",
            "\n",
            " epoch: 82 ---> elapsed time:  0.319000, quantization error: 4.266290\n",
            "\n",
            " epoch: 83 ---> elapsed time:  0.380000, quantization error: 4.239487\n",
            "\n",
            " epoch: 84 ---> elapsed time:  0.314000, quantization error: 4.211959\n",
            "\n",
            " epoch: 85 ---> elapsed time:  0.319000, quantization error: 4.185236\n",
            "\n",
            " epoch: 86 ---> elapsed time:  0.317000, quantization error: 4.156796\n",
            "\n",
            " epoch: 87 ---> elapsed time:  0.316000, quantization error: 4.127190\n",
            "\n",
            " epoch: 88 ---> elapsed time:  0.318000, quantization error: 4.097014\n",
            "\n",
            " epoch: 89 ---> elapsed time:  0.314000, quantization error: 4.065988\n",
            "\n",
            " epoch: 90 ---> elapsed time:  0.314000, quantization error: 4.034004\n",
            "\n",
            " epoch: 91 ---> elapsed time:  0.312000, quantization error: 4.000307\n",
            "\n",
            " epoch: 92 ---> elapsed time:  0.312000, quantization error: 3.965633\n",
            "\n",
            " epoch: 93 ---> elapsed time:  0.316000, quantization error: 3.927300\n",
            "\n",
            " epoch: 94 ---> elapsed time:  0.312000, quantization error: 3.889828\n",
            "\n",
            " epoch: 95 ---> elapsed time:  0.318000, quantization error: 3.851409\n",
            "\n",
            " epoch: 96 ---> elapsed time:  0.312000, quantization error: 3.811529\n",
            "\n",
            " epoch: 97 ---> elapsed time:  0.325000, quantization error: 3.769023\n",
            "\n",
            " epoch: 98 ---> elapsed time:  0.315000, quantization error: 3.724499\n",
            "\n",
            " epoch: 99 ---> elapsed time:  0.315000, quantization error: 3.677922\n",
            "\n",
            " epoch: 100 ---> elapsed time:  0.318000, quantization error: 3.629064\n",
            "\n",
            " Finetune training...\n",
            " radius_ini: 1.750000 , radius_final: 1.000000, trainlen: 100\n",
            "\n",
            " epoch: 1 ---> elapsed time:  0.318000, quantization error: 3.575856\n",
            "\n",
            " epoch: 2 ---> elapsed time:  0.312000, quantization error: 3.571810\n",
            "\n",
            " epoch: 3 ---> elapsed time:  0.312000, quantization error: 3.563197\n",
            "\n",
            " epoch: 4 ---> elapsed time:  0.318000, quantization error: 3.555170\n",
            "\n",
            " epoch: 5 ---> elapsed time:  0.317000, quantization error: 3.547596\n",
            "\n",
            " epoch: 6 ---> elapsed time:  0.314000, quantization error: 3.539485\n",
            "\n",
            " epoch: 7 ---> elapsed time:  0.318000, quantization error: 3.531287\n",
            "\n",
            " epoch: 8 ---> elapsed time:  0.312000, quantization error: 3.522897\n",
            "\n",
            " epoch: 9 ---> elapsed time:  0.313000, quantization error: 3.514888\n",
            "\n",
            " epoch: 10 ---> elapsed time:  0.313000, quantization error: 3.506590\n",
            "\n",
            " epoch: 11 ---> elapsed time:  0.314000, quantization error: 3.496630\n",
            "\n",
            " epoch: 12 ---> elapsed time:  0.318000, quantization error: 3.486491\n",
            "\n",
            " epoch: 13 ---> elapsed time:  0.316000, quantization error: 3.477153\n",
            "\n",
            " epoch: 14 ---> elapsed time:  0.316000, quantization error: 3.467939\n",
            "\n",
            " epoch: 15 ---> elapsed time:  0.361000, quantization error: 3.459945\n",
            "\n",
            " epoch: 16 ---> elapsed time:  0.321000, quantization error: 3.451176\n",
            "\n",
            " epoch: 17 ---> elapsed time:  0.315000, quantization error: 3.442933\n",
            "\n",
            " epoch: 18 ---> elapsed time:  0.312000, quantization error: 3.434342\n",
            "\n",
            " epoch: 19 ---> elapsed time:  0.324000, quantization error: 3.425909\n",
            "\n",
            " epoch: 20 ---> elapsed time:  0.318000, quantization error: 3.417606\n",
            "\n",
            " epoch: 21 ---> elapsed time:  0.317000, quantization error: 3.409250\n",
            "\n",
            " epoch: 22 ---> elapsed time:  0.315000, quantization error: 3.400841\n",
            "\n",
            " epoch: 23 ---> elapsed time:  0.320000, quantization error: 3.392137\n",
            "\n",
            " epoch: 24 ---> elapsed time:  0.314000, quantization error: 3.382241\n",
            "\n",
            " epoch: 25 ---> elapsed time:  0.324000, quantization error: 3.372804\n",
            "\n",
            " epoch: 26 ---> elapsed time:  0.320000, quantization error: 3.363192\n",
            "\n",
            " epoch: 27 ---> elapsed time:  0.314000, quantization error: 3.354163\n",
            "\n",
            " epoch: 28 ---> elapsed time:  0.319000, quantization error: 3.342199\n",
            "\n",
            " epoch: 29 ---> elapsed time:  0.320000, quantization error: 3.331317\n",
            "\n",
            " epoch: 30 ---> elapsed time:  0.316000, quantization error: 3.321228\n",
            "\n",
            " epoch: 31 ---> elapsed time:  0.315000, quantization error: 3.311103\n",
            "\n",
            " epoch: 32 ---> elapsed time:  0.323000, quantization error: 3.301311\n",
            "\n",
            " epoch: 33 ---> elapsed time:  0.321000, quantization error: 3.291969\n",
            "\n",
            " epoch: 34 ---> elapsed time:  0.316000, quantization error: 3.281161\n",
            "\n",
            " epoch: 35 ---> elapsed time:  0.326000, quantization error: 3.270932\n",
            "\n",
            " epoch: 36 ---> elapsed time:  0.320000, quantization error: 3.261342\n",
            "\n",
            " epoch: 37 ---> elapsed time:  0.318000, quantization error: 3.251264\n",
            "\n",
            " epoch: 38 ---> elapsed time:  0.324000, quantization error: 3.241145\n",
            "\n",
            " epoch: 39 ---> elapsed time:  0.318000, quantization error: 3.230375\n",
            "\n",
            " epoch: 40 ---> elapsed time:  0.320000, quantization error: 3.219271\n",
            "\n",
            " epoch: 41 ---> elapsed time:  0.317000, quantization error: 3.207492\n",
            "\n",
            " epoch: 42 ---> elapsed time:  0.317000, quantization error: 3.195501\n",
            "\n",
            " epoch: 43 ---> elapsed time:  0.333000, quantization error: 3.182465\n",
            "\n",
            " epoch: 44 ---> elapsed time:  0.331000, quantization error: 3.171278\n",
            "\n",
            " epoch: 45 ---> elapsed time:  0.321000, quantization error: 3.160716\n",
            "\n",
            " epoch: 46 ---> elapsed time:  0.319000, quantization error: 3.148473\n",
            "\n",
            " epoch: 47 ---> elapsed time:  0.335000, quantization error: 3.136080\n",
            "\n",
            " epoch: 48 ---> elapsed time:  0.320000, quantization error: 3.124001\n",
            "\n",
            " epoch: 49 ---> elapsed time:  0.322000, quantization error: 3.112978\n",
            "\n",
            " epoch: 50 ---> elapsed time:  0.325000, quantization error: 3.100753\n",
            "\n",
            " epoch: 51 ---> elapsed time:  0.337000, quantization error: 3.088321\n",
            "\n",
            " epoch: 52 ---> elapsed time:  0.336000, quantization error: 3.076749\n",
            "\n",
            " epoch: 53 ---> elapsed time:  0.330000, quantization error: 3.064431\n",
            "\n",
            " epoch: 54 ---> elapsed time:  0.333000, quantization error: 3.051396\n",
            "\n",
            " epoch: 55 ---> elapsed time:  0.330000, quantization error: 3.038462\n",
            "\n",
            " epoch: 56 ---> elapsed time:  0.328000, quantization error: 3.023998\n",
            "\n",
            " epoch: 57 ---> elapsed time:  0.331000, quantization error: 3.010250\n",
            "\n",
            " epoch: 58 ---> elapsed time:  0.333000, quantization error: 2.997265\n",
            "\n",
            " epoch: 59 ---> elapsed time:  0.330000, quantization error: 2.983928\n",
            "\n",
            " epoch: 60 ---> elapsed time:  0.334000, quantization error: 2.970886\n",
            "\n",
            " epoch: 61 ---> elapsed time:  0.338000, quantization error: 2.957155\n",
            "\n",
            " epoch: 62 ---> elapsed time:  0.331000, quantization error: 2.942870\n",
            "\n",
            " epoch: 63 ---> elapsed time:  0.340000, quantization error: 2.928895\n",
            "\n",
            " epoch: 64 ---> elapsed time:  0.336000, quantization error: 2.915074\n",
            "\n",
            " epoch: 65 ---> elapsed time:  0.333000, quantization error: 2.902006\n",
            "\n",
            " epoch: 66 ---> elapsed time:  0.356000, quantization error: 2.887684\n",
            "\n",
            " epoch: 67 ---> elapsed time:  0.337000, quantization error: 2.871935\n",
            "\n",
            " epoch: 68 ---> elapsed time:  0.347000, quantization error: 2.856242\n",
            "\n",
            " epoch: 69 ---> elapsed time:  0.335000, quantization error: 2.842347\n",
            "\n",
            " epoch: 70 ---> elapsed time:  0.344000, quantization error: 2.826985\n",
            "\n",
            " epoch: 71 ---> elapsed time:  0.357000, quantization error: 2.812419\n",
            "\n",
            " epoch: 72 ---> elapsed time:  0.339000, quantization error: 2.796518\n",
            "\n",
            " epoch: 73 ---> elapsed time:  0.342000, quantization error: 2.782218\n",
            "\n",
            " epoch: 74 ---> elapsed time:  0.357000, quantization error: 2.765141\n",
            "\n",
            " epoch: 75 ---> elapsed time:  0.342000, quantization error: 2.749230\n",
            "\n",
            " epoch: 76 ---> elapsed time:  0.347000, quantization error: 2.731946\n",
            "\n",
            " epoch: 77 ---> elapsed time:  0.347000, quantization error: 2.715245\n",
            "\n",
            " epoch: 78 ---> elapsed time:  0.339000, quantization error: 2.696915\n",
            "\n",
            " epoch: 79 ---> elapsed time:  0.345000, quantization error: 2.678985\n",
            "\n",
            " epoch: 80 ---> elapsed time:  0.346000, quantization error: 2.661828\n",
            "\n",
            " epoch: 81 ---> elapsed time:  0.344000, quantization error: 2.641731\n",
            "\n",
            " epoch: 82 ---> elapsed time:  0.343000, quantization error: 2.624630\n",
            "\n",
            " epoch: 83 ---> elapsed time:  0.347000, quantization error: 2.604713\n",
            "\n",
            " epoch: 84 ---> elapsed time:  0.341000, quantization error: 2.586730\n",
            "\n",
            " epoch: 85 ---> elapsed time:  0.345000, quantization error: 2.567938\n",
            "\n",
            " epoch: 86 ---> elapsed time:  0.355000, quantization error: 2.546927\n",
            "\n",
            " epoch: 87 ---> elapsed time:  0.341000, quantization error: 2.529765\n",
            "\n",
            " epoch: 88 ---> elapsed time:  0.346000, quantization error: 2.509741\n",
            "\n",
            " epoch: 89 ---> elapsed time:  0.367000, quantization error: 2.485450\n",
            "\n",
            " epoch: 90 ---> elapsed time:  0.349000, quantization error: 2.466602\n",
            "\n",
            " epoch: 91 ---> elapsed time:  0.358000, quantization error: 2.448293\n",
            "\n",
            " epoch: 92 ---> elapsed time:  0.345000, quantization error: 2.427936\n",
            "\n",
            " epoch: 93 ---> elapsed time:  0.348000, quantization error: 2.406796\n",
            "\n",
            " epoch: 94 ---> elapsed time:  0.361000, quantization error: 2.379336\n",
            "\n",
            " epoch: 95 ---> elapsed time:  0.345000, quantization error: 2.357070\n",
            "\n",
            " epoch: 96 ---> elapsed time:  0.348000, quantization error: 2.335499\n",
            "\n",
            " epoch: 97 ---> elapsed time:  0.352000, quantization error: 2.313277\n",
            "\n",
            " epoch: 98 ---> elapsed time:  0.363000, quantization error: 2.291630\n",
            "\n",
            " epoch: 99 ---> elapsed time:  0.352000, quantization error: 2.269352\n",
            "\n",
            " epoch: 100 ---> elapsed time:  0.356000, quantization error: 2.243064\n",
            "\n",
            " Final quantization error: 2.243064\n",
            " train took: 65.982000 seconds\n"
          ],
          "name": "stderr"
        }
      ]
    },
    {
      "cell_type": "markdown",
      "metadata": {
        "id": "2Td4zX6G5WwS",
        "colab_type": "text"
      },
      "source": [
        "Una vez entrenado el SOM, ejecute la siguiente celda"
      ]
    },
    {
      "cell_type": "code",
      "metadata": {
        "id": "xGuCjH8p5WwS",
        "colab_type": "code",
        "outputId": "8180a752-5da1-483b-c5c2-7c1e88353d59",
        "colab": {
          "base_uri": "https://localhost:8080/",
          "height": 1000
        }
      },
      "source": [
        "u_digits = sompy.umatrix.UMatrixView(50, 50, 'umatrix', show_axis=True, text_size=8, show_text=True)\n",
        "\n",
        "umat_digits = u_digits.build_u_matrix(som_digits, distance=1, row_normalized=False)\n",
        "print(umat_digits.shape)\n",
        "sm.show(umat_digits,som_digits, show_data=False)\n",
        "sm.show(umat_digits,som_digits,colors=color_digits)"
      ],
      "execution_count": 0,
      "outputs": [
        {
          "output_type": "stream",
          "text": [
            "(50, 50)\n"
          ],
          "name": "stdout"
        },
        {
          "output_type": "display_data",
          "data": {
            "image/png": "[encoded data removed]",
            "text/plain": [
              "<Figure size 540x540 with 1 Axes>"
            ]
          },
          "metadata": {
            "tags": [],
            "needs_background": "light"
          }
        },
        {
          "output_type": "display_data",
          "data": {
            "image/png": "[encoded data removed]",
            "text/plain": [
              "<Figure size 540x540 with 1 Axes>"
            ]
          },
          "metadata": {
            "tags": [],
            "needs_background": "light"
          }
        },
        {
          "output_type": "execute_result",
          "data": {
            "text/plain": [
              "array([[0.98746092, 1.13994997, 1.15310223, ..., 1.21888866, 1.34077518,\n",
              "        1.20066431],\n",
              "       [1.14233845, 1.1589831 , 1.24553117, ..., 1.58713264, 1.49252693,\n",
              "        1.4653865 ],\n",
              "       [1.20259617, 1.25581723, 1.36310139, ..., 1.68124373, 1.36263707,\n",
              "        1.26083338],\n",
              "       ...,\n",
              "       [1.72745496, 2.00847034, 1.90793145, ..., 2.38225774, 1.56275566,\n",
              "        1.11560275],\n",
              "       [1.73814651, 2.14270796, 2.08338603, ..., 1.9824676 , 1.777427  ,\n",
              "        1.34047978],\n",
              "       [1.2028245 , 2.07654532, 2.14849337, ..., 1.54571256, 1.60448179,\n",
              "        1.30766927]])"
            ]
          },
          "metadata": {
            "tags": []
          },
          "execution_count": 23
        }
      ]
    },
    {
      "cell_type": "markdown",
      "metadata": {
        "id": "Xy6csvLV5WwV",
        "colab_type": "text"
      },
      "source": [
        "Responda:\n",
        "\n",
        "2.1 ¿Qué diferencia observa entre la matrix U en este caso vs el anterior?\n",
        "\n",
        "Ademas de que hay un mayor número de clusters se puede observar que dentro de cada cluster se presenta una menor cercanía entre las neuronas proximas en comparación con la matrix anterior, esto se puede observar en que las regiones tienen un color más claro. "
      ]
    },
    {
      "cell_type": "markdown",
      "metadata": {
        "id": "TGC-PEf55WwV",
        "colab_type": "text"
      },
      "source": [
        "2.2 ¿Qué puede concluir a partir de la gráfica que incluye la ubicación de las neuronas ganadoras para cada muestra de entrada?\n",
        "\n",
        "Las clases no se encuentrán agrupadas en un solo cluster así que en este caso el número de clusters no corresponde al número de clases."
      ]
    },
    {
      "cell_type": "markdown",
      "metadata": {
        "id": "oYb58bH45WwW",
        "colab_type": "text"
      },
      "source": [
        "## Ejercicio 3\n",
        "\n",
        "En este ejercicio entrenaremos una Red Neuronal Recurrente para la predicción de una serie de tiempo. Este problema corresponde a una configuración many-to-many. En este caso usaremos una serie de tiempo que corresponde al número de pasajeros internacionales por mes, desde el año 1949 hasta el año 1960. La serie de tiempo puede ser consultada en: https://datamarket.com/data/set/22u3/international-airline-passengers-monthly-totals-in-thousands-jan-49-dec-60#!ds=22u3&display=line "
      ]
    },
    {
      "cell_type": "code",
      "metadata": {
        "id": "z4CiKErh5WwW",
        "colab_type": "code",
        "outputId": "b665ddd7-0de1-4cc3-c212-2e10a405fe6e",
        "colab": {
          "base_uri": "https://localhost:8080/",
          "height": 295
        }
      },
      "source": [
        "import pandas as pd\n",
        "import matplotlib.pyplot as plt\n",
        "dataset = pd.read_csv('international-airline-passengers.csv', usecols=[1], engine='python', skipfooter=3)\n",
        "#---- Tiempos para los datos originales---\n",
        "date_begin = np.datetime64('1949-01')\n",
        "date_end = np.datetime64('1961-01')\n",
        "Time = pd.date_range(date_begin, date_end, freq='M')\n",
        "\n",
        "plt.plot(Time,dataset)\n",
        "plt.title('International airline passengers')\n",
        "plt.xlabel('Time (months)')\n",
        "plt.show()"
      ],
      "execution_count": 83,
      "outputs": [
        {
          "output_type": "display_data",
          "data": {
            "image/png": "[encoded data removed]",
            "text/plain": [
              "<Figure size 432x288 with 1 Axes>"
            ]
          },
          "metadata": {
            "tags": [],
            "needs_background": "light"
          }
        }
      ]
    },
    {
      "cell_type": "markdown",
      "metadata": {
        "id": "IsVYB8A85Wwa",
        "colab_type": "text"
      },
      "source": [
        "El paquete que usaremos en este caso para el entrenamiento de redes neuronales recurrentes es neurolab.\n",
        "Use la instrucción:\n",
        "```!pip3 install neurolab\n",
        "```\n",
        "La documentación puede ser consultada en : https://pythonhosted.org/neurolab/."
      ]
    },
    {
      "cell_type": "code",
      "metadata": {
        "id": "ol5J9d7L5Wwb",
        "colab_type": "code",
        "colab": {}
      },
      "source": [
        "# convert an array of values into a dataset matrix\n",
        "def create_dataset(dataset, look_back=1):\n",
        "\tdataX, dataY = [], []\n",
        "\tfor i in range(len(dataset)-look_back-1):\n",
        "\t\ta = dataset[i:(i+look_back), 0]\n",
        "\t\tdataX.append(a)\n",
        "\t\tdataY.append(dataset[i + look_back, 0])\n",
        "\treturn np.array(dataX), np.array(dataY)\n",
        "\n",
        "#Mean Absolute Percentage Error para los problemas de regresión\n",
        "def MAPE(Y_est,Y):\n",
        "    N = np.size(Y)\n",
        "    mape = np.sum(abs((Y_est.reshape(N,1) - Y.reshape(N,1))/Y.reshape(N,1)))/N\n",
        "    return mape "
      ],
      "execution_count": 0,
      "outputs": []
    },
    {
      "cell_type": "code",
      "metadata": {
        "id": "927ct6lGiqi6",
        "colab_type": "code",
        "outputId": "160ac2b3-4a71-4035-c83b-30c8b28d2dec",
        "colab": {
          "base_uri": "https://localhost:8080/",
          "height": 255
        }
      },
      "source": [
        "!pip3 install neurolab"
      ],
      "execution_count": 0,
      "outputs": [
        {
          "output_type": "stream",
          "text": [
            "Collecting neurolab\n",
            "\u001b[?25l  Downloading https://files.pythonhosted.org/packages/46/fd/47a9a39158b461b6b862d64c0ad7f679b08ed6d316744299f0db89066342/neurolab-0.3.5.tar.gz (645kB)\n",
            "\u001b[K     |████████████████████████████████| 655kB 2.6MB/s \n",
            "\u001b[?25hBuilding wheels for collected packages: neurolab\n",
            "  Building wheel for neurolab (setup.py) ... \u001b[?25l\u001b[?25hdone\n",
            "  Created wheel for neurolab: filename=neurolab-0.3.5-cp36-none-any.whl size=22180 sha256=6836c38017683c3de56553d7fda8c7727352ae7b5d596d437914a6c42725315a\n",
            "  Stored in directory: /root/.cache/pip/wheels/c6/8f/37/32ab1cf4d601dc0bc49d7241012a4292db4b343bebff5b68e6\n",
            "Successfully built neurolab\n",
            "Installing collected packages: neurolab\n",
            "Successfully installed neurolab-0.3.5\n"
          ],
          "name": "stdout"
        },
        {
          "output_type": "stream",
          "text": [
            "/usr/local/lib/python3.6/dist-packages/google/colab/_pip.py:87: ResourceWarning: unclosed file <_io.TextIOWrapper name='/usr/local/lib/python3.6/dist-packages/neurolab-0.3.5.dist-info/top_level.txt' mode='r' encoding='UTF-8'>\n",
            "  for line in open(toplevel):\n"
          ],
          "name": "stderr"
        }
      ]
    },
    {
      "cell_type": "markdown",
      "metadata": {
        "id": "TtvsYWAR5Wwg",
        "colab_type": "text"
      },
      "source": [
        "3.1 Complete el código siguiente y entrene una red neuronal recurrente de Elman, con una capa oculta y una capa de salida. Use función de activación tangente hiperbólica para la capa oculta y lineal para la capa de salida. Use un número de épocas igual a 1000, y un objetivo de error inferior a 0.00001. Inicialice los pesos de las capas aleatoriamente entre [-0.1, 0.1]."
      ]
    },
    {
      "cell_type": "code",
      "metadata": {
        "id": "iEcsi7Wk5Wwg",
        "colab_type": "code",
        "outputId": "b38764df-d809-4bfe-b26b-3e36ff7a2ec2",
        "colab": {
          "base_uri": "https://localhost:8080/",
          "height": 255
        }
      },
      "source": [
        "import neurolab as nl\n",
        "from sklearn.preprocessing import MinMaxScaler\n",
        "\n",
        "\n",
        "# reshape into X=t-look_back+1:t and Y=t+1\n",
        "\n",
        "def neuronalElman(lb, cantNeuronas):\n",
        "\n",
        "  random.seed(19680801)\n",
        "  dataset = pd.read_csv('international-airline-passengers.csv', usecols=[1], engine='python', skipfooter=3)\n",
        "  # normalize the dataset\n",
        "  scaler = MinMaxScaler(feature_range=(0, 1))\n",
        "  dataset = scaler.fit_transform(dataset)\n",
        "  # split into train and test sets\n",
        "  train_size = int(len(dataset) * 0.7)\n",
        "  test_size = len(dataset) - train_size\n",
        "  train, test = dataset[0:train_size,:], dataset[train_size:len(dataset),:]\n",
        "\n",
        "  random.seed(19680801)\n",
        "\n",
        "  # normalize the dataset\n",
        "  scaler = MinMaxScaler(feature_range=(0, 1))\n",
        "  dataset = scaler.fit_transform(dataset)\n",
        "  # split into train and test sets\n",
        "  train_size = int(len(dataset) * 0.7)\n",
        "  test_size = len(dataset) - train_size\n",
        "  train, test = dataset[0:train_size,:], dataset[train_size:len(dataset),:]\n",
        "\n",
        "  print('look_back', lb)\n",
        "  print('neuronas', cantNeuronas)    \n",
        "   \n",
        "  look_back = lb # Retardos de tiempo por muestra\n",
        "  trainX, trainY = create_dataset(train, look_back)\n",
        "  testX, testY = create_dataset(test, look_back)\n",
        "\n",
        "  #Esta variable se requiere para definir la red de acuerdo con la librería neurolab. Define el número de entradas y el rango de valores que toma cada entrada\n",
        "  layers = []\n",
        "  for i in range(look_back):\n",
        "      layers.append([0, 1])\n",
        "\n",
        "  # Crear la red e inicializar los pesos. \n",
        "  cantNeuronas = cantNeuronas\n",
        "  net = nl.net.newelm(layers, [cantNeuronas, 1], [nl.trans.TanSig(), nl.trans.PureLin()])\n",
        "  net.layers[0].initf = nl.init.InitRand([-0.1, 0.1], 'wb')\n",
        "  net.layers[1].initf= nl.init.InitRand([-0.1, 0.1], 'wb')\n",
        "  net.init()\n",
        "\n",
        "  target = trainY.reshape(trainX.shape[0],1);\n",
        "\n",
        "  # Entrenar la red con los datos de entrenamiento\n",
        "  error = net.train(trainX, target, epochs=1000, show=100, goal=0.00001)\n",
        "\n",
        "  # Evaluar la red con los datos de test\n",
        "  output = net.sim(testX)\n",
        "\n",
        "  # Calculo de error\n",
        "  return MAPE(output,testY)\n",
        "\n",
        "Error = neuronalElman(2,5)\n",
        "print('MAPE = ' + str(np.mean(Error)))"
      ],
      "execution_count": 96,
      "outputs": [
        {
          "output_type": "stream",
          "text": [
            "look_back 2\n",
            "neuronas 5\n",
            "Epoch: 100; Error: 0.019199508254066033;\n",
            "Epoch: 200; Error: 0.006073572205541273;\n",
            "Epoch: 300; Error: 0.0024875127269872372;\n",
            "Epoch: 400; Error: 0.0020007375909458424;\n",
            "Epoch: 500; Error: 0.0018995873855588243;\n",
            "Epoch: 600; Error: 0.001872280605495596;\n",
            "Epoch: 700; Error: 0.0018717673315060241;\n",
            "Epoch: 800; Error: 0.0019756335596946978;\n",
            "Epoch: 900; Error: 0.001902412317299774;\n",
            "Epoch: 1000; Error: 0.0018656854806664883;\n",
            "The maximum number of train epochs is reached\n",
            "MAPE = 0.12145274882804885\n"
          ],
          "name": "stdout"
        }
      ]
    },
    {
      "cell_type": "markdown",
      "metadata": {
        "id": "mm7180Wh5Wwk",
        "colab_type": "text"
      },
      "source": [
        "3.1 Haga una gráfica de la salida real vs la mejor predicción hecha por la red. Recuerde incluir los tiempos apropiados en el eje x y usar el método plt.legend() para identificar cuál es la serie real y cual la predicción."
      ]
    },
    {
      "cell_type": "code",
      "metadata": {
        "id": "WmbzeuFO5Wwk",
        "colab_type": "code",
        "outputId": "c2f70898-0941-45f5-b5ac-bcb57f9a65b5",
        "colab": {
          "base_uri": "https://localhost:8080/",
          "height": 164
        }
      },
      "source": [
        "\n",
        "print(output.shape, test.shape)\n",
        "# Gráfica\n",
        "plt.subplot(2,1,2)\n",
        "plt.plot(test.reshape(test.shape[0]))\n",
        "plt.plot(output.reshape(output.shape[0]))\n",
        "plt.legend(['Real', 'Predicción'])\n",
        "plt.show()"
      ],
      "execution_count": 54,
      "outputs": [
        {
          "output_type": "stream",
          "text": [
            "(42, 1) (44, 1)\n"
          ],
          "name": "stdout"
        },
        {
          "output_type": "display_data",
          "data": {
            "image/png": "[encoded data removed]",
            "text/plain": [
              "<Figure size 432x288 with 1 Axes>"
            ]
          },
          "metadata": {
            "tags": [],
            "needs_background": "light"
          }
        }
      ]
    },
    {
      "cell_type": "code",
      "metadata": {
        "id": "UCqTIPqZDbnk",
        "colab_type": "code",
        "colab": {
          "base_uri": "https://localhost:8080/",
          "height": 887
        },
        "outputId": "44ba9aac-7174-4ef7-be71-33a5a2e5f250"
      },
      "source": [
        "pip install qgrid"
      ],
      "execution_count": 60,
      "outputs": [
        {
          "output_type": "stream",
          "text": [
            "Collecting qgrid\n",
            "\u001b[?25l  Downloading https://files.pythonhosted.org/packages/b2/7a/e487610fea3eb5798a9c8ed988363dcb50904c15b299d26fe175c3cc977a/qgrid-1.3.1.tar.gz (889kB)\n",
            "\r\u001b[K     |▍                               | 10kB 14.9MB/s eta 0:00:01\r\u001b[K     |▊                               | 20kB 1.8MB/s eta 0:00:01\r\u001b[K     |█                               | 30kB 2.6MB/s eta 0:00:01\r\u001b[K     |█▌                              | 40kB 3.4MB/s eta 0:00:01\r\u001b[K     |█▉                              | 51kB 2.2MB/s eta 0:00:01\r\u001b[K     |██▏                             | 61kB 2.6MB/s eta 0:00:01\r\u001b[K     |██▋                             | 71kB 2.9MB/s eta 0:00:01\r\u001b[K     |███                             | 81kB 3.3MB/s eta 0:00:01\r\u001b[K     |███▎                            | 92kB 2.6MB/s eta 0:00:01\r\u001b[K     |███▊                            | 102kB 2.8MB/s eta 0:00:01\r\u001b[K     |████                            | 112kB 2.8MB/s eta 0:00:01\r\u001b[K     |████▍                           | 122kB 2.8MB/s eta 0:00:01\r\u001b[K     |████▉                           | 133kB 2.8MB/s eta 0:00:01\r\u001b[K     |█████▏                          | 143kB 2.8MB/s eta 0:00:01\r\u001b[K     |█████▌                          | 153kB 2.8MB/s eta 0:00:01\r\u001b[K     |██████                          | 163kB 2.8MB/s eta 0:00:01\r\u001b[K     |██████▎                         | 174kB 2.8MB/s eta 0:00:01\r\u001b[K     |██████▋                         | 184kB 2.8MB/s eta 0:00:01\r\u001b[K     |███████                         | 194kB 2.8MB/s eta 0:00:01\r\u001b[K     |███████▍                        | 204kB 2.8MB/s eta 0:00:01\r\u001b[K     |███████▊                        | 215kB 2.8MB/s eta 0:00:01\r\u001b[K     |████████                        | 225kB 2.8MB/s eta 0:00:01\r\u001b[K     |████████▌                       | 235kB 2.8MB/s eta 0:00:01\r\u001b[K     |████████▉                       | 245kB 2.8MB/s eta 0:00:01\r\u001b[K     |█████████▏                      | 256kB 2.8MB/s eta 0:00:01\r\u001b[K     |█████████▋                      | 266kB 2.8MB/s eta 0:00:01\r\u001b[K     |██████████                      | 276kB 2.8MB/s eta 0:00:01\r\u001b[K     |██████████▎                     | 286kB 2.8MB/s eta 0:00:01\r\u001b[K     |██████████▊                     | 296kB 2.8MB/s eta 0:00:01\r\u001b[K     |███████████                     | 307kB 2.8MB/s eta 0:00:01\r\u001b[K     |███████████▍                    | 317kB 2.8MB/s eta 0:00:01\r\u001b[K     |███████████▉                    | 327kB 2.8MB/s eta 0:00:01\r\u001b[K     |████████████▏                   | 337kB 2.8MB/s eta 0:00:01\r\u001b[K     |████████████▌                   | 348kB 2.8MB/s eta 0:00:01\r\u001b[K     |█████████████                   | 358kB 2.8MB/s eta 0:00:01\r\u001b[K     |█████████████▎                  | 368kB 2.8MB/s eta 0:00:01\r\u001b[K     |█████████████▋                  | 378kB 2.8MB/s eta 0:00:01\r\u001b[K     |██████████████                  | 389kB 2.8MB/s eta 0:00:01\r\u001b[K     |██████████████▍                 | 399kB 2.8MB/s eta 0:00:01\r\u001b[K     |██████████████▊                 | 409kB 2.8MB/s eta 0:00:01\r\u001b[K     |███████████████                 | 419kB 2.8MB/s eta 0:00:01\r\u001b[K     |███████████████▌                | 430kB 2.8MB/s eta 0:00:01\r\u001b[K     |███████████████▉                | 440kB 2.8MB/s eta 0:00:01\r\u001b[K     |████████████████▏               | 450kB 2.8MB/s eta 0:00:01\r\u001b[K     |████████████████▋               | 460kB 2.8MB/s eta 0:00:01\r\u001b[K     |█████████████████               | 471kB 2.8MB/s eta 0:00:01\r\u001b[K     |█████████████████▎              | 481kB 2.8MB/s eta 0:00:01\r\u001b[K     |█████████████████▊              | 491kB 2.8MB/s eta 0:00:01\r\u001b[K     |██████████████████              | 501kB 2.8MB/s eta 0:00:01\r\u001b[K     |██████████████████▍             | 512kB 2.8MB/s eta 0:00:01\r\u001b[K     |██████████████████▉             | 522kB 2.8MB/s eta 0:00:01\r\u001b[K     |███████████████████▏            | 532kB 2.8MB/s eta 0:00:01\r\u001b[K     |███████████████████▌            | 542kB 2.8MB/s eta 0:00:01\r\u001b[K     |████████████████████            | 552kB 2.8MB/s eta 0:00:01\r\u001b[K     |████████████████████▎           | 563kB 2.8MB/s eta 0:00:01\r\u001b[K     |████████████████████▋           | 573kB 2.8MB/s eta 0:00:01\r\u001b[K     |█████████████████████           | 583kB 2.8MB/s eta 0:00:01\r\u001b[K     |█████████████████████▍          | 593kB 2.8MB/s eta 0:00:01\r\u001b[K     |█████████████████████▊          | 604kB 2.8MB/s eta 0:00:01\r\u001b[K     |██████████████████████▏         | 614kB 2.8MB/s eta 0:00:01\r\u001b[K     |██████████████████████▌         | 624kB 2.8MB/s eta 0:00:01\r\u001b[K     |██████████████████████▉         | 634kB 2.8MB/s eta 0:00:01\r\u001b[K     |███████████████████████▏        | 645kB 2.8MB/s eta 0:00:01\r\u001b[K     |███████████████████████▋        | 655kB 2.8MB/s eta 0:00:01\r\u001b[K     |████████████████████████        | 665kB 2.8MB/s eta 0:00:01\r\u001b[K     |████████████████████████▎       | 675kB 2.8MB/s eta 0:00:01\r\u001b[K     |████████████████████████▊       | 686kB 2.8MB/s eta 0:00:01\r\u001b[K     |█████████████████████████       | 696kB 2.8MB/s eta 0:00:01\r\u001b[K     |█████████████████████████▍      | 706kB 2.8MB/s eta 0:00:01\r\u001b[K     |█████████████████████████▉      | 716kB 2.8MB/s eta 0:00:01\r\u001b[K     |██████████████████████████▏     | 727kB 2.8MB/s eta 0:00:01\r\u001b[K     |██████████████████████████▌     | 737kB 2.8MB/s eta 0:00:01\r\u001b[K     |███████████████████████████     | 747kB 2.8MB/s eta 0:00:01\r\u001b[K     |███████████████████████████▎    | 757kB 2.8MB/s eta 0:00:01\r\u001b[K     |███████████████████████████▋    | 768kB 2.8MB/s eta 0:00:01\r\u001b[K     |████████████████████████████    | 778kB 2.8MB/s eta 0:00:01\r\u001b[K     |████████████████████████████▍   | 788kB 2.8MB/s eta 0:00:01\r\u001b[K     |████████████████████████████▊   | 798kB 2.8MB/s eta 0:00:01\r\u001b[K     |█████████████████████████████▏  | 808kB 2.8MB/s eta 0:00:01\r\u001b[K     |█████████████████████████████▌  | 819kB 2.8MB/s eta 0:00:01\r\u001b[K     |█████████████████████████████▉  | 829kB 2.8MB/s eta 0:00:01\r\u001b[K     |██████████████████████████████▏ | 839kB 2.8MB/s eta 0:00:01\r\u001b[K     |██████████████████████████████▋ | 849kB 2.8MB/s eta 0:00:01\r\u001b[K     |███████████████████████████████ | 860kB 2.8MB/s eta 0:00:01\r\u001b[K     |███████████████████████████████▎| 870kB 2.8MB/s eta 0:00:01\r\u001b[K     |███████████████████████████████▊| 880kB 2.8MB/s eta 0:00:01\r\u001b[K     |████████████████████████████████| 890kB 2.8MB/s \n",
            "\u001b[?25hRequirement already satisfied: notebook>=4.0.0 in /usr/local/lib/python3.6/dist-packages (from qgrid) (5.2.2)\n",
            "Requirement already satisfied: pandas>=0.18.0 in /usr/local/lib/python3.6/dist-packages (from qgrid) (1.0.3)\n",
            "Requirement already satisfied: ipywidgets>=7.0.0 in /usr/local/lib/python3.6/dist-packages (from qgrid) (7.5.1)\n",
            "Requirement already satisfied: ipykernel in /usr/local/lib/python3.6/dist-packages (from notebook>=4.0.0->qgrid) (4.10.1)\n",
            "Requirement already satisfied: terminado>=0.3.3; sys_platform != \"win32\" in /usr/local/lib/python3.6/dist-packages (from notebook>=4.0.0->qgrid) (0.8.3)\n",
            "Requirement already satisfied: nbconvert in /usr/local/lib/python3.6/dist-packages (from notebook>=4.0.0->qgrid) (5.6.1)\n",
            "Requirement already satisfied: jupyter-core in /usr/local/lib/python3.6/dist-packages (from notebook>=4.0.0->qgrid) (4.6.3)\n",
            "Requirement already satisfied: ipython-genutils in /usr/local/lib/python3.6/dist-packages (from notebook>=4.0.0->qgrid) (0.2.0)\n",
            "Requirement already satisfied: jupyter-client in /usr/local/lib/python3.6/dist-packages (from notebook>=4.0.0->qgrid) (5.3.4)\n",
            "Requirement already satisfied: jinja2 in /usr/local/lib/python3.6/dist-packages (from notebook>=4.0.0->qgrid) (2.11.1)\n",
            "Requirement already satisfied: traitlets>=4.2.1 in /usr/local/lib/python3.6/dist-packages (from notebook>=4.0.0->qgrid) (4.3.3)\n",
            "Requirement already satisfied: tornado>=4 in /usr/local/lib/python3.6/dist-packages (from notebook>=4.0.0->qgrid) (4.5.3)\n",
            "Requirement already satisfied: nbformat in /usr/local/lib/python3.6/dist-packages (from notebook>=4.0.0->qgrid) (5.0.5)\n",
            "Requirement already satisfied: numpy>=1.13.3 in /usr/local/lib/python3.6/dist-packages (from pandas>=0.18.0->qgrid) (1.18.2)\n",
            "Requirement already satisfied: pytz>=2017.2 in /usr/local/lib/python3.6/dist-packages (from pandas>=0.18.0->qgrid) (2018.9)\n",
            "Requirement already satisfied: python-dateutil>=2.6.1 in /usr/local/lib/python3.6/dist-packages (from pandas>=0.18.0->qgrid) (2.8.1)\n",
            "Requirement already satisfied: ipython>=4.0.0; python_version >= \"3.3\" in /usr/local/lib/python3.6/dist-packages (from ipywidgets>=7.0.0->qgrid) (5.5.0)\n",
            "Requirement already satisfied: widgetsnbextension~=3.5.0 in /usr/local/lib/python3.6/dist-packages (from ipywidgets>=7.0.0->qgrid) (3.5.1)\n",
            "Requirement already satisfied: ptyprocess; os_name != \"nt\" in /usr/local/lib/python3.6/dist-packages (from terminado>=0.3.3; sys_platform != \"win32\"->notebook>=4.0.0->qgrid) (0.6.0)\n",
            "Requirement already satisfied: bleach in /usr/local/lib/python3.6/dist-packages (from nbconvert->notebook>=4.0.0->qgrid) (3.1.4)\n",
            "Requirement already satisfied: mistune<2,>=0.8.1 in /usr/local/lib/python3.6/dist-packages (from nbconvert->notebook>=4.0.0->qgrid) (0.8.4)\n",
            "Requirement already satisfied: testpath in /usr/local/lib/python3.6/dist-packages (from nbconvert->notebook>=4.0.0->qgrid) (0.4.4)\n",
            "Requirement already satisfied: defusedxml in /usr/local/lib/python3.6/dist-packages (from nbconvert->notebook>=4.0.0->qgrid) (0.6.0)\n",
            "Requirement already satisfied: pygments in /usr/local/lib/python3.6/dist-packages (from nbconvert->notebook>=4.0.0->qgrid) (2.1.3)\n",
            "Requirement already satisfied: pandocfilters>=1.4.1 in /usr/local/lib/python3.6/dist-packages (from nbconvert->notebook>=4.0.0->qgrid) (1.4.2)\n",
            "Requirement already satisfied: entrypoints>=0.2.2 in /usr/local/lib/python3.6/dist-packages (from nbconvert->notebook>=4.0.0->qgrid) (0.3)\n",
            "Requirement already satisfied: pyzmq>=13 in /usr/local/lib/python3.6/dist-packages (from jupyter-client->notebook>=4.0.0->qgrid) (19.0.0)\n",
            "Requirement already satisfied: MarkupSafe>=0.23 in /usr/local/lib/python3.6/dist-packages (from jinja2->notebook>=4.0.0->qgrid) (1.1.1)\n",
            "Requirement already satisfied: six in /usr/local/lib/python3.6/dist-packages (from traitlets>=4.2.1->notebook>=4.0.0->qgrid) (1.12.0)\n",
            "Requirement already satisfied: decorator in /usr/local/lib/python3.6/dist-packages (from traitlets>=4.2.1->notebook>=4.0.0->qgrid) (4.4.2)\n",
            "Requirement already satisfied: jsonschema!=2.5.0,>=2.4 in /usr/local/lib/python3.6/dist-packages (from nbformat->notebook>=4.0.0->qgrid) (2.6.0)\n",
            "Requirement already satisfied: setuptools>=18.5 in /usr/local/lib/python3.6/dist-packages (from ipython>=4.0.0; python_version >= \"3.3\"->ipywidgets>=7.0.0->qgrid) (46.1.3)\n",
            "Requirement already satisfied: simplegeneric>0.8 in /usr/local/lib/python3.6/dist-packages (from ipython>=4.0.0; python_version >= \"3.3\"->ipywidgets>=7.0.0->qgrid) (0.8.1)\n",
            "Requirement already satisfied: pickleshare in /usr/local/lib/python3.6/dist-packages (from ipython>=4.0.0; python_version >= \"3.3\"->ipywidgets>=7.0.0->qgrid) (0.7.5)\n",
            "Requirement already satisfied: prompt-toolkit<2.0.0,>=1.0.4 in /usr/local/lib/python3.6/dist-packages (from ipython>=4.0.0; python_version >= \"3.3\"->ipywidgets>=7.0.0->qgrid) (1.0.18)\n",
            "Requirement already satisfied: pexpect; sys_platform != \"win32\" in /usr/local/lib/python3.6/dist-packages (from ipython>=4.0.0; python_version >= \"3.3\"->ipywidgets>=7.0.0->qgrid) (4.8.0)\n",
            "Requirement already satisfied: webencodings in /usr/local/lib/python3.6/dist-packages (from bleach->nbconvert->notebook>=4.0.0->qgrid) (0.5.1)\n",
            "Requirement already satisfied: wcwidth in /usr/local/lib/python3.6/dist-packages (from prompt-toolkit<2.0.0,>=1.0.4->ipython>=4.0.0; python_version >= \"3.3\"->ipywidgets>=7.0.0->qgrid) (0.1.9)\n",
            "Building wheels for collected packages: qgrid\n",
            "  Building wheel for qgrid (setup.py) ... \u001b[?25l\u001b[?25hdone\n",
            "  Created wheel for qgrid: filename=qgrid-1.3.1-py2.py3-none-any.whl size=1761259 sha256=72e11b6722088f76061bd47a64a9ba553bb4f0c81aab951fafbf2ef54971eb2d\n",
            "  Stored in directory: /root/.cache/pip/wheels/51/60/bf/bf05b881c1869ec4e1274a6059f663af1148925c5de1a688d8\n",
            "Successfully built qgrid\n",
            "Installing collected packages: qgrid\n",
            "Successfully installed qgrid-1.3.1\n"
          ],
          "name": "stdout"
        },
        {
          "output_type": "stream",
          "text": [
            "/usr/local/lib/python3.6/dist-packages/google/colab/_pip.py:87: ResourceWarning: unclosed file <_io.TextIOWrapper name='/usr/local/lib/python3.6/dist-packages/qgrid-1.3.1.dist-info/top_level.txt' mode='r' encoding='UTF-8'>\n",
            "  for line in open(toplevel):\n"
          ],
          "name": "stderr"
        }
      ]
    },
    {
      "cell_type": "markdown",
      "metadata": {
        "id": "6tP-5ECN5Wwn",
        "colab_type": "text"
      },
      "source": [
        "3.2 Una vez compoletado el código realice los experimentos necesarios para llenar la siguiente tabla: "
      ]
    },
    {
      "cell_type": "code",
      "metadata": {
        "id": "VMfmOIP65Wwn",
        "colab_type": "code",
        "outputId": "00b805df-d20e-4a45-9230-78939e3aef7e",
        "colab": {
          "base_uri": "https://localhost:8080/",
          "height": 1000
        }
      },
      "source": [
        "import pandas as pd\n",
        "import qgrid\n",
        "df_types = pd.DataFrame({\n",
        "    'Retardos de tiempo por muestra' : pd.Series([1,1,1,1,1,1,2,2,2,2,2,2,3,3,3,3,3,3,4,4,4,4,4,4]),\n",
        "    'Neuronas por capa' : pd.Series([5,10,15,20,25,30,5,10,15,20,25,30,5,10,15,20,25,30,5,10,15,20,25,30])})\n",
        "\n",
        "df_types[\"MAPE\"] = \"\"\n",
        "df_types[\"MAPE\"][0] = \"0.124732765\"\n",
        "df_types.set_index(['Retardos de tiempo por muestra','Neuronas por capa'], inplace=True)\n",
        "df_types.sort_index(inplace=True)\n",
        "qgrid_widget = qgrid.show_grid(df_types, show_toolbar=False)\n",
        "qgrid_widget\n",
        "\n",
        "\n",
        "mape = np.ones(24)\n",
        "i = 1\n",
        "k=0\n",
        "while i <= 4:\n",
        "    j = 0\n",
        "    while j<=5:\n",
        "        err = neuronalElman(i, (j+1)*5) \n",
        "        mp = str(np.mean(err))\n",
        "        #print(numero_arboles[i], j*5)\n",
        "        print('Mape: ', mp)\n",
        "        mape[k] = mp\n",
        "        #df_types[\"Eficiencia en validacion\"][k]= ef\n",
        "        #df_types[\"Intervalo de confianza\"][k] = co\n",
        "        j = j + 1\n",
        "        k = k + 1\n",
        "        \n",
        "    i = i + 1    \n",
        "print(mape)    \n",
        "df_types[\"MAPE\"]= mape\n",
        "qgrid_widget = qgrid.show_grid(df_types, show_toolbar=False)\n",
        "qgrid_widget"
      ],
      "execution_count": 99,
      "outputs": [
        {
          "output_type": "stream",
          "text": [
            "/usr/local/lib/python3.6/dist-packages/ipykernel_launcher.py:8: SettingWithCopyWarning: \n",
            "A value is trying to be set on a copy of a slice from a DataFrame\n",
            "\n",
            "See the caveats in the documentation: https://pandas.pydata.org/pandas-docs/stable/user_guide/indexing.html#returning-a-view-versus-a-copy\n",
            "  \n"
          ],
          "name": "stderr"
        },
        {
          "output_type": "stream",
          "text": [
            "look_back 1\n",
            "neuronas 5\n",
            "Epoch: 100; Error: 0.018288540656380397;\n",
            "Epoch: 200; Error: 0.0024964411953478163;\n",
            "Epoch: 300; Error: 0.0020820334814228153;\n",
            "Epoch: 400; Error: 0.001930556768793353;\n",
            "Epoch: 500; Error: 0.0019225934979861348;\n",
            "Epoch: 600; Error: 0.0019158144400718503;\n",
            "Epoch: 700; Error: 0.0019195792919242541;\n",
            "Epoch: 800; Error: 0.0018952435289607923;\n",
            "Epoch: 900; Error: 0.002090491939305284;\n",
            "Epoch: 1000; Error: 0.0018801243847247878;\n",
            "The maximum number of train epochs is reached\n",
            "Mape:  0.12473276507035648\n",
            "look_back 1\n",
            "neuronas 10\n",
            "Epoch: 100; Error: 0.01826861312510988;\n",
            "Epoch: 200; Error: 0.0021689060049152453;\n",
            "Epoch: 300; Error: 0.0019420138335285676;\n",
            "Epoch: 400; Error: 0.0020069883031246924;\n",
            "Epoch: 500; Error: 0.0019172376575234786;\n",
            "Epoch: 600; Error: 0.0019057218336536721;\n",
            "Epoch: 700; Error: 0.002001203236648856;\n",
            "Epoch: 800; Error: 0.0019018304746997133;\n",
            "Epoch: 900; Error: 0.0018773480404277712;\n",
            "Epoch: 1000; Error: 0.0018943906077310045;\n",
            "The maximum number of train epochs is reached\n",
            "Mape:  0.12387435250995155\n",
            "look_back 1\n",
            "neuronas 15\n",
            "Epoch: 100; Error: 0.017492197747412022;\n",
            "Epoch: 200; Error: 0.0022205466229212024;\n",
            "Epoch: 300; Error: 0.0019128895590931234;\n",
            "Epoch: 400; Error: 0.001910602148721447;\n",
            "Epoch: 500; Error: 0.0019775127262697317;\n",
            "Epoch: 600; Error: 0.0018941539798761821;\n",
            "Epoch: 700; Error: 0.001889871233563518;\n",
            "Epoch: 800; Error: 0.0018909133868034844;\n",
            "Epoch: 900; Error: 0.0018888447472811198;\n",
            "Epoch: 1000; Error: 0.0018780879372151161;\n",
            "The maximum number of train epochs is reached\n",
            "Mape:  0.12494025237563555\n",
            "look_back 1\n",
            "neuronas 20\n",
            "Epoch: 100; Error: 0.017474293944748375;\n",
            "Epoch: 200; Error: 0.0021930852112134855;\n",
            "Epoch: 300; Error: 0.001953765572819408;\n",
            "Epoch: 400; Error: 0.0021157074823552635;\n",
            "Epoch: 500; Error: 0.0019150056380731466;\n",
            "Epoch: 600; Error: 0.001907754488433393;\n",
            "Epoch: 700; Error: 0.0021106774201764297;\n",
            "Epoch: 800; Error: 0.0018995507234566547;\n",
            "Epoch: 900; Error: 0.0018994584570251427;\n",
            "Epoch: 1000; Error: 0.0018890561770591413;\n",
            "The maximum number of train epochs is reached\n",
            "Mape:  0.1263146658121836\n",
            "look_back 1\n",
            "neuronas 25\n",
            "Epoch: 100; Error: 0.01805310842846552;\n",
            "Epoch: 200; Error: 0.0022377151808440536;\n",
            "Epoch: 300; Error: 0.0019354637480507122;\n",
            "Epoch: 400; Error: 0.0019206050184509135;\n",
            "Epoch: 500; Error: 0.001954050369761219;\n",
            "Epoch: 600; Error: 0.0019080271546205823;\n",
            "Epoch: 700; Error: 0.0019010254866096367;\n",
            "Epoch: 800; Error: 0.0018974021407290244;\n",
            "Epoch: 900; Error: 0.0019271749691141592;\n",
            "Epoch: 1000; Error: 0.0018899385110198173;\n",
            "The maximum number of train epochs is reached\n",
            "Mape:  0.1259966297506807\n",
            "look_back 1\n",
            "neuronas 30\n",
            "Epoch: 100; Error: 0.01370513609702119;\n",
            "Epoch: 200; Error: 0.0020637559855200293;\n",
            "Epoch: 300; Error: 0.001925708831550673;\n",
            "Epoch: 400; Error: 0.0019156919059595092;\n",
            "Epoch: 500; Error: 0.001911129021363977;\n",
            "Epoch: 600; Error: 0.001952683603389275;\n",
            "Epoch: 700; Error: 0.001895949193091655;\n",
            "Epoch: 800; Error: 0.0019305455714247566;\n",
            "Epoch: 900; Error: 0.0018972260580496676;\n",
            "Epoch: 1000; Error: 0.001898214034863231;\n",
            "The maximum number of train epochs is reached\n",
            "Mape:  0.12609710344748157\n",
            "look_back 2\n",
            "neuronas 5\n",
            "Epoch: 100; Error: 0.019199508254066033;\n",
            "Epoch: 200; Error: 0.006073572205541273;\n",
            "Epoch: 300; Error: 0.0024875127269872372;\n",
            "Epoch: 400; Error: 0.0020007375909458424;\n",
            "Epoch: 500; Error: 0.0018995873855588243;\n",
            "Epoch: 600; Error: 0.001872280605495596;\n",
            "Epoch: 700; Error: 0.0018717673315060241;\n",
            "Epoch: 800; Error: 0.0019756335596946978;\n",
            "Epoch: 900; Error: 0.001902412317299774;\n",
            "Epoch: 1000; Error: 0.0018656854806664883;\n",
            "The maximum number of train epochs is reached\n",
            "Mape:  0.12145274882804885\n",
            "look_back 2\n",
            "neuronas 10\n",
            "Epoch: 100; Error: 0.018433906452596033;\n",
            "Epoch: 200; Error: 0.002903664234307081;\n",
            "Epoch: 300; Error: 0.0021334462797980994;\n",
            "Epoch: 400; Error: 0.0022221292294461958;\n",
            "Epoch: 500; Error: 0.0018920186545241641;\n",
            "Epoch: 600; Error: 0.0018822530866454633;\n",
            "Epoch: 700; Error: 0.001828353295427255;\n",
            "Epoch: 800; Error: 0.001822760492725266;\n",
            "Epoch: 900; Error: 0.0018850436513994464;\n",
            "Epoch: 1000; Error: 0.0018296830751093043;\n",
            "The maximum number of train epochs is reached\n",
            "Mape:  0.126968824219195\n",
            "look_back 2\n",
            "neuronas 15\n",
            "Epoch: 100; Error: 0.0054313932054358355;\n",
            "Epoch: 200; Error: 0.002069444925956984;\n",
            "Epoch: 300; Error: 0.0021169186021801653;\n",
            "Epoch: 400; Error: 0.0018918679376913408;\n",
            "Epoch: 500; Error: 0.001928851568109109;\n",
            "Epoch: 600; Error: 0.0019098833088506864;\n",
            "Epoch: 700; Error: 0.0018417083240343372;\n",
            "Epoch: 800; Error: 0.0018438477111834843;\n",
            "Epoch: 900; Error: 0.0018245696100255078;\n",
            "Epoch: 1000; Error: 0.0018197681247978674;\n",
            "The maximum number of train epochs is reached\n",
            "Mape:  0.1178118230190535\n",
            "look_back 2\n",
            "neuronas 20\n",
            "Epoch: 100; Error: 0.01582053417627161;\n",
            "Epoch: 200; Error: 0.0023462082709798716;\n",
            "Epoch: 300; Error: 0.0019653317719755094;\n",
            "Epoch: 400; Error: 0.0019111672074845804;\n",
            "Epoch: 500; Error: 0.0018808733559066138;\n",
            "Epoch: 600; Error: 0.001867370342474972;\n",
            "Epoch: 700; Error: 0.001855921267239525;\n",
            "Epoch: 800; Error: 0.001918629928141464;\n",
            "Epoch: 900; Error: 0.0018141520826152955;\n",
            "Epoch: 1000; Error: 0.0018013833980215035;\n",
            "The maximum number of train epochs is reached\n",
            "Mape:  0.11695318783186985\n",
            "look_back 2\n",
            "neuronas 25\n",
            "Epoch: 100; Error: 0.003122668176362695;\n",
            "Epoch: 200; Error: 0.002032605940817574;\n",
            "Epoch: 300; Error: 0.0018918195365019745;\n",
            "Epoch: 400; Error: 0.0018548197947862648;\n",
            "Epoch: 500; Error: 0.0018389087097877886;\n",
            "Epoch: 600; Error: 0.0018317384295662984;\n",
            "Epoch: 700; Error: 0.001895204275610696;\n",
            "Epoch: 800; Error: 0.001848162643930331;\n",
            "Epoch: 900; Error: 0.0018134621952763843;\n",
            "Epoch: 1000; Error: 0.001804487035034619;\n",
            "The maximum number of train epochs is reached\n",
            "Mape:  0.11738793858429569\n",
            "look_back 2\n",
            "neuronas 30\n",
            "Epoch: 100; Error: 0.0127013116367483;\n",
            "Epoch: 200; Error: 0.002099984407139544;\n",
            "Epoch: 300; Error: 0.0019183410984209093;\n",
            "Epoch: 400; Error: 0.0018673741419313907;\n",
            "Epoch: 500; Error: 0.0018654275341033729;\n",
            "Epoch: 600; Error: 0.0018926039133545208;\n",
            "Epoch: 700; Error: 0.0018239520149628764;\n",
            "Epoch: 800; Error: 0.0018238483984365991;\n",
            "Epoch: 900; Error: 0.0018039614973944912;\n",
            "Epoch: 1000; Error: 0.0019728487118862996;\n",
            "The maximum number of train epochs is reached\n",
            "Mape:  0.12348623729060934\n",
            "look_back 3\n",
            "neuronas 5\n",
            "Epoch: 100; Error: 0.017331719129357395;\n",
            "Epoch: 200; Error: 0.0026505573044059145;\n",
            "Epoch: 300; Error: 0.001972640535188958;\n",
            "Epoch: 400; Error: 0.001845515729198598;\n",
            "Epoch: 500; Error: 0.0018508053415531229;\n",
            "Epoch: 600; Error: 0.0018126712070356394;\n",
            "Epoch: 700; Error: 0.0018105319608121648;\n",
            "Epoch: 800; Error: 0.0018172149178421898;\n",
            "Epoch: 900; Error: 0.0018022849845582875;\n",
            "Epoch: 1000; Error: 0.0018453718452067249;\n",
            "The maximum number of train epochs is reached\n",
            "Mape:  0.12105476027980192\n",
            "look_back 3\n",
            "neuronas 10\n",
            "Epoch: 100; Error: 0.017884531516996618;\n",
            "Epoch: 200; Error: 0.0027475118958852334;\n",
            "Epoch: 300; Error: 0.001988528469591483;\n",
            "Epoch: 400; Error: 0.002019557937509153;\n",
            "Epoch: 500; Error: 0.0019425372631772088;\n",
            "Epoch: 600; Error: 0.0018456668323943513;\n",
            "Epoch: 700; Error: 0.0019051168313952013;\n",
            "Epoch: 800; Error: 0.0018156854207899843;\n",
            "Epoch: 900; Error: 0.0018128275385561662;\n",
            "Epoch: 1000; Error: 0.0018073858725751214;\n",
            "The maximum number of train epochs is reached\n",
            "Mape:  0.12096757255310568\n",
            "look_back 3\n",
            "neuronas 15\n",
            "Epoch: 100; Error: 0.009186458685246061;\n",
            "Epoch: 200; Error: 0.0022591573970512577;\n",
            "Epoch: 300; Error: 0.0021904301101498725;\n",
            "Epoch: 400; Error: 0.0018977034677087265;\n",
            "Epoch: 500; Error: 0.001994148621589267;\n",
            "Epoch: 600; Error: 0.0018599809372773733;\n",
            "Epoch: 700; Error: 0.0018499786856778974;\n",
            "Epoch: 800; Error: 0.0018748642698896156;\n",
            "Epoch: 900; Error: 0.0018307515827951798;\n",
            "Epoch: 1000; Error: 0.001961377925332398;\n",
            "The maximum number of train epochs is reached\n",
            "Mape:  0.11407508702126061\n",
            "look_back 3\n",
            "neuronas 20\n",
            "Epoch: 100; Error: 0.014245823220578374;\n",
            "Epoch: 200; Error: 0.00212498927188647;\n",
            "Epoch: 300; Error: 0.0019693077330593107;\n",
            "Epoch: 400; Error: 0.0018710393363904332;\n",
            "Epoch: 500; Error: 0.0018427250421201122;\n",
            "Epoch: 600; Error: 0.0018538934663578982;\n",
            "Epoch: 700; Error: 0.001832577607128765;\n",
            "Epoch: 800; Error: 0.0018191125705086417;\n",
            "Epoch: 900; Error: 0.0018390238318189119;\n",
            "Epoch: 1000; Error: 0.0019004100937112113;\n",
            "The maximum number of train epochs is reached\n",
            "Mape:  0.1129700963104278\n",
            "look_back 3\n",
            "neuronas 25\n",
            "Epoch: 100; Error: 0.013785716871584912;\n",
            "Epoch: 200; Error: 0.0025558775197803926;\n",
            "Epoch: 300; Error: 0.00193415749138735;\n",
            "Epoch: 400; Error: 0.0018789833864899183;\n",
            "Epoch: 500; Error: 0.0018455715456272743;\n",
            "Epoch: 600; Error: 0.001839030005876894;\n",
            "Epoch: 700; Error: 0.0018363210479757025;\n",
            "Epoch: 800; Error: 0.0018274881159509638;\n",
            "Epoch: 900; Error: 0.0019116992711807907;\n",
            "Epoch: 1000; Error: 0.0018068560462213854;\n",
            "The maximum number of train epochs is reached\n",
            "Mape:  0.11449521262915408\n",
            "look_back 3\n",
            "neuronas 30\n",
            "Epoch: 100; Error: 0.009090472543157518;\n",
            "Epoch: 200; Error: 0.002095523945114123;\n",
            "Epoch: 300; Error: 0.002101537163448257;\n",
            "Epoch: 400; Error: 0.0018671341060720892;\n",
            "Epoch: 500; Error: 0.0018514336007038011;\n",
            "Epoch: 600; Error: 0.0018469911349446027;\n",
            "Epoch: 700; Error: 0.0018456873637922276;\n",
            "Epoch: 800; Error: 0.0018609142614081783;\n",
            "Epoch: 900; Error: 0.0018235809878054659;\n",
            "Epoch: 1000; Error: 0.0018158607476547975;\n",
            "The maximum number of train epochs is reached\n",
            "Mape:  0.11674891502718014\n",
            "look_back 4\n",
            "neuronas 5\n",
            "Epoch: 100; Error: 0.003527858231442971;\n",
            "Epoch: 200; Error: 0.002090412713185191;\n",
            "Epoch: 300; Error: 0.001891654112945138;\n",
            "Epoch: 400; Error: 0.0018223853525464427;\n",
            "Epoch: 500; Error: 0.001752540185731974;\n",
            "Epoch: 600; Error: 0.001733719940795966;\n",
            "Epoch: 700; Error: 0.0018468339522167822;\n",
            "Epoch: 800; Error: 0.0017107706911493117;\n",
            "Epoch: 900; Error: 0.0016975325623522074;\n",
            "Epoch: 1000; Error: 0.0016928942358341826;\n",
            "The maximum number of train epochs is reached\n",
            "Mape:  0.12475671628231297\n",
            "look_back 4\n",
            "neuronas 10\n",
            "Epoch: 100; Error: 0.01337115733672686;\n",
            "Epoch: 200; Error: 0.0023958665399232983;\n",
            "Epoch: 300; Error: 0.002048852450937254;\n",
            "Epoch: 400; Error: 0.001947640525693834;\n",
            "Epoch: 500; Error: 0.0020244989510740615;\n",
            "Epoch: 600; Error: 0.0018260490123839586;\n",
            "Epoch: 700; Error: 0.0018271781676311336;\n",
            "Epoch: 800; Error: 0.0019373623005141275;\n",
            "Epoch: 900; Error: 0.0017463735840101084;\n",
            "Epoch: 1000; Error: 0.0018150701432410408;\n",
            "The maximum number of train epochs is reached\n",
            "Mape:  0.1259199827208433\n",
            "look_back 4\n",
            "neuronas 15\n",
            "Epoch: 100; Error: 0.013485408786085529;\n",
            "Epoch: 200; Error: 0.0020475792917845127;\n",
            "Epoch: 300; Error: 0.001864672986731847;\n",
            "Epoch: 400; Error: 0.0017792427648228495;\n",
            "Epoch: 500; Error: 0.0017274450449718374;\n",
            "Epoch: 600; Error: 0.0016928412343441188;\n",
            "Epoch: 700; Error: 0.0016693392836670264;\n",
            "Epoch: 800; Error: 0.001701498349824955;\n",
            "Epoch: 900; Error: 0.001680665184675216;\n",
            "Epoch: 1000; Error: 0.001681552484671273;\n",
            "The maximum number of train epochs is reached\n",
            "Mape:  0.1259342977992137\n",
            "look_back 4\n",
            "neuronas 20\n",
            "Epoch: 100; Error: 0.012725075533876425;\n",
            "Epoch: 200; Error: 0.0028929043741714087;\n",
            "Epoch: 300; Error: 0.0019797041976700085;\n",
            "Epoch: 400; Error: 0.0018924476760102992;\n",
            "Epoch: 500; Error: 0.0017572441059799917;\n",
            "Epoch: 600; Error: 0.0018071804540419605;\n",
            "Epoch: 700; Error: 0.0016870570149014573;\n",
            "Epoch: 800; Error: 0.0016788608699326425;\n",
            "Epoch: 900; Error: 0.001665392603921887;\n",
            "Epoch: 1000; Error: 0.0016969867318559128;\n",
            "The maximum number of train epochs is reached\n",
            "Mape:  0.13075811901593054\n",
            "look_back 4\n",
            "neuronas 25\n",
            "Epoch: 100; Error: 0.009821042336290305;\n",
            "Epoch: 200; Error: 0.002078573792200819;\n",
            "Epoch: 300; Error: 0.0018645576887442036;\n",
            "Epoch: 400; Error: 0.0017595438941134045;\n",
            "Epoch: 500; Error: 0.0017083387857801087;\n",
            "Epoch: 600; Error: 0.0016877910197657;\n",
            "Epoch: 700; Error: 0.0016880178584097849;\n",
            "Epoch: 800; Error: 0.0016625576515051452;\n",
            "Epoch: 900; Error: 0.0016629895566283748;\n",
            "Epoch: 1000; Error: 0.0016406823072184409;\n",
            "The maximum number of train epochs is reached\n",
            "Mape:  0.12381853036598439\n",
            "look_back 4\n",
            "neuronas 30\n",
            "Epoch: 100; Error: 0.009193090195887548;\n",
            "Epoch: 200; Error: 0.0020158153421959263;\n",
            "Epoch: 300; Error: 0.0019491455655324071;\n",
            "Epoch: 400; Error: 0.0018439147175255994;\n",
            "Epoch: 500; Error: 0.0017699198888173897;\n",
            "Epoch: 600; Error: 0.0018063889887736954;\n",
            "Epoch: 700; Error: 0.0016992995311029362;\n",
            "Epoch: 800; Error: 0.00167481857484788;\n",
            "Epoch: 900; Error: 0.0016646483574106455;\n",
            "Epoch: 1000; Error: 0.0019767248357263575;\n",
            "The maximum number of train epochs is reached\n",
            "Mape:  0.12787069099229303\n",
            "[0.12473277 0.12387435 0.12494025 0.12631467 0.12599663 0.1260971\n",
            " 0.12145275 0.12696882 0.11781182 0.11695319 0.11738794 0.12348624\n",
            " 0.12105476 0.12096757 0.11407509 0.1129701  0.11449521 0.11674892\n",
            " 0.12475672 0.12591998 0.1259343  0.13075812 0.12381853 0.12787069]\n"
          ],
          "name": "stdout"
        }
      ]
    },
    {
      "cell_type": "code",
      "metadata": {
        "id": "AXj8s8kwRqnO",
        "colab_type": "code",
        "colab": {
          "base_uri": "https://localhost:8080/",
          "height": 85,
          "referenced_widgets": [
            "c78c61fe9f254459acc35195eb19ec8b"
          ]
        },
        "outputId": "b9d22571-2caa-4aaa-b42c-c2d78d349328"
      },
      "source": [
        ""
      ],
      "execution_count": 102,
      "outputs": [
        {
          "output_type": "stream",
          "text": [
            "[0.12473277 0.12387435 0.12494025 0.12631467 0.12599663 0.1260971\n",
            " 0.12145275 0.12696882 0.11781182 0.11695319 0.11738794 0.12348624\n",
            " 0.12105476 0.12096757 0.11407509 0.1129701  0.11449521 0.11674892\n",
            " 0.12475672 0.12591998 0.1259343  0.13075812 0.12381853 0.12787069]\n"
          ],
          "name": "stdout"
        },
        {
          "output_type": "display_data",
          "data": {
            "application/vnd.jupyter.widget-view+json": {
              "model_id": "c78c61fe9f254459acc35195eb19ec8b",
              "version_minor": 0,
              "version_major": 2
            },
            "text/plain": [
              "QgridWidget(grid_options={'fullWidthRows': True, 'syncColumnCellResize': True, 'forceFitColumns': True, 'defau…"
            ]
          },
          "metadata": {
            "tags": []
          }
        }
      ]
    },
    {
      "cell_type": "markdown",
      "metadata": {
        "id": "DZ1fJUW05Wwq",
        "colab_type": "text"
      },
      "source": [
        "Ejecute la siguiente instrucción para dejar guardados en el notebook los resultados de las pruebas."
      ]
    },
    {
      "cell_type": "code",
      "metadata": {
        "id": "iiwhoAlG5Wwr",
        "colab_type": "code",
        "outputId": "3581a86f-7bc8-43f2-e2d5-728aeca6fb03",
        "colab": {
          "base_uri": "https://localhost:8080/",
          "height": 824
        }
      },
      "source": [
        "qgrid_widget.get_changed_df()"
      ],
      "execution_count": 103,
      "outputs": [
        {
          "output_type": "execute_result",
          "data": {
            "text/html": [
              "<div>\n",
              "<style scoped>\n",
              "    .dataframe tbody tr th:only-of-type {\n",
              "        vertical-align: middle;\n",
              "    }\n",
              "\n",
              "    .dataframe tbody tr th {\n",
              "        vertical-align: top;\n",
              "    }\n",
              "\n",
              "    .dataframe thead th {\n",
              "        text-align: right;\n",
              "    }\n",
              "</style>\n",
              "<table border=\"1\" class=\"dataframe\">\n",
              "  <thead>\n",
              "    <tr style=\"text-align: right;\">\n",
              "      <th></th>\n",
              "      <th></th>\n",
              "      <th>MAPE</th>\n",
              "    </tr>\n",
              "    <tr>\n",
              "      <th>Retardos de tiempo por muestra</th>\n",
              "      <th>Neuronas por capa</th>\n",
              "      <th></th>\n",
              "    </tr>\n",
              "  </thead>\n",
              "  <tbody>\n",
              "    <tr>\n",
              "      <th rowspan=\"6\" valign=\"top\">1</th>\n",
              "      <th>5</th>\n",
              "      <td>0.124733</td>\n",
              "    </tr>\n",
              "    <tr>\n",
              "      <th>10</th>\n",
              "      <td>0.123874</td>\n",
              "    </tr>\n",
              "    <tr>\n",
              "      <th>15</th>\n",
              "      <td>0.124940</td>\n",
              "    </tr>\n",
              "    <tr>\n",
              "      <th>20</th>\n",
              "      <td>0.126315</td>\n",
              "    </tr>\n",
              "    <tr>\n",
              "      <th>25</th>\n",
              "      <td>0.125997</td>\n",
              "    </tr>\n",
              "    <tr>\n",
              "      <th>30</th>\n",
              "      <td>0.126097</td>\n",
              "    </tr>\n",
              "    <tr>\n",
              "      <th rowspan=\"6\" valign=\"top\">2</th>\n",
              "      <th>5</th>\n",
              "      <td>0.121453</td>\n",
              "    </tr>\n",
              "    <tr>\n",
              "      <th>10</th>\n",
              "      <td>0.126969</td>\n",
              "    </tr>\n",
              "    <tr>\n",
              "      <th>15</th>\n",
              "      <td>0.117812</td>\n",
              "    </tr>\n",
              "    <tr>\n",
              "      <th>20</th>\n",
              "      <td>0.116953</td>\n",
              "    </tr>\n",
              "    <tr>\n",
              "      <th>25</th>\n",
              "      <td>0.117388</td>\n",
              "    </tr>\n",
              "    <tr>\n",
              "      <th>30</th>\n",
              "      <td>0.123486</td>\n",
              "    </tr>\n",
              "    <tr>\n",
              "      <th rowspan=\"6\" valign=\"top\">3</th>\n",
              "      <th>5</th>\n",
              "      <td>0.121055</td>\n",
              "    </tr>\n",
              "    <tr>\n",
              "      <th>10</th>\n",
              "      <td>0.120968</td>\n",
              "    </tr>\n",
              "    <tr>\n",
              "      <th>15</th>\n",
              "      <td>0.114075</td>\n",
              "    </tr>\n",
              "    <tr>\n",
              "      <th>20</th>\n",
              "      <td>0.112970</td>\n",
              "    </tr>\n",
              "    <tr>\n",
              "      <th>25</th>\n",
              "      <td>0.114495</td>\n",
              "    </tr>\n",
              "    <tr>\n",
              "      <th>30</th>\n",
              "      <td>0.116749</td>\n",
              "    </tr>\n",
              "    <tr>\n",
              "      <th rowspan=\"6\" valign=\"top\">4</th>\n",
              "      <th>5</th>\n",
              "      <td>0.124757</td>\n",
              "    </tr>\n",
              "    <tr>\n",
              "      <th>10</th>\n",
              "      <td>0.125920</td>\n",
              "    </tr>\n",
              "    <tr>\n",
              "      <th>15</th>\n",
              "      <td>0.125934</td>\n",
              "    </tr>\n",
              "    <tr>\n",
              "      <th>20</th>\n",
              "      <td>0.130758</td>\n",
              "    </tr>\n",
              "    <tr>\n",
              "      <th>25</th>\n",
              "      <td>0.123819</td>\n",
              "    </tr>\n",
              "    <tr>\n",
              "      <th>30</th>\n",
              "      <td>0.127871</td>\n",
              "    </tr>\n",
              "  </tbody>\n",
              "</table>\n",
              "</div>"
            ],
            "text/plain": [
              "                                                      MAPE\n",
              "Retardos de tiempo por muestra Neuronas por capa          \n",
              "1                              5                  0.124733\n",
              "                               10                 0.123874\n",
              "                               15                 0.124940\n",
              "                               20                 0.126315\n",
              "                               25                 0.125997\n",
              "                               30                 0.126097\n",
              "2                              5                  0.121453\n",
              "                               10                 0.126969\n",
              "                               15                 0.117812\n",
              "                               20                 0.116953\n",
              "                               25                 0.117388\n",
              "                               30                 0.123486\n",
              "3                              5                  0.121055\n",
              "                               10                 0.120968\n",
              "                               15                 0.114075\n",
              "                               20                 0.112970\n",
              "                               25                 0.114495\n",
              "                               30                 0.116749\n",
              "4                              5                  0.124757\n",
              "                               10                 0.125920\n",
              "                               15                 0.125934\n",
              "                               20                 0.130758\n",
              "                               25                 0.123819\n",
              "                               30                 0.127871"
            ]
          },
          "metadata": {
            "tags": []
          },
          "execution_count": 103
        }
      ]
    },
    {
      "cell_type": "markdown",
      "metadata": {
        "id": "Qfqx1yx_5Wwt",
        "colab_type": "text"
      },
      "source": [
        "Responda:\n",
        "\n",
        "3.3 ¿Cuál fue la mejor configuración encontrada?\n",
        "\n",
        "3 retardos de tiempo y 20 neuronas para un MAPE: 0.112970\n"
      ]
    },
    {
      "cell_type": "markdown",
      "metadata": {
        "id": "TFFyNZm45Wwt",
        "colab_type": "text"
      },
      "source": [
        "3.4 ¿Porqué seguir aumentando los tiempos de retardo no implica siempre una mejora en la predicción del modelo?\n",
        "\n",
        "Al mirar los valores de los tiempos anteriores para predecir el siguiente valor, puede suceder que exista cierta periocidad que haga que se esten tomando valores para tiempos posteriores. \n"
      ]
    },
    {
      "cell_type": "markdown",
      "metadata": {
        "id": "7BZe8zDz5Wwu",
        "colab_type": "text"
      },
      "source": [
        "## *Ejercicio 4\n",
        "\n",
        "Este ejercicio es opcional. Use una red neuronal tipo MLP para reolver el mismo problema de predicción del número de pasajeros y compare el resultado con el obtenido usando la red recurrente."
      ]
    },
    {
      "cell_type": "code",
      "metadata": {
        "id": "EyKwjJwc5Wwu",
        "colab_type": "code",
        "colab": {}
      },
      "source": [
        ""
      ],
      "execution_count": 0,
      "outputs": []
    }
  ]
}