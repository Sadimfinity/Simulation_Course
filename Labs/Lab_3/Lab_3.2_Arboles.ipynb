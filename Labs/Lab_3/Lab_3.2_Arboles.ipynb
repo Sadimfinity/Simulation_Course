{
 "cells": [
  {
   "cell_type": "markdown",
   "metadata": {},
   "source": [
    "# Laboratorio 3 - Parte 2\n",
    "\n",
    "### Arboles de decisión y Random Forest\n",
    "\n",
    "### 2019-I\n",
    "\n",
    "#### Profesor: Julián D. Arias Londoño\n",
    "#### julian.ariasl@udea.edu.co\n"
   ]
  },
  {
   "cell_type": "markdown",
   "metadata": {},
   "source": [
    "## Guía del laboratorio\n",
    "\n",
    "En esta archivo va a encontrar tanto celdas de código cómo celdas de texto con las instrucciones para desarrollar el laboratorio.\n",
    "\n",
    "Lea atentamente las instrucciones entregadas en las celdas de texto correspondientes y proceda con la solución de las preguntas planteadas.\n",
    "\n",
    "Nota: no olvide ir ejecutando las celdas de código de arriba hacia abajo para que no tenga errores de importación de librerías o por falta de definición de variables."
   ]
  },
  {
   "cell_type": "markdown",
   "metadata": {},
   "source": [
    "#### Primer integrante:\n",
    "#### Segundo integrante:"
   ]
  },
  {
   "cell_type": "code",
   "execution_count": 1,
   "metadata": {},
   "outputs": [],
   "source": [
    "%matplotlib inline\n",
    "import numpy as np\n",
    "import scipy as sc\n",
    "import matplotlib.pyplot as plt\n",
    "from scipy import stats\n",
    "# from __future__ import division\n",
    "\n",
    "#Algunas advertencias que queremos evitar\n",
    "import warnings\n",
    "warnings.filterwarnings(\"always\")"
   ]
  },
  {
   "cell_type": "markdown",
   "metadata": {},
   "source": [
    "## Ejercicio 1\n",
    "\n",
    "A continuación se leen los datos de un problema de clasificación. El problema corresponde a la clasifiación de dígitos escritos a mano, el cual fue abordado en el laboratorio anterior. Usaremos únicamente 4 de las 10 clases disponibles. Los datos fueron preprocesados para reducir el número de características. La técnica usada será analizada más adelante en el curso."
   ]
  },
  {
   "cell_type": "code",
   "execution_count": 3,
   "metadata": {},
   "outputs": [],
   "source": [
    "from sklearn.datasets import load_digits\n",
    "from sklearn.decomposition import PCA\n",
    "digits = load_digits(n_class=4)\n",
    "\n",
    "#--------- preprocesamiento--------------------\n",
    "pca = PCA(0.99, whiten=True)\n",
    "data = pca.fit_transform(digits.data)\n",
    "\n",
    "#---------- Datos a usar ----------------------\n",
    "X = data\n",
    "Y = digits.target\n",
    "    "
   ]
  },
  {
   "cell_type": "markdown",
   "metadata": {},
   "source": [
    "En la siguiente celda se define una simulación para entrenar y validar un modelo usando los datos previamente cargados. Complete el código para usar como modelo de predicción un arbol de decisión. Debe consultar todo lo relacionado con la creación, entrenamiento y uso en predicción de este modelo usando la librería scikit-learn. Consultar aquí: http://scikit-learn.org/stable/modules/generated/sklearn.tree.DecisionTreeClassifier.html\n",
    "\n",
    "<b>Note</b> que existe una clase para modelos de clasificación y otra para modelos de regresión:\n",
    "http://scikit-learn.org/stable/modules/generated/sklearn.tree.DecisionTreeRegressor.html"
   ]
  },
  {
   "cell_type": "code",
   "execution_count": 5,
   "metadata": {},
   "outputs": [
    {
     "name": "stdout",
     "output_type": "stream",
     "text": [
      "Eficiencia durante el entrenamiento = 1.0+-0.0\n",
      "Eficiencia durante la validación = 0.9041819614588368+-0.03325916115155368\n"
     ]
    }
   ],
   "source": [
    "import math\n",
    "import numpy as np\n",
    "import numpy.matlib as matlib\n",
    "from numpy import random\n",
    "from sklearn.model_selection import StratifiedKFold\n",
    "\n",
    "from sklearn import tree\n",
    "\n",
    "\n",
    "\n",
    "#Validamos el modelo\n",
    "Folds = 4\n",
    "random.seed(19680801)\n",
    "EficienciaTrain = np.zeros(Folds)\n",
    "EficienciaVal = np.zeros(Folds)\n",
    "skf = StratifiedKFold(n_splits=Folds)\n",
    "j = 0\n",
    "for train, test in skf.split(X, Y):\n",
    "    Xtrain = X[train,:]\n",
    "    Ytrain = Y[train]\n",
    "    Xtest = X[test,:]\n",
    "    Ytest = Y[test]\n",
    "    \n",
    "    #Normalizamos los datos\n",
    "    #media = np.mean(Xtrain)\n",
    "    #desvia = np.std(Xtrain)\n",
    "    #Xtrain = sc.stats.stats.zscore(Xtrain)\n",
    "    #Xtest = (Xtest - np.matlib.repmat(media, Xtest.shape[0], 1))/matlib.repmat(desvia, Xtest.shape[0], 1)\n",
    "    \n",
    "    #Haga el llamado a la función para crear y entrenar el modelo usando los datos de entrenamiento\n",
    "    #model = ...\n",
    "    \n",
    "    #model = tree.DecisionTreeClassifier(criterion='entropy', max_depth=10)\n",
    "    model = tree.DecisionTreeClassifier(max_depth=10)\n",
    "    model.fit(Xtrain, Ytrain)\n",
    "    \n",
    "    \n",
    "    \n",
    "    #Validación\n",
    "    Ytrain_pred = model.predict(Xtrain) #Use el modelo previamente entrenado para hacer predicciones con las mismas muestras de entrenamiento\n",
    "    Yest = model.predict(Xtest) #Use el modelo previamente entrenado para hacer predicciones con las muestras de test\n",
    "    \n",
    "    #Evaluamos las predicciones del modelo con los datos de test\n",
    "    EficienciaTrain[j] = np.mean(Ytrain_pred.ravel() == Ytrain.ravel())\n",
    "    EficienciaVal[j] = np.mean(Yest.ravel() == Ytest.ravel())\n",
    "    j += 1\n",
    "        \n",
    "print('Eficiencia durante el entrenamiento = ' + str(np.mean(EficienciaTrain)) + '+-' + str(np.std(EficienciaTrain)))\n",
    "print('Eficiencia durante la validación = ' + str(np.mean(EficienciaVal)) + '+-' + str(np.std(EficienciaVal)))\n"
   ]
  },
  {
   "cell_type": "markdown",
   "metadata": {},
   "source": [
    "Responda:\n",
    "\n",
    "1.1 ¿Cuáles criterios para detener el crecimiento del árbol o de los nodos están disponibles en la librería?:\n"
   ]
  },
  {
   "cell_type": "markdown",
   "metadata": {},
   "source": [
    "1. Permitir que el arbol crezca hasta que alcance un limite deseado de impureza.\n",
    "2. Dividir un nodo solo si la reducción en la impureza es mayor a un valor minimo establecido.\n",
    "3. Establecer un minimo de muestras requeridas para dividir un nodo\n",
    "4. Establecer un minimo de muestras para ser un nodo hoja \n",
    "5. Establecer una profundiad maxima del arbol\n",
    "6. Establecer una fracción minima de la suma total de todos los pesos dados a cada muestra (por defecto es el mismo peso para todos, lo que sería igual a establecer un minimo número de muestras para la división)\n"
   ]
  },
  {
   "cell_type": "markdown",
   "metadata": {},
   "source": [
    "1.2. ¿Cuáles son los parámetros asociados con los criterios enumerados en el punto anterior?:"
   ]
  },
  {
   "cell_type": "markdown",
   "metadata": {},
   "source": [
    "1. min_impurity_split\n",
    "2. min_impurity_decrease\n",
    "3. min_samples_split\n",
    "4. min_samples_leaf\n",
    "5. max_depth \n",
    "6. min_weight_fraction_leaf"
   ]
  },
  {
   "cell_type": "markdown",
   "metadata": {},
   "source": [
    "## Ejercicio 2\n",
    "\n",
    "Una vez completado el código realice los experimentos necesarios para llenar la siguiente tabla:"
   ]
  },
  {
   "cell_type": "code",
   "execution_count": 31,
   "metadata": {},
   "outputs": [
    {
     "data": {
      "application/vnd.jupyter.widget-view+json": {
       "model_id": "dd792cf93ef9488ebbdeff03605a2501",
       "version_major": 2,
       "version_minor": 0
      },
      "text/plain": [
       "QgridWidget(grid_options={'fullWidthRows': True, 'syncColumnCellResize': True, 'forceFitColumns': True, 'defau…"
      ]
     },
     "metadata": {},
     "output_type": "display_data"
    }
   ],
   "source": [
    "import pandas as pd\n",
    "import qgrid\n",
    "import numpy as np\n",
    "randn = np.random.randn\n",
    "df_types = pd.DataFrame({\n",
    "    'Maxima profundidad' : pd.Series([5,10,20,30,50])})\n",
    "df_types[\"Eficiencia en validacion\"] = \"\"\n",
    "df_types[\"Intervalo de confianza\"] = \"\"\n",
    "df_types.set_index(['Maxima profundidad'], inplace=True)\n",
    "#df_types.sort_index(inplace=True)\n",
    "qgrid_widget = qgrid.show_grid(df_types, show_toolbar=False)\n",
    "qgrid_widget"
   ]
  },
  {
   "cell_type": "markdown",
   "metadata": {},
   "source": [
    "Ejecute la siguiente instrucción para dejar guardados en el notebook los resultados de las pruebas."
   ]
  },
  {
   "cell_type": "code",
   "execution_count": 58,
   "metadata": {},
   "outputs": [
    {
     "data": {
      "text/html": [
       "<div>\n",
       "<style scoped>\n",
       "    .dataframe tbody tr th:only-of-type {\n",
       "        vertical-align: middle;\n",
       "    }\n",
       "\n",
       "    .dataframe tbody tr th {\n",
       "        vertical-align: top;\n",
       "    }\n",
       "\n",
       "    .dataframe thead th {\n",
       "        text-align: right;\n",
       "    }\n",
       "</style>\n",
       "<table border=\"1\" class=\"dataframe\">\n",
       "  <thead>\n",
       "    <tr style=\"text-align: right;\">\n",
       "      <th></th>\n",
       "      <th>Eficiencia en validacion</th>\n",
       "      <th>Intervalo de confianza</th>\n",
       "    </tr>\n",
       "    <tr>\n",
       "      <th>Maxima profundidad</th>\n",
       "      <th></th>\n",
       "      <th></th>\n",
       "    </tr>\n",
       "  </thead>\n",
       "  <tbody>\n",
       "    <tr>\n",
       "      <td>5</td>\n",
       "      <td>0.9111884805947097</td>\n",
       "      <td>0.044609582556530296</td>\n",
       "    </tr>\n",
       "    <tr>\n",
       "      <td>10</td>\n",
       "      <td>0.9013808190321215</td>\n",
       "      <td>0.032391925101484476</td>\n",
       "    </tr>\n",
       "    <tr>\n",
       "      <td>20</td>\n",
       "      <td>0.9013808190321215</td>\n",
       "      <td>0.032391925101484476</td>\n",
       "    </tr>\n",
       "    <tr>\n",
       "      <td>30</td>\n",
       "      <td>0.9013808190321215</td>\n",
       "      <td>0.032391925101484476</td>\n",
       "    </tr>\n",
       "    <tr>\n",
       "      <td>50</td>\n",
       "      <td>0.9013808190321215</td>\n",
       "      <td>0.032391925101484476</td>\n",
       "    </tr>\n",
       "  </tbody>\n",
       "</table>\n",
       "</div>"
      ],
      "text/plain": [
       "                   Eficiencia en validacion Intervalo de confianza\n",
       "Maxima profundidad                                                \n",
       "5                        0.9111884805947097   0.044609582556530296\n",
       "10                       0.9013808190321215   0.032391925101484476\n",
       "20                       0.9013808190321215   0.032391925101484476\n",
       "30                       0.9013808190321215   0.032391925101484476\n",
       "50                       0.9013808190321215   0.032391925101484476"
      ]
     },
     "execution_count": 58,
     "metadata": {},
     "output_type": "execute_result"
    }
   ],
   "source": [
    "qgrid_widget.get_changed_df()"
   ]
  },
  {
   "cell_type": "markdown",
   "metadata": {},
   "source": [
    "Responda: \n",
    "    \n",
    "2.1 ¿Tiene algún efecto la normalización o estándarización de las variables en el desempeño del modelo de árboles de decisión? Explique su respuesta.    "
   ]
  },
  {
   "cell_type": "markdown",
   "metadata": {},
   "source": [
    "Si, tiene un efecto pero este es minimo debido a que no tiene sentido aplicar normalización ya que las caracteristicas de las muestras se encuentran en la misma escala"
   ]
  },
  {
   "cell_type": "markdown",
   "metadata": {},
   "source": [
    "## Ejercicio 3\n",
    "\n",
    "En la siguiente celda se define una simulación para entrenar y validar un modelo usando los datos previamente cargados. Complete el código para usar como modelo de predicción un Random Forest. Debe consultar todo lo relacionado con la creación, entrenamiento y uso en predicción de este modelo usando la librería scikit-learn. Consultar aquí: http://scikit-learn.org/stable/modules/generated/sklearn.ensemble.RandomForestClassifier.html \n",
    "\n",
    "<b>Note</b> que al igual que en el caso anterior, existe una clase para modelos de clasificación y otra para modelos de regresión: http://scikit-learn.org/stable/modules/generated/sklearn.ensemble.RandomForestRegressor.html"
   ]
  },
  {
   "cell_type": "code",
   "execution_count": 43,
   "metadata": {},
   "outputs": [],
   "source": [
    "from sklearn.ensemble import RandomForestClassifier\n",
    "from sklearn.ensemble import BaggingClassifier\n",
    "\n",
    "\n",
    "def modelClassifier(n_estimators, max_features, tipo):\n",
    "    #Validamos el modelo\n",
    "    Folds = 4\n",
    "    random.seed(19680801)\n",
    "    EficienciaTrain = np.zeros(Folds)\n",
    "    EficienciaVal = np.zeros(Folds)\n",
    "    skf = StratifiedKFold(n_splits=Folds)\n",
    "    j = 0\n",
    "    for train, test in skf.split(X, Y):\n",
    "        Xtrain = X[train,:]\n",
    "        Ytrain = Y[train]\n",
    "        Xtest = X[test,:]\n",
    "        Ytest = Y[test]\n",
    "\n",
    "        #Normalizamos los datos\n",
    "        media = np.mean(Xtrain)\n",
    "        desvia = np.std(Xtrain)\n",
    "        Xtrain = sc.stats.stats.zscore(Xtrain)\n",
    "        Xtest = (Xtest - np.matlib.repmat(media, Xtest.shape[0], 1))/np.matlib.repmat(desvia, Xtest.shape[0], 1)\n",
    "\n",
    "        #Haga el llamado a la función para crear y entrenar el modelo usando los datos de entrenamiento\n",
    "\n",
    "        if tipo == 1: #RandomForest\n",
    "            model = RandomForestClassifier(n_estimators = n_estimators, max_features = max_features)\n",
    "            model = model.fit(Xtrain,Ytrain)\n",
    "        else :  #Bagging\n",
    "            model = BaggingClassifier(n_estimators= n_estimators,max_features = max_features)\n",
    "            model = model.fit(Xtrain,Ytrain)\n",
    "\n",
    "\n",
    "        #Validación\n",
    "        Ytrain_pred = model.predict(Xtrain) #Use el modelo previamente entrenado para hacer predicciones con las mismas muestras de entrenamiento\n",
    "        Yest = model.predict(Xtest) #Use el modelo previamente entrenado para hacer predicciones con las muestras de test\n",
    "\n",
    "        #Evaluamos las predicciones del modelo con los datos de test\n",
    "        EficienciaTrain[j] = np.mean(Ytrain_pred.ravel() == Ytrain.ravel())\n",
    "        EficienciaVal[j] = np.mean(Yest.ravel() == Ytest.ravel())\n",
    "        j += 1\n",
    "        \n",
    "    return np.mean(EficienciaVal), np.std(EficienciaVal)\n",
    "        \n",
    "    print('Eficiencia durante el entrenamiento = ' + str(np.mean(EficienciaTrain)) + '+-' + str(np.std(EficienciaTrain)))\n",
    "    print('Eficiencia durante la validación = ' + str(np.mean(EficienciaVal)) + '+-' + str(np.std(EficienciaVal)))\n",
    "        \n",
    "        \n"
   ]
  },
  {
   "cell_type": "markdown",
   "metadata": {},
   "source": [
    "Una vez completado el código realice los experimentos necesarios para llenar la siguiente tabla:"
   ]
  },
  {
   "cell_type": "code",
   "execution_count": 44,
   "metadata": {
    "scrolled": true
   },
   "outputs": [
    {
     "name": "stdout",
     "output_type": "stream",
     "text": [
      "[0.87775291 0.92491716 0.93750219 0.93621408 0.90276988 0.92371279\n",
      " 0.91531721 0.9265223  0.9236045  0.92503228 0.92230071 0.92234701\n",
      " 0.94589043 0.93480149 0.93882925 0.93332741 0.92642918 0.93063456\n",
      " 0.95546659 0.95275021 0.9471712  0.9347476  0.93754848 0.92500925\n",
      " 0.96938781 0.95826774 0.94164634 0.93469345 0.93472406 0.92923007]\n"
     ]
    },
    {
     "data": {
      "application/vnd.jupyter.widget-view+json": {
       "model_id": "6c72ba27683c4e7dbb433232779b7098",
       "version_major": 2,
       "version_minor": 0
      },
      "text/plain": [
       "QgridWidget(grid_options={'fullWidthRows': True, 'syncColumnCellResize': True, 'forceFitColumns': True, 'defau…"
      ]
     },
     "metadata": {},
     "output_type": "display_data"
    }
   ],
   "source": [
    "import pandas as pd\n",
    "import qgrid\n",
    "randn = np.random.randn\n",
    "df_types = pd.DataFrame({\n",
    "    'Numero de arboles' : pd.Series([5,5,5,5,5,5,10,10,10,10,10,10,20,20,20,20,20,20,50,50,50,50,50,50,100,100,100,100,100,100]), 'Variables analizadas por nodo' : pd.Series([5,10,15,20,25,30,5,10,15,20,25,30,5,10,15,20,25,30,5,10,15,20,25,30,5,10,15,20,25,30])})\n",
    "df_types[\"Eficiencia en validacion\"] = \"\"\n",
    "df_types[\"Intervalo de confianza\"] = \"\"\n",
    "df_types.set_index(['Numero de arboles','Variables analizadas por nodo'], inplace=True)\n",
    "#df_types.sort_index(inplace=True)\n",
    "df_types[\"Eficiencia en validacion\"][2]=0.8778\n",
    "df_types[\"Intervalo de confianza\"][2] = 0.0143\n",
    "i = 0\n",
    "numero_arboles = [5,10,20,50,100]\n",
    "eficiencia = np.ones(30)\n",
    "k=0\n",
    "while i < 5:\n",
    "    j = 1\n",
    "    while j<=6:\n",
    "        ef,co = modelClassifier(numero_arboles[i], j*5, 1)\n",
    "        #print(numero_arboles[i], j*5)\n",
    "        eficiencia[k] = ef\n",
    "        df_types[\"Eficiencia en validacion\"][k]= ef\n",
    "        df_types[\"Intervalo de confianza\"][k] = co\n",
    "        j = j + 1\n",
    "        k = k + 1\n",
    "        \n",
    "    i = i + 1    \n",
    "print(eficiencia)    \n",
    "\n",
    "qgrid_widget = qgrid.show_grid(df_types, show_toolbar=False)\n",
    "qgrid_widget\n",
    "\n"
   ]
  },
  {
   "cell_type": "markdown",
   "metadata": {},
   "source": [
    "Ejecute la siguiente instrucción para dejar guardados en el notebook los resultados de las pruebas."
   ]
  },
  {
   "cell_type": "code",
   "execution_count": null,
   "metadata": {},
   "outputs": [],
   "source": [
    "qgrid_widget.get_changed_df()"
   ]
  },
  {
   "cell_type": "markdown",
   "metadata": {},
   "source": [
    "Responda:\n",
    "    \n",
    "3.1 Realice una prueba adicional empleando el total de variables para la selección del mejor umbral en cada nodo ¿De acuerdo con los resultados es mejor usar un bagging de árboles o Random Forest? Explique su respuesta.    "
   ]
  },
  {
   "cell_type": "code",
   "execution_count": 73,
   "metadata": {},
   "outputs": [
    {
     "name": "stdout",
     "output_type": "stream",
     "text": [
      "RandomForest\n",
      "Validacion Desviación\n",
      "(0.9362140803004042, 0.027417037303269644)\n",
      "Bagging\n",
      "Validacion Desviación\n",
      "(0.9138664168038948, 0.024561465718761794)\n"
     ]
    }
   ],
   "source": [
    "cantTree = 5\n",
    "caracteristicas = 39 \n",
    "print(\"RandomForest\")\n",
    "print(\"Validacion\", \"Desviación\")\n",
    "print(modelClassifier(cantTree, 20, 1))\n",
    "print(\"Bagging\")\n",
    "print(\"Validacion\", \"Desviación\")\n",
    "print(modelClassifier(cantTree, caracteristicas, 1))"
   ]
  },
  {
   "cell_type": "code",
   "execution_count": null,
   "metadata": {},
   "outputs": [],
   "source": []
  },
  {
   "cell_type": "markdown",
   "metadata": {},
   "source": [
    "## Ejercicio 4\n",
    "\n",
    "Utilice el paquete time (instrucción time.clock()) para medir el efecto del número de árboles y de la cantidad de variables a analizar por nodo, en el tiempo que tarda el entrenamiento del modelo Random Forest. Construya una gráfica de tiempo vs número de árboles, dejando constante el número de variables en 20, y una gráfica de tiempo vs número de variables dejando constante el número de árboles en 30."
   ]
  },
  {
   "cell_type": "code",
   "execution_count": 71,
   "metadata": {},
   "outputs": [
    {
     "name": "stdout",
     "output_type": "stream",
     "text": [
      "[0.07258314200001337, 0.12305669299999522, 0.23689351900000588, 0.5783970440000132, 1.1681190129999948]\n"
     ]
    },
    {
     "data": {
      "image/png": "[encoded data removed]",
      "text/plain": [
       "<Figure size 432x288 with 1 Axes>"
      ]
     },
     "metadata": {
      "needs_background": "light"
     },
     "output_type": "display_data"
    },
    {
     "name": "stdout",
     "output_type": "stream",
     "text": [
      "[0.2139311189999944, 0.2842950649999807, 0.35750210400001947, 0.35079402599998843, 0.40040087500000254, 0.4429399899999851]\n"
     ]
    },
    {
     "data": {
      "image/png": "[encoded data removed]",
      "text/plain": [
       "<Figure size 432x288 with 1 Axes>"
      ]
     },
     "metadata": {
      "needs_background": "light"
     },
     "output_type": "display_data"
    }
   ],
   "source": [
    "import time as tm\n",
    "\n",
    "cant_tree = [5,10,20,50,100]\n",
    "times_tree_1 = []\n",
    "\n",
    "for n in cant_tree:\n",
    "    initial_time = tm.process_time()\n",
    "    ef, ic = modelClassifier(n,20, 1)\n",
    "    times_tree_1.append(tm.process_time() - initial_time)\n",
    "print(times_tree_1)\n",
    "\n",
    "plt.figure()\n",
    "plt.plot(times_tree_1,cant_tree,'o-')\n",
    "plt.title('Cantidad de variables = 20')\n",
    "plt.ylabel('arboles')\n",
    "plt.xlabel('Tiempo')\n",
    "plt.show()\n",
    "\n",
    "\n",
    "times_tree = []\n",
    "cant_variables = np.arange(5,31,5)\n",
    "for n in cant_variables:\n",
    "    initial_time = tm.process_time()\n",
    "    ef, ic = modelClassifier(30,n, 1)\n",
    "    times_tree.append(tm.process_time() - initial_time)\n",
    "print(times_tree)\n",
    "\n",
    "\n",
    "\n",
    "plt.figure()\n",
    "plt.plot(times_tree,cant_variables,'o-')\n",
    "plt.title('Cantidad de arboles = 30')\n",
    "plt.ylabel('variables')\n",
    "plt.xlabel('Tiempo')\n",
    "plt.show()\n",
    "\n"
   ]
  }
 ],
 "metadata": {
  "kernelspec": {
   "display_name": "Python 3",
   "language": "python",
   "name": "python3"
  },
  "language_info": {
   "codemirror_mode": {
    "name": "ipython",
    "version": 3
   },
   "file_extension": ".py",
   "mimetype": "text/x-python",
   "name": "python",
   "nbconvert_exporter": "python",
   "pygments_lexer": "ipython3",
   "version": "3.7.4"
  }
 },
 "nbformat": 4,
 "nbformat_minor": 2
}
